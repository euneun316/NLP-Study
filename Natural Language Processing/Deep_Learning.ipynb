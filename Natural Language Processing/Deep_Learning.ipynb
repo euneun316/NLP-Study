{
  "nbformat": 4,
  "nbformat_minor": 0,
  "metadata": {
    "colab": {
      "name": "Deep Learning.ipynb",
      "provenance": [],
      "collapsed_sections": [],
      "toc_visible": true,
      "authorship_tag": "ABX9TyNAEvkEzJKt1vDnxi6tXqWh",
      "include_colab_link": true
    },
    "kernelspec": {
      "name": "python3",
      "display_name": "Python 3"
    },
    "language_info": {
      "name": "python"
    }
  },
  "cells": [
    {
      "cell_type": "markdown",
      "metadata": {
        "id": "view-in-github",
        "colab_type": "text"
      },
      "source": [
        "<a href=\"https://colab.research.google.com/github/euneun316/NLP-Study/blob/main/Natural%20Language%20Processing/Deep_Learning.ipynb\" target=\"_parent\"><img src=\"https://colab.research.google.com/assets/colab-badge.svg\" alt=\"Open In Colab\"/></a>"
      ]
    },
    {
      "cell_type": "markdown",
      "source": [
        "# 07.딥 러닝(Deep Learning) 개요"
      ],
      "metadata": {
        "id": "z0Cf8_IoC83o"
      }
    },
    {
      "cell_type": "markdown",
      "source": [
        "## 01) 퍼셉트론(Perceptron)\n"
      ],
      "metadata": {
        "id": "Gz1pIXg5DO2k"
      }
    },
    {
      "cell_type": "markdown",
      "source": [
        "## 02) 인공 신경망(Artificial Neural Network) 훑어보기\n"
      ],
      "metadata": {
        "id": "K6K2z4ceDT2s"
      }
    },
    {
      "cell_type": "markdown",
      "source": [
        "## 03) 행렬곱으로 이해하는 신경망\n"
      ],
      "metadata": {
        "id": "0qSnVnIPDZG_"
      }
    },
    {
      "cell_type": "markdown",
      "source": [
        "## 04) 딥 러닝의 학습 방법\n"
      ],
      "metadata": {
        "id": "je6TJdWMDaCf"
      }
    },
    {
      "cell_type": "markdown",
      "source": [
        "## 04-3) 역전파(BackPropagation) 이해하기\n"
      ],
      "metadata": {
        "id": "bpddclh7DbnG"
      }
    },
    {
      "cell_type": "markdown",
      "source": [
        "## 05) 과적합(Overfitting)을 막는 방법들\n"
      ],
      "metadata": {
        "id": "fwajNc70Dc__"
      }
    },
    {
      "cell_type": "markdown",
      "source": [
        "## 06) 기울기 소실(Gradient Vanishing)과 폭주(Exploding)"
      ],
      "metadata": {
        "id": "aCf92eBFDd1Z"
      }
    },
    {
      "cell_type": "markdown",
      "source": [
        ""
      ],
      "metadata": {
        "id": "ifRcf-ybDxwB"
      }
    },
    {
      "cell_type": "markdown",
      "source": [
        "## 07) 케라스(Keras) 훑어보기"
      ],
      "metadata": {
        "id": "FnR4HfRsDftj"
      }
    },
    {
      "cell_type": "markdown",
      "source": [
        "케라스는 유저가 손쉽게 딥 러닝을 구현할 수 있도록 도와주는 상위 레벨의 인터페이스로 딥 러닝을 쉽게 구현할 수 있도록 해준다"
      ],
      "metadata": {
        "id": "7iYtiRy-DwRt"
      }
    },
    {
      "cell_type": "code",
      "source": [
        ""
      ],
      "metadata": {
        "id": "ygKp-YiADrVI"
      },
      "execution_count": null,
      "outputs": []
    },
    {
      "cell_type": "markdown",
      "source": [
        "## 08) 케라스의 함수형 API(Keras Functional API)"
      ],
      "metadata": {
        "id": "ums2dLcjDhA5"
      }
    },
    {
      "cell_type": "code",
      "source": [
        ""
      ],
      "metadata": {
        "id": "vmtOKkguDrwd"
      },
      "execution_count": null,
      "outputs": []
    },
    {
      "cell_type": "markdown",
      "source": [
        "## 09) 케라스 서브클래싱 API(Keras Subclassing API)"
      ],
      "metadata": {
        "id": "jcSfVir_DjMN"
      }
    },
    {
      "cell_type": "code",
      "source": [
        ""
      ],
      "metadata": {
        "id": "fNZ-yMS3Ds9O"
      },
      "execution_count": null,
      "outputs": []
    },
    {
      "cell_type": "markdown",
      "source": [
        "## 10) 다층 퍼셉트론(MultiLayer Perceptron, MLP)으로 텍스트 분류하기"
      ],
      "metadata": {
        "id": "Q53l1CBkDkWl"
      }
    },
    {
      "cell_type": "markdown",
      "source": [
        "## 11) 피드 포워드 신경망 언어 모델(Neural Network Language Model, NNLM) "
      ],
      "metadata": {
        "id": "BvuHXatjDlZ5"
      }
    }
  ]
}