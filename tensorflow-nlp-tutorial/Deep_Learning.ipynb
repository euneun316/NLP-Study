{
 "cells": [
  {
   "cell_type": "markdown",
   "metadata": {
    "colab_type": "text",
    "id": "view-in-github"
   },
   "source": [
    "<a href=\"https://colab.research.google.com/github/euneun316/NLP-Study/blob/main/Natural%20Language%20Processing/Deep_Learning.ipynb\" target=\"_parent\"><img src=\"https://colab.research.google.com/assets/colab-badge.svg\" alt=\"Open In Colab\"/></a>"
   ]
  },
  {
   "cell_type": "markdown",
   "metadata": {
    "id": "z0Cf8_IoC83o"
   },
   "source": [
    "# 07.딥 러닝(Deep Learning) 개요"
   ]
  },
  {
   "cell_type": "markdown",
   "metadata": {
    "id": "Gz1pIXg5DO2k"
   },
   "source": [
    "## 01) 퍼셉트론(Perceptron)\n"
   ]
  },
  {
   "cell_type": "markdown",
   "metadata": {},
   "source": [
    "---"
   ]
  },
  {
   "cell_type": "markdown",
   "metadata": {
    "id": "K6K2z4ceDT2s"
   },
   "source": [
    "## 02) 인공 신경망(Artificial Neural Network) 훑어보기\n"
   ]
  },
  {
   "cell_type": "markdown",
   "metadata": {},
   "source": [
    "---"
   ]
  },
  {
   "cell_type": "markdown",
   "metadata": {
    "id": "0qSnVnIPDZG_"
   },
   "source": [
    "## 03) 행렬곱으로 이해하는 신경망\n"
   ]
  },
  {
   "cell_type": "markdown",
   "metadata": {},
   "source": [
    "---"
   ]
  },
  {
   "cell_type": "markdown",
   "metadata": {
    "id": "je6TJdWMDaCf"
   },
   "source": [
    "## 04) 딥 러닝의 학습 방법\n"
   ]
  },
  {
   "cell_type": "markdown",
   "metadata": {},
   "source": [
    "---"
   ]
  },
  {
   "cell_type": "markdown",
   "metadata": {
    "id": "bpddclh7DbnG"
   },
   "source": [
    "## 04-3) 역전파(BackPropagation) 이해하기\n"
   ]
  },
  {
   "cell_type": "markdown",
   "metadata": {},
   "source": [
    "---"
   ]
  },
  {
   "cell_type": "markdown",
   "metadata": {
    "id": "fwajNc70Dc__"
   },
   "source": [
    "## 05) 과적합(Overfitting)을 막는 방법들\n"
   ]
  },
  {
   "cell_type": "markdown",
   "metadata": {},
   "source": [
    "---"
   ]
  },
  {
   "cell_type": "markdown",
   "metadata": {
    "id": "aCf92eBFDd1Z",
    "tags": []
   },
   "source": [
    "## 06) 기울기 소실(Gradient Vanishing)과 폭주(Exploding)"
   ]
  },
  {
   "cell_type": "markdown",
   "metadata": {},
   "source": [
    "---"
   ]
  },
  {
   "cell_type": "markdown",
   "metadata": {
    "id": "FnR4HfRsDftj"
   },
   "source": [
    "## 07) 케라스(Keras) 훑어보기"
   ]
  },
  {
   "cell_type": "markdown",
   "metadata": {
    "id": "7iYtiRy-DwRt"
   },
   "source": [
    "케라스는 유저가 손쉽게 딥 러닝을 구현할 수 있도록 도와주는 상위 레벨의 인터페이스로, <br>\n",
    "딥 러닝을 쉽게 구현할 수 있도록 해준다 <br>\n",
    "- [keras 공식문서](https://keras.io/)\n",
    "- [tensorflow 공식문서](https://www.tensorflow.org/guide/keras?hl=ko)"
   ]
  },
  {
   "cell_type": "markdown",
   "metadata": {
    "id": "ygKp-YiADrVI"
   },
   "source": [
    "### 1. 전처리(Preprocessing)\n"
   ]
  },
  {
   "cell_type": "markdown",
   "metadata": {},
   "source": [
    "#### Tokenizer()\n",
    "- 토큰화와 정수 인코딩을 위해 사용 <br>\n",
    "- 훈련 데이터로부터 단어 집합을 생성하고, 해당 단어 집합으로 임의의 문장을 정수 인코딩하는 과정"
   ]
  },
  {
   "cell_type": "code",
   "execution_count": 18,
   "metadata": {},
   "outputs": [
    {
     "name": "stdout",
     "output_type": "stream",
     "text": [
      "정수 인코딩 :  [1, 2, 3, 4, 6, 7]\n",
      "단어 집합 :  {'the': 1, 'earth': 2, 'is': 3, 'an': 4, 'awesome': 5, 'place': 6, 'live': 7}\n"
     ]
    }
   ],
   "source": [
    "from tensorflow.keras.preprocessing.text import Tokenizer\n",
    "from tensorflow.keras.preprocessing.sequence import pad_sequences\n",
    "\n",
    "tokenizer = Tokenizer()\n",
    "train_text = \"The earth is an awesome place live\"\n",
    "\n",
    "# 훈련 데이터로부터 단어 집합 생성\n",
    "# fit_on_texts() : 문자 데이터를 입력받아서 리스트의 형태로 변환\n",
    "tokenizer.fit_on_texts([train_text])\n",
    "\n",
    "# 임의의 문장을 정수 인코딩\n",
    "sub_text = \"The earth is an great place live\"        # great는 미리 토큰화되어 있지 않아서 출력 x\n",
    "# texts_to_sequences() : 단어들을 시퀀스의 형태로 변환\n",
    "sequences = tokenizer.texts_to_sequences([sub_text])[0]\n",
    "\n",
    "print(\"정수 인코딩 : \",sequences)\n",
    "# word_index() : 단어와 숫자의 키-값 쌍을 포함하는 딕셔너리를 반환\n",
    "print(\"단어 집합 : \",tokenizer.word_index)"
   ]
  },
  {
   "cell_type": "code",
   "execution_count": 19,
   "metadata": {},
   "outputs": [
    {
     "name": "stdout",
     "output_type": "stream",
     "text": [
      "정수 인코딩 :  [[1, 2, 3, 4, 6], [1, 2, 3, 4, 6, 7]]\n",
      "단어 집합 :  {'the': 1, 'earth': 2, 'is': 3, 'an': 4, 'awesome': 5, 'place': 6, 'live': 7, 'hello': 8}\n"
     ]
    }
   ],
   "source": [
    "from tensorflow.keras.preprocessing.text import Tokenizer\n",
    "from tensorflow.keras.preprocessing.sequence import pad_sequences\n",
    "\n",
    "tokenizer = Tokenizer()\n",
    "train_text = [\"The earth is an awesome place live\",\n",
    "              \"The earth is an awesome place hello\"]\n",
    "\n",
    "# 훈련 데이터로부터 단어 집합 생성\n",
    "# fit_on_texts() : 문자 데이터를 입력받아서 리스트의 형태로 변환\n",
    "tokenizer.fit_on_texts(train_text)\n",
    "\n",
    "# 임의의 문장을 정수 인코딩\n",
    "sub_text = [\"The earth is an great place cute\",\n",
    "           \"The earth is an great place live\"]\n",
    "# texts_to_sequences() : 단어들을 시퀀스의 형태로 변환\n",
    "sequences = tokenizer.texts_to_sequences(sub_text)\n",
    "\n",
    "print(\"정수 인코딩 : \",sequences)\n",
    "# word_index() : 단어와 숫자의 키-값 쌍을 포함하는 딕셔너리를 반환\n",
    "print(\"단어 집합 : \",tokenizer.word_index)"
   ]
  },
  {
   "cell_type": "markdown",
   "metadata": {},
   "source": [
    "#### pad_sequence()\n",
    "- 정해준 길이보다 길이가 긴 샘플은 값을 일부 자르고, 정해준 길이보다 길이가 짧은 샘플은 값을 0으로 채움"
   ]
  },
  {
   "cell_type": "markdown",
   "metadata": {},
   "source": [
    "**패딩(padding) 작업**\n",
    "- 전체 훈련데이터에서 각 샘플의 길이는 서로 다를 때.\n",
    "- 각 문서 또는 각 문장은 단어의 수가 제각각일 때\n",
    "- 모든 샘플의 길이를 동일하게 맞춤\n",
    "- 보통 숫자 0을 넣어서 길이가 다른 샘플들의 길이를 맞춰준다.\n",
    "- 케라스에서는 pad_sequence()를 사용"
   ]
  },
  {
   "cell_type": "markdown",
   "metadata": {},
   "source": [
    "**pad_sequence()**\n",
    "1. 첫번째 인자 = 패딩을 진행할 데이터\n",
    "2. maxlen = 모든 데이터에 대해서 정규화 할 길이\n",
    "3. padding = 'pre'를 선택하면 앞에 0을 채우고 'post'를 선택하면 뒤에 0을 채움."
   ]
  },
  {
   "cell_type": "code",
   "execution_count": 21,
   "metadata": {},
   "outputs": [
    {
     "data": {
      "text/plain": [
       "array([[1, 2, 3],\n",
       "       [4, 5, 6],\n",
       "       [0, 7, 8]], dtype=int32)"
      ]
     },
     "execution_count": 21,
     "metadata": {},
     "output_type": "execute_result"
    }
   ],
   "source": [
    "pad_sequences([[1, 2, 3], [3, 4, 5, 6], [7, 8]], maxlen=3, padding='pre')"
   ]
  },
  {
   "cell_type": "markdown",
   "metadata": {},
   "source": [
    "### 2. 워드 임베딩(Word Embedding)"
   ]
  },
  {
   "cell_type": "markdown",
   "metadata": {},
   "source": [
    "---"
   ]
  },
  {
   "cell_type": "markdown",
   "metadata": {
    "id": "ums2dLcjDhA5"
   },
   "source": [
    "## 08) 케라스의 함수형 API(Keras Functional API)"
   ]
  },
  {
   "cell_type": "code",
   "execution_count": null,
   "metadata": {
    "id": "vmtOKkguDrwd"
   },
   "outputs": [],
   "source": []
  },
  {
   "cell_type": "markdown",
   "metadata": {},
   "source": [
    "---"
   ]
  },
  {
   "cell_type": "markdown",
   "metadata": {
    "id": "jcSfVir_DjMN",
    "tags": []
   },
   "source": [
    "## 09) 케라스 서브클래싱 API(Keras Subclassing API)"
   ]
  },
  {
   "cell_type": "code",
   "execution_count": null,
   "metadata": {
    "id": "fNZ-yMS3Ds9O"
   },
   "outputs": [],
   "source": []
  },
  {
   "cell_type": "markdown",
   "metadata": {},
   "source": [
    "---"
   ]
  },
  {
   "cell_type": "markdown",
   "metadata": {
    "id": "Q53l1CBkDkWl"
   },
   "source": [
    "## 10) 다층 퍼셉트론(MultiLayer Perceptron, MLP)으로 텍스트 분류하기"
   ]
  },
  {
   "cell_type": "markdown",
   "metadata": {},
   "source": [
    "---"
   ]
  },
  {
   "cell_type": "markdown",
   "metadata": {
    "id": "BvuHXatjDlZ5"
   },
   "source": [
    "## 11) 피드 포워드 신경망 언어 모델(Neural Network Language Model, NNLM) "
   ]
  }
 ],
 "metadata": {
  "colab": {
   "authorship_tag": "ABX9TyNAEvkEzJKt1vDnxi6tXqWh",
   "collapsed_sections": [],
   "include_colab_link": true,
   "name": "Deep Learning.ipynb",
   "provenance": [],
   "toc_visible": true
  },
  "kernelspec": {
   "display_name": "imok",
   "language": "python",
   "name": "imok"
  },
  "language_info": {
   "codemirror_mode": {
    "name": "ipython",
    "version": 3
   },
   "file_extension": ".py",
   "mimetype": "text/x-python",
   "name": "python",
   "nbconvert_exporter": "python",
   "pygments_lexer": "ipython3",
   "version": "3.9.10"
  }
 },
 "nbformat": 4,
 "nbformat_minor": 4
}
