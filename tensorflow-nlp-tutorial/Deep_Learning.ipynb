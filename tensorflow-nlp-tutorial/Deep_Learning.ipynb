{
 "cells": [
  {
   "cell_type": "markdown",
   "metadata": {
    "colab_type": "text",
    "id": "view-in-github"
   },
   "source": [
    "<a href=\"https://colab.research.google.com/github/euneun316/NLP-Study/blob/main/Natural%20Language%20Processing/Deep_Learning.ipynb\" target=\"_parent\"><img src=\"https://colab.research.google.com/assets/colab-badge.svg\" alt=\"Open In Colab\"/></a>"
   ]
  },
  {
   "cell_type": "markdown",
   "metadata": {
    "id": "z0Cf8_IoC83o"
   },
   "source": [
    "# 07.딥 러닝(Deep Learning) 개요"
   ]
  },
  {
   "cell_type": "markdown",
   "metadata": {
    "id": "Gz1pIXg5DO2k"
   },
   "source": [
    "## 01) 퍼셉트론(Perceptron)\n"
   ]
  },
  {
   "cell_type": "markdown",
   "metadata": {
    "jp-MarkdownHeadingCollapsed": true,
    "tags": []
   },
   "source": [
    "### 퍼셉트론(Perceptron)\n",
    "* 인공 신경망을 활용한 딥 러닝은 여러 머신 러닝 방법 중 하나\n",
    "    * 인공 신경망을 복잡하게 쌓아올린 딥 러닝이 다른 머신 러닝보다 뛰어난 성능을 보여준 사례가 늘어남\n",
    "<br><br>\n",
    "* 퍼셉트론: 두뇌의 인지 능력을 모방하도록 만든 인위적인 네트워크로 초기의 인공 신경망\n",
    "* 퍼셉트론은 다수의 입력으로부터 하나의 결과를 내보내는 알고리즘\n",
    "\n",
    "* 과정: 각 인공 뉴런에서 입력값 x를 보냄 - 가중치 w와 함께(입력값 * 가중치) 다음 인공 뉴런에 도착 - 각 입력값과 그에 해당되는 가중치의 곱의 전체 합이 임계치를 넘으면 1, 그렇지 않으면 0을 출력(계단 함수)\n",
    "    * 각각의 입력값에는 각각의 가중치가 존재, 이때 가중치의 값이 크면 클수록 해당 입력 값이 중요하다는 것을 의미\n",
    "* 비유\n",
    "    * 신경세포 - 퍼셉트론\n",
    "    * 입력신호 - 입력값\n",
    "    * 출력신호 - 출력값\n",
    "    * 축삭돌기 - 가중치\n",
    "<br><br>\n",
    "* 가중치 뿐만 아니라 편향 또한 딥 러닝이 최적화하는 값\n",
    "    * 입력값을 1로 고정하고 편향 b가 곱해지는 변수로 표현\n",
    "<br><br>\n",
    "* 활성화함수: 출력값을 변경시키는 함수\n",
    "    * 계단 함수, 시그모이드 함수, 소프트맥스 함수 등\n",
    "    * 즉, 활성화 함수를 시그모이드 함수로 변경하면 하나의 퍼셉트론은 이진 분류를 수행하는 로지스틱 회귀와 동일(다시 말해, 하나의 로지스틱 회귀 모델이 인공 신경망에서는 하나의 인공 뉴런으로 볼 수 있음"
   ]
  },
  {
   "cell_type": "markdown",
   "metadata": {},
   "source": [
    "### 단층 퍼셉트론(Single-Layer Perceptron)\n",
    "* 단층 퍼셉트론은 값을 보내는 단계와 출력하는 두 단계로만 이루어짐\n",
    "    * 이 때 각 단계를 보통 layer(층)이라고 부름\n",
    "    * 단층 퍼셉트론의 경우 입력층(input layer), 출력층(output layer)\n",
    "<br><br>\n",
    "* 게이트: 두 개의 값 0과 1을 입력해 하나의 값을 출력하는 회로\n",
    "* 단층 퍼셉트론이 구현 가능한 게이트: AND, NAND, OR\n",
    "    * AND: 입력값이 모두 1인 경우에만 출력값으로 1을 출력\n",
    "    * NAND: 입력값이 모두 1인 경우에만 출력값이 0, 나머지는 모두 1을 출력\n",
    "    * OR: 입력값이 모두 0인 경우 출력값이 0, 나머지는 모두 1을 출력\n",
    "    * 단층 퍼셉트론의 식에서는 다양한 조합의 가중치와 편향으로 AND, NAND, OR 게이트를 구현할 수 있음\n",
    "<br><br>\n",
    "* 단층 퍼셉트론이 구현 불가능한 게이트: XOR\n",
    "    * XOR: 입력값 두개가 서로 다른 값인 경우에만 출력값이 1, 입력값 두개가 서로 같은 경우 출력값이 0을 출력\n",
    "* 구현 불가능한 이유: 단층 퍼셉트론은 직선 하나로 두 영역을 나눌 수 있는 문제에 대해서만 구현 가능"
   ]
  },
  {
   "cell_type": "markdown",
   "metadata": {},
   "source": [
    "### 다층 퍼셉트론(MultiLayer Perceptron, MLP)\n",
    "* 단층 퍼셉트론: 입력층과 출력층 사이에 은닉충(hidden layer)이 추가 됨\n",
    "* 삼충 신경망(Deep Neural Network, DNN): 은닉층이 2개 이상인 신경망\n",
    "<br><br>\n",
    "* 훈련(training), 학습(learning): 기계가 가중치, 편향을 스스로 찾아내도록 자동화시킴\n",
    "* 손실함수(비용함수, 목적함수): 실제값과 예측값에 대한 오차에 대한 식(ex. MSE)\n",
    "* 옵티마이저: 손실함수를 최소화하는 매개 변수인 가중치와 편향을 찾을 때 사용되는 알고리즘"
   ]
  },
  {
   "cell_type": "markdown",
   "metadata": {},
   "source": [
    "ref: https://wikidocs.net/24958"
   ]
  },
  {
   "cell_type": "markdown",
   "metadata": {},
   "source": [
    "---"
   ]
  },
  {
   "cell_type": "markdown",
   "metadata": {
    "id": "K6K2z4ceDT2s"
   },
   "source": [
    "## 02) 인공 신경망(Artificial Neural Network) 훑어보기\n"
   ]
  },
  {
   "cell_type": "markdown",
   "metadata": {
    "tags": []
   },
   "source": [
    "### 1. 피드 포워드 신경망: 입력층에서 출력층 방향으로만 연산됨\n",
    "- 순환 신경망: 은닉층의 출력값이 다시 은닉층의 입력값으로도 사용됨"
   ]
  },
  {
   "cell_type": "markdown",
   "metadata": {},
   "source": [
    "### 2. 전결합층(Fully-connected layer, FC, Dense Layer)\n",
    "* 전결합층(완전연결층, 밀집층): 이전 층의 모든 뉴런과 연결돼 있는 층\n",
    "    * Keras에서는 `Dense()`를 활용하여 밀집층 구현"
   ]
  },
  {
   "cell_type": "markdown",
   "metadata": {},
   "source": [
    "---"
   ]
  },
  {
   "cell_type": "markdown",
   "metadata": {},
   "source": [
    "### 3. 활성화함수\n",
    "* 활성화 함수는 비선형 함수여야 함\n",
    "    * 왜냐하면 활성화 함수로 선형 함수를 사용하게 되면 은닉층을 쌓을 수 없음\n",
    "* 그러나 종종 '활성화 함수를 사용하지 않는 선형 함수 층'을 비선형 층들과 함께 인공 신경망의 일부로서 추가하는 경우도 존재\n",
    "    * 학습 가능한 가중치가 새로 생긴다는 점에서 의미가 존재\n",
    "    * 이러한 선형 함수 층을 선형층(linear layer), 투사층(porjectino layer)이라고 표현됨\n",
    "    * cf. 임베딩 층(embedding layer) 또한 일종의 선현층"
   ]
  },
  {
   "cell_type": "markdown",
   "metadata": {},
   "source": [
    "#### 1) 계단 함수(Step function)"
   ]
  },
  {
   "cell_type": "code",
   "execution_count": 1,
   "metadata": {
    "scrolled": true,
    "tags": []
   },
   "outputs": [
    {
     "name": "stderr",
     "output_type": "stream",
     "text": [
      "/var/folders/m6/hrff0b7x4hl1m5j8nxchlk5c0000gn/T/ipykernel_3002/2045181516.py:5: DeprecationWarning: `np.int` is a deprecated alias for the builtin `int`. To silence this warning, use `int` by itself. Doing this will not modify any behavior and is safe. When replacing `np.int`, you may wish to use e.g. `np.int64` or `np.int32` to specify the precision. If you wish to review your current use, check the release note link for additional information.\n",
      "Deprecated in NumPy 1.20; for more details and guidance: https://numpy.org/devdocs/release/1.20.0-notes.html#deprecations\n",
      "  return np.array(x > 0, dtype=np.int)\n"
     ]
    },
    {
     "data": {
      "image/png": "[encoded data removed]",
      "text/plain": [
       "<Figure size 432x288 with 1 Axes>"
      ]
     },
     "metadata": {
      "needs_background": "light"
     },
     "output_type": "display_data"
    }
   ],
   "source": [
    "import numpy as np\n",
    "import matplotlib.pyplot as plt\n",
    "\n",
    "def step(x):\n",
    "    return np.array(x > 0, dtype=np.int)\n",
    "x = np.arange(-5.0, 5.0, 0.1) # -5.0부터 5.0까지 0.1 간격 생성\n",
    "y = step(x)\n",
    "plt.title('Step Function')\n",
    "plt.plot(x,y)\n",
    "plt.show()"
   ]
  },
  {
   "cell_type": "markdown",
   "metadata": {},
   "source": [
    "#### 2) 시그모이드 함수(Sigmoid function)"
   ]
  },
  {
   "cell_type": "code",
   "execution_count": 16,
   "metadata": {
    "scrolled": true,
    "tags": []
   },
   "outputs": [
    {
     "data": {
      "image/png": "[encoded data removed]",
      "text/plain": [
       "<Figure size 432x288 with 1 Axes>"
      ]
     },
     "metadata": {
      "needs_background": "light"
     },
     "output_type": "display_data"
    }
   ],
   "source": [
    "def sigmoid(x):\n",
    "    return 1/(1+np.exp(-x))\n",
    "x = np.arange(-5.0, 5.0, 0.1)\n",
    "y = sigmoid(x)\n",
    "\n",
    "plt.plot(x, y)\n",
    "plt.plot([0,0],[1.0,0.0], ':') # 가운데 점선 추가\n",
    "plt.title('Sigmoid Function')\n",
    "plt.show()"
   ]
  },
  {
   "cell_type": "markdown",
   "metadata": {},
   "source": [
    "* 학습 과정\n",
    "    * 1) 입력에 대한 순전파(forward propagation) 연산\n",
    "    * 2) 순전파 연산을 통해 나온 예측값과 실제값의 오차(손실)를 손실 함수(loss function)을 통해 계산\n",
    "    * 3) 오차(손실)을 미분을 통해 기울기(gradient)을 구함\n",
    "    * 4) 출력층에서 입력층 방향으로 가중치와 편향을 업데이트 하는 과정인 역전파(back propagation)을 수행\n",
    "        * 이 역전파 과정에서 인공 신경망은 경사 하강법을 수행 (웨이트와 바이어스 최적화!)\n",
    "<br><br>\n",
    "* 시그모이드 함수의 문제점\n",
    "    * 시그모이드 함수의 경우 미분의 값이 항상 0.25 이하\n",
    "    * 기울기 소실(Vanishing Gradient): 가중치와 편향을 업데이트는 하는 역전파 과정에서 0에 가까운 값이 누적해서 곱해질 때, 앞단에는 기울기(미분값)가 잘 전달되지 않음\n",
    "    * 즉, 은닉층의 개수가 다수개인 경우, 앞단의 w가 업데이트 되지 않아 학습이 되지 않음\n",
    "    * 따라서, 은닉층에서는 시그모이드 함수의 사용이 지양, 주로 이진 분류를 위한 출력층에서 사용됨"
   ]
  },
  {
   "cell_type": "markdown",
   "metadata": {},
   "source": [
    "#### 3) 하이퍼볼릭탄젠트 함수(Hyperbolic tangent function)"
   ]
  },
  {
   "cell_type": "code",
   "execution_count": 17,
   "metadata": {
    "scrolled": true
   },
   "outputs": [
    {
     "data": {
      "image/png": "[encoded data removed]",
      "text/plain": [
       "<Figure size 432x288 with 1 Axes>"
      ]
     },
     "metadata": {
      "needs_background": "light"
     },
     "output_type": "display_data"
    }
   ],
   "source": [
    "x = np.arange(-5.0, 5.0, 0.1) # -5.0부터 5.0까지 0.1 간격 생성\n",
    "y = np.tanh(x)\n",
    "\n",
    "plt.plot(x, y)\n",
    "plt.plot([0,0],[1.0,-1.0], ':')\n",
    "plt.axhline(y=0, color='orange', linestyle='--')\n",
    "plt.title('Tanh Function')\n",
    "plt.show()"
   ]
  },
  {
   "cell_type": "markdown",
   "metadata": {},
   "source": [
    "* 하이퍼볼릭탄젠트 함수도 -1과 1에 가까운 출력값 출력시, 시그모이드 함수와 같은 문제 발생\n",
    "* 그러나 하이퍼볼릭탄젠트 함수의 경우 시그모이드 함수와 달리 미분의 최대값이 1이어서 기울기 소실 증상이 상대적으로 작은 편임"
   ]
  },
  {
   "cell_type": "markdown",
   "metadata": {},
   "source": [
    "#### 4)렐루 함수(ReLU)"
   ]
  },
  {
   "cell_type": "code",
   "execution_count": 18,
   "metadata": {
    "scrolled": true
   },
   "outputs": [
    {
     "data": {
      "image/png": "[encoded data removed]",
      "text/plain": [
       "<Figure size 432x288 with 1 Axes>"
      ]
     },
     "metadata": {
      "needs_background": "light"
     },
     "output_type": "display_data"
    }
   ],
   "source": [
    "def relu(x):\n",
    "    return np.maximum(0, x)\n",
    "\n",
    "x = np.arange(-5.0, 5.0, 0.1)\n",
    "y = relu(x)\n",
    "\n",
    "plt.plot(x, y)\n",
    "plt.plot([0,0],[5.0,0.0], ':')\n",
    "plt.title('Relu Function')\n",
    "plt.show()"
   ]
  },
  {
   "cell_type": "markdown",
   "metadata": {},
   "source": [
    "* 수식: f(x) = max(0, x)\n",
    "* 특징\n",
    "    * 음수를 입력하면 0을 출력\n",
    "    * 양수를 입력하면 입력값을 그대로 반환\n",
    "    * 양수의 경우 미분값이 항상 1\n",
    "* 장점\n",
    "    * 깊은 신경망의 은닉층에서 시그모이드 함수보다 훨씬 더 잘 작동하며, 단순 임계값이므로 연산 속도도 빠름\n",
    "* 단점\n",
    "    * 죽은 렐루(dying ReLU): 입력값이 음수면 기울기 즉 미분값이 0이되어 뉴런이 다시 회생하기 어려움"
   ]
  },
  {
   "cell_type": "markdown",
   "metadata": {},
   "source": [
    "#### 5)리키 렐루(Leaky ReLU)"
   ]
  },
  {
   "cell_type": "code",
   "execution_count": 20,
   "metadata": {
    "scrolled": true
   },
   "outputs": [
    {
     "data": {
      "image/png": "[encoded data removed]",
      "text/plain": [
       "<Figure size 432x288 with 1 Axes>"
      ]
     },
     "metadata": {
      "needs_background": "light"
     },
     "output_type": "display_data"
    }
   ],
   "source": [
    "a = 0.1\n",
    "\n",
    "def leaky_relu(x):\n",
    "    return np.maximum(a*x, x)\n",
    "\n",
    "x = np.arange(-5.0, 5.0, 0.1)\n",
    "y = leaky_relu(x)\n",
    "\n",
    "plt.plot(x, y)\n",
    "plt.plot([0,0],[5.0,0.0], ':')\n",
    "plt.title('Leaky ReLU Function')\n",
    "plt.show()"
   ]
  },
  {
   "cell_type": "markdown",
   "metadata": {},
   "source": [
    "* ReLU의 변형 함수들이 다양하게 존재\n",
    "* 그 중 하나인 Leaky ReLU의 경우, 입력값이 음수일 경우 미분값이 0이 아닌 아주 작은 값이 반환됨\n",
    "* 수식: f(x) = max(ax, x), a는 hyperparameter로 leak 되는 정도(입력값이 음수일 때의 기울기) 결정(보통 0.01)"
   ]
  },
  {
   "cell_type": "markdown",
   "metadata": {},
   "source": [
    "#### 6)소프트맥스 함수(Softmax)"
   ]
  },
  {
   "cell_type": "code",
   "execution_count": 21,
   "metadata": {
    "scrolled": true
   },
   "outputs": [
    {
     "data": {
      "image/png": "[encoded data removed]",
      "text/plain": [
       "<Figure size 432x288 with 1 Axes>"
      ]
     },
     "metadata": {
      "needs_background": "light"
     },
     "output_type": "display_data"
    }
   ],
   "source": [
    "x = np.arange(-5.0, 5.0, 0.1) # -5.0부터 5.0까지 0.1 간격 생성\n",
    "y = np.exp(x) / np.sum(np.exp(x))\n",
    "\n",
    "plt.plot(x, y)\n",
    "plt.title('Softmax Function')\n",
    "plt.show()"
   ]
  },
  {
   "cell_type": "markdown",
   "metadata": {},
   "source": [
    "* 출력 층에서 다중 클래스 분류 문제(세 가지 이상의 선택지 중 하나를 고름)를 풀 때 사용됨\n",
    "    * cf. 이진 분류의 경우 시그모이드 함수"
   ]
  },
  {
   "cell_type": "markdown",
   "metadata": {},
   "source": [
    "---"
   ]
  },
  {
   "cell_type": "markdown",
   "metadata": {
    "id": "0qSnVnIPDZG_",
    "tags": []
   },
   "source": [
    "## 03) 행렬곱으로 이해하는 신경망"
   ]
  },
  {
   "cell_type": "markdown",
   "metadata": {},
   "source": [
    "### 1. 순전파(Foward Propagation)\n",
    "* 순전파(Forward Propagation): 입력층에서 출력층 방향으로 연산을 진행하는 과정\n",
    "* 즉, 입력층 -> 은닉층 -> 출력층에서 예측값을 얻는 과정\n",
    "* 이러한 과정은 결과적으로 행렬의 곱셈으로 이해할 수 있음\n",
    "* 자세한 내용은 책 참고"
   ]
  },
  {
   "cell_type": "code",
   "execution_count": 2,
   "metadata": {},
   "outputs": [
    {
     "name": "stderr",
     "output_type": "stream",
     "text": [
      "2022-03-11 13:20:52.144547: I tensorflow/core/platform/cpu_feature_guard.cc:151] This TensorFlow binary is optimized with oneAPI Deep Neural Network Library (oneDNN) to use the following CPU instructions in performance-critical operations:  AVX2 FMA\n",
      "To enable them in other operations, rebuild TensorFlow with the appropriate compiler flags.\n"
     ]
    }
   ],
   "source": [
    "from tensorflow.keras.models import Sequential\n",
    "from tensorflow.keras.layers import Dense\n",
    "\n",
    "model = Sequential()\n",
    "\n",
    "# 3개의 입력과 2개의 출력\n",
    "model.add(Dense(2, input_dim=3, activation='softmax'))"
   ]
  },
  {
   "cell_type": "code",
   "execution_count": 3,
   "metadata": {},
   "outputs": [
    {
     "name": "stdout",
     "output_type": "stream",
     "text": [
      "Model: \"sequential\"\n",
      "_________________________________________________________________\n",
      " Layer (type)                Output Shape              Param #   \n",
      "=================================================================\n",
      " dense (Dense)               (None, 2)                 8         \n",
      "                                                                 \n",
      "=================================================================\n",
      "Total params: 8\n",
      "Trainable params: 8\n",
      "Non-trainable params: 0\n",
      "_________________________________________________________________\n"
     ]
    }
   ],
   "source": [
    "model.summary()"
   ]
  },
  {
   "cell_type": "markdown",
   "metadata": {},
   "source": [
    "ref: https://wikidocs.net/150781"
   ]
  },
  {
   "cell_type": "markdown",
   "metadata": {},
   "source": [
    "### 2. 행렬곱으로 병렬 연산 이해하기\n",
    "* 행렬곱을 사용하는 경우 병렬 연사도 가능\n",
    "* 다수의 샘플을 처리하는 경우에도, 매개변수의 수는 1개의 샘플을 처리할 때와 같음"
   ]
  },
  {
   "cell_type": "markdown",
   "metadata": {},
   "source": [
    "---"
   ]
  },
  {
   "cell_type": "markdown",
   "metadata": {},
   "source": [
    "### 3. 행령곱으로 다층 퍼셉트론의 순전파 이해하기"
   ]
  },
  {
   "cell_type": "code",
   "execution_count": 2,
   "metadata": {},
   "outputs": [],
   "source": [
    "from tensorflow.keras.models import Sequential\n",
    "from tensorflow.keras.layers import Dense\n",
    "\n",
    "model = Sequential()\n",
    "\n",
    "# 4개의 입력과 8개의 출력\n",
    "model.add(Dense(8, input_dim=4, activation='relu'))\n",
    "\n",
    "# 이어서 8개의 출력\n",
    "model.add(Dense(8, activation='relu'))\n",
    "\n",
    "# 이어서 3개의 출력\n",
    "model.add(Dense(3, activation='softmax'))"
   ]
  },
  {
   "cell_type": "markdown",
   "metadata": {},
   "source": [
    "* 퀴즈: dense1,2,3의 각 parameter의 총수는?"
   ]
  },
  {
   "cell_type": "code",
   "execution_count": 3,
   "metadata": {},
   "outputs": [
    {
     "name": "stdout",
     "output_type": "stream",
     "text": [
      "Model: \"sequential\"\n",
      "_________________________________________________________________\n",
      " Layer (type)                Output Shape              Param #   \n",
      "=================================================================\n",
      " dense (Dense)               (None, 8)                 40        \n",
      "                                                                 \n",
      " dense_1 (Dense)             (None, 8)                 72        \n",
      "                                                                 \n",
      " dense_2 (Dense)             (None, 3)                 27        \n",
      "                                                                 \n",
      "=================================================================\n",
      "Total params: 139\n",
      "Trainable params: 139\n",
      "Non-trainable params: 0\n",
      "_________________________________________________________________\n"
     ]
    }
   ],
   "source": [
    "model.summary()"
   ]
  },
  {
   "cell_type": "markdown",
   "metadata": {},
   "source": [
    "---"
   ]
  },
  {
   "cell_type": "markdown",
   "metadata": {
    "id": "je6TJdWMDaCf",
    "tags": []
   },
   "source": [
    "## 04) 딥 러닝의 학습 방법\n"
   ]
  },
  {
   "cell_type": "markdown",
   "metadata": {},
   "source": [
    "- 엔트로피 : 불확실한 정보량을 어떻게 표현할 것인가?! <br>\n",
    "참고 : https://hyunw.kim/blog/2017/10/14/Entropy.html"
   ]
  },
  {
   "cell_type": "markdown",
   "metadata": {},
   "source": [
    "- 배치크기는 보톤 2의 제곱\n",
    "- default = 32\n",
    "- 1000개 학습 데이터 = len(1000) \n",
    "- 학습에 쓰이는 데이터가 배치 사이즈!\n",
    "    - 미니 배치로 잘라서 씀\n",
    "    - 웨이트, 바이어스 만듦\n",
    "    - 한번에 학습시킬 사이즈\n",
    "    - 배치 개발 : 일괄 개발\n",
    "    "
   ]
  },
  {
   "cell_type": "markdown",
   "metadata": {},
   "source": [
    "---"
   ]
  },
  {
   "cell_type": "markdown",
   "metadata": {
    "id": "bpddclh7DbnG"
   },
   "source": [
    "## 04-3) 역전파(BackPropagation) 이해하기\n"
   ]
  },
  {
   "cell_type": "markdown",
   "metadata": {},
   "source": [
    "---"
   ]
  },
  {
   "cell_type": "markdown",
   "metadata": {
    "id": "fwajNc70Dc__"
   },
   "source": [
    "## 05) 과적합(Overfitting)을 막는 방법들\n"
   ]
  },
  {
   "cell_type": "markdown",
   "metadata": {},
   "source": [
    "- 강건성이 떨어진다\n"
   ]
  },
  {
   "cell_type": "markdown",
   "metadata": {},
   "source": [
    "---"
   ]
  },
  {
   "cell_type": "markdown",
   "metadata": {
    "id": "aCf92eBFDd1Z",
    "tags": []
   },
   "source": [
    "## 06) 기울기 소실(Gradient Vanishing)과 폭주(Exploding)"
   ]
  },
  {
   "cell_type": "markdown",
   "metadata": {},
   "source": [
    "활성화함수를 바꿔서 기울기 소실 문제 체크"
   ]
  },
  {
   "cell_type": "markdown",
   "metadata": {
    "id": "FnR4HfRsDftj"
   },
   "source": [
    "## 07) 케라스(Keras) 훑어보기"
   ]
  },
  {
   "cell_type": "markdown",
   "metadata": {
    "id": "7iYtiRy-DwRt"
   },
   "source": [
    "케라스는 유저가 손쉽게 딥 러닝을 구현할 수 있도록 도와주는 상위 레벨의 인터페이스로, <br>\n",
    "파이썬으로 작성된 오픈 소스 신경망 라이브러리 <br>\n",
    "딥 러닝을 쉽게 구현할 수 있도록 해준다 <br>\n",
    "- [keras 공식문서](https://keras.io/)\n",
    "- [tensorflow 공식문서](https://www.tensorflow.org/guide/keras?hl=ko)"
   ]
  },
  {
   "cell_type": "markdown",
   "metadata": {
    "id": "ygKp-YiADrVI"
   },
   "source": [
    "### 1. 전처리(Preprocessing)\n"
   ]
  },
  {
   "cell_type": "markdown",
   "metadata": {},
   "source": [
    "#### Tokenizer()\n",
    "- 토큰화와 정수 인코딩을 위해 사용 <br>\n",
    "- 훈련 데이터로부터 단어 집합을 생성하고, 해당 단어 집합으로 임의의 문장을 정수 인코딩하는 과정"
   ]
  },
  {
   "cell_type": "code",
   "execution_count": 54,
   "metadata": {
    "tags": []
   },
   "outputs": [
    {
     "name": "stdout",
     "output_type": "stream",
     "text": [
      "정수 인코딩 :  [1, 2, 3, 4, 6, 7]\n",
      "단어 집합 :  {'the': 1, 'earth': 2, 'is': 3, 'an': 4, 'awesome': 5, 'place': 6, 'live': 7}\n"
     ]
    }
   ],
   "source": [
    "from tensorflow.keras.preprocessing.text import Tokenizer\n",
    "from tensorflow.keras.preprocessing.sequence import pad_sequences\n",
    "\n",
    "tokenizer = Tokenizer()\n",
    "train_text = \"The earth is an awesome place live\"\n",
    "\n",
    "# 훈련 데이터로부터 단어 집합 생성\n",
    "# fit_on_texts() : 문자 데이터를 입력받아서 리스트의 형태로 변환\n",
    "tokenizer.fit_on_texts([train_text]) # fit_on_texts()안에 코퍼스를 입력으로 하면 빈도수를 기준으로 단어 집합을 생성한다. /말뭉치 또는 코퍼스\n",
    "\n",
    "# 임의의 문장을 정수 인코딩\n",
    "sub_text = \"The earth is an great place live\"        # great는 미리 토큰화되어 있지 않아서 출력 x\n",
    "# texts_to_sequences() : 단어들을 시퀀스의 형태로 변환\n",
    "sequences = tokenizer.texts_to_sequences([sub_text])[0]\n",
    "\n",
    "print(\"정수 인코딩 : \",sequences)\n",
    "# word_index() : 단어와 숫자의 키-값 쌍을 포함하는 딕셔너리를 반환\n",
    "print(\"단어 집합 : \",tokenizer.word_index)"
   ]
  },
  {
   "cell_type": "code",
   "execution_count": 30,
   "metadata": {},
   "outputs": [
    {
     "name": "stdout",
     "output_type": "stream",
     "text": [
      "정수 인코딩 :  [[1, 2, 3, 4, 6], [1, 2, 3, 4, 6, 7]]\n",
      "단어 집합 :  {'the': 1, 'earth': 2, 'is': 3, 'an': 4, 'awesome': 5, 'place': 6, 'live': 7, 'hello': 8}\n"
     ]
    }
   ],
   "source": [
    "from tensorflow.keras.preprocessing.text import Tokenizer\n",
    "from tensorflow.keras.preprocessing.sequence import pad_sequences\n",
    "\n",
    "tokenizer = Tokenizer()\n",
    "train_text = [\"The earth is an awesome place live\",\n",
    "              \"The earth is an awesome place hello\"]\n",
    "\n",
    "# 훈련 데이터로부터 단어 집합 생성\n",
    "# fit_on_texts() : 문자 데이터를 입력받아서 리스트의 형태로 변환\n",
    "tokenizer.fit_on_texts(train_text)\n",
    "\n",
    "# 임의의 문장을 정수 인코딩\n",
    "sub_text = [\"The earth is an great place cute\",\n",
    "           \"The earth is an great place live\"]\n",
    "# texts_to_sequences() : 단어들을 시퀀스의 형태로 변환\n",
    "sequences = tokenizer.texts_to_sequences(sub_text)\n",
    "\n",
    "print(\"정수 인코딩 : \",sequences)\n",
    "# word_index() : 단어와 숫자의 키-값 쌍을 포함하는 딕셔너리를 반환\n",
    "print(\"단어 집합 : \",tokenizer.word_index)"
   ]
  },
  {
   "cell_type": "markdown",
   "metadata": {},
   "source": [
    "#### pad_sequence()\n",
    "- 정해준 길이보다 길이가 긴 샘플은 값을 일부 자르고, 정해준 길이보다 길이가 짧은 샘플은 값을 0으로 채움"
   ]
  },
  {
   "cell_type": "markdown",
   "metadata": {},
   "source": [
    "**패딩(padding) 작업**\n",
    "- 전체 훈련데이터에서 각 샘플의 길이는 서로 다를 때.\n",
    "- 각 문서 또는 각 문장은 단어의 수가 제각각일 때\n",
    "- 모든 샘플의 길이를 동일하게 맞춤\n",
    "- 보통 숫자 0을 넣어서 길이가 다른 샘플들의 길이를 맞춰준다.\n",
    "- 케라스에서는 pad_sequence()를 사용"
   ]
  },
  {
   "cell_type": "markdown",
   "metadata": {},
   "source": [
    "**pad_sequence()**\n",
    "1. 첫번째 인자 = 패딩을 진행할 데이터\n",
    "2. maxlen = 모든 데이터에 대해서 정규화 할 길이\n",
    "3. padding = 'pre'를 선택하면 앞에 0을 채우고 'post'를 선택하면 뒤에 0을 채움."
   ]
  },
  {
   "cell_type": "code",
   "execution_count": 21,
   "metadata": {},
   "outputs": [
    {
     "data": {
      "text/plain": [
       "array([[1, 2, 3],\n",
       "       [4, 5, 6],\n",
       "       [0, 7, 8]], dtype=int32)"
      ]
     },
     "execution_count": 21,
     "metadata": {},
     "output_type": "execute_result"
    }
   ],
   "source": [
    "pad_sequences([[1, 2, 3], [3, 4, 5, 6], [7, 8]], maxlen=3, padding='pre')"
   ]
  },
  {
   "cell_type": "markdown",
   "metadata": {},
   "source": [
    "### 2. 워드 임베딩(Word Embedding)"
   ]
  },
  {
   "cell_type": "markdown",
   "metadata": {},
   "source": [
    "- 텍스트 내의 단어들을 밀집 벡터(dense vector)로 만드는 것을 말합니다. \n",
    "- 원-핫 벡터는 단어 집합의 크기만큼 벡터의 차원을 가지며 단어 벡터 간의 유의미한 유사도를 구할 수 없다는 단점이 있습니다. \n",
    "- 반면 워드 임베딩으로부터 얻은 임베딩 벡터는 상대적으로 저차원을 가지며 모든 원소의 값이 실수입니다."
   ]
  },
  {
   "cell_type": "markdown",
   "metadata": {},
   "source": [
    "|-|원-핫 벡터|임베딩 벡터|\n",
    "|:--:|:--:|:--:|\n",
    "|차원|고차원(단어 집합의 크기)|저차원|\n",
    "|다른 표현|대부분의 값이 0이 대부분인 희소 벡터|모든 값이 실수인 밀집 벡터|\n",
    "|표현 방법|수동|훈련 데이터로부터 학습함|\n",
    "|값의 타입|1과 0|실수|"
   ]
  },
  {
   "cell_type": "markdown",
   "metadata": {},
   "source": [
    "- 단어를 밀집 벡터로 만드는 작업을 워드 임베딩(word embedding) 이라고 합니다. "
   ]
  },
  {
   "cell_type": "markdown",
   "metadata": {},
   "source": [
    "- 밀집 벡터는 워드 임베딩 과정을 통해 나온 결과므로 임베딩 벡터(embedding vector)라고도 합니다.\n",
    "- 임베딩 벡터는 초기에는 랜덤값을 가지지만, 인공 신경망의 가중치가 학습되는 방법과 같은 방식으로 값이 학습되며 변경됩니다."
   ]
  },
  {
   "cell_type": "markdown",
   "metadata": {},
   "source": [
    "#### Embedding() "
   ]
  },
  {
   "cell_type": "markdown",
   "metadata": {},
   "source": [
    "- Embedding()은 단어를 밀집 벡터로 만드는 역할\n",
    "- 임베딩 층(embedding layer)을 만드는 역할\n",
    "- Embedding()은 정수 인코딩이 된 단어들을 입력을 받아서 임베딩을 수행\n",
    "- Embedding()은 (number of samples, input_length)인 2D 정수 텐서를 입력받습니다. \n",
    "- Embedding()은 워드 임베딩 작업을 수행하고 (number of samples, input_length, embedding word dimensionality)인 3D 텐서를 리턴"
   ]
  },
  {
   "cell_type": "markdown",
   "metadata": {},
   "source": [
    "- 의사 코드(pseudo-code)"
   ]
  },
  {
   "cell_type": "markdown",
   "metadata": {},
   "source": [
    "```python\n",
    "# 1. 토큰화\n",
    "tokenized_text = [['Hope', 'to', 'see', 'you', 'soon'], ['Nice', 'to', 'see', 'you', 'again']]\n",
    "\n",
    "# 2. 각 단어에 대한 정수 인코딩\n",
    "encoded_text = [[0, 1, 2, 3, 4],[5, 1, 2, 3, 6]]\n",
    "\n",
    "# 3. 위 정수 인코딩 데이터가 아래의 임베딩 층의 입력이 된다.\n",
    "vocab_size = 7\n",
    "embedding_dim = 2\n",
    "Embedding(vocab_size, embedding_dim, input_length=5)\n",
    "\n",
    "# 각 정수는 아래의 테이블의 인덱스로 사용되며 Embedding()은 각 단어마다 임베딩 벡터를 리턴한다.\n",
    "+------------+------------+\n",
    "|   index    | embedding  |\n",
    "+------------+------------+\n",
    "|     0      | [1.2, 3.1] |\n",
    "|     1      | [0.1, 4.2] |\n",
    "|     2      | [1.0, 3.1] |\n",
    "|     3      | [0.3, 2.1] |\n",
    "|     4      | [2.2, 1.4] |\n",
    "|     5      | [0.7, 1.7] |\n",
    "|     6      | [4.1, 2.0] |\n",
    "+------------+------------+\n",
    "\n",
    "# 위의 표는 임베딩 벡터가 된 결과를 예로서 정리한 것이고 Embedding()의 출력인 3D 텐서를 보여주는 것이 아님.\n",
    "```"
   ]
  },
  {
   "cell_type": "markdown",
   "metadata": {},
   "source": [
    "- 첫번째 인자 = 단어 집합의 크기. 즉, 총 단어의 개수\n",
    "- 두번째 인자 = 임베딩 벡터의 출력 차원. 결과로서 나오는 임베딩 벡터의 크기\n",
    "- input_length = 입력 시퀀스의 길이"
   ]
  },
  {
   "cell_type": "markdown",
   "metadata": {
    "tags": []
   },
   "source": [
    "### 3. 모델링(Modeling)"
   ]
  },
  {
   "cell_type": "markdown",
   "metadata": {},
   "source": [
    "#### Sequential()\n",
    "- 입력층, 은닉층, 출력층, 케라스에서는 이러한 층을 구성하기 위해 Sequential()을 사용\n",
    "- Sequential()을 model로 선언한 뒤에 model.add()라는 코드를 통해 층을 단계적으로 추가"
   ]
  },
  {
   "cell_type": "code",
   "execution_count": null,
   "metadata": {
    "tags": []
   },
   "outputs": [],
   "source": [
    "from tensorflow.keras.models import Sequential\n",
    "from tensorflow.keras.layers import Dense\n",
    "\n",
    "model = Sequential()\n",
    "model.add(...) # 층 추가\n",
    "model.add(...) # 층 추가\n",
    "model.add(...) # 층 추가"
   ]
  },
  {
   "cell_type": "markdown",
   "metadata": {},
   "source": [
    "- Embedding()을 통해 생성하는 임베딩 층(embedding layer)을 추가"
   ]
  },
  {
   "cell_type": "code",
   "execution_count": null,
   "metadata": {},
   "outputs": [],
   "source": [
    "model = Sequential()\n",
    "model.add(Embedding(vocab_size, output_dim, input_length))"
   ]
  },
  {
   "cell_type": "markdown",
   "metadata": {},
   "source": [
    "- 전결합층(fully-connected layer)을 추가 - 하이퍼 파라미터 최적화 과제 떄 해봤던 거!"
   ]
  },
  {
   "cell_type": "code",
   "execution_count": 14,
   "metadata": {},
   "outputs": [],
   "source": [
    "model = Sequential()\n",
    "model.add(Dense(1, input_dim=3, activation='relu'))"
   ]
  },
  {
   "cell_type": "markdown",
   "metadata": {},
   "source": [
    "#### Dense()\n",
    "- 첫번째 인자 = 출력 뉴런의 수.\n",
    "- input_dim = 입력 뉴런의 수. (입력의 차원)\n",
    "- activation = 활성화 함수.\n",
    "    - linear : 디폴트 값으로 별도 활성화 함수 없이 입력 뉴런과 가중치의 계산 결과 그대로 출력.\n",
    "    - sigmoid : 이진 분류 문제에서 출력층에 주로 사용되는 활성화 함수.\n",
    "    - softmax : 셋 이상의 선택지 중 하나를 택하는 다중 클래스 분류 문제에서 출력층에 주로 사용되는 활성화 함수.\n",
    "    - relu : 은닉층에 주로 사용되는 활성화 함수."
   ]
  },
  {
   "cell_type": "markdown",
   "metadata": {},
   "source": [
    "- Dense()를 사용하여 전결합층을 하나 더 추가"
   ]
  },
  {
   "cell_type": "code",
   "execution_count": 55,
   "metadata": {},
   "outputs": [],
   "source": [
    "model = Sequential()\n",
    "model.add(Dense(8, input_dim=4, activation='relu'))\n",
    "model.add(Dense(1, activation='sigmoid')) # 출력층"
   ]
  },
  {
   "attachments": {
    "adfd8d94-a9f0-43d6-b9dc-6942ed2968ef.png": {
     "image/png": "[encoded data removed]"
    }
   },
   "cell_type": "markdown",
   "metadata": {},
   "source": [
    "![image.png](attachment:adfd8d94-a9f0-43d6-b9dc-6942ed2968ef.png)"
   ]
  },
  {
   "cell_type": "markdown",
   "metadata": {},
   "source": [
    "- LSTM, GRU, Convolution2D, BatchNormalization 등 다양한 층을 만들 수 있습니다. 일부는 뒤에서 배웁니다."
   ]
  },
  {
   "cell_type": "markdown",
   "metadata": {},
   "source": [
    "- summary() : 모델의 정보를 요약해서 보여줍니다."
   ]
  },
  {
   "cell_type": "code",
   "execution_count": 16,
   "metadata": {},
   "outputs": [
    {
     "name": "stdout",
     "output_type": "stream",
     "text": [
      "Model: \"sequential_4\"\n",
      "_________________________________________________________________\n",
      " Layer (type)                Output Shape              Param #   \n",
      "=================================================================\n",
      " dense_2 (Dense)             (None, 8)                 40        \n",
      "                                                                 \n",
      " dense_3 (Dense)             (None, 1)                 9         \n",
      "                                                                 \n",
      "=================================================================\n",
      "Total params: 49\n",
      "Trainable params: 49\n",
      "Non-trainable params: 0\n",
      "_________________________________________________________________\n"
     ]
    }
   ],
   "source": [
    "model.summary()"
   ]
  },
  {
   "cell_type": "markdown",
   "metadata": {},
   "source": [
    "### 4. 컴파일(Compile)과 훈련(Training)"
   ]
  },
  {
   "cell_type": "markdown",
   "metadata": {},
   "source": [
    "- RNN을 이용하여 이진 분류를 하는 전형적인 코드\n",
    "- 임베딩층, 은닉층, 출력층을 추가하여 모델을 설계한 후에, 마지막으로 컴파일을 합니다."
   ]
  },
  {
   "cell_type": "markdown",
   "metadata": {},
   "source": [
    "#### compile()\n",
    "- 모델을 기계가 이해할 수 있도록 컴파일 합니다.\n",
    "    - optimizer = 훈련 과정을 설정하는 옵티마이저를 설정합니다.\n",
    "    - loss = 훈련 과정에서 사용할 손실 함수(loss function)를 설정합니다.\n",
    "    - metrics = 훈련을 모니터링하기 위한 지표를 선택합니다."
   ]
  },
  {
   "cell_type": "code",
   "execution_count": 8,
   "metadata": {},
   "outputs": [],
   "source": [
    "from tensorflow.keras.layers import SimpleRNN, Embedding, Dense\n",
    "from tensorflow.keras.models import Sequential\n",
    "\n",
    "vocab_size = 10000\n",
    "embedding_dim = 32\n",
    "hidden_units = 32\n",
    "\n",
    "model = Sequential()\n",
    "model.add(Embedding(vocab_size, embedding_dim))\n",
    "model.add(SimpleRNN(hidden_units))\n",
    "model.add(Dense(1, activation='sigmoid'))\n",
    "model.compile(optimizer='rmsprop', loss='binary_crossentropy', metrics=['acc'])"
   ]
  },
  {
   "cell_type": "markdown",
   "metadata": {},
   "source": [
    "#### fit()\n",
    "- 모델을 학습합니다. \n",
    "- 모델이 오차로부터 매개 변수를 업데이트 시키는 과정을 학습, 훈련, 또는 적합(fitting)이라고 하는데, 모델이 데이터에 적합해가는 과정이기 때문입니다.\n",
    "    - 첫번째 인자 = 훈련 데이터에 해당됩니다.\n",
    "    - 두번째 인자 = 지도 학습에서 레이블 데이터에 해당됩니다.\n",
    "    - epochs = 에포크. 에포크 1은 전체 데이터를 한 차례 훑고 지나갔음을 의미함. 정수값 기재 필요. 총 훈련 횟수를 정의합니다.\n",
    "    - batch_size = 배치 크기. 기본값은 32. 미니 배치 경사 하강법을 사용하고 싶지 않을 경우에는 batch_size=None을 기재합니다."
   ]
  },
  {
   "cell_type": "code",
   "execution_count": null,
   "metadata": {
    "tags": []
   },
   "outputs": [],
   "source": [
    "# 위의 compile() 코드의 연장선상인 코드\n",
    "model.fit(X_train, y_train, epochs=10, batch_size=32)"
   ]
  },
  {
   "cell_type": "markdown",
   "metadata": {},
   "source": [
    "- validation_data(x_val, y_val) = 검증 데이터(validation data)를 사용"
   ]
  },
  {
   "cell_type": "code",
   "execution_count": null,
   "metadata": {},
   "outputs": [],
   "source": [
    "model.fit(X_train, y_train, epochs=10, batch_size=32, verbose=0, validation_data(X_val, y_val))"
   ]
  },
  {
   "cell_type": "markdown",
   "metadata": {},
   "source": [
    "- validation_split = validation_data와 동일하게 검증 데이터를 사용하기 위한 용도로 validation_data 대신 사용할 수 있습니다. \n",
    "- 검증 데이터를 지정하는 것이 아니라 훈련 데이터와 훈련 데이터의 레이블인 X_train과 y_train에서 일정 비율 분리하여 이를 검증 데이터로 사용합니다."
   ]
  },
  {
   "cell_type": "code",
   "execution_count": null,
   "metadata": {},
   "outputs": [],
   "source": [
    "# 훈련 데이터의 20%를 검증 데이터로 사용.\n",
    "model.fit(X_train, y_train, epochs=10, batch_size=32, verbose=0, validation_split=0.2))"
   ]
  },
  {
   "cell_type": "markdown",
   "metadata": {},
   "source": [
    "- verbose = 학습 중 출력되는 문구를 설정합니다.\n",
    "    - 0 : 아무 것도 출력하지 않습니다.\n",
    "    - 1 : 훈련의 진행도를 보여주는 진행 막대를 보여줍니다.\n",
    "    - 2 : 미니 배치마다 손실 정보를 출력합니다.\n",
    "\n",
    "```bash    \n",
    "# verbose = 1일 경우.\n",
    "Epoch 88/100\n",
    "7/7 [==============================] - 0s 143us/step - loss: 0.1029 - acc: 1.0000\n",
    "```\n",
    "\n",
    "```bash\n",
    "# verbose = 2일 경우.\n",
    "Epoch 88/100\n",
    " - 0s - loss: 0.1475 - acc: 1.0000\n",
    "\n",
    "```"
   ]
  },
  {
   "cell_type": "markdown",
   "metadata": {},
   "source": [
    "### 5. 평가(Evaluation)와 예측(Prediction)"
   ]
  },
  {
   "cell_type": "markdown",
   "metadata": {},
   "source": [
    "evaluate() : 테스트 데이터를 통해 학습한 모델에 대한 정확도를 평가\n",
    "\n",
    "    - 첫번째 인자 = 테스트 데이터에 해당됩니다.\n",
    "    - 두번째 인자 = 지도 학습에서 레이블 테스트 데이터에 해당됩니다.\n",
    "    - batch_size = 배치 크기."
   ]
  },
  {
   "cell_type": "code",
   "execution_count": null,
   "metadata": {},
   "outputs": [],
   "source": [
    "# 위의 fit() 코드의 연장선상인 코드\n",
    "model.evaluate(X_test, y_test, batch_size=32)"
   ]
  },
  {
   "cell_type": "markdown",
   "metadata": {},
   "source": [
    "predict() : 임의의 입력에 대한 모델의 출력값을 확인합니다.\n",
    "\n",
    "    - 첫번째 인자 = 예측하고자 하는 데이터.\n",
    "    - batch_size = 배치 크기."
   ]
  },
  {
   "cell_type": "code",
   "execution_count": null,
   "metadata": {},
   "outputs": [],
   "source": [
    "# 위의 fit() 코드의 연장선상인 코드\n",
    "model.predict(X_input, batch_size=32)"
   ]
  },
  {
   "cell_type": "markdown",
   "metadata": {},
   "source": [
    "### 6. 모델의 저장(Save)과 로드(Load)"
   ]
  },
  {
   "cell_type": "markdown",
   "metadata": {},
   "source": [
    "save() : 인공 신경망 모델을 hdf5 파일에 저장합니다."
   ]
  },
  {
   "cell_type": "markdown",
   "metadata": {},
   "source": [
    "load_model() : 저장해둔 모델을 불러옵니다."
   ]
  },
  {
   "cell_type": "code",
   "execution_count": null,
   "metadata": {},
   "outputs": [],
   "source": [
    "model.save(\"model_name.h5\")"
   ]
  },
  {
   "cell_type": "code",
   "execution_count": null,
   "metadata": {},
   "outputs": [],
   "source": [
    "rom tensorflow.keras.models import load_model\n",
    "model = load_model(\"model_name.h5\")"
   ]
  },
  {
   "cell_type": "markdown",
   "metadata": {},
   "source": [
    "---"
   ]
  },
  {
   "cell_type": "markdown",
   "metadata": {
    "id": "ums2dLcjDhA5"
   },
   "source": [
    "## 08) 케라스의 함수형 API(Keras Functional API)"
   ]
  },
  {
   "cell_type": "markdown",
   "metadata": {},
   "source": [
    "- 더욱 복잡한 모델을 생성할 수 있는 방식인 Functional API(함수형 API)"
   ]
  },
  {
   "cell_type": "markdown",
   "metadata": {},
   "source": [
    "### 1. Sequential API로 만든 모델"
   ]
  },
  {
   "cell_type": "markdown",
   "metadata": {},
   "source": [
    "- 단순히 층을 쌓는 것만으로는 구현할 수 없는 복잡한 신경망을 구현할 수 없습니다. \n",
    "- 따라서 초심자에게 적합한 API이지만, 전문가가 되기 위해서는 결과적으로 Functional API를 학습해야 합니다"
   ]
  },
  {
   "cell_type": "code",
   "execution_count": 31,
   "metadata": {},
   "outputs": [],
   "source": [
    "from tensorflow.keras.models import Sequential\n",
    "from tensorflow.keras.layers import Dense\n",
    "\n",
    "model = Sequential()\n",
    "model.add(Dense(3, input_dim=4, activation='softmax'))"
   ]
  },
  {
   "cell_type": "markdown",
   "metadata": {},
   "source": [
    "### 2. Functional API로 만든 모델"
   ]
  },
  {
   "cell_type": "markdown",
   "metadata": {},
   "source": [
    "- 각 층을 일종의 함수(function)로서 정의\n",
    "- 각 함수를 조합하기 위한 연산자들을 제공하는데, 이를 이용하여 신경망을 설계\n",
    "- Functional API는 입력의 크기(shape)를 명시한 입력층(Input layer)을 모델의 앞단에 정의해주어야 합니다."
   ]
  },
  {
   "cell_type": "markdown",
   "metadata": {},
   "source": [
    "#### 1) 전결합 피드 포워드 신경망(Fully-connected FFNN)"
   ]
  },
  {
   "cell_type": "markdown",
   "metadata": {},
   "source": [
    "- 입력 데이터의 크기(shape)를 인자로 입력층을 정의해주어야 합니다. "
   ]
  },
  {
   "cell_type": "code",
   "execution_count": 32,
   "metadata": {},
   "outputs": [],
   "source": [
    "from tensorflow.keras.layers import Input, Dense\n",
    "from tensorflow.keras.models import Model"
   ]
  },
  {
   "cell_type": "markdown",
   "metadata": {},
   "source": [
    "- Input() 함수에 입력의 크기를 정의합니다."
   ]
  },
  {
   "cell_type": "code",
   "execution_count": 34,
   "metadata": {},
   "outputs": [],
   "source": [
    "# 10개의 입력을 받는 입력층\n",
    "inputs = Input(shape=(10,))"
   ]
  },
  {
   "cell_type": "markdown",
   "metadata": {},
   "source": [
    "- 이전층을 다음층 함수의 입력으로 사용하고, 변수에 할당합니다.\n",
    "- Model() 함수에 입력과 출력을 정의합니다."
   ]
  },
  {
   "cell_type": "code",
   "execution_count": 36,
   "metadata": {},
   "outputs": [],
   "source": [
    "inputs = Input(shape=(10,))\n",
    "hidden1 = Dense(64, activation='relu')(inputs)  # <- 새로 추가\n",
    "hidden2 = Dense(64, activation='relu')(hidden1) # <- 새로 추가\n",
    "output = Dense(1, activation='sigmoid')(hidden2) # <- 새로 추가\n",
    "model = Model(inputs=inputs, outputs=output) # <- 새로 추가"
   ]
  },
  {
   "cell_type": "markdown",
   "metadata": {},
   "source": [
    "- 이를 model로 저장하면 sequential API를 사용할 때와 마찬가지로 model.compile, model.fit 등을 사용 가능"
   ]
  },
  {
   "cell_type": "code",
   "execution_count": null,
   "metadata": {},
   "outputs": [],
   "source": [
    "model.compile(optimizer='rmsprop', loss='categorical_crossentropy', metrics=['accuracy'])\n",
    "# model.fit(data, labels)"
   ]
  },
  {
   "cell_type": "markdown",
   "metadata": {},
   "source": [
    "- 변수명을 달리해서 FFNN을 만듦"
   ]
  },
  {
   "cell_type": "code",
   "execution_count": 39,
   "metadata": {},
   "outputs": [],
   "source": [
    "# 이번에는 은닉층과 출력층의 변수를 전부 x로 통일\n",
    "inputs = Input(shape=(10,))\n",
    "x = Dense(8, activation=\"relu\")(inputs)\n",
    "x = Dense(4, activation=\"relu\")(x)\n",
    "x = Dense(1, activation=\"linear\")(x)\n",
    "model = Model(inputs, x)"
   ]
  },
  {
   "cell_type": "markdown",
   "metadata": {
    "tags": []
   },
   "source": [
    "#### 2) 선형 회귀(Linear Regression)"
   ]
  },
  {
   "cell_type": "code",
   "execution_count": null,
   "metadata": {
    "tags": []
   },
   "outputs": [],
   "source": [
    "from tensorflow.keras.layers import Input, Dense\n",
    "from tensorflow.keras import optimizers\n",
    "from tensorflow.keras.models import Model\n",
    "\n",
    "X = [1, 2, 3, 4, 5, 6, 7, 8, 9] # 공부하는 시간\n",
    "y = [11, 22, 33, 44, 53, 66, 77, 87, 95] # 각 공부하는 시간에 맵핑되는 성적\n",
    "\n",
    "inputs = Input(shape=(1,))\n",
    "output = Dense(1, activation='linear')(inputs)\n",
    "linear_model = Model(inputs, output)\n",
    "\n",
    "sgd = optimizers.SGD(lr=0.01)\n",
    "\n",
    "linear_model.compile(optimizer=sgd, loss='mse', metrics=['mse'])\n",
    "linear_model.fit(X, y, epochs=300)"
   ]
  },
  {
   "cell_type": "markdown",
   "metadata": {},
   "source": [
    "#### 3) 로지스틱 회귀(Logistic Regression)"
   ]
  },
  {
   "cell_type": "code",
   "execution_count": 41,
   "metadata": {},
   "outputs": [],
   "source": [
    "from tensorflow.keras.layers import Input, Dense\n",
    "from tensorflow.keras.models import Model\n",
    "\n",
    "inputs = Input(shape=(3,))\n",
    "output = Dense(1, activation='sigmoid')(inputs)\n",
    "logistic_model = Model(inputs, output)"
   ]
  },
  {
   "cell_type": "markdown",
   "metadata": {
    "id": "vmtOKkguDrwd",
    "tags": []
   },
   "source": [
    "#### 4) 다중 입력을 받는 모델(model that accepts multiple inputs)"
   ]
  },
  {
   "cell_type": "code",
   "execution_count": null,
   "metadata": {
    "tags": []
   },
   "outputs": [],
   "source": [
    "# 최종 완성된 다중 입력, 다중 출력 모델의 예\n",
    "model = Model(inputs=[a1, a2], outputs=[b1, b2, b3])"
   ]
  },
  {
   "cell_type": "code",
   "execution_count": 43,
   "metadata": {},
   "outputs": [],
   "source": [
    "from tensorflow.keras.layers import Input, Dense, concatenate\n",
    "from tensorflow.keras.models import Model\n",
    "\n",
    "# 두 개의 입력층을 정의\n",
    "inputA = Input(shape=(64,))\n",
    "inputB = Input(shape=(128,))\n",
    "\n",
    "# 첫번째 입력층으로부터 분기되어 진행되는 인공 신경망을 정의\n",
    "x = Dense(16, activation=\"relu\")(inputA)\n",
    "x = Dense(8, activation=\"relu\")(x)\n",
    "x = Model(inputs=inputA, outputs=x)\n",
    "\n",
    "# 두번째 입력층으로부터 분기되어 진행되는 인공 신경망을 정의\n",
    "y = Dense(64, activation=\"relu\")(inputB)\n",
    "y = Dense(32, activation=\"relu\")(y)\n",
    "y = Dense(8, activation=\"relu\")(y)\n",
    "y = Model(inputs=inputB, outputs=y)\n",
    "\n",
    "# 두개의 인공 신경망의 출력을 연결(concatenate)\n",
    "result = concatenate([x.output, y.output])\n",
    "\n",
    "z = Dense(2, activation=\"relu\")(result)\n",
    "z = Dense(1, activation=\"linear\")(z)\n",
    "\n",
    "model = Model(inputs=[x.input, y.input], outputs=z)"
   ]
  },
  {
   "cell_type": "markdown",
   "metadata": {},
   "source": [
    "#### 5) RNN(Recurrence Neural Network) 은닉층 사용하기"
   ]
  },
  {
   "cell_type": "markdown",
   "metadata": {},
   "source": [
    "- 하나의 특성(feature)에 50개의 시점(time-step)을 입력으로 받는 모델을 설계"
   ]
  },
  {
   "cell_type": "code",
   "execution_count": 44,
   "metadata": {},
   "outputs": [],
   "source": [
    "from tensorflow.keras.layers import Input, Dense, LSTM\n",
    "from tensorflow.keras.models import Model\n",
    "\n",
    "inputs = Input(shape=(50,1))\n",
    "lstm_layer = LSTM(10)(inputs)\n",
    "x = Dense(10, activation='relu')(lstm_layer)\n",
    "output = Dense(1, activation='sigmoid')(x)\n",
    "\n",
    "model = Model(inputs=inputs, outputs=output)"
   ]
  },
  {
   "cell_type": "markdown",
   "metadata": {},
   "source": [
    "#### 6) 다르게 보이지만 동일한 표기"
   ]
  },
  {
   "cell_type": "code",
   "execution_count": null,
   "metadata": {},
   "outputs": [],
   "source": [
    "result = Dense(128)(input)"
   ]
  },
  {
   "cell_type": "code",
   "execution_count": null,
   "metadata": {},
   "outputs": [],
   "source": [
    "dense = Dense(128)\n",
    "result = dense(input)"
   ]
  },
  {
   "cell_type": "markdown",
   "metadata": {},
   "source": [
    "---"
   ]
  },
  {
   "cell_type": "markdown",
   "metadata": {
    "id": "jcSfVir_DjMN",
    "tags": []
   },
   "source": [
    "## 09) 케라스 서브클래싱 API(Keras Subclassing API)"
   ]
  },
  {
   "attachments": {
    "f9102628-bb64-4ea5-91c6-8e19cdee388b.png": {
     "image/png": "[encoded data removed]"
    }
   },
   "cell_type": "markdown",
   "metadata": {},
   "source": [
    "![image.png](attachment:f9102628-bb64-4ea5-91c6-8e19cdee388b.png)"
   ]
  },
  {
   "cell_type": "markdown",
   "metadata": {
    "tags": []
   },
   "source": [
    "### 1. 서브클래싱 API로 구현한 선형 회귀"
   ]
  },
  {
   "cell_type": "markdown",
   "metadata": {},
   "source": [
    "- Sequential API로 구현했던 선형 회귀를 Subclassing API로 구현"
   ]
  },
  {
   "cell_type": "code",
   "execution_count": 17,
   "metadata": {},
   "outputs": [],
   "source": [
    "import tensorflow as tf"
   ]
  },
  {
   "cell_type": "code",
   "execution_count": 47,
   "metadata": {},
   "outputs": [],
   "source": [
    "class LinearRegression(tf.keras.Model): # tf.keras.Model을 상속받음\n",
    "    def __init__(self): #모델의 구조와 동적을 정의하는 생성자를 정의, 객체가 갖는 속성값을 초기화\n",
    "        super(LinearRegression, self).__init__() # 여기서 만든 클래스는 tf.keras.Model 클래스의 속성들을 가지고 초기화\n",
    "        self.linear_layer = tf.keras.layers.Dense(1, input_dim=1, activation='linear')\n",
    "\n",
    "    def call(self, x): # 모델이 데이터를 입력받아 예측값을 리턴하는 포워드(forward) 연산을 진행\n",
    "        y_pred = self.linear_layer(x)\n",
    "        return y_pred"
   ]
  },
  {
   "cell_type": "code",
   "execution_count": 26,
   "metadata": {},
   "outputs": [],
   "source": [
    "model = LinearRegression()"
   ]
  },
  {
   "cell_type": "code",
   "execution_count": 27,
   "metadata": {},
   "outputs": [],
   "source": [
    "X = [1, 2, 3, 4, 5, 6, 7, 8, 9] # 공부하는 시간\n",
    "y = [11, 22, 33, 44, 53, 66, 77, 87, 95] # 각 공부하는 시간에 맵핑되는 성적"
   ]
  },
  {
   "cell_type": "code",
   "execution_count": null,
   "metadata": {},
   "outputs": [],
   "source": [
    "sgd = tf.keras.optimizers.SGD(lr=0.01)\n",
    "model.compile(optimizer=sgd, loss='mse', metrics=['mse'])\n",
    "model.fit(X, y, epochs=300)"
   ]
  },
  {
   "cell_type": "markdown",
   "metadata": {
    "tags": []
   },
   "source": [
    "### 2. 언제 서브클래싱 API를 써야 할까?"
   ]
  },
  {
   "cell_type": "markdown",
   "metadata": {},
   "source": [
    "Sequential API : 간단한 모델을 구현하기에 적합 <br>\n",
    "Functional API : Sequential API로 구현할 수 없는 복잡한 모델들을 구현가능 <br>\n",
    "Subclassing API : Functional API가 구현할 수 없는 모델들조차 구현할 수 있는 경우가 있다.\n",
    "- 기본적으로 딥 러닝 모델을 DAG(directed acyclic graph)로 취급\n",
    "- 재귀 네트워크나 트리 RNN은 이 가정을 따르지 않으며 Functional API에서 구현할 수 없습니다.\n",
    "- 대부분의 딥 러닝 모델은 Functional API 수준에서도 전부 구현이 가능\n",
    "- 밑바닥부터 새로운 수준의 아키텍처를 구현해야 하는 실험적 연구를 하는 연구자들에게 적합"
   ]
  },
  {
   "cell_type": "markdown",
   "metadata": {},
   "source": [
    "### 3. 세 가지 구현 방식 비교."
   ]
  },
  {
   "cell_type": "markdown",
   "metadata": {},
   "source": [
    "#### 1) Sequential API\n",
    "- 장점 : 단순하게 층을 쌓는 방식으로 쉽고 사용하기가 간단합니다.\n",
    "- 단점 : 다수의 입력(multi-input), 다수의 출력(multi-output)을 가진 모델 또는 층 간의 연결(concatenate)이나 덧셈(Add)과 같은 연산을 하는 모델을 구현하기에는 적합하지 않습니다. 이런 모델들의 구현은 Functional API를 사용해야 합니다."
   ]
  },
  {
   "cell_type": "markdown",
   "metadata": {
    "id": "fNZ-yMS3Ds9O"
   },
   "source": [
    "#### 2) Functional API\n",
    "- 장점 : Sequential API로는 구현하기 어려운 복잡한 모델들을 구현할 수 있습니다.\n",
    "- 단점 : 입력의 크기(shape)를 명시한 입력층(Input layer)을 모델의 앞단에 정의해주어야 합니다.\n",
    "\n",
    "```python\n",
    "# 선형 회귀 구현 코드의 일부 발췌\n",
    "\n",
    "inputs = Input(shape=(1,)) # <-- 해당 부분\n",
    "output = Dense(1, activation='linear')(inputs)\n",
    "linear_model = Model(inputs, output)\n",
    "\n",
    "sgd = optimizers.SGD(lr=0.01)\n",
    "\n",
    "linear_model.compile(optimizer=sgd, loss='mse', metrics=['mse'])\n",
    "linear_model.fit(X, y, epochs=300)\n",
    "```"
   ]
  },
  {
   "cell_type": "markdown",
   "metadata": {},
   "source": [
    "#### 3) Subclassing API\n",
    "- 장점 : Functional API로도 구현할 수 없는 모델들조차 구현이 가능합니다.\n",
    "- 단점 : 객체 지향 프로그래밍(Object-oriented programming)에 익숙해야 하므로 코드 사용이 가장 까다롭습니다."
   ]
  },
  {
   "cell_type": "markdown",
   "metadata": {},
   "source": [
    "---"
   ]
  },
  {
   "cell_type": "markdown",
   "metadata": {
    "id": "8o-ks3KdImre"
   },
   "source": [
    "## 10) 다층 퍼셉트론(MultiLayer Perceptron, MLP)으로 텍스트 분류하기\n",
    "* 다층 퍼셉트론(Multilayer Perceptron, MLP)으로 텍스트 분류를 수행"
   ]
  },
  {
   "cell_type": "markdown",
   "metadata": {
    "id": "Ee8EOz8UIqdc"
   },
   "source": [
    "### 10.1. 다층 퍼셉트론(MultiLayer Perceptron, MLP)\n",
    "![img](https://wikidocs.net/images/page/24987/mlp_final.PNG)\n",
    "* 다층 퍼셉트론(MultiLayer Perceptron, MLP)\n",
    "  * 단층 퍼셉트론에서 은닉층이 1개 이상 추가 된 신경망\n",
    "  * 피드 포워드 신경망의 기본적인 형태\n",
    "* 피드 포워드 신경망(Feed Forward Neural Network, FFNN)\n",
    "  * 입력층에서 출력층으로 오직 한 방향으로 연산하는 신경망 (<-> 순환신경망)\n",
    "  * 지금까지 배운 개념을 활용해 자연어 처리에 목적"
   ]
  },
  {
   "cell_type": "markdown",
   "metadata": {
    "id": "F6EZDXpeI0B0"
   },
   "source": [
    "### 10.2. 케라스의 texts_to_matrix() 이해하기\n",
    "\n",
    "* 입력된 텍스트 데이터로부터 행렬(matrix)를 만드는 도구\n",
    "* `texts_to_matrx()`의 네 가지 모드\n",
    "  1. `binary`\n",
    "  2. `count`\n",
    "  3. `freq`\n",
    "  4. `tfidf`"
   ]
  },
  {
   "cell_type": "code",
   "execution_count": null,
   "metadata": {
    "colab": {
     "base_uri": "https://localhost:8080/"
    },
    "id": "XTkO9hZbK9sg",
    "outputId": "96aa52ee-0085-42f6-8da4-48e42d53551d"
   },
   "outputs": [
    {
     "name": "stdout",
     "output_type": "stream",
     "text": [
      "{'바나나': 1, '먹고': 2, '싶은': 3, '사과': 4, '길고': 5, '노란': 6, '저는': 7, '과일이': 8, '좋아요': 9}\n"
     ]
    }
   ],
   "source": [
    "# 토큰화와 정수 인코딩\n",
    "import numpy as np\n",
    "from tensorflow.keras.preprocessing.text import Tokenizer\n",
    "\n",
    "texts = ['먹고 싶은 사과', '먹고 싶은 바나나', '길고 노란 바나나 바나나', '저는 과일이 좋아요']\n",
    "\n",
    "tokenizer = Tokenizer()\n",
    "tokenizer.fit_on_texts(texts)\n",
    "print(tokenizer.word_index)"
   ]
  },
  {
   "cell_type": "markdown",
   "metadata": {
    "id": "8XKsD4DEMf1k"
   },
   "source": [
    "#### (1) count\n",
    "* 문서 단어 행렬(Document-Term Matrix, DTM)을 생성\n",
    "  * BoW 기반. 순서 없음\n",
    "* word_index의 결과 matrix\n",
    "\n",
    "| 문장/토큰               | 바나나 | 먹고 | 싶은 | 사과 | 길고 | 노란 | 저는 | 과일이 | 좋아요 |\n",
    "| ----------------------- | ------ | ---- | ---- | ---- | ---- | ---- | ---- | ------ | ------ |\n",
    "| 먹고 싶은 사과          | 0      | 1    | 1    | 1    | 0    | 0    | 0    | 0      | 0      |\n",
    "| 먹고 싶은 바나나        | 1      | 1    | 1    | 0    | 0    | 0    | 0    | 0      | 0      |\n",
    "| 길고 노란 바나나 바나나 | 2      | 0    | 0    | 0    | 1    | 1    | 0    | 0      | 0      |\n",
    "| 저는 과일이 좋아요      | 0      | 0    | 0    | 0    | 0    | 0    | 1    | 1      | 1      |\n",
    "\n",
    "\n"
   ]
  },
  {
   "cell_type": "code",
   "execution_count": null,
   "metadata": {
    "colab": {
     "base_uri": "https://localhost:8080/"
    },
    "id": "hCSSFKfTMlS9",
    "outputId": "2578533f-225e-4126-bd00-9bc1583b4fed"
   },
   "outputs": [
    {
     "name": "stdout",
     "output_type": "stream",
     "text": [
      "[[0. 0. 1. 1. 1. 0. 0. 0. 0. 0.]\n",
      " [0. 1. 1. 1. 0. 0. 0. 0. 0. 0.]\n",
      " [0. 2. 0. 0. 0. 1. 1. 0. 0. 0.]\n",
      " [0. 0. 0. 0. 0. 0. 0. 1. 1. 1.]]\n"
     ]
    }
   ],
   "source": [
    "# texts_to_matrix의 입력으로 texts를 넣고, 모드는 'count'\n",
    "print(tokenizer.texts_to_matrix(texts, mode = 'count'))"
   ]
  },
  {
   "cell_type": "markdown",
   "metadata": {
    "id": "Z5myzAeqOjtc"
   },
   "source": [
    "#### (2) binary\n",
    "* 존재 유무로만 행렬을 표현 (True / False)"
   ]
  },
  {
   "cell_type": "code",
   "execution_count": null,
   "metadata": {
    "colab": {
     "base_uri": "https://localhost:8080/"
    },
    "id": "CHy3GzJ9OnGx",
    "outputId": "37146b81-e945-48ed-ee33-d89656b09ddb"
   },
   "outputs": [
    {
     "name": "stdout",
     "output_type": "stream",
     "text": [
      "[[0. 0. 1. 1. 1. 0. 0. 0. 0. 0.]\n",
      " [0. 1. 1. 1. 0. 0. 0. 0. 0. 0.]\n",
      " [0. 1. 0. 0. 0. 1. 1. 0. 0. 0.]\n",
      " [0. 0. 0. 0. 0. 0. 0. 1. 1. 1.]]\n"
     ]
    }
   ],
   "source": [
    "print(tokenizer.texts_to_matrix(texts, mode = 'binary'))"
   ]
  },
  {
   "cell_type": "markdown",
   "metadata": {
    "id": "cQPd-QB4O6qq"
   },
   "source": [
    "#### (3) tfidf\n",
    "* TF-IDF (Term Frequency-Inverse Document Frequency, 단어 빈도-역 문서 빈도)\n",
    "  * 빈도수 기반 단어 표현 + 중요도(가중치)\n",
    "  * DTM 내에 있는 각 단어에 대한 중요도를 계산\n",
    "  * TF 구현식이 기존 방식과 조금 다름"
   ]
  },
  {
   "cell_type": "code",
   "execution_count": null,
   "metadata": {
    "colab": {
     "base_uri": "https://localhost:8080/"
    },
    "id": "5OKrqhsGOnLK",
    "outputId": "fe30a968-83f4-4a94-a9da-29ac507c9063"
   },
   "outputs": [
    {
     "name": "stdout",
     "output_type": "stream",
     "text": [
      "[[0.   0.   0.85 0.85 1.1  0.   0.   0.   0.   0.  ]\n",
      " [0.   0.85 0.85 0.85 0.   0.   0.   0.   0.   0.  ]\n",
      " [0.   1.43 0.   0.   0.   1.1  1.1  0.   0.   0.  ]\n",
      " [0.   0.   0.   0.   0.   0.   0.   1.1  1.1  1.1 ]]\n"
     ]
    }
   ],
   "source": [
    "# 둘째 자리까지 반올림하여 출력\n",
    "print(tokenizer.texts_to_matrix(texts, mode = 'tfidf').round(2))"
   ]
  },
  {
   "cell_type": "markdown",
   "metadata": {
    "id": "IjWUx_syQS-e"
   },
   "source": [
    "#### (4) freq\n",
    "* $\\frac{단어 등장 횟수}{모든 단어의 개수}$\n",
    "* 예시 '길고 노란 바나나 바나나'\n",
    "  * 바나나: 2/4\n",
    "  * 길고, 노란: 1/4"
   ]
  },
  {
   "cell_type": "code",
   "execution_count": null,
   "metadata": {
    "colab": {
     "base_uri": "https://localhost:8080/"
    },
    "id": "Lb89TFRGOnI-",
    "outputId": "7616fe13-1107-4130-e0ce-c09e4e0645fe"
   },
   "outputs": [
    {
     "name": "stdout",
     "output_type": "stream",
     "text": [
      "[[0.   0.   0.33 0.33 0.33 0.   0.   0.   0.   0.  ]\n",
      " [0.   0.33 0.33 0.33 0.   0.   0.   0.   0.   0.  ]\n",
      " [0.   0.5  0.   0.   0.   0.25 0.25 0.   0.   0.  ]\n",
      " [0.   0.   0.   0.   0.   0.   0.   0.33 0.33 0.33]]\n"
     ]
    }
   ],
   "source": [
    "# 둘째 자리까지 반올림하여 출력\n",
    "print(tokenizer.texts_to_matrix(texts, mode = 'freq').round(2))"
   ]
  },
  {
   "cell_type": "markdown",
   "metadata": {
    "id": "D0frJfMII4-3"
   },
   "source": [
    "### 10.3. 20개 뉴스 그룹(Twenty Newsgroups) 데이터에 대한 이해\n",
    "* 사이킷런의 내장 데이터셋\n",
    "* 20개의 다른 주제를 가진 18,846개의 뉴스 그룹 이메일 데이터\n",
    "* 과제: 테스트 데이터에서 이메일 본문을 보고 20개의 주제 중 어떤 주제인지를 맞추는 것"
   ]
  },
  {
   "cell_type": "markdown",
   "metadata": {
    "id": "QALMZk9lX3MN"
   },
   "source": [
    "#### (1) 데이터 확인"
   ]
  },
  {
   "cell_type": "code",
   "execution_count": null,
   "metadata": {
    "id": "KtqdeWlCR7pv"
   },
   "outputs": [],
   "source": [
    "import pandas as pd\n",
    "from sklearn.datasets import fetch_20newsgroups\n",
    "import matplotlib.pyplot as plt\n",
    "from tensorflow.keras.preprocessing.text import Tokenizer\n",
    "from tensorflow.keras.utils import to_categorical\n",
    "\n",
    "# 'train'을 기재하면 훈련 데이터만 리턴 (all/train/test)\n",
    "newsdata = fetch_20newsgroups(subset='train')"
   ]
  },
  {
   "cell_type": "code",
   "execution_count": null,
   "metadata": {
    "colab": {
     "base_uri": "https://localhost:8080/"
    },
    "id": "8ap6biOZSRKU",
    "outputId": "05ff0814-36af-4756-cf8e-dd00d394dc32"
   },
   "outputs": [
    {
     "name": "stdout",
     "output_type": "stream",
     "text": [
      "데이터 속성: data filenames target_names target DESCR\n",
      "훈련용 샘플의 개수: 11314\n",
      "총 주제의 개수:  20\n"
     ]
    },
    {
     "data": {
      "text/plain": [
       "['alt.atheism',\n",
       " 'comp.graphics',\n",
       " 'comp.os.ms-windows.misc',\n",
       " 'comp.sys.ibm.pc.hardware',\n",
       " 'comp.sys.mac.hardware',\n",
       " 'comp.windows.x',\n",
       " 'misc.forsale',\n",
       " 'rec.autos',\n",
       " 'rec.motorcycles',\n",
       " 'rec.sport.baseball',\n",
       " 'rec.sport.hockey',\n",
       " 'sci.crypt',\n",
       " 'sci.electronics',\n",
       " 'sci.med',\n",
       " 'sci.space',\n",
       " 'soc.religion.christian',\n",
       " 'talk.politics.guns',\n",
       " 'talk.politics.mideast',\n",
       " 'talk.politics.misc',\n",
       " 'talk.religion.misc']"
      ]
     },
     "execution_count": 7,
     "metadata": {},
     "output_type": "execute_result"
    }
   ],
   "source": [
    "print('데이터 속성:', *newsdata.keys()) # data, target(target_name)\n",
    "print('훈련용 샘플의 개수:', len(newsdata.data))\n",
    "print('총 주제의 개수: ', len(newsdata.target_names))\n",
    "newsdata.target_names"
   ]
  },
  {
   "cell_type": "code",
   "execution_count": null,
   "metadata": {
    "colab": {
     "base_uri": "https://localhost:8080/"
    },
    "id": "5TEUNAASTSZr",
    "outputId": "bbbf00d7-fe2c-483a-96bc-8ea29fd0ac49"
   },
   "outputs": [
    {
     "name": "stdout",
     "output_type": "stream",
     "text": [
      "From: holmes7000@iscsvax.uni.edu\n",
      "Subject: WIn 3.0 ICON HELP PLEASE!\n",
      "Organization: University of Northern Iowa\n",
      "Lines: 10\n",
      "\n",
      "I have win 3.0 and downloaded several icons and BMP's but I can't figure out\n",
      "how to change the \"wallpaper\" or use the icons.  Any help would be appreciated.\n",
      "\n",
      "\n",
      "Thanx,\n",
      "\n",
      "-Brando\n",
      "\n",
      "PS Please E-mail me\n",
      "\n",
      "\n",
      "2 comp.os.ms-windows.misc\n"
     ]
    }
   ],
   "source": [
    "print(newsdata.data[8])\n",
    "print(newsdata.target[8], newsdata.target_names[2])"
   ]
  },
  {
   "cell_type": "markdown",
   "metadata": {
    "id": "xCcfBuNFS4Kw"
   },
   "source": [
    "#### (2) 데이터 EDA"
   ]
  },
  {
   "cell_type": "code",
   "execution_count": null,
   "metadata": {
    "colab": {
     "base_uri": "https://localhost:8080/",
     "height": 206
    },
    "id": "zPYA-pMhV9oe",
    "outputId": "70764955-23d0-4ce6-9388-73aef63872c2"
   },
   "outputs": [
    {
     "data": {
      "text/html": [
       "\n",
       "  <div id=\"df-0ba433ca-9a2a-4961-81ff-849116da3af9\">\n",
       "    <div class=\"colab-df-container\">\n",
       "      <div>\n",
       "<style scoped>\n",
       "    .dataframe tbody tr th:only-of-type {\n",
       "        vertical-align: middle;\n",
       "    }\n",
       "\n",
       "    .dataframe tbody tr th {\n",
       "        vertical-align: top;\n",
       "    }\n",
       "\n",
       "    .dataframe thead th {\n",
       "        text-align: right;\n",
       "    }\n",
       "</style>\n",
       "<table border=\"1\" class=\"dataframe\">\n",
       "  <thead>\n",
       "    <tr style=\"text-align: right;\">\n",
       "      <th></th>\n",
       "      <th>email</th>\n",
       "      <th>target</th>\n",
       "    </tr>\n",
       "  </thead>\n",
       "  <tbody>\n",
       "    <tr>\n",
       "      <th>0</th>\n",
       "      <td>From: lerxst@wam.umd.edu (where's my thing)\\nS...</td>\n",
       "      <td>7</td>\n",
       "    </tr>\n",
       "    <tr>\n",
       "      <th>1</th>\n",
       "      <td>From: guykuo@carson.u.washington.edu (Guy Kuo)...</td>\n",
       "      <td>4</td>\n",
       "    </tr>\n",
       "    <tr>\n",
       "      <th>2</th>\n",
       "      <td>From: twillis@ec.ecn.purdue.edu (Thomas E Will...</td>\n",
       "      <td>4</td>\n",
       "    </tr>\n",
       "    <tr>\n",
       "      <th>3</th>\n",
       "      <td>From: jgreen@amber (Joe Green)\\nSubject: Re: W...</td>\n",
       "      <td>1</td>\n",
       "    </tr>\n",
       "    <tr>\n",
       "      <th>4</th>\n",
       "      <td>From: jcm@head-cfa.harvard.edu (Jonathan McDow...</td>\n",
       "      <td>14</td>\n",
       "    </tr>\n",
       "  </tbody>\n",
       "</table>\n",
       "</div>\n",
       "      <button class=\"colab-df-convert\" onclick=\"convertToInteractive('df-0ba433ca-9a2a-4961-81ff-849116da3af9')\"\n",
       "              title=\"Convert this dataframe to an interactive table.\"\n",
       "              style=\"display:none;\">\n",
       "        \n",
       "  <svg xmlns=\"http://www.w3.org/2000/svg\" height=\"24px\"viewBox=\"0 0 24 24\"\n",
       "       width=\"24px\">\n",
       "    <path d=\"M0 0h24v24H0V0z\" fill=\"none\"/>\n",
       "    <path d=\"M18.56 5.44l.94 2.06.94-2.06 2.06-.94-2.06-.94-.94-2.06-.94 2.06-2.06.94zm-11 1L8.5 8.5l.94-2.06 2.06-.94-2.06-.94L8.5 2.5l-.94 2.06-2.06.94zm10 10l.94 2.06.94-2.06 2.06-.94-2.06-.94-.94-2.06-.94 2.06-2.06.94z\"/><path d=\"M17.41 7.96l-1.37-1.37c-.4-.4-.92-.59-1.43-.59-.52 0-1.04.2-1.43.59L10.3 9.45l-7.72 7.72c-.78.78-.78 2.05 0 2.83L4 21.41c.39.39.9.59 1.41.59.51 0 1.02-.2 1.41-.59l7.78-7.78 2.81-2.81c.8-.78.8-2.07 0-2.86zM5.41 20L4 18.59l7.72-7.72 1.47 1.35L5.41 20z\"/>\n",
       "  </svg>\n",
       "      </button>\n",
       "      \n",
       "  <style>\n",
       "    .colab-df-container {\n",
       "      display:flex;\n",
       "      flex-wrap:wrap;\n",
       "      gap: 12px;\n",
       "    }\n",
       "\n",
       "    .colab-df-convert {\n",
       "      background-color: #E8F0FE;\n",
       "      border: none;\n",
       "      border-radius: 50%;\n",
       "      cursor: pointer;\n",
       "      display: none;\n",
       "      fill: #1967D2;\n",
       "      height: 32px;\n",
       "      padding: 0 0 0 0;\n",
       "      width: 32px;\n",
       "    }\n",
       "\n",
       "    .colab-df-convert:hover {\n",
       "      background-color: #E2EBFA;\n",
       "      box-shadow: 0px 1px 2px rgba(60, 64, 67, 0.3), 0px 1px 3px 1px rgba(60, 64, 67, 0.15);\n",
       "      fill: #174EA6;\n",
       "    }\n",
       "\n",
       "    [theme=dark] .colab-df-convert {\n",
       "      background-color: #3B4455;\n",
       "      fill: #D2E3FC;\n",
       "    }\n",
       "\n",
       "    [theme=dark] .colab-df-convert:hover {\n",
       "      background-color: #434B5C;\n",
       "      box-shadow: 0px 1px 3px 1px rgba(0, 0, 0, 0.15);\n",
       "      filter: drop-shadow(0px 1px 2px rgba(0, 0, 0, 0.3));\n",
       "      fill: #FFFFFF;\n",
       "    }\n",
       "  </style>\n",
       "\n",
       "      <script>\n",
       "        const buttonEl =\n",
       "          document.querySelector('#df-0ba433ca-9a2a-4961-81ff-849116da3af9 button.colab-df-convert');\n",
       "        buttonEl.style.display =\n",
       "          google.colab.kernel.accessAllowed ? 'block' : 'none';\n",
       "\n",
       "        async function convertToInteractive(key) {\n",
       "          const element = document.querySelector('#df-0ba433ca-9a2a-4961-81ff-849116da3af9');\n",
       "          const dataTable =\n",
       "            await google.colab.kernel.invokeFunction('convertToInteractive',\n",
       "                                                     [key], {});\n",
       "          if (!dataTable) return;\n",
       "\n",
       "          const docLinkHtml = 'Like what you see? Visit the ' +\n",
       "            '<a target=\"_blank\" href=https://colab.research.google.com/notebooks/data_table.ipynb>data table notebook</a>'\n",
       "            + ' to learn more about interactive tables.';\n",
       "          element.innerHTML = '';\n",
       "          dataTable['output_type'] = 'display_data';\n",
       "          await google.colab.output.renderOutput(dataTable, element);\n",
       "          const docLink = document.createElement('div');\n",
       "          docLink.innerHTML = docLinkHtml;\n",
       "          element.appendChild(docLink);\n",
       "        }\n",
       "      </script>\n",
       "    </div>\n",
       "  </div>\n",
       "  "
      ],
      "text/plain": [
       "                                               email  target\n",
       "0  From: lerxst@wam.umd.edu (where's my thing)\\nS...       7\n",
       "1  From: guykuo@carson.u.washington.edu (Guy Kuo)...       4\n",
       "2  From: twillis@ec.ecn.purdue.edu (Thomas E Will...       4\n",
       "3  From: jgreen@amber (Joe Green)\\nSubject: Re: W...       1\n",
       "4  From: jcm@head-cfa.harvard.edu (Jonathan McDow...      14"
      ]
     },
     "execution_count": 9,
     "metadata": {},
     "output_type": "execute_result"
    }
   ],
   "source": [
    "data = pd.DataFrame(newsdata.data, columns = ['email'])\n",
    "data['target'] = pd.Series(newsdata.target)\n",
    "data.head()"
   ]
  },
  {
   "cell_type": "code",
   "execution_count": null,
   "metadata": {
    "colab": {
     "base_uri": "https://localhost:8080/"
    },
    "id": "A5v5G6KvWHLP",
    "outputId": "27075122-4346-4c2e-e1f8-89f463b3d87e"
   },
   "outputs": [
    {
     "name": "stdout",
     "output_type": "stream",
     "text": [
      "<class 'pandas.core.frame.DataFrame'>\n",
      "RangeIndex: 11314 entries, 0 to 11313\n",
      "Data columns (total 2 columns):\n",
      " #   Column  Non-Null Count  Dtype \n",
      "---  ------  --------------  ----- \n",
      " 0   email   11314 non-null  object\n",
      " 1   target  11314 non-null  int64 \n",
      "dtypes: int64(1), object(1)\n",
      "memory usage: 176.9+ KB\n",
      "None\n",
      "x: 11314\n",
      "y: 20\n"
     ]
    }
   ],
   "source": [
    "# non-null\n",
    "print(data.info())\n",
    "# unique value\n",
    "print('x:', data['email'].nunique())\n",
    "print('y:', data['target'].nunique())"
   ]
  },
  {
   "cell_type": "code",
   "execution_count": null,
   "metadata": {
    "colab": {
     "base_uri": "https://localhost:8080/",
     "height": 355
    },
    "id": "MxZAGpiRW1tq",
    "outputId": "67af1db6-bf12-420f-dfe3-a371c9f63903"
   },
   "outputs": [
    {
     "name": "stdout",
     "output_type": "stream",
     "text": [
      "target   0    1    2    3    4    5    6    7    8    9    10   11   12   13  \\\n",
      "email   480  584  591  590  578  593  585  594  598  597  600  595  591  594   \n",
      "\n",
      "target   14   15   16   17   18   19  \n",
      "email   593  599  546  564  465  377  \n"
     ]
    },
    {
     "data": {
      "image/png": "[encoded data removed]",
      "text/plain": [
       "<Figure size 432x288 with 1 Axes>"
      ]
     },
     "metadata": {
      "needs_background": "light"
     },
     "output_type": "display_data"
    }
   ],
   "source": [
    "# 타겟 값 분포\n",
    "data['target'].value_counts().plot(kind='bar');\n",
    "print(data.groupby('target').count().T)"
   ]
  },
  {
   "cell_type": "markdown",
   "metadata": {
    "id": "mWZOYgseX9XL"
   },
   "source": [
    "#### (3) 데이터 Split"
   ]
  },
  {
   "cell_type": "code",
   "execution_count": null,
   "metadata": {
    "id": "44TrF--eYDSI"
   },
   "outputs": [],
   "source": [
    "newsdata_test = fetch_20newsgroups(subset='test', shuffle=True)\n",
    "train_email = data['email']         # train feature\n",
    "train_label = data['target']        # train target\n",
    "test_email = newsdata_test.data     # test feature\n",
    "test_label = newsdata_test.target   # test target"
   ]
  },
  {
   "cell_type": "code",
   "execution_count": null,
   "metadata": {
    "id": "NbPL7jxnYXzj"
   },
   "outputs": [],
   "source": [
    "vocab_size = 10000  # max len\n",
    "num_classes = 20\n",
    "\n",
    "# 전처리 함수\n",
    "def prepare_data(train_data, test_data, mode):\n",
    "    tokenizer = Tokenizer(num_words = vocab_size) # vocab_size 만큼의 단어만 사용\n",
    "    tokenizer.fit_on_texts(train_data)            # 기준 fit\n",
    "    X_train = tokenizer.texts_to_matrix(train_data, mode=mode)  # data × vocab_size\n",
    "    X_test = tokenizer.texts_to_matrix(test_data, mode=mode)    # data × vocab_size\n",
    "    return X_train, X_test, tokenizer.index_word"
   ]
  },
  {
   "cell_type": "code",
   "execution_count": null,
   "metadata": {
    "id": "3fihZkIqZbgb"
   },
   "outputs": [],
   "source": [
    "# feature binary 모드로 변환\n",
    "X_train, X_test, index_to_word = prepare_data(train_email, test_email, 'binary')\n",
    "# target 원-핫 인코딩\n",
    "y_train = to_categorical(train_label, num_classes)\n",
    "y_test = to_categorical(test_label, num_classes)"
   ]
  },
  {
   "cell_type": "code",
   "execution_count": null,
   "metadata": {
    "colab": {
     "base_uri": "https://localhost:8080/"
    },
    "id": "BtoVFf0gazZr",
    "outputId": "32646aa9-8c24-4bb1-e87c-dc616c0fc7aa"
   },
   "outputs": [
    {
     "name": "stdout",
     "output_type": "stream",
     "text": [
      "train feature: (11314, 10000)\n",
      "train target: (11314, 20)\n",
      "test feature: (7532, 10000)\n",
      "test target: (7532, 20)\n"
     ]
    }
   ],
   "source": [
    "print('train feature:', X_train.shape)\n",
    "print('train target:', y_train.shape)\n",
    "print('test feature:', X_test.shape)\n",
    "print('test target:', y_test.shape)"
   ]
  },
  {
   "cell_type": "code",
   "execution_count": null,
   "metadata": {
    "colab": {
     "base_uri": "https://localhost:8080/"
    },
    "id": "_ipuznSmccsB",
    "outputId": "6dd334f4-1e9f-40c1-f37e-33e2608cc9e4"
   },
   "outputs": [
    {
     "name": "stdout",
     "output_type": "stream",
     "text": [
      "빈도수 상위 5: ['the', 'to', 'of', 'a', \"'ax\"]\n",
      "빈도수 하위 5: ['atterlep', 'fairing', 'informative', 'nyu', 'mic']\n"
     ]
    }
   ],
   "source": [
    "print('빈도수 상위 5:',[index_to_word[i] for i in range(1, 6)])\n",
    "print('빈도수 하위 5:',[index_to_word[i] for i in range(vocab_size-5, vocab_size)])"
   ]
  },
  {
   "cell_type": "markdown",
   "metadata": {
    "id": "GGDDiEtDI43e"
   },
   "source": [
    "### 10.4. 다층 퍼셉트론(Multilayer Perceptron, MLP)을 사용하여 텍스트 분류하기\n",
    "\n",
    "* 입력값을 바꿔가면서 모델을 여러번 호출 -> 함수 정의"
   ]
  },
  {
   "cell_type": "code",
   "execution_count": null,
   "metadata": {
    "id": "kWSFTsitU7wS"
   },
   "outputs": [],
   "source": [
    "from tensorflow.keras.models import Sequential\n",
    "from tensorflow.keras.layers import Dense, Dropout\n",
    "\n",
    "def fit_and_evaluate(X_train, y_train, X_test, y_test):\n",
    "    model = Sequential()\n",
    "    model.add(Dense(256, input_shape=(vocab_size,), activation='relu'))\n",
    "    model.add(Dropout(0.5))\n",
    "    model.add(Dense(128, activation='relu'))\n",
    "    model.add(Dropout(0.5))\n",
    "    model.add(Dense(num_classes, activation='softmax'))\n",
    "\n",
    "    model.compile(loss='categorical_crossentropy', optimizer='adam', \n",
    "                  metrics=['accuracy'])\n",
    "    model.fit(X_train, y_train, batch_size=128, epochs=5,\n",
    "              verbose=0, validation_split=0.1)\n",
    "    score = model.evaluate(X_test, y_test, batch_size=128, verbose=0)\n",
    "    return score[1]"
   ]
  },
  {
   "cell_type": "markdown",
   "metadata": {
    "id": "7TbyT01aWSyX"
   },
   "source": [
    "![img](https://wikidocs.net/images/page/49071/multilayerperceptron.PNG)\n",
    "* 총 4개의 층\n",
    "  * vocab_size 크기(10000)의 입력층\n",
    "  * 256개 뉴런의 은닉층1 (relu)\n",
    "  * 128개 뉴런의 은닉층2 (relu)\n",
    "  * num_classes 크기(20)의 출력층 \n",
    "* 과적합 방지: 두 번의 드롭 아웃\n",
    "* 다중 분류\n",
    "  * 소프트 맥스 함수\n",
    "  * 카테고리컬 크로스 엔트로피 (손실 함수)\n",
    "* 은닉층이 2개이므로 깊은 신경망(Deep Neural Network, DNN)\n"
   ]
  },
  {
   "cell_type": "code",
   "execution_count": null,
   "metadata": {
    "colab": {
     "base_uri": "https://localhost:8080/"
    },
    "id": "hBtRPSdJatQn",
    "outputId": "ef5dee63-aa77-4fef-a585-0577c07f6073"
   },
   "outputs": [
    {
     "name": "stdout",
     "output_type": "stream",
     "text": [
      "binary 모드의 테스트 정확도: 0.827\n",
      "count 모드의 테스트 정확도: 0.823\n",
      "tfidf 모드의 테스트 정확도: 0.832\n",
      "freq 모드의 테스트 정확도: 0.702\n"
     ]
    }
   ],
   "source": [
    "# texts_to_matrix의 4가지 모드\n",
    "modes = ['binary', 'count', 'tfidf', 'freq']\n",
    "\n",
    "for mode in modes:\n",
    "    # 모드에 따라서 데이터를 전처리\n",
    "    X_train, X_test, _ = prepare_data(train_email, test_email, mode)\n",
    "    # 모델을 훈련하고 평가\n",
    "    score = fit_and_evaluate(X_train, y_train, X_test, y_test)\n",
    "    print(f'{mode} 모드의 테스트 정확도: {round(score, 3)}')"
   ]
  },
  {
   "cell_type": "markdown",
   "metadata": {
    "id": "jTbfLvaIg6_e"
   },
   "source": [
    "* 82% ~ 83%의 비슷한 정확도\n",
    "* freq 모드에서만 정확도가 70%\n",
    "* freq 모드는 이번 문제를 풀기위한 적절한 전처리 방법이 아님\n",
    "---"
   ]
  },
  {
   "cell_type": "markdown",
   "metadata": {
    "id": "ST4fa81fI4pR",
    "tags": []
   },
   "source": [
    "## 11) 피드 포워드 신경망 언어 모델(Neural Network Language Model, NNLM)\n",
    "\n",
    "* 배경 지식\n",
    "  * 과거 기계가 자연어를 학습하게 하는 방법으로 통계적인 접근을 사용\n",
    "    * 통계적 언어 모델(Statistical Language Model, SLM)\n",
    "  * 최근에는 인공 신경망을 사용하는 방법이 자연어 처리에서 더 좋은 성능\n",
    "    * 자연어 생성(Natural Language Generation, NLG)\n",
    "  * 통계적 언어 모델에서 다양한 구조의 인공 신경망을 사용한 언어 모델들로 대체\n",
    "\n",
    "* 피드 포워드 신경망 언어 모델(Feed Forward Neural Network Language Model)\n",
    "  * 신경망 언어 모델의 시초 NNLM\n",
    "  * RNNLM, BiLM 등 보다 발전된 신경망 언어 모델들을 배우기 전 시초를 훑자"
   ]
  },
  {
   "cell_type": "markdown",
   "metadata": {
    "id": "KSGi2cI0JMWB"
   },
   "source": [
    "### 11.1. 기존 N-gram 언어 모델의 한계\n",
    "\n",
    "* 언어 모델은 문장에 확률을 할당하는 모델\n",
    "* 주어진 문맥으로부터 아직 모르는 단어를 예측하는 것을 언어 모델링이라 함\n",
    "* N-gram 예시\n",
    "  ```python \n",
    "  # 다음 단어 예측하기\n",
    "  An adorable little boy is spreading _____\n",
    "  ```\n",
    "  - 바이그램 : \n",
    "      - (An adorable) 하고 little 예측,\n",
    "      - (adorable little) 하고 boy 예측\n",
    "\n",
    "  * 언어 모델링에 바로 앞 n-1개의 단어를 참고\n",
    "  * 4-gram 언어 모델이라고 가정. 모델은 바로 앞 3개의 단어만 참고\n",
    "  * 빈 칸 예측에 사용되는 단어는 boy, is, spreading\n",
    "\n",
    " \n",
    "$$P(w|boy, is, spreading)=\\frac{count(boy, is, spreading, w)}{count(boy, is, spreading)}$$\n",
    "\n",
    "  * boy is spreading가 1000번, boy is spreading insults가 500번, boy is spreading smiles가 200번 등장\n",
    "    * P(insults | boy is spreading) = 0.500\n",
    "    * P(smiles | boy is spreading) = 0.200\n",
    "\n",
    "* 희소 문제(sparsity problem)\n",
    "  * n-gram 언어 모델은 충분한 데이터를 관측하지 못하면 언어를 정확히 모델링하지 못함\n",
    "  * boy is spreading smile라는 단어 시퀀스가 존재하지 않으면 n-gram 언어 모델에서 해당 단어 시퀀스의 확률은 0\n",
    "  * 언어 모델이 판단하기에 boy is spreading 다음에는 smiles이란 단어가 나올 수 없다는 의미\n",
    "  * 해당 단어 시퀀스는 현실에서 존재 가능한 시퀀스이므로 적절한 모델링이 아님"
   ]
  },
  {
   "cell_type": "markdown",
   "metadata": {
    "id": "17AU8xN_JPhm"
   },
   "source": [
    "### 11.2. 단어의 의미적 유사성\n",
    "\n",
    "* **희소 문제**는 기계가 단어의 의미적 유사성을 알수 있다면 해결할 수 있는 문제\n",
    "  * `...발표 자료를 살펴보다...`\n",
    "  * p(살펴보다|발표 자료를) = 0.n\n",
    "  * p(훑어보다|발표 자료를) = ~0~ -> 0.m\n",
    "* 언어 모델 또한 단어의 의미적 유사성을 학습할 수 있도록 설계 목표\n",
    "* 코퍼스에 없는 단어에 대한 예측이라도 **유사 단어**의 시퀀스를 참고하여 예측 정확도 보정\n",
    "  * **NNLM 신경망**\n",
    "  * 워드 임베딩 (벡터간 유사도)"
   ]
  },
  {
   "cell_type": "markdown",
   "metadata": {
    "id": "9EqLohJ3JRXZ"
   },
   "source": [
    "### 11.3. 피드 포워드 신경망 언어 모델(NNLM)"
   ]
  },
  {
   "cell_type": "markdown",
   "metadata": {
    "id": "QZ4nbigIGfJx"
   },
   "source": [
    "#### (1) 예문 : \"what will the fat cat sit on\"\n",
    "  * 언어 모델은 주어진 단어 시퀀스로부터 다음 단어를 예측\n",
    "  * what will the fat cat __ => sit 을 예측\n"
   ]
  },
  {
   "cell_type": "markdown",
   "metadata": {
    "id": "Qgn2tjzxrMp8"
   },
   "source": [
    "#### (2) 기계가 단어를 인식할 수 있도록 모든 단어 수치화 (인코딩)\n",
    "  ```python\n",
    "  # 원 핫 인코딩\n",
    "  what = [1, 0, 0, 0, 0, 0, 0]\n",
    "  will = [0, 1, 0, 0, 0, 0, 0]\n",
    "  the = [0, 0, 1, 0, 0, 0, 0]\n",
    "  fat = [0, 0, 0, 1, 0, 0, 0]\n",
    "  cat = [0, 0, 0, 0, 1, 0, 0]\n",
    "  sit = [0, 0, 0, 0, 0, 1, 0]\n",
    "  on = [0, 0, 0, 0, 0, 0, 1]\n",
    "  ```\n",
    "  * NNLM의 입력이면서 예측을 위한 레이블\n",
    "  * what will the fat cat 입력 => sit 예측"
   ]
  },
  {
   "cell_type": "markdown",
   "metadata": {
    "id": "WIMRZV7JrOs3",
    "jp-MarkdownHeadingCollapsed": true,
    "tags": []
   },
   "source": [
    "#### (3) NNLM 훈련\n",
    "  * NNLM은 정해진 개수(**window**)의 단어만을 참고하여 예측 (n-gram과 동일)\n",
    "  \n",
    "  ![img](https://wikidocs.net/images/page/45609/nnlm1.PNG)\n",
    "  * 4개의 단어 입력 => 다중 클래스 예측(오차 발생) => 학습(손실 함수에 따라 parameter 조정)\n",
    "  * Input Layer (입력층)\n",
    "    * 윈도우 4, 원 핫 인코딩 입력\n",
    "  * Projection Layer (투사층)\n",
    "  \n",
    "  ![img](https://wikidocs.net/images/page/45609/nnlm2_renew.PNG)\n",
    "    * fat을 의미하는 원-핫 벡터 X fat\n",
    "    * W (가중치)\n",
    "      * 단어 집합의 크기 V(7), 투사층의 크기 M(5)\n",
    "      * 투사층: 가중치 행렬과의 곱셈은 이루어지지만 활성화 함수가 존재하지 않음\n",
    "      * 룩업 테이블\u001f: 원-핫 벡터와 가중치 W 행렬의 곱은 사실 W행렬의 i번째 행을 그대로 읽어오는 것과(lookup) 동일\n",
    "    * 룩업 테이블 과정을 거친 임베딩 벡터 e fat\n",
    "      * 임베딩 벡터: 초기 랜덤한 값을 가지지만 학습 과정에서 값이 변경되는 벡터\n",
    "    * 각 단어가 테이블 룩업을 통해 임베딩 벡터로 변경되고, 투사층에서 모든 임베딩 벡터들의 값은 연결(concatenate) \n",
    "    \n",
    "    ![img](https://wikidocs.net/images/page/45609/nnlm3_renew.PNG)\n",
    "  * Hidden Layer (은닉층)\n",
    "    * 은닉층의 입력은 가중치 곱해진 후 편향이 더해져 활성화 함수의 입력\n",
    "  * Output Layer (출력층)\n",
    "\n",
    "    ![img](https://wikidocs.net/images/page/45609/nnlm5_final.PNG)\n",
    "    * 은닉층의 출력은 V의 크기\n",
    "    * 출력층 활성화 함수: 소프트맥스(softmax)\n",
    "      * 벡터의 각 원소는 0과 1사이의 실수값을 가지며 총 합은 1\n",
    "    * 손실 함수: 크로스 엔트로피(cross-entropy) 함수\n",
    "      * 역전파를 통해 가중치 행렬(투사층 + 은닉층)들이 학습"
   ]
  },
  {
   "cell_type": "markdown",
   "metadata": {
    "id": "mB4_i_RXdMwx"
   },
   "source": [
    "#### (4) 의의\n",
    "* 만약 충분한 훈련 데이터가 있다면? \n",
    "  * 충분한 양의 훈련 코퍼스를 위와 같은 과정으로 학습\n",
    "  * 수많은 문장에서 유사한 목적으로 사용되는 단어들은 결국 유사한 임베딩 벡터값을 얻음\n",
    "  * 훈련이 끝난 후 다음 단어를 예측 과정에서 훈련 코퍼스에서 없던 단어 시퀀스라 하더라도 다음 단어를 선택이 가능\n",
    "\n",
    "* 단어 간 유사도를 구하는 임베딩 벡터의 아이디어\n",
    "  * Word2Vec, FastText, GloVe 등으로 발전\n",
    "  * 워드 임베딩 챕터에서 자세히 다룸"
   ]
  },
  {
   "cell_type": "markdown",
   "metadata": {
    "id": "DtiXJT5AJUJQ"
   },
   "source": [
    "### 11.4. NNLM의 이점과 한계\n",
    "* NNLM은 기존 n-gram 언어 모델의 한계를 개선"
   ]
  },
  {
   "cell_type": "markdown",
   "metadata": {
    "id": "fIt4MFd9rYsu"
   },
   "source": [
    "#### (1) 이점: 기존 모델에서의 개선점\n",
    "1. NNLM은 단어를 표현하기 위해 **임베딩 벡터**를 사용하므로서 **단어의 유사도**를 계산\n",
    "2. 이를 통해 희소 문제(sparsity problem)를 해결"
   ]
  },
  {
   "cell_type": "markdown",
   "metadata": {
    "id": "c0wCYqsWrh0y"
   },
   "source": [
    "#### (2) 고정된 길이의 입력(Fixed-length input)\n",
    "* n-gram과 같이 정해진 n개의 단어만을 참고 (window)\n",
    "* 한계를 극복할 수 있는 언어 모델 존재\n",
    "  * RNN(Recurrent Neural Network) 언어 모델\n",
    "---"
   ]
  }
 ],
 "metadata": {
  "colab": {
   "authorship_tag": "ABX9TyNAEvkEzJKt1vDnxi6tXqWh",
   "collapsed_sections": [],
   "include_colab_link": true,
   "name": "Deep Learning.ipynb",
   "provenance": [],
   "toc_visible": true
  },
  "kernelspec": {
   "display_name": "imok",
   "language": "python",
   "name": "imok"
  },
  "language_info": {
   "codemirror_mode": {
    "name": "ipython",
    "version": 3
   },
   "file_extension": ".py",
   "mimetype": "text/x-python",
   "name": "python",
   "nbconvert_exporter": "python",
   "pygments_lexer": "ipython3",
   "version": "3.9.10"
  }
 },
 "nbformat": 4,
 "nbformat_minor": 4
}
