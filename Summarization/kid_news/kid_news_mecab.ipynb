{
 "cells": [
  {
   "cell_type": "markdown",
   "id": "559c4dec-e014-4477-977a-890f93f8da4c",
   "metadata": {},
   "source": [
    "# 📰 어린이 뉴스 데이터 요약패턴 개발"
   ]
  },
  {
   "cell_type": "markdown",
   "id": "ad0e241b-184f-4584-9ec4-89a4ace5bd13",
   "metadata": {},
   "source": [
    "## 1. data import"
   ]
  },
  {
   "cell_type": "code",
   "execution_count": 1,
   "id": "f0723b47-09a0-4d22-b0f7-ff845236eb3b",
   "metadata": {},
   "outputs": [],
   "source": [
    "import pandas as pd\n",
    "import numpy as np\n",
    "import re\n",
    "\n",
    "import warnings\n",
    "warnings.filterwarnings(action='ignore')"
   ]
  },
  {
   "cell_type": "code",
   "execution_count": 2,
   "id": "725d11b9-924f-4a48-8fee-fe8db349e9f4",
   "metadata": {},
   "outputs": [],
   "source": [
    "df = pd.read_csv('./kid_news.csv', index_col=[0])"
   ]
  },
  {
   "cell_type": "code",
   "execution_count": 3,
   "id": "8bb2b666-f875-4126-8e7a-a4bd12afbc6c",
   "metadata": {},
   "outputs": [
    {
     "data": {
      "text/html": [
       "<div>\n",
       "<style scoped>\n",
       "    .dataframe tbody tr th:only-of-type {\n",
       "        vertical-align: middle;\n",
       "    }\n",
       "\n",
       "    .dataframe tbody tr th {\n",
       "        vertical-align: top;\n",
       "    }\n",
       "\n",
       "    .dataframe thead th {\n",
       "        text-align: right;\n",
       "    }\n",
       "</style>\n",
       "<table border=\"1\" class=\"dataframe\">\n",
       "  <thead>\n",
       "    <tr style=\"text-align: right;\">\n",
       "      <th></th>\n",
       "      <th>news_title</th>\n",
       "      <th>news_subtitle</th>\n",
       "      <th>news_article</th>\n",
       "      <th>news_url</th>\n",
       "    </tr>\n",
       "  </thead>\n",
       "  <tbody>\n",
       "    <tr>\n",
       "      <th>0</th>\n",
       "      <td>[세상 속으로] \"러시아 고양이는 안 됩니다\"</td>\n",
       "      <td>국제고양이연맹, '월드 캣 쇼'서 퇴출</td>\n",
       "      <td>전 세계가 우크라이나를 침공(侵攻)한 러시아에 각종 제재를 가하고 있다. 이에 러시...</td>\n",
       "      <td>http://kid.chosun.com/site/data/html_dir/2022/...</td>\n",
       "    </tr>\n",
       "    <tr>\n",
       "      <th>1</th>\n",
       "      <td>[뉴스탐험대] 홀로 1000㎞… 우크라 國境&lt;국경&gt; 탈출한 11세 소년</td>\n",
       "      <td>NaN</td>\n",
       "      <td>우크라이나 소년이 홀로 국경(國境)을 넘은 뭉클한 연이 전해졌다. 영국 매체 가디언...</td>\n",
       "      <td>http://kid.chosun.com/site/data/html_dir/2022/...</td>\n",
       "    </tr>\n",
       "    <tr>\n",
       "      <th>2</th>\n",
       "      <td>[뉴스탐험대] 온라인 쇼핑몰 '니켈·납투성이 장신구' 주의</td>\n",
       "      <td>NaN</td>\n",
       "      <td>온라인 쇼핑몰에서 '무(無)알러지' '무니켈 도금' 등으로 홍보·판매되는 액세서리에...</td>\n",
       "      <td>http://kid.chosun.com/site/data/html_dir/2022/...</td>\n",
       "    </tr>\n",
       "    <tr>\n",
       "      <th>3</th>\n",
       "      <td>[뉴스탐험대] \"코로나에 강한 혈액형 있다\"… O형, 위험 최저</td>\n",
       "      <td>NaN</td>\n",
       "      <td>혈액형이 O형(型)인 람이 코로나 바이러스 감염 시 망·위중증 위험이 다른 혈액형보...</td>\n",
       "      <td>http://kid.chosun.com/site/data/html_dir/2022/...</td>\n",
       "    </tr>\n",
       "    <tr>\n",
       "      <th>4</th>\n",
       "      <td>잡히지 않는 火魔&lt;화마&gt;… 문화재 등 대규모 피해</td>\n",
       "      <td>서울 면적 4분의 1 이상 불타</td>\n",
       "      <td>최근 발생한 동해안 지역 대규모 산불로 인해 막대한 산림(山林) 피해가 우려되고 있...</td>\n",
       "      <td>http://kid.chosun.com/site/data/html_dir/2022/...</td>\n",
       "    </tr>\n",
       "  </tbody>\n",
       "</table>\n",
       "</div>"
      ],
      "text/plain": [
       "                                news_title          news_subtitle  \\\n",
       "0                [세상 속으로] \"러시아 고양이는 안 됩니다\"  국제고양이연맹, '월드 캣 쇼'서 퇴출   \n",
       "1  [뉴스탐험대] 홀로 1000㎞… 우크라 國境<국경> 탈출한 11세 소년                    NaN   \n",
       "2         [뉴스탐험대] 온라인 쇼핑몰 '니켈·납투성이 장신구' 주의                    NaN   \n",
       "3      [뉴스탐험대] \"코로나에 강한 혈액형 있다\"… O형, 위험 최저                    NaN   \n",
       "4              잡히지 않는 火魔<화마>… 문화재 등 대규모 피해      서울 면적 4분의 1 이상 불타   \n",
       "\n",
       "                                        news_article  \\\n",
       "0  전 세계가 우크라이나를 침공(侵攻)한 러시아에 각종 제재를 가하고 있다. 이에 러시...   \n",
       "1  우크라이나 소년이 홀로 국경(國境)을 넘은 뭉클한 연이 전해졌다. 영국 매체 가디언...   \n",
       "2  온라인 쇼핑몰에서 '무(無)알러지' '무니켈 도금' 등으로 홍보·판매되는 액세서리에...   \n",
       "3  혈액형이 O형(型)인 람이 코로나 바이러스 감염 시 망·위중증 위험이 다른 혈액형보...   \n",
       "4  최근 발생한 동해안 지역 대규모 산불로 인해 막대한 산림(山林) 피해가 우려되고 있...   \n",
       "\n",
       "                                            news_url  \n",
       "0  http://kid.chosun.com/site/data/html_dir/2022/...  \n",
       "1  http://kid.chosun.com/site/data/html_dir/2022/...  \n",
       "2  http://kid.chosun.com/site/data/html_dir/2022/...  \n",
       "3  http://kid.chosun.com/site/data/html_dir/2022/...  \n",
       "4  http://kid.chosun.com/site/data/html_dir/2022/...  "
      ]
     },
     "execution_count": 3,
     "metadata": {},
     "output_type": "execute_result"
    }
   ],
   "source": [
    "# 어린이 뉴스 파일을 load\n",
    "df.head()"
   ]
  },
  {
   "cell_type": "code",
   "execution_count": 4,
   "id": "773848c8-1fa6-412e-9203-055786af783e",
   "metadata": {},
   "outputs": [
    {
     "data": {
      "text/html": [
       "<div>\n",
       "<style scoped>\n",
       "    .dataframe tbody tr th:only-of-type {\n",
       "        vertical-align: middle;\n",
       "    }\n",
       "\n",
       "    .dataframe tbody tr th {\n",
       "        vertical-align: top;\n",
       "    }\n",
       "\n",
       "    .dataframe thead th {\n",
       "        text-align: right;\n",
       "    }\n",
       "</style>\n",
       "<table border=\"1\" class=\"dataframe\">\n",
       "  <thead>\n",
       "    <tr style=\"text-align: right;\">\n",
       "      <th></th>\n",
       "      <th>news_title</th>\n",
       "      <th>news_subtitle</th>\n",
       "      <th>news_article</th>\n",
       "    </tr>\n",
       "  </thead>\n",
       "  <tbody>\n",
       "    <tr>\n",
       "      <th>0</th>\n",
       "      <td>[세상 속으로] \"러시아 고양이는 안 됩니다\"</td>\n",
       "      <td>국제고양이연맹, '월드 캣 쇼'서 퇴출</td>\n",
       "      <td>전 세계가 우크라이나를 침공(侵攻)한 러시아에 각종 제재를 가하고 있다. 이에 러시...</td>\n",
       "    </tr>\n",
       "    <tr>\n",
       "      <th>1</th>\n",
       "      <td>[뉴스탐험대] 홀로 1000㎞… 우크라 國境&lt;국경&gt; 탈출한 11세 소년</td>\n",
       "      <td>NaN</td>\n",
       "      <td>우크라이나 소년이 홀로 국경(國境)을 넘은 뭉클한 연이 전해졌다. 영국 매체 가디언...</td>\n",
       "    </tr>\n",
       "    <tr>\n",
       "      <th>2</th>\n",
       "      <td>[뉴스탐험대] 온라인 쇼핑몰 '니켈·납투성이 장신구' 주의</td>\n",
       "      <td>NaN</td>\n",
       "      <td>온라인 쇼핑몰에서 '무(無)알러지' '무니켈 도금' 등으로 홍보·판매되는 액세서리에...</td>\n",
       "    </tr>\n",
       "    <tr>\n",
       "      <th>3</th>\n",
       "      <td>[뉴스탐험대] \"코로나에 강한 혈액형 있다\"… O형, 위험 최저</td>\n",
       "      <td>NaN</td>\n",
       "      <td>혈액형이 O형(型)인 람이 코로나 바이러스 감염 시 망·위중증 위험이 다른 혈액형보...</td>\n",
       "    </tr>\n",
       "    <tr>\n",
       "      <th>4</th>\n",
       "      <td>잡히지 않는 火魔&lt;화마&gt;… 문화재 등 대규모 피해</td>\n",
       "      <td>서울 면적 4분의 1 이상 불타</td>\n",
       "      <td>최근 발생한 동해안 지역 대규모 산불로 인해 막대한 산림(山林) 피해가 우려되고 있...</td>\n",
       "    </tr>\n",
       "    <tr>\n",
       "      <th>...</th>\n",
       "      <td>...</td>\n",
       "      <td>...</td>\n",
       "      <td>...</td>\n",
       "    </tr>\n",
       "    <tr>\n",
       "      <th>1670</th>\n",
       "      <td>돼지 뇌에 컴퓨터 칩 연결… 생각만으로 기계 움직일 수 있을까?</td>\n",
       "      <td>NaN</td>\n",
       "      <td>머스크, 유튜브에 실험 돼지 '거트루드' 공개 \"뇌 질환 치료 도움… 올해 안에 람...</td>\n",
       "    </tr>\n",
       "    <tr>\n",
       "      <th>1671</th>\n",
       "      <td>탑승형 로봇 '프로스테시스' 조종사를 뽑습니다!</td>\n",
       "      <td>NaN</td>\n",
       "      <td>람의 팔다리에 연결해 조종 \"로봇 활용한 경주 스포츠 만들 것\" 람이 탑승한 로봇끼...</td>\n",
       "    </tr>\n",
       "    <tr>\n",
       "      <th>1672</th>\n",
       "      <td>모험 떠날 준비 됐니? 그럼, 책장을 펼쳐봐!</td>\n",
       "      <td>NaN</td>\n",
       "      <td>띵똥! 선물이 도착했습니다. 판타지 소설 '해리포터'의 작가 조앤 롤링(55·영국)...</td>\n",
       "    </tr>\n",
       "    <tr>\n",
       "      <th>1673</th>\n",
       "      <td>방탄소년단·블랙핑크, 세계 음원시장 '올킬'</td>\n",
       "      <td>NaN</td>\n",
       "      <td>아이돌 그룹 방탄소년단(BTS)과 블랙핑크가 세계 무대를 뒤흔들고 있다. 글로벌 시...</td>\n",
       "    </tr>\n",
       "    <tr>\n",
       "      <th>1674</th>\n",
       "      <td>알파고가 이세돌 9단을 이긴 건 '딥러닝' 덕분이지</td>\n",
       "      <td>NaN</td>\n",
       "      <td>'인공 지능 의'가 있는 병원을 상상한 적 있니? 놀랍게도 벌써 우리나라 한 병원에...</td>\n",
       "    </tr>\n",
       "  </tbody>\n",
       "</table>\n",
       "<p>1675 rows × 3 columns</p>\n",
       "</div>"
      ],
      "text/plain": [
       "                                   news_title          news_subtitle  \\\n",
       "0                   [세상 속으로] \"러시아 고양이는 안 됩니다\"  국제고양이연맹, '월드 캣 쇼'서 퇴출   \n",
       "1     [뉴스탐험대] 홀로 1000㎞… 우크라 國境<국경> 탈출한 11세 소년                    NaN   \n",
       "2            [뉴스탐험대] 온라인 쇼핑몰 '니켈·납투성이 장신구' 주의                    NaN   \n",
       "3         [뉴스탐험대] \"코로나에 강한 혈액형 있다\"… O형, 위험 최저                    NaN   \n",
       "4                 잡히지 않는 火魔<화마>… 문화재 등 대규모 피해      서울 면적 4분의 1 이상 불타   \n",
       "...                                       ...                    ...   \n",
       "1670      돼지 뇌에 컴퓨터 칩 연결… 생각만으로 기계 움직일 수 있을까?                    NaN   \n",
       "1671               탑승형 로봇 '프로스테시스' 조종사를 뽑습니다!                    NaN   \n",
       "1672                모험 떠날 준비 됐니? 그럼, 책장을 펼쳐봐!                    NaN   \n",
       "1673                 방탄소년단·블랙핑크, 세계 음원시장 '올킬'                    NaN   \n",
       "1674             알파고가 이세돌 9단을 이긴 건 '딥러닝' 덕분이지                    NaN   \n",
       "\n",
       "                                           news_article  \n",
       "0     전 세계가 우크라이나를 침공(侵攻)한 러시아에 각종 제재를 가하고 있다. 이에 러시...  \n",
       "1     우크라이나 소년이 홀로 국경(國境)을 넘은 뭉클한 연이 전해졌다. 영국 매체 가디언...  \n",
       "2     온라인 쇼핑몰에서 '무(無)알러지' '무니켈 도금' 등으로 홍보·판매되는 액세서리에...  \n",
       "3     혈액형이 O형(型)인 람이 코로나 바이러스 감염 시 망·위중증 위험이 다른 혈액형보...  \n",
       "4     최근 발생한 동해안 지역 대규모 산불로 인해 막대한 산림(山林) 피해가 우려되고 있...  \n",
       "...                                                 ...  \n",
       "1670  머스크, 유튜브에 실험 돼지 '거트루드' 공개 \"뇌 질환 치료 도움… 올해 안에 람...  \n",
       "1671  람의 팔다리에 연결해 조종 \"로봇 활용한 경주 스포츠 만들 것\" 람이 탑승한 로봇끼...  \n",
       "1672  띵똥! 선물이 도착했습니다. 판타지 소설 '해리포터'의 작가 조앤 롤링(55·영국)...  \n",
       "1673  아이돌 그룹 방탄소년단(BTS)과 블랙핑크가 세계 무대를 뒤흔들고 있다. 글로벌 시...  \n",
       "1674  '인공 지능 의'가 있는 병원을 상상한 적 있니? 놀랍게도 벌써 우리나라 한 병원에...  \n",
       "\n",
       "[1675 rows x 3 columns]"
      ]
     },
     "execution_count": 4,
     "metadata": {},
     "output_type": "execute_result"
    }
   ],
   "source": [
    "df.iloc[:, :3]"
   ]
  },
  {
   "cell_type": "code",
   "execution_count": 5,
   "id": "e3aa8c9b-ff88-444a-9d20-dc20e2223a16",
   "metadata": {},
   "outputs": [
    {
     "name": "stdout",
     "output_type": "stream",
     "text": [
      "['news_title', 'news_subtitle', 'news_article', 'news_url']\n",
      "(1675, 4)\n"
     ]
    }
   ],
   "source": [
    "# 데이터 형태 확인\n",
    "print(list(df.columns))\n",
    "print(df.shape)"
   ]
  },
  {
   "cell_type": "markdown",
   "id": "7f0ff861-f6fe-4d04-a631-c06390c52c89",
   "metadata": {},
   "source": [
    "---"
   ]
  },
  {
   "cell_type": "markdown",
   "id": "fed3f70a-24c3-4ccb-9ee4-967e4865befe",
   "metadata": {
    "tags": []
   },
   "source": [
    "## 2. 데이터 전처리(Data Preprocessing)"
   ]
  },
  {
   "cell_type": "markdown",
   "id": "903c43ed-771c-47d3-a168-43d8737785bd",
   "metadata": {},
   "source": [
    "### 결측치 확인"
   ]
  },
  {
   "cell_type": "code",
   "execution_count": 6,
   "id": "74c67791-be3e-4491-9741-016fa06aba8f",
   "metadata": {},
   "outputs": [
    {
     "name": "stdout",
     "output_type": "stream",
     "text": [
      "<class 'pandas.core.frame.DataFrame'>\n",
      "Int64Index: 1675 entries, 0 to 1674\n",
      "Data columns (total 4 columns):\n",
      " #   Column         Non-Null Count  Dtype \n",
      "---  ------         --------------  ----- \n",
      " 0   news_title     1675 non-null   object\n",
      " 1   news_subtitle  403 non-null    object\n",
      " 2   news_article   1636 non-null   object\n",
      " 3   news_url       1675 non-null   object\n",
      "dtypes: object(4)\n",
      "memory usage: 65.4+ KB\n"
     ]
    }
   ],
   "source": [
    "# 데이터 정보를 확인\n",
    "df.info()"
   ]
  },
  {
   "cell_type": "code",
   "execution_count": 7,
   "id": "11152d74-5656-43a1-8e71-150721a40990",
   "metadata": {},
   "outputs": [
    {
     "data": {
      "text/plain": [
       "news_title          0\n",
       "news_subtitle    1272\n",
       "news_article       39\n",
       "news_url            0\n",
       "dtype: int64"
      ]
     },
     "execution_count": 7,
     "metadata": {},
     "output_type": "execute_result"
    }
   ],
   "source": [
    "# 결측값 확인\n",
    "df.isnull().sum()"
   ]
  },
  {
   "cell_type": "code",
   "execution_count": 8,
   "id": "a21c8061-525c-47ac-8a0f-dbfe2945bc72",
   "metadata": {},
   "outputs": [],
   "source": [
    "# null/NaN to \"\"\n",
    "df = df.fillna(\"\")\n",
    "# df = df.dropna(subset=['news_article','news_subtitle'])"
   ]
  },
  {
   "cell_type": "code",
   "execution_count": 9,
   "id": "4c76b365-892b-4721-8c15-a7d331a7265b",
   "metadata": {},
   "outputs": [
    {
     "data": {
      "text/plain": [
       "news_title       0\n",
       "news_subtitle    0\n",
       "news_article     0\n",
       "news_url         0\n",
       "dtype: int64"
      ]
     },
     "execution_count": 9,
     "metadata": {},
     "output_type": "execute_result"
    }
   ],
   "source": [
    "# 결측값 확인\n",
    "df.isna().sum()"
   ]
  },
  {
   "cell_type": "markdown",
   "id": "535c7135-dbb7-452f-90d6-7fe9bd5698cc",
   "metadata": {},
   "source": [
    "---"
   ]
  },
  {
   "cell_type": "markdown",
   "id": "4ebc37be-4ec6-44ab-90f2-7a29ddd2d8fc",
   "metadata": {},
   "source": [
    "### 문자열 길이 확인 및 추가"
   ]
  },
  {
   "cell_type": "code",
   "execution_count": 10,
   "id": "d862fa90-d72c-4b3d-9bf9-c89e42e25ca1",
   "metadata": {},
   "outputs": [],
   "source": [
    "# df[\"news_len\"] = df.news_article.str.len()\n",
    "df['news_len'] = df['news_article'].apply(lambda x: len(x))"
   ]
  },
  {
   "cell_type": "code",
   "execution_count": 11,
   "id": "40e56eb8-a0d7-4195-a8d8-7a9eb6b7fce7",
   "metadata": {},
   "outputs": [
    {
     "data": {
      "text/html": [
       "<div>\n",
       "<style scoped>\n",
       "    .dataframe tbody tr th:only-of-type {\n",
       "        vertical-align: middle;\n",
       "    }\n",
       "\n",
       "    .dataframe tbody tr th {\n",
       "        vertical-align: top;\n",
       "    }\n",
       "\n",
       "    .dataframe thead th {\n",
       "        text-align: right;\n",
       "    }\n",
       "</style>\n",
       "<table border=\"1\" class=\"dataframe\">\n",
       "  <thead>\n",
       "    <tr style=\"text-align: right;\">\n",
       "      <th></th>\n",
       "      <th>news_title</th>\n",
       "      <th>news_subtitle</th>\n",
       "      <th>news_article</th>\n",
       "      <th>news_url</th>\n",
       "      <th>news_len</th>\n",
       "    </tr>\n",
       "  </thead>\n",
       "  <tbody>\n",
       "    <tr>\n",
       "      <th>0</th>\n",
       "      <td>[세상 속으로] \"러시아 고양이는 안 됩니다\"</td>\n",
       "      <td>국제고양이연맹, '월드 캣 쇼'서 퇴출</td>\n",
       "      <td>전 세계가 우크라이나를 침공(侵攻)한 러시아에 각종 제재를 가하고 있다. 이에 러시...</td>\n",
       "      <td>http://kid.chosun.com/site/data/html_dir/2022/...</td>\n",
       "      <td>469</td>\n",
       "    </tr>\n",
       "    <tr>\n",
       "      <th>1</th>\n",
       "      <td>[뉴스탐험대] 홀로 1000㎞… 우크라 國境&lt;국경&gt; 탈출한 11세 소년</td>\n",
       "      <td></td>\n",
       "      <td>우크라이나 소년이 홀로 국경(國境)을 넘은 뭉클한 연이 전해졌다. 영국 매체 가디언...</td>\n",
       "      <td>http://kid.chosun.com/site/data/html_dir/2022/...</td>\n",
       "      <td>380</td>\n",
       "    </tr>\n",
       "    <tr>\n",
       "      <th>2</th>\n",
       "      <td>[뉴스탐험대] 온라인 쇼핑몰 '니켈·납투성이 장신구' 주의</td>\n",
       "      <td></td>\n",
       "      <td>온라인 쇼핑몰에서 '무(無)알러지' '무니켈 도금' 등으로 홍보·판매되는 액세서리에...</td>\n",
       "      <td>http://kid.chosun.com/site/data/html_dir/2022/...</td>\n",
       "      <td>446</td>\n",
       "    </tr>\n",
       "    <tr>\n",
       "      <th>3</th>\n",
       "      <td>[뉴스탐험대] \"코로나에 강한 혈액형 있다\"… O형, 위험 최저</td>\n",
       "      <td></td>\n",
       "      <td>혈액형이 O형(型)인 람이 코로나 바이러스 감염 시 망·위중증 위험이 다른 혈액형보...</td>\n",
       "      <td>http://kid.chosun.com/site/data/html_dir/2022/...</td>\n",
       "      <td>451</td>\n",
       "    </tr>\n",
       "    <tr>\n",
       "      <th>4</th>\n",
       "      <td>잡히지 않는 火魔&lt;화마&gt;… 문화재 등 대규모 피해</td>\n",
       "      <td>서울 면적 4분의 1 이상 불타</td>\n",
       "      <td>최근 발생한 동해안 지역 대규모 산불로 인해 막대한 산림(山林) 피해가 우려되고 있...</td>\n",
       "      <td>http://kid.chosun.com/site/data/html_dir/2022/...</td>\n",
       "      <td>620</td>\n",
       "    </tr>\n",
       "  </tbody>\n",
       "</table>\n",
       "</div>"
      ],
      "text/plain": [
       "                                news_title          news_subtitle  \\\n",
       "0                [세상 속으로] \"러시아 고양이는 안 됩니다\"  국제고양이연맹, '월드 캣 쇼'서 퇴출   \n",
       "1  [뉴스탐험대] 홀로 1000㎞… 우크라 國境<국경> 탈출한 11세 소년                          \n",
       "2         [뉴스탐험대] 온라인 쇼핑몰 '니켈·납투성이 장신구' 주의                          \n",
       "3      [뉴스탐험대] \"코로나에 강한 혈액형 있다\"… O형, 위험 최저                          \n",
       "4              잡히지 않는 火魔<화마>… 문화재 등 대규모 피해      서울 면적 4분의 1 이상 불타   \n",
       "\n",
       "                                        news_article  \\\n",
       "0  전 세계가 우크라이나를 침공(侵攻)한 러시아에 각종 제재를 가하고 있다. 이에 러시...   \n",
       "1  우크라이나 소년이 홀로 국경(國境)을 넘은 뭉클한 연이 전해졌다. 영국 매체 가디언...   \n",
       "2  온라인 쇼핑몰에서 '무(無)알러지' '무니켈 도금' 등으로 홍보·판매되는 액세서리에...   \n",
       "3  혈액형이 O형(型)인 람이 코로나 바이러스 감염 시 망·위중증 위험이 다른 혈액형보...   \n",
       "4  최근 발생한 동해안 지역 대규모 산불로 인해 막대한 산림(山林) 피해가 우려되고 있...   \n",
       "\n",
       "                                            news_url  news_len  \n",
       "0  http://kid.chosun.com/site/data/html_dir/2022/...       469  \n",
       "1  http://kid.chosun.com/site/data/html_dir/2022/...       380  \n",
       "2  http://kid.chosun.com/site/data/html_dir/2022/...       446  \n",
       "3  http://kid.chosun.com/site/data/html_dir/2022/...       451  \n",
       "4  http://kid.chosun.com/site/data/html_dir/2022/...       620  "
      ]
     },
     "execution_count": 11,
     "metadata": {},
     "output_type": "execute_result"
    }
   ],
   "source": [
    "df.head()"
   ]
  },
  {
   "cell_type": "code",
   "execution_count": 12,
   "id": "2630ef5b-e95e-4e68-b36e-f381e60e2b0d",
   "metadata": {},
   "outputs": [
    {
     "data": {
      "text/html": [
       "<div>\n",
       "<style scoped>\n",
       "    .dataframe tbody tr th:only-of-type {\n",
       "        vertical-align: middle;\n",
       "    }\n",
       "\n",
       "    .dataframe tbody tr th {\n",
       "        vertical-align: top;\n",
       "    }\n",
       "\n",
       "    .dataframe thead th {\n",
       "        text-align: right;\n",
       "    }\n",
       "</style>\n",
       "<table border=\"1\" class=\"dataframe\">\n",
       "  <thead>\n",
       "    <tr style=\"text-align: right;\">\n",
       "      <th></th>\n",
       "      <th>count</th>\n",
       "      <th>mean</th>\n",
       "      <th>std</th>\n",
       "      <th>min</th>\n",
       "      <th>25%</th>\n",
       "      <th>50%</th>\n",
       "      <th>75%</th>\n",
       "      <th>max</th>\n",
       "    </tr>\n",
       "  </thead>\n",
       "  <tbody>\n",
       "    <tr>\n",
       "      <th>news_len</th>\n",
       "      <td>1675.0</td>\n",
       "      <td>981.068657</td>\n",
       "      <td>724.715977</td>\n",
       "      <td>0.0</td>\n",
       "      <td>479.0</td>\n",
       "      <td>772.0</td>\n",
       "      <td>1221.0</td>\n",
       "      <td>9658.0</td>\n",
       "    </tr>\n",
       "  </tbody>\n",
       "</table>\n",
       "</div>"
      ],
      "text/plain": [
       "           count        mean         std  min    25%    50%     75%     max\n",
       "news_len  1675.0  981.068657  724.715977  0.0  479.0  772.0  1221.0  9658.0"
      ]
     },
     "execution_count": 12,
     "metadata": {},
     "output_type": "execute_result"
    }
   ],
   "source": [
    "# min 값을 봤을 때 기사가 없는 경우도 존재\n",
    "df.describe().T"
   ]
  },
  {
   "cell_type": "markdown",
   "id": "e5b9d161-9129-49c5-b804-6f0ae1bf7e38",
   "metadata": {},
   "source": [
    "---"
   ]
  },
  {
   "cell_type": "markdown",
   "id": "5040fdb9-f47b-48e5-b146-b0495d8f7015",
   "metadata": {},
   "source": [
    "### 이상치 확인\n",
    "- 이상한 뉴스 데이터 확인"
   ]
  },
  {
   "cell_type": "code",
   "execution_count": 13,
   "id": "76fc2f6f-0016-4299-b17d-5917c096afca",
   "metadata": {
    "tags": []
   },
   "outputs": [
    {
     "data": {
      "text/html": [
       "<div>\n",
       "<style scoped>\n",
       "    .dataframe tbody tr th:only-of-type {\n",
       "        vertical-align: middle;\n",
       "    }\n",
       "\n",
       "    .dataframe tbody tr th {\n",
       "        vertical-align: top;\n",
       "    }\n",
       "\n",
       "    .dataframe thead th {\n",
       "        text-align: right;\n",
       "    }\n",
       "</style>\n",
       "<table border=\"1\" class=\"dataframe\">\n",
       "  <thead>\n",
       "    <tr style=\"text-align: right;\">\n",
       "      <th></th>\n",
       "      <th>news_title</th>\n",
       "      <th>news_url</th>\n",
       "      <th>news_len</th>\n",
       "    </tr>\n",
       "  </thead>\n",
       "  <tbody>\n",
       "    <tr>\n",
       "      <th>8</th>\n",
       "      <td>[메시지 뉴스] 명태·대게와 러시아</td>\n",
       "      <td>http://kid.chosun.com/site/data/html_dir/2022/...</td>\n",
       "      <td>0</td>\n",
       "    </tr>\n",
       "    <tr>\n",
       "      <th>303</th>\n",
       "      <td>[메시지 뉴스] 동지(冬至)</td>\n",
       "      <td>http://kid.chosun.com/site/data/html_dir/2021/...</td>\n",
       "      <td>0</td>\n",
       "    </tr>\n",
       "    <tr>\n",
       "      <th>325</th>\n",
       "      <td>[메시지 뉴스] 성탄 트리의 기원</td>\n",
       "      <td>http://kid.chosun.com/site/data/html_dir/2021/...</td>\n",
       "      <td>0</td>\n",
       "    </tr>\n",
       "    <tr>\n",
       "      <th>389</th>\n",
       "      <td>[메시지 뉴스] 일본 한류 열풍</td>\n",
       "      <td>http://kid.chosun.com/site/data/html_dir/2021/...</td>\n",
       "      <td>0</td>\n",
       "    </tr>\n",
       "    <tr>\n",
       "      <th>400</th>\n",
       "      <td>[메시지 뉴스] 우주탐사 인형</td>\n",
       "      <td>http://kid.chosun.com/site/data/html_dir/2021/...</td>\n",
       "      <td>0</td>\n",
       "    </tr>\n",
       "    <tr>\n",
       "      <th>423</th>\n",
       "      <td>[메시지 뉴스] 대학수학 능력시험</td>\n",
       "      <td>http://kid.chosun.com/site/data/html_dir/2021/...</td>\n",
       "      <td>0</td>\n",
       "    </tr>\n",
       "    <tr>\n",
       "      <th>451</th>\n",
       "      <td>[메시지 뉴스] COP26</td>\n",
       "      <td>http://kid.chosun.com/site/data/html_dir/2021/...</td>\n",
       "      <td>0</td>\n",
       "    </tr>\n",
       "    <tr>\n",
       "      <th>485</th>\n",
       "      <td>[메시지 뉴스] 기초 학력과 학교생활</td>\n",
       "      <td>http://kid.chosun.com/site/data/html_dir/2021/...</td>\n",
       "      <td>0</td>\n",
       "    </tr>\n",
       "    <tr>\n",
       "      <th>504</th>\n",
       "      <td>[메시지 뉴스] 대통령 선거</td>\n",
       "      <td>http://kid.chosun.com/site/data/html_dir/2021/...</td>\n",
       "      <td>0</td>\n",
       "    </tr>\n",
       "    <tr>\n",
       "      <th>536</th>\n",
       "      <td>[메시지 뉴스] 탄소중립</td>\n",
       "      <td>http://kid.chosun.com/site/data/html_dir/2021/...</td>\n",
       "      <td>0</td>\n",
       "    </tr>\n",
       "    <tr>\n",
       "      <th>568</th>\n",
       "      <td>[메시지 뉴스] 골프</td>\n",
       "      <td>http://kid.chosun.com/site/data/html_dir/2021/...</td>\n",
       "      <td>0</td>\n",
       "    </tr>\n",
       "    <tr>\n",
       "      <th>586</th>\n",
       "      <td>[메시지 뉴스] 국정감사</td>\n",
       "      <td>http://kid.chosun.com/site/data/html_dir/2021/...</td>\n",
       "      <td>0</td>\n",
       "    </tr>\n",
       "    <tr>\n",
       "      <th>612</th>\n",
       "      <td>[메시지 뉴스] 기네스북</td>\n",
       "      <td>http://kid.chosun.com/site/data/html_dir/2021/...</td>\n",
       "      <td>0</td>\n",
       "    </tr>\n",
       "    <tr>\n",
       "      <th>644</th>\n",
       "      <td>[메시지 뉴스] 추석</td>\n",
       "      <td>http://kid.chosun.com/site/data/html_dir/2021/...</td>\n",
       "      <td>0</td>\n",
       "    </tr>\n",
       "    <tr>\n",
       "      <th>671</th>\n",
       "      <td>[메시지 뉴스] 아프간 전쟁</td>\n",
       "      <td>http://kid.chosun.com/site/data/html_dir/2021/...</td>\n",
       "      <td>0</td>\n",
       "    </tr>\n",
       "    <tr>\n",
       "      <th>697</th>\n",
       "      <td>[메시지 뉴스] 코로나 백신</td>\n",
       "      <td>http://kid.chosun.com/site/data/html_dir/2021/...</td>\n",
       "      <td>0</td>\n",
       "    </tr>\n",
       "    <tr>\n",
       "      <th>1383</th>\n",
       "      <td>[요리 쿡! 조리 쿡!] 시원하고 달콤하고 코코아 아이스바</td>\n",
       "      <td>http://kid.chosun.com/site/data/html_dir/2020/...</td>\n",
       "      <td>0</td>\n",
       "    </tr>\n",
       "    <tr>\n",
       "      <th>1409</th>\n",
       "      <td>[요리 쿡! 조리 쿡!] 호호 불어 드세요 돌돌 말린 채소 춘권</td>\n",
       "      <td>http://kid.chosun.com/site/data/html_dir/2020/...</td>\n",
       "      <td>0</td>\n",
       "    </tr>\n",
       "    <tr>\n",
       "      <th>1413</th>\n",
       "      <td>[요리 쿡! 조리 쿡!] 콕콕 찍어 입으로 쏙쏙 톡톡 튀는 팝콘 치킨</td>\n",
       "      <td>http://kid.chosun.com/site/data/html_dir/2020/...</td>\n",
       "      <td>0</td>\n",
       "    </tr>\n",
       "    <tr>\n",
       "      <th>1438</th>\n",
       "      <td>[요리 쿡! 조리 쿡!] 파티 음식으로도 'OK' 토마토 브루스케타</td>\n",
       "      <td>http://kid.chosun.com/site/data/html_dir/2020/...</td>\n",
       "      <td>0</td>\n",
       "    </tr>\n",
       "    <tr>\n",
       "      <th>275</th>\n",
       "      <td>[메시지 뉴스] 세계의 새해 풍습</td>\n",
       "      <td>http://kid.chosun.com/site/data/html_dir/2021/...</td>\n",
       "      <td>0</td>\n",
       "    </tr>\n",
       "    <tr>\n",
       "      <th>244</th>\n",
       "      <td>[메시지 뉴스] 성년(成年) 기준</td>\n",
       "      <td>http://kid.chosun.com/site/data/html_dir/2022/...</td>\n",
       "      <td>0</td>\n",
       "    </tr>\n",
       "    <tr>\n",
       "      <th>1654</th>\n",
       "      <td>기자들의 수다</td>\n",
       "      <td>http://kid.chosun.com/site/data/html_dir/2020/...</td>\n",
       "      <td>0</td>\n",
       "    </tr>\n",
       "    <tr>\n",
       "      <th>205</th>\n",
       "      <td>[영상-맛있는 실험실] 감자채 피자를 만들어 봤어요‼</td>\n",
       "      <td>http://kid.chosun.com/site/data/html_dir/2022/...</td>\n",
       "      <td>0</td>\n",
       "    </tr>\n",
       "    <tr>\n",
       "      <th>37</th>\n",
       "      <td>[메시지 뉴스] 체스</td>\n",
       "      <td>http://kid.chosun.com/site/data/html_dir/2022/...</td>\n",
       "      <td>0</td>\n",
       "    </tr>\n",
       "    <tr>\n",
       "      <th>69</th>\n",
       "      <td>[메시지 뉴스] 용감하게 질문하기!</td>\n",
       "      <td>http://kid.chosun.com/site/data/html_dir/2022/...</td>\n",
       "      <td>0</td>\n",
       "    </tr>\n",
       "    <tr>\n",
       "      <th>214</th>\n",
       "      <td>[메시지 뉴스] 어린이 교통안전</td>\n",
       "      <td>http://kid.chosun.com/site/data/html_dir/2022/...</td>\n",
       "      <td>0</td>\n",
       "    </tr>\n",
       "    <tr>\n",
       "      <th>108</th>\n",
       "      <td>[꿀beetv] 안철수 후보의 '어린이를 위한 대선공약'은?</td>\n",
       "      <td>http://kid.chosun.com/site/data/html_dir/2022/...</td>\n",
       "      <td>0</td>\n",
       "    </tr>\n",
       "    <tr>\n",
       "      <th>109</th>\n",
       "      <td>[꿀beetv] 어린이조선일보 기자들의 해보GO! \"별걸 다 꾸며요\"</td>\n",
       "      <td>http://kid.chosun.com/site/data/html_dir/2022/...</td>\n",
       "      <td>0</td>\n",
       "    </tr>\n",
       "    <tr>\n",
       "      <th>111</th>\n",
       "      <td>[메시지 뉴스] 한국판 미네르바 大學</td>\n",
       "      <td>http://kid.chosun.com/site/data/html_dir/2022/...</td>\n",
       "      <td>0</td>\n",
       "    </tr>\n",
       "    <tr>\n",
       "      <th>120</th>\n",
       "      <td>[꿀BEE] 강아지 건강에 최고인 수제 간식 만들기</td>\n",
       "      <td>http://kid.chosun.com/site/data/html_dir/2022/...</td>\n",
       "      <td>0</td>\n",
       "    </tr>\n",
       "    <tr>\n",
       "      <th>125</th>\n",
       "      <td>[신자영의 5분 영어] 모니 모니 석가모니 일화 속 영어 표현 배우기!</td>\n",
       "      <td>http://kid.chosun.com/site/data/html_dir/2022/...</td>\n",
       "      <td>0</td>\n",
       "    </tr>\n",
       "    <tr>\n",
       "      <th>126</th>\n",
       "      <td>[일상 속 간단한 운동] 본지 기자들, 스트레칭에 도전하다</td>\n",
       "      <td>http://kid.chosun.com/site/data/html_dir/2022/...</td>\n",
       "      <td>0</td>\n",
       "    </tr>\n",
       "    <tr>\n",
       "      <th>92</th>\n",
       "      <td>[메시지 뉴스] 올바른 양치법</td>\n",
       "      <td>http://kid.chosun.com/site/data/html_dir/2022/...</td>\n",
       "      <td>0</td>\n",
       "    </tr>\n",
       "    <tr>\n",
       "      <th>164</th>\n",
       "      <td>[메시지 뉴스] 어린이 안전 관리 강화</td>\n",
       "      <td>http://kid.chosun.com/site/data/html_dir/2022/...</td>\n",
       "      <td>0</td>\n",
       "    </tr>\n",
       "    <tr>\n",
       "      <th>203</th>\n",
       "      <td>[영상-출동! 명예기자] 국립과학수사연구원을 체험하다!</td>\n",
       "      <td>http://kid.chosun.com/site/data/html_dir/2022/...</td>\n",
       "      <td>0</td>\n",
       "    </tr>\n",
       "    <tr>\n",
       "      <th>144</th>\n",
       "      <td>[영상-출동! 명예기자] 화제의 인물 글 쓰는 의사 '남궁인'을 만나다!</td>\n",
       "      <td>http://kid.chosun.com/site/data/html_dir/2022/...</td>\n",
       "      <td>0</td>\n",
       "    </tr>\n",
       "    <tr>\n",
       "      <th>187</th>\n",
       "      <td>[메시지 뉴스] 재밌는 지하철역명 이야기</td>\n",
       "      <td>http://kid.chosun.com/site/data/html_dir/2022/...</td>\n",
       "      <td>0</td>\n",
       "    </tr>\n",
       "    <tr>\n",
       "      <th>202</th>\n",
       "      <td>[영상-출동! 명예기자] 새벽배송 쇼핑몰 '마켓컬리' 김슬아 대표 인터뷰</td>\n",
       "      <td>http://kid.chosun.com/site/data/html_dir/2022/...</td>\n",
       "      <td>0</td>\n",
       "    </tr>\n",
       "    <tr>\n",
       "      <th>706</th>\n",
       "      <td>[생생~~영상뉴스] 머리에 밥솥 달린 로봇 이야기</td>\n",
       "      <td>http://kid.chosun.com/site/data/html_dir/2021/...</td>\n",
       "      <td>16</td>\n",
       "    </tr>\n",
       "    <tr>\n",
       "      <th>368</th>\n",
       "      <td>[생생 인터뷰 현장!] 주한 프랑스 대사 '필립 르포르'를 만나다!</td>\n",
       "      <td>http://kid.chosun.com/site/data/html_dir/2021/...</td>\n",
       "      <td>22</td>\n",
       "    </tr>\n",
       "    <tr>\n",
       "      <th>691</th>\n",
       "      <td>[생생~~영상뉴스] 환경파괴의 주범 누텔라?</td>\n",
       "      <td>http://kid.chosun.com/site/data/html_dir/2021/...</td>\n",
       "      <td>26</td>\n",
       "    </tr>\n",
       "    <tr>\n",
       "      <th>717</th>\n",
       "      <td>잠자리 드론과 풍선 망원경? 과감한 박새의 사연은?</td>\n",
       "      <td>http://kid.chosun.com/site/data/html_dir/2021/...</td>\n",
       "      <td>27</td>\n",
       "    </tr>\n",
       "    <tr>\n",
       "      <th>825</th>\n",
       "      <td>[동영상]\"니네 집에 요리로봇 있어? 비서로봇은?\"...\"로봇 몇 대 있니?\" 묻는...</td>\n",
       "      <td>http://kid.chosun.com/site/data/html_dir/2021/...</td>\n",
       "      <td>49</td>\n",
       "    </tr>\n",
       "    <tr>\n",
       "      <th>289</th>\n",
       "      <td>[정답 공개] 크리스마스 퍼즐, 숨은그림찾기</td>\n",
       "      <td>http://kid.chosun.com/site/data/html_dir/2021/...</td>\n",
       "      <td>49</td>\n",
       "    </tr>\n",
       "    <tr>\n",
       "      <th>76</th>\n",
       "      <td>[꿀BeeTV] 출동! 명예기자 충주 기상과학관에 가다!</td>\n",
       "      <td>http://kid.chosun.com/site/data/html_dir/2022/...</td>\n",
       "      <td>55</td>\n",
       "    </tr>\n",
       "    <tr>\n",
       "      <th>147</th>\n",
       "      <td>신자영의 5분 영어!</td>\n",
       "      <td>http://kid.chosun.com/site/data/html_dir/2022/...</td>\n",
       "      <td>59</td>\n",
       "    </tr>\n",
       "    <tr>\n",
       "      <th>590</th>\n",
       "      <td>[POPCORN NEWS] 국군의 날 특집! 영상뉴스</td>\n",
       "      <td>http://kid.chosun.com/site/data/html_dir/2021/...</td>\n",
       "      <td>63</td>\n",
       "    </tr>\n",
       "    <tr>\n",
       "      <th>1501</th>\n",
       "      <td>간편하게 한 끼 챙길 땐 쫀득쫀득 그래놀라 바</td>\n",
       "      <td>http://kid.chosun.com/site/data/html_dir/2020/...</td>\n",
       "      <td>71</td>\n",
       "    </tr>\n",
       "    <tr>\n",
       "      <th>1498</th>\n",
       "      <td>편하게 들고 '쏙쏙' 한입 토스트 꼬치</td>\n",
       "      <td>http://kid.chosun.com/site/data/html_dir/2020/...</td>\n",
       "      <td>71</td>\n",
       "    </tr>\n",
       "    <tr>\n",
       "      <th>1525</th>\n",
       "      <td>노릇하게 구워볼까? 폭신폭신 팬케이크</td>\n",
       "      <td>http://kid.chosun.com/site/data/html_dir/2020/...</td>\n",
       "      <td>74</td>\n",
       "    </tr>\n",
       "    <tr>\n",
       "      <th>352</th>\n",
       "      <td>[메시지 뉴스] 세상 가장 작은 나라들</td>\n",
       "      <td>http://kid.chosun.com/site/data/html_dir/2021/...</td>\n",
       "      <td>91</td>\n",
       "    </tr>\n",
       "    <tr>\n",
       "      <th>1569</th>\n",
       "      <td>[카드뉴스] \"취미활동 늘었지만, 친구 못만나 속상해요\"</td>\n",
       "      <td>http://kid.chosun.com/site/data/html_dir/2020/...</td>\n",
       "      <td>93</td>\n",
       "    </tr>\n",
       "    <tr>\n",
       "      <th>1444</th>\n",
       "      <td>돌돌 말렸네! 맛있는 시금치 롤</td>\n",
       "      <td>http://kid.chosun.com/site/data/html_dir/2020/...</td>\n",
       "      <td>103</td>\n",
       "    </tr>\n",
       "    <tr>\n",
       "      <th>70</th>\n",
       "      <td>[꿀BeeTV] '알리와 아브라함' 형제 이야기</td>\n",
       "      <td>http://kid.chosun.com/site/data/html_dir/2022/...</td>\n",
       "      <td>110</td>\n",
       "    </tr>\n",
       "    <tr>\n",
       "      <th>15</th>\n",
       "      <td>[꿀BeeTV] 무인도에서 극적으로 탈출한 생존자 이야기</td>\n",
       "      <td>http://kid.chosun.com/site/data/html_dir/2022/...</td>\n",
       "      <td>115</td>\n",
       "    </tr>\n",
       "    <tr>\n",
       "      <th>93</th>\n",
       "      <td>[꿀beetv] 대나무와 고사리 그리고 한 남자의 이야기</td>\n",
       "      <td>http://kid.chosun.com/site/data/html_dir/2022/...</td>\n",
       "      <td>130</td>\n",
       "    </tr>\n",
       "    <tr>\n",
       "      <th>1464</th>\n",
       "      <td>초콜릿 잼 품은 바나나 크레이프</td>\n",
       "      <td>http://kid.chosun.com/site/data/html_dir/2020/...</td>\n",
       "      <td>151</td>\n",
       "    </tr>\n",
       "    <tr>\n",
       "      <th>47</th>\n",
       "      <td>[꿀BeeTV] 아무리 돈이 많아도 살 수 없는 것은?</td>\n",
       "      <td>http://kid.chosun.com/site/data/html_dir/2022/...</td>\n",
       "      <td>158</td>\n",
       "    </tr>\n",
       "    <tr>\n",
       "      <th>1575</th>\n",
       "      <td>기록, 또 기록… 케이팝에 한계란 없다</td>\n",
       "      <td>http://kid.chosun.com/site/data/html_dir/2020/...</td>\n",
       "      <td>183</td>\n",
       "    </tr>\n",
       "  </tbody>\n",
       "</table>\n",
       "</div>"
      ],
      "text/plain": [
       "                                             news_title  \\\n",
       "8                                   [메시지 뉴스] 명태·대게와 러시아   \n",
       "303                                     [메시지 뉴스] 동지(冬至)   \n",
       "325                                  [메시지 뉴스] 성탄 트리의 기원   \n",
       "389                                   [메시지 뉴스] 일본 한류 열풍   \n",
       "400                                    [메시지 뉴스] 우주탐사 인형   \n",
       "423                                  [메시지 뉴스] 대학수학 능력시험   \n",
       "451                                      [메시지 뉴스] COP26   \n",
       "485                                [메시지 뉴스] 기초 학력과 학교생활   \n",
       "504                                     [메시지 뉴스] 대통령 선거   \n",
       "536                                       [메시지 뉴스] 탄소중립   \n",
       "568                                         [메시지 뉴스] 골프   \n",
       "586                                       [메시지 뉴스] 국정감사   \n",
       "612                                       [메시지 뉴스] 기네스북   \n",
       "644                                         [메시지 뉴스] 추석   \n",
       "671                                     [메시지 뉴스] 아프간 전쟁   \n",
       "697                                     [메시지 뉴스] 코로나 백신   \n",
       "1383                   [요리 쿡! 조리 쿡!] 시원하고 달콤하고 코코아 아이스바   \n",
       "1409                [요리 쿡! 조리 쿡!] 호호 불어 드세요 돌돌 말린 채소 춘권   \n",
       "1413             [요리 쿡! 조리 쿡!] 콕콕 찍어 입으로 쏙쏙 톡톡 튀는 팝콘 치킨   \n",
       "1438              [요리 쿡! 조리 쿡!] 파티 음식으로도 'OK' 토마토 브루스케타   \n",
       "275                                  [메시지 뉴스] 세계의 새해 풍습   \n",
       "244                                  [메시지 뉴스] 성년(成年) 기준   \n",
       "1654                                            기자들의 수다   \n",
       "205                       [영상-맛있는 실험실] 감자채 피자를 만들어 봤어요‼   \n",
       "37                                          [메시지 뉴스] 체스   \n",
       "69                                  [메시지 뉴스] 용감하게 질문하기!   \n",
       "214                                   [메시지 뉴스] 어린이 교통안전   \n",
       "108                   [꿀beetv] 안철수 후보의 '어린이를 위한 대선공약'은?   \n",
       "109              [꿀beetv] 어린이조선일보 기자들의 해보GO! \"별걸 다 꾸며요\"   \n",
       "111                                [메시지 뉴스] 한국판 미네르바 大學   \n",
       "120                        [꿀BEE] 강아지 건강에 최고인 수제 간식 만들기   \n",
       "125             [신자영의 5분 영어] 모니 모니 석가모니 일화 속 영어 표현 배우기!   \n",
       "126                    [일상 속 간단한 운동] 본지 기자들, 스트레칭에 도전하다   \n",
       "92                                     [메시지 뉴스] 올바른 양치법   \n",
       "164                               [메시지 뉴스] 어린이 안전 관리 강화   \n",
       "203                      [영상-출동! 명예기자] 국립과학수사연구원을 체험하다!   \n",
       "144            [영상-출동! 명예기자] 화제의 인물 글 쓰는 의사 '남궁인'을 만나다!   \n",
       "187                              [메시지 뉴스] 재밌는 지하철역명 이야기   \n",
       "202            [영상-출동! 명예기자] 새벽배송 쇼핑몰 '마켓컬리' 김슬아 대표 인터뷰   \n",
       "706                         [생생~~영상뉴스] 머리에 밥솥 달린 로봇 이야기   \n",
       "368               [생생 인터뷰 현장!] 주한 프랑스 대사 '필립 르포르'를 만나다!   \n",
       "691                            [생생~~영상뉴스] 환경파괴의 주범 누텔라?   \n",
       "717                        잠자리 드론과 풍선 망원경? 과감한 박새의 사연은?   \n",
       "825   [동영상]\"니네 집에 요리로봇 있어? 비서로봇은?\"...\"로봇 몇 대 있니?\" 묻는...   \n",
       "289                            [정답 공개] 크리스마스 퍼즐, 숨은그림찾기   \n",
       "76                      [꿀BeeTV] 출동! 명예기자 충주 기상과학관에 가다!   \n",
       "147                                         신자영의 5분 영어!   \n",
       "590                       [POPCORN NEWS] 국군의 날 특집! 영상뉴스   \n",
       "1501                          간편하게 한 끼 챙길 땐 쫀득쫀득 그래놀라 바   \n",
       "1498                              편하게 들고 '쏙쏙' 한입 토스트 꼬치   \n",
       "1525                               노릇하게 구워볼까? 폭신폭신 팬케이크   \n",
       "352                               [메시지 뉴스] 세상 가장 작은 나라들   \n",
       "1569                    [카드뉴스] \"취미활동 늘었지만, 친구 못만나 속상해요\"   \n",
       "1444                                  돌돌 말렸네! 맛있는 시금치 롤   \n",
       "70                           [꿀BeeTV] '알리와 아브라함' 형제 이야기   \n",
       "15                      [꿀BeeTV] 무인도에서 극적으로 탈출한 생존자 이야기   \n",
       "93                      [꿀beetv] 대나무와 고사리 그리고 한 남자의 이야기   \n",
       "1464                                  초콜릿 잼 품은 바나나 크레이프   \n",
       "47                      [꿀BeeTV] 아무리 돈이 많아도 살 수 없는 것은?    \n",
       "1575                              기록, 또 기록… 케이팝에 한계란 없다   \n",
       "\n",
       "                                               news_url  news_len  \n",
       "8     http://kid.chosun.com/site/data/html_dir/2022/...         0  \n",
       "303   http://kid.chosun.com/site/data/html_dir/2021/...         0  \n",
       "325   http://kid.chosun.com/site/data/html_dir/2021/...         0  \n",
       "389   http://kid.chosun.com/site/data/html_dir/2021/...         0  \n",
       "400   http://kid.chosun.com/site/data/html_dir/2021/...         0  \n",
       "423   http://kid.chosun.com/site/data/html_dir/2021/...         0  \n",
       "451   http://kid.chosun.com/site/data/html_dir/2021/...         0  \n",
       "485   http://kid.chosun.com/site/data/html_dir/2021/...         0  \n",
       "504   http://kid.chosun.com/site/data/html_dir/2021/...         0  \n",
       "536   http://kid.chosun.com/site/data/html_dir/2021/...         0  \n",
       "568   http://kid.chosun.com/site/data/html_dir/2021/...         0  \n",
       "586   http://kid.chosun.com/site/data/html_dir/2021/...         0  \n",
       "612   http://kid.chosun.com/site/data/html_dir/2021/...         0  \n",
       "644   http://kid.chosun.com/site/data/html_dir/2021/...         0  \n",
       "671   http://kid.chosun.com/site/data/html_dir/2021/...         0  \n",
       "697   http://kid.chosun.com/site/data/html_dir/2021/...         0  \n",
       "1383  http://kid.chosun.com/site/data/html_dir/2020/...         0  \n",
       "1409  http://kid.chosun.com/site/data/html_dir/2020/...         0  \n",
       "1413  http://kid.chosun.com/site/data/html_dir/2020/...         0  \n",
       "1438  http://kid.chosun.com/site/data/html_dir/2020/...         0  \n",
       "275   http://kid.chosun.com/site/data/html_dir/2021/...         0  \n",
       "244   http://kid.chosun.com/site/data/html_dir/2022/...         0  \n",
       "1654  http://kid.chosun.com/site/data/html_dir/2020/...         0  \n",
       "205   http://kid.chosun.com/site/data/html_dir/2022/...         0  \n",
       "37    http://kid.chosun.com/site/data/html_dir/2022/...         0  \n",
       "69    http://kid.chosun.com/site/data/html_dir/2022/...         0  \n",
       "214   http://kid.chosun.com/site/data/html_dir/2022/...         0  \n",
       "108   http://kid.chosun.com/site/data/html_dir/2022/...         0  \n",
       "109   http://kid.chosun.com/site/data/html_dir/2022/...         0  \n",
       "111   http://kid.chosun.com/site/data/html_dir/2022/...         0  \n",
       "120   http://kid.chosun.com/site/data/html_dir/2022/...         0  \n",
       "125   http://kid.chosun.com/site/data/html_dir/2022/...         0  \n",
       "126   http://kid.chosun.com/site/data/html_dir/2022/...         0  \n",
       "92    http://kid.chosun.com/site/data/html_dir/2022/...         0  \n",
       "164   http://kid.chosun.com/site/data/html_dir/2022/...         0  \n",
       "203   http://kid.chosun.com/site/data/html_dir/2022/...         0  \n",
       "144   http://kid.chosun.com/site/data/html_dir/2022/...         0  \n",
       "187   http://kid.chosun.com/site/data/html_dir/2022/...         0  \n",
       "202   http://kid.chosun.com/site/data/html_dir/2022/...         0  \n",
       "706   http://kid.chosun.com/site/data/html_dir/2021/...        16  \n",
       "368   http://kid.chosun.com/site/data/html_dir/2021/...        22  \n",
       "691   http://kid.chosun.com/site/data/html_dir/2021/...        26  \n",
       "717   http://kid.chosun.com/site/data/html_dir/2021/...        27  \n",
       "825   http://kid.chosun.com/site/data/html_dir/2021/...        49  \n",
       "289   http://kid.chosun.com/site/data/html_dir/2021/...        49  \n",
       "76    http://kid.chosun.com/site/data/html_dir/2022/...        55  \n",
       "147   http://kid.chosun.com/site/data/html_dir/2022/...        59  \n",
       "590   http://kid.chosun.com/site/data/html_dir/2021/...        63  \n",
       "1501  http://kid.chosun.com/site/data/html_dir/2020/...        71  \n",
       "1498  http://kid.chosun.com/site/data/html_dir/2020/...        71  \n",
       "1525  http://kid.chosun.com/site/data/html_dir/2020/...        74  \n",
       "352   http://kid.chosun.com/site/data/html_dir/2021/...        91  \n",
       "1569  http://kid.chosun.com/site/data/html_dir/2020/...        93  \n",
       "1444  http://kid.chosun.com/site/data/html_dir/2020/...       103  \n",
       "70    http://kid.chosun.com/site/data/html_dir/2022/...       110  \n",
       "15    http://kid.chosun.com/site/data/html_dir/2022/...       115  \n",
       "93    http://kid.chosun.com/site/data/html_dir/2022/...       130  \n",
       "1464  http://kid.chosun.com/site/data/html_dir/2020/...       151  \n",
       "47    http://kid.chosun.com/site/data/html_dir/2022/...       158  \n",
       "1575  http://kid.chosun.com/site/data/html_dir/2020/...       183  "
      ]
     },
     "execution_count": 13,
     "metadata": {},
     "output_type": "execute_result"
    }
   ],
   "source": [
    "# 기사 길이 200 이하 확인\n",
    "condition = (df.news_len <= 200)\n",
    "\n",
    "shorts_df = df[condition][['news_title','news_url','news_len']].sort_values(by='news_len' ,ascending=True)\n",
    "shorts_df"
   ]
  },
  {
   "cell_type": "code",
   "execution_count": 14,
   "id": "da04c4fe-c7e2-4301-8121-6cd965571d03",
   "metadata": {},
   "outputs": [
    {
     "data": {
      "text/plain": [
       "(60, 3)"
      ]
     },
     "execution_count": 14,
     "metadata": {},
     "output_type": "execute_result"
    }
   ],
   "source": [
    "shorts_df.shape"
   ]
  },
  {
   "cell_type": "code",
   "execution_count": 15,
   "id": "7ac84cb2-40c9-4539-a676-140fa17ea454",
   "metadata": {
    "tags": []
   },
   "outputs": [
    {
     "data": {
      "text/plain": [
       "['[메시지 뉴스] 명태·대게와 러시아',\n",
       " '[메시지 뉴스] 동지(冬至)',\n",
       " '[메시지 뉴스] 성탄 트리의 기원',\n",
       " '[메시지 뉴스] 일본 한류 열풍',\n",
       " '[메시지 뉴스] 우주탐사 인형',\n",
       " '[메시지 뉴스] 대학수학 능력시험',\n",
       " '[메시지 뉴스] COP26',\n",
       " '[메시지 뉴스] 기초 학력과 학교생활',\n",
       " '[메시지 뉴스] 대통령 선거',\n",
       " '[메시지 뉴스] 탄소중립',\n",
       " '[메시지 뉴스] 골프',\n",
       " '[메시지 뉴스] 국정감사',\n",
       " '[메시지 뉴스] 기네스북',\n",
       " '[메시지 뉴스] 추석',\n",
       " '[메시지 뉴스] 아프간 전쟁',\n",
       " '[메시지 뉴스] 코로나 백신',\n",
       " '[요리 쿡! 조리 쿡!] 시원하고 달콤하고 코코아 아이스바',\n",
       " '[요리 쿡! 조리 쿡!] 호호 불어 드세요 돌돌 말린 채소 춘권',\n",
       " '[요리 쿡! 조리 쿡!] 콕콕 찍어 입으로 쏙쏙 톡톡 튀는 팝콘 치킨',\n",
       " \"[요리 쿡! 조리 쿡!] 파티 음식으로도 'OK' 토마토 브루스케타\",\n",
       " '[메시지 뉴스] 세계의 새해 풍습',\n",
       " '[메시지 뉴스] 성년(成年) 기준',\n",
       " '기자들의 수다',\n",
       " '[영상-맛있는 실험실] 감자채 피자를 만들어 봤어요‼',\n",
       " '[메시지 뉴스] 체스',\n",
       " '[메시지 뉴스] 용감하게 질문하기!',\n",
       " '[메시지 뉴스] 어린이 교통안전',\n",
       " \"[꿀beetv] 안철수 후보의 '어린이를 위한 대선공약'은?\",\n",
       " '[꿀beetv] 어린이조선일보 기자들의 해보GO! \"별걸 다 꾸며요\"',\n",
       " '[메시지 뉴스] 한국판 미네르바 大學',\n",
       " '[꿀BEE] 강아지 건강에 최고인 수제 간식 만들기',\n",
       " '[신자영의 5분 영어] 모니 모니 석가모니 일화 속 영어 표현 배우기!',\n",
       " '[일상 속 간단한 운동] 본지 기자들, 스트레칭에 도전하다',\n",
       " '[메시지 뉴스] 올바른 양치법',\n",
       " '[메시지 뉴스] 어린이 안전 관리 강화',\n",
       " '[영상-출동! 명예기자] 국립과학수사연구원을 체험하다!',\n",
       " \"[영상-출동! 명예기자] 화제의 인물 글 쓰는 의사 '남궁인'을 만나다!\",\n",
       " '[메시지 뉴스] 재밌는 지하철역명 이야기',\n",
       " \"[영상-출동! 명예기자] 새벽배송 쇼핑몰 '마켓컬리' 김슬아 대표 인터뷰\",\n",
       " '[생생~~영상뉴스] 머리에 밥솥 달린 로봇 이야기',\n",
       " \"[생생 인터뷰 현장!] 주한 프랑스 대사 '필립 르포르'를 만나다!\",\n",
       " '[생생~~영상뉴스] 환경파괴의 주범 누텔라?',\n",
       " '잠자리 드론과 풍선 망원경? 과감한 박새의 사연은?',\n",
       " '[동영상]\"니네 집에 요리로봇 있어? 비서로봇은?\"...\"로봇 몇 대 있니?\" 묻는 세상 온다!',\n",
       " '[정답 공개] 크리스마스 퍼즐, 숨은그림찾기',\n",
       " '[꿀BeeTV] 출동! 명예기자 충주 기상과학관에 가다!',\n",
       " '신자영의 5분 영어!',\n",
       " '[POPCORN NEWS] 국군의 날 특집! 영상뉴스',\n",
       " '간편하게 한 끼 챙길 땐 쫀득쫀득 그래놀라 바',\n",
       " \"편하게 들고 '쏙쏙' 한입 토스트 꼬치\",\n",
       " '노릇하게 구워볼까? 폭신폭신 팬케이크',\n",
       " '[메시지 뉴스] 세상 가장 작은 나라들',\n",
       " '[카드뉴스] \"취미활동 늘었지만, 친구 못만나 속상해요\"',\n",
       " '돌돌 말렸네! 맛있는 시금치 롤',\n",
       " \"[꿀BeeTV] '알리와 아브라함' 형제 이야기\",\n",
       " '[꿀BeeTV] 무인도에서 극적으로 탈출한 생존자 이야기',\n",
       " '[꿀beetv] 대나무와 고사리 그리고 한 남자의 이야기',\n",
       " '초콜릿 잼 품은 바나나 크레이프',\n",
       " '[꿀BeeTV] 아무리 돈이 많아도 살 수 없는 것은? ',\n",
       " '기록, 또 기록… 케이팝에 한계란 없다']"
      ]
     },
     "execution_count": 15,
     "metadata": {},
     "output_type": "execute_result"
    }
   ],
   "source": [
    "short_title = shorts_df.news_title\n",
    "list(short_title)"
   ]
  },
  {
   "cell_type": "markdown",
   "id": "92a9d9e0-0c47-4d3c-b0df-cf9e7c5b7041",
   "metadata": {},
   "source": [
    "---"
   ]
  },
  {
   "cell_type": "markdown",
   "id": "a95ac2ae-51c2-40ab-8379-454cb503bd57",
   "metadata": {
    "tags": []
   },
   "source": [
    "### 데이터 삭제\n",
    "- 시리즈 기사 title과 그 외 text title 확인"
   ]
  },
  {
   "cell_type": "code",
   "execution_count": 16,
   "id": "40e60c63-2896-4584-8978-7a716613a92d",
   "metadata": {},
   "outputs": [],
   "source": [
    "# 전체 기사 대상 진행\n",
    "split_title = []\n",
    "\n",
    "for title in df.news_title:\n",
    "    # m = re.search(r'(?<=\\[).*(?=\\])', title)\n",
    "    m = re.search(r'\\[(.*?)\\]', title)\n",
    "    if m :\n",
    "        split_title.append(m.group())\n",
    "    else:\n",
    "        # sub_text = re.sub(r'[?]',\"\\?\",title)\n",
    "        split_title.append(title)"
   ]
  },
  {
   "cell_type": "code",
   "execution_count": 17,
   "id": "3c091038-0390-403e-bd9f-f9db7746906c",
   "metadata": {},
   "outputs": [],
   "source": [
    "df['split_title'] = split_title"
   ]
  },
  {
   "cell_type": "code",
   "execution_count": 18,
   "id": "c9195b62-8872-4114-a616-1dc508fc3624",
   "metadata": {},
   "outputs": [
    {
     "data": {
      "text/html": [
       "<div>\n",
       "<style scoped>\n",
       "    .dataframe tbody tr th:only-of-type {\n",
       "        vertical-align: middle;\n",
       "    }\n",
       "\n",
       "    .dataframe tbody tr th {\n",
       "        vertical-align: top;\n",
       "    }\n",
       "\n",
       "    .dataframe thead th {\n",
       "        text-align: right;\n",
       "    }\n",
       "</style>\n",
       "<table border=\"1\" class=\"dataframe\">\n",
       "  <thead>\n",
       "    <tr style=\"text-align: right;\">\n",
       "      <th></th>\n",
       "      <th>split_title</th>\n",
       "    </tr>\n",
       "  </thead>\n",
       "  <tbody>\n",
       "    <tr>\n",
       "      <th>0</th>\n",
       "      <td>[세상 속으로]</td>\n",
       "    </tr>\n",
       "    <tr>\n",
       "      <th>1</th>\n",
       "      <td>[뉴스탐험대]</td>\n",
       "    </tr>\n",
       "    <tr>\n",
       "      <th>2</th>\n",
       "      <td>[뉴스탐험대]</td>\n",
       "    </tr>\n",
       "    <tr>\n",
       "      <th>3</th>\n",
       "      <td>[뉴스탐험대]</td>\n",
       "    </tr>\n",
       "    <tr>\n",
       "      <th>4</th>\n",
       "      <td>잡히지 않는 火魔&lt;화마&gt;… 문화재 등 대규모 피해</td>\n",
       "    </tr>\n",
       "    <tr>\n",
       "      <th>5</th>\n",
       "      <td>[뉴스탐험대]</td>\n",
       "    </tr>\n",
       "    <tr>\n",
       "      <th>6</th>\n",
       "      <td>[우리의 보금자리, 놀라운 住居 상식]</td>\n",
       "    </tr>\n",
       "    <tr>\n",
       "      <th>7</th>\n",
       "      <td>[주목! 정보 레터]</td>\n",
       "    </tr>\n",
       "    <tr>\n",
       "      <th>8</th>\n",
       "      <td>[메시지 뉴스]</td>\n",
       "    </tr>\n",
       "    <tr>\n",
       "      <th>9</th>\n",
       "      <td>[뉴스탐험대]</td>\n",
       "    </tr>\n",
       "  </tbody>\n",
       "</table>\n",
       "</div>"
      ],
      "text/plain": [
       "                   split_title\n",
       "0                     [세상 속으로]\n",
       "1                      [뉴스탐험대]\n",
       "2                      [뉴스탐험대]\n",
       "3                      [뉴스탐험대]\n",
       "4  잡히지 않는 火魔<화마>… 문화재 등 대규모 피해\n",
       "5                      [뉴스탐험대]\n",
       "6        [우리의 보금자리, 놀라운 住居 상식]\n",
       "7                  [주목! 정보 레터]\n",
       "8                     [메시지 뉴스]\n",
       "9                      [뉴스탐험대]"
      ]
     },
     "execution_count": 18,
     "metadata": {},
     "output_type": "execute_result"
    }
   ],
   "source": [
    "df[['split_title']][:10]"
   ]
  },
  {
   "cell_type": "code",
   "execution_count": 19,
   "id": "8703c248-3533-48d4-b131-fc1b0ff6a96a",
   "metadata": {},
   "outputs": [
    {
     "data": {
      "text/plain": [
       "[뉴스탐험대]                  544\n",
       "[오늘의 키워드]                 86\n",
       "기자들의 수다                   77\n",
       "[메시지 뉴스]                  26\n",
       "[팝콘뉴스]                    26\n",
       "[주목! 정보 레터]               19\n",
       "[푸른 별, 지구를 지켜라]           15\n",
       "[ESG 기업 탐방]               14\n",
       "[이슬기의 슬기로운 스토리 잡스]        10\n",
       "[의학 정보 쏙쏙, 우리 아이 쑥쑥]       9\n",
       "[여러분의 생각은?]                8\n",
       "[기획]                       8\n",
       "[사진으로 보는 세상]               7\n",
       "[알차고 통통튀는 인터뷰]             7\n",
       "[현장]                       5\n",
       "[호국 보훈의 달 특집]              5\n",
       "[기자 수첩]                    5\n",
       "[출동! 명예기자]                 4\n",
       "[탄소 중립 기획]                 4\n",
       "[요리 쿡! 조리 쿡!]              4\n",
       "[세상 속으로]                   4\n",
       "[초등 트렌드]                   4\n",
       "[꿀BeeTV]                   4\n",
       "[알립니다]                     3\n",
       "[영상-출동! 명예기자]              3\n",
       "[현장 스케치]                   3\n",
       "[우리의 보금자리, 놀라운 住居 상식]      3\n",
       "[초등 줌터뷰]                   3\n",
       "[꿀beetv]                   3\n",
       "[생생~~영상뉴스]                 2\n",
       "[현장 취재]                    2\n",
       "간추린 소식                     2\n",
       "[뉴스타그램]                    2\n",
       "Name: split_title, dtype: int64"
      ]
     },
     "execution_count": 19,
     "metadata": {},
     "output_type": "execute_result"
    }
   ],
   "source": [
    "# 시리즈 기사 유니크 값 체크\n",
    "count_unique_title = df.split_title.value_counts()\n",
    "count_unique_title[count_unique_title >= 2]"
   ]
  },
  {
   "cell_type": "code",
   "execution_count": 20,
   "id": "4815fa5c-dbee-4164-9850-8d48e28a2b89",
   "metadata": {},
   "outputs": [],
   "source": [
    "# 200줄 이하 기사 대상 진행\n",
    "import re\n",
    "\n",
    "split_title = []\n",
    "\n",
    "for title in short_title:\n",
    "    m = re.search(r'\\[(.*?)\\]', title)\n",
    "    if m :\n",
    "        split_title.append(m.group())\n",
    "    else:\n",
    "        split_title.append(title)"
   ]
  },
  {
   "cell_type": "code",
   "execution_count": 21,
   "id": "a208c0e5-55fc-4365-99f5-da82725420e2",
   "metadata": {},
   "outputs": [
    {
     "data": {
      "text/plain": [
       "['[꿀beetv]',\n",
       " '기자들의 수다',\n",
       " '[일상 속 간단한 운동]',\n",
       " '잠자리 드론과 풍선 망원경? 과감한 박새의 사연은?',\n",
       " '[신자영의 5분 영어]',\n",
       " '[생생 인터뷰 현장!]',\n",
       " '[POPCORN NEWS]',\n",
       " '신자영의 5분 영어!',\n",
       " '[정답 공개]',\n",
       " '[생생~~영상뉴스]',\n",
       " '[꿀BEE]',\n",
       " '노릇하게 구워볼까? 폭신폭신 팬케이크',\n",
       " '초콜릿 잼 품은 바나나 크레이프',\n",
       " '[요리 쿡! 조리 쿡!]',\n",
       " \"편하게 들고 '쏙쏙' 한입 토스트 꼬치\",\n",
       " '기록, 또 기록… 케이팝에 한계란 없다',\n",
       " '[영상-출동! 명예기자]',\n",
       " '[카드뉴스]',\n",
       " '[동영상]',\n",
       " '[꿀BeeTV]',\n",
       " '[메시지 뉴스]',\n",
       " '[영상-맛있는 실험실]',\n",
       " '돌돌 말렸네! 맛있는 시금치 롤',\n",
       " '간편하게 한 끼 챙길 땐 쫀득쫀득 그래놀라 바']"
      ]
     },
     "execution_count": 21,
     "metadata": {},
     "output_type": "execute_result"
    }
   ],
   "source": [
    "list(set(split_title))"
   ]
  },
  {
   "cell_type": "code",
   "execution_count": 22,
   "id": "87eef965-77ea-4ed0-bb98-24f5baabd2ef",
   "metadata": {},
   "outputs": [
    {
     "name": "stdout",
     "output_type": "stream",
     "text": [
      "불용어 처리 전 df 크기: 1675\n"
     ]
    }
   ],
   "source": [
    "# 전체 기사에 대한 불용어 처리를 진행합니다\n",
    "print('불용어 처리 전 df 크기:',len(df))"
   ]
  },
  {
   "cell_type": "code",
   "execution_count": 23,
   "id": "be00418f-19b3-4073-963d-82f328340283",
   "metadata": {
    "tags": []
   },
   "outputs": [],
   "source": [
    "for title in split_title:\n",
    "    # 불용어 단어가 news_title에 포함되지 않은 데이터를 걸러냅니다\n",
    "    df = df[df['news_title'].apply(lambda x: title not in x)]\n",
    "    # 간혹 시리즈 타이틀이 기사 본문 안에서 시작하는 경우도 있습니다\n",
    "    df = df[df['news_article'].apply(lambda x: title not in x)]"
   ]
  },
  {
   "cell_type": "code",
   "execution_count": 24,
   "id": "c16713b7-9924-4660-9319-660935bfcb4b",
   "metadata": {},
   "outputs": [
    {
     "name": "stdout",
     "output_type": "stream",
     "text": [
      "불용어 처리 후 df 크기: 1538\n"
     ]
    }
   ],
   "source": [
    "print('불용어 처리 후 df 크기:',len(df))"
   ]
  },
  {
   "cell_type": "code",
   "execution_count": 25,
   "id": "4d739586-3c5e-4f1d-b081-19260b620b86",
   "metadata": {
    "tags": []
   },
   "outputs": [
    {
     "data": {
      "text/html": [
       "<div>\n",
       "<style scoped>\n",
       "    .dataframe tbody tr th:only-of-type {\n",
       "        vertical-align: middle;\n",
       "    }\n",
       "\n",
       "    .dataframe tbody tr th {\n",
       "        vertical-align: top;\n",
       "    }\n",
       "\n",
       "    .dataframe thead th {\n",
       "        text-align: right;\n",
       "    }\n",
       "</style>\n",
       "<table border=\"1\" class=\"dataframe\">\n",
       "  <thead>\n",
       "    <tr style=\"text-align: right;\">\n",
       "      <th></th>\n",
       "      <th>news_title</th>\n",
       "      <th>news_subtitle</th>\n",
       "      <th>news_article</th>\n",
       "      <th>news_url</th>\n",
       "      <th>news_len</th>\n",
       "      <th>split_title</th>\n",
       "    </tr>\n",
       "  </thead>\n",
       "  <tbody>\n",
       "    <tr>\n",
       "      <th>0</th>\n",
       "      <td>[세상 속으로] \"러시아 고양이는 안 됩니다\"</td>\n",
       "      <td>국제고양이연맹, '월드 캣 쇼'서 퇴출</td>\n",
       "      <td>전 세계가 우크라이나를 침공(侵攻)한 러시아에 각종 제재를 가하고 있다. 이에 러시...</td>\n",
       "      <td>http://kid.chosun.com/site/data/html_dir/2022/...</td>\n",
       "      <td>469</td>\n",
       "      <td>[세상 속으로]</td>\n",
       "    </tr>\n",
       "    <tr>\n",
       "      <th>1</th>\n",
       "      <td>[뉴스탐험대] 홀로 1000㎞… 우크라 國境&lt;국경&gt; 탈출한 11세 소년</td>\n",
       "      <td></td>\n",
       "      <td>우크라이나 소년이 홀로 국경(國境)을 넘은 뭉클한 연이 전해졌다. 영국 매체 가디언...</td>\n",
       "      <td>http://kid.chosun.com/site/data/html_dir/2022/...</td>\n",
       "      <td>380</td>\n",
       "      <td>[뉴스탐험대]</td>\n",
       "    </tr>\n",
       "  </tbody>\n",
       "</table>\n",
       "</div>"
      ],
      "text/plain": [
       "                                news_title          news_subtitle  \\\n",
       "0                [세상 속으로] \"러시아 고양이는 안 됩니다\"  국제고양이연맹, '월드 캣 쇼'서 퇴출   \n",
       "1  [뉴스탐험대] 홀로 1000㎞… 우크라 國境<국경> 탈출한 11세 소년                          \n",
       "\n",
       "                                        news_article  \\\n",
       "0  전 세계가 우크라이나를 침공(侵攻)한 러시아에 각종 제재를 가하고 있다. 이에 러시...   \n",
       "1  우크라이나 소년이 홀로 국경(國境)을 넘은 뭉클한 연이 전해졌다. 영국 매체 가디언...   \n",
       "\n",
       "                                            news_url  news_len split_title  \n",
       "0  http://kid.chosun.com/site/data/html_dir/2022/...       469    [세상 속으로]  \n",
       "1  http://kid.chosun.com/site/data/html_dir/2022/...       380     [뉴스탐험대]  "
      ]
     },
     "execution_count": 25,
     "metadata": {},
     "output_type": "execute_result"
    }
   ],
   "source": [
    "# 기사의 길이가 300개 아래인 경우 버림\n",
    "# 문장 요약을 위해 세 문장보다 많은 기사를 확보하기 위함\n",
    "df = df[df['news_len'] > 300].reset_index(drop=True)\n",
    "df.head(2)"
   ]
  },
  {
   "cell_type": "code",
   "execution_count": 26,
   "id": "c876922e-63d1-4949-b8f8-2ba958f787e0",
   "metadata": {},
   "outputs": [
    {
     "name": "stdout",
     "output_type": "stream",
     "text": [
      "짧은 기사 처리 후 df 크기: 1527\n"
     ]
    }
   ],
   "source": [
    "# 초기 데이터 : 1675\n",
    "print('짧은 기사 처리 후 df 크기:',len(df))"
   ]
  },
  {
   "cell_type": "markdown",
   "id": "1619e53b-2e14-4ff1-a036-1d2824fc7c37",
   "metadata": {},
   "source": [
    "---"
   ]
  },
  {
   "cell_type": "markdown",
   "id": "6466f068-3d8a-4a5b-a1c1-382be5a30830",
   "metadata": {},
   "source": [
    "### 특수문자 및 공백 제거"
   ]
  },
  {
   "cell_type": "markdown",
   "id": "7efb9192-1c9c-46aa-adac-aa9dfc5c4b10",
   "metadata": {},
   "source": [
    "**0. Basic**\n",
    "- 기초적인 전처리,\n",
    "- html tag 제거(크롤링한 데이터일경우)\n",
    "- 숫자, 영어, 특수문자 등 필요하지 않은 언어 제거\n",
    "- Lowercasing\n",
    "- \"@%*=()/+ 와 같은 punctuation(문장부호) 제거\n",
    "- 한자 - 삭제할지 고민\n"
   ]
  },
  {
   "cell_type": "code",
   "execution_count": 27,
   "id": "8c987113-6fc7-4635-b616-040bc45332aa",
   "metadata": {},
   "outputs": [],
   "source": [
    "import re \n",
    "def clean_text(text): \n",
    "    text = re.sub(r'(\\[)(.*?)(\\])','',str(text)) # remove [title]\n",
    "    text = re.sub(r'(\\()(.*?)(\\))', '', text)  # 소괄호 (세부 설명\n",
    "    text = re.sub(r'[?!]', '.', text)          # ?! => 마침표 처리\n",
    "    text = re.sub(r'[\\,\\·\\:\\-\\_]', ' ', text)  # 문장부호 구분자 => 공백 처리\n",
    "    # text = text.lower() #lower case \n",
    "    text = re.sub(r'\\s+', ' ', text) #remove extra space\n",
    "    # text = re.sub(r'<[^>]+>','',text) #remove Html tags \n",
    "    text = re.sub(r'<[^가-힣]+>','',text)# 홑화살괄호 => 한글만 빼고 제거\n",
    "    text = re.sub(r'^\\s+', '', text) #remove space from start\n",
    "    text = re.sub(r'\\s+$', '', text) #remove space from the end\n",
    "    text = re.sub('[^가-힣\\w. ]', '', text)    # 한글, 문자, 숫자, 마침표, 공백 제외 제거\n",
    "    text = re.sub(r'[一-龥]', '', text) #remove Chinese character\n",
    "    text = re.sub('\\s{2,}', ' ', text)        # 2번 이상의 space 제거\n",
    "    text = text.strip()\n",
    "    return text"
   ]
  },
  {
   "cell_type": "code",
   "execution_count": 28,
   "id": "cbbddac7-8d83-4ecc-9449-43a1dd052ac6",
   "metadata": {},
   "outputs": [
    {
     "data": {
      "text/plain": [
       "'화마 고양이. 러시아 고양이는 안 됩니다.'"
      ]
     },
     "execution_count": 28,
     "metadata": {},
     "output_type": "execute_result"
    }
   ],
   "source": [
    "text = ' <p>[세상 속으로] <화마> \"고양이?  러시아·고양이(소말리·스핑크스·오리엔탈 등...)는 안  됩니다.無 </p>\" '\n",
    "clean_text(text)"
   ]
  },
  {
   "cell_type": "code",
   "execution_count": 29,
   "id": "553eadba-4848-4dc3-96c3-511e5442c292",
   "metadata": {},
   "outputs": [],
   "source": [
    "df[\"news_title\"] = df[\"news_title\"].apply(clean_text)\n",
    "df[\"news_subtitle\"] = df[\"news_subtitle\"].apply(clean_text)\n",
    "df[\"news_article\"] = df[\"news_article\"].apply(clean_text)"
   ]
  },
  {
   "cell_type": "code",
   "execution_count": 30,
   "id": "6ed31ef4-83a2-417a-825c-5f5d8667289d",
   "metadata": {},
   "outputs": [
    {
     "data": {
      "text/html": [
       "<div>\n",
       "<style scoped>\n",
       "    .dataframe tbody tr th:only-of-type {\n",
       "        vertical-align: middle;\n",
       "    }\n",
       "\n",
       "    .dataframe tbody tr th {\n",
       "        vertical-align: top;\n",
       "    }\n",
       "\n",
       "    .dataframe thead th {\n",
       "        text-align: right;\n",
       "    }\n",
       "</style>\n",
       "<table border=\"1\" class=\"dataframe\">\n",
       "  <thead>\n",
       "    <tr style=\"text-align: right;\">\n",
       "      <th></th>\n",
       "      <th>news_title</th>\n",
       "      <th>news_subtitle</th>\n",
       "      <th>news_article</th>\n",
       "      <th>news_url</th>\n",
       "      <th>news_len</th>\n",
       "      <th>split_title</th>\n",
       "    </tr>\n",
       "  </thead>\n",
       "  <tbody>\n",
       "    <tr>\n",
       "      <th>0</th>\n",
       "      <td>러시아 고양이는 안 됩니다</td>\n",
       "      <td>국제고양이연맹 월드 캣 쇼서 퇴출</td>\n",
       "      <td>전 세계가 우크라이나를 침공한 러시아에 각종 제재를 가하고 있다. 이에 러시아 고양...</td>\n",
       "      <td>http://kid.chosun.com/site/data/html_dir/2022/...</td>\n",
       "      <td>469</td>\n",
       "      <td>[세상 속으로]</td>\n",
       "    </tr>\n",
       "    <tr>\n",
       "      <th>1</th>\n",
       "      <td>홀로 1000 우크라 국경 탈출한 11세 소년</td>\n",
       "      <td></td>\n",
       "      <td>우크라이나 소년이 홀로 국경을 넘은 뭉클한 연이 전해졌다. 영국 매체 가디언과 메트...</td>\n",
       "      <td>http://kid.chosun.com/site/data/html_dir/2022/...</td>\n",
       "      <td>380</td>\n",
       "      <td>[뉴스탐험대]</td>\n",
       "    </tr>\n",
       "    <tr>\n",
       "      <th>2</th>\n",
       "      <td>온라인 쇼핑몰 니켈 납투성이 장신구 주의</td>\n",
       "      <td></td>\n",
       "      <td>온라인 쇼핑몰에서 무알러지 무니켈 도금 등으로 홍보 판매되는 액세서리에서 기준치를 ...</td>\n",
       "      <td>http://kid.chosun.com/site/data/html_dir/2022/...</td>\n",
       "      <td>446</td>\n",
       "      <td>[뉴스탐험대]</td>\n",
       "    </tr>\n",
       "    <tr>\n",
       "      <th>3</th>\n",
       "      <td>코로나에 강한 혈액형 있다 O형 위험 최저</td>\n",
       "      <td></td>\n",
       "      <td>혈액형이 O형인 람이 코로나 바이러스 감염 시 망 위중증 위험이 다른 혈액형보다 낮...</td>\n",
       "      <td>http://kid.chosun.com/site/data/html_dir/2022/...</td>\n",
       "      <td>451</td>\n",
       "      <td>[뉴스탐험대]</td>\n",
       "    </tr>\n",
       "    <tr>\n",
       "      <th>4</th>\n",
       "      <td>잡히지 않는 화마 문화재 등 대규모 피해</td>\n",
       "      <td>서울 면적 4분의 1 이상 불타</td>\n",
       "      <td>최근 발생한 동해안 지역 대규모 산불로 인해 막대한 산림 피해가 우려되고 있다. 지...</td>\n",
       "      <td>http://kid.chosun.com/site/data/html_dir/2022/...</td>\n",
       "      <td>620</td>\n",
       "      <td>잡히지 않는 火魔&lt;화마&gt;… 문화재 등 대규모 피해</td>\n",
       "    </tr>\n",
       "    <tr>\n",
       "      <th>...</th>\n",
       "      <td>...</td>\n",
       "      <td>...</td>\n",
       "      <td>...</td>\n",
       "      <td>...</td>\n",
       "      <td>...</td>\n",
       "      <td>...</td>\n",
       "    </tr>\n",
       "    <tr>\n",
       "      <th>1522</th>\n",
       "      <td>돼지 뇌에 컴퓨터 칩 연결 생각만으로 기계 움직일 수 있을까.</td>\n",
       "      <td></td>\n",
       "      <td>머스크 유튜브에 실험 돼지 거트루드 공개 뇌 질환 치료 도움 올해 안에 람 적용 손...</td>\n",
       "      <td>http://kid.chosun.com/site/data/html_dir/2020/...</td>\n",
       "      <td>1124</td>\n",
       "      <td>돼지 뇌에 컴퓨터 칩 연결… 생각만으로 기계 움직일 수 있을까?</td>\n",
       "    </tr>\n",
       "    <tr>\n",
       "      <th>1523</th>\n",
       "      <td>탑승형 로봇 프로스테시스 조종사를 뽑습니다.</td>\n",
       "      <td></td>\n",
       "      <td>람의 팔다리에 연결해 조종 로봇 활용한 경주 스포츠 만들 것 람이 탑승한 로봇끼리 ...</td>\n",
       "      <td>http://kid.chosun.com/site/data/html_dir/2020/...</td>\n",
       "      <td>721</td>\n",
       "      <td>탑승형 로봇 '프로스테시스' 조종사를 뽑습니다!</td>\n",
       "    </tr>\n",
       "    <tr>\n",
       "      <th>1524</th>\n",
       "      <td>모험 떠날 준비 됐니. 그럼 책장을 펼쳐봐.</td>\n",
       "      <td></td>\n",
       "      <td>띵똥. 선물이 도착했습니다. 판타지 소설 해리포터의 작가 조앤 롤링이 코로나19로 ...</td>\n",
       "      <td>http://kid.chosun.com/site/data/html_dir/2020/...</td>\n",
       "      <td>1668</td>\n",
       "      <td>모험 떠날 준비 됐니? 그럼, 책장을 펼쳐봐!</td>\n",
       "    </tr>\n",
       "    <tr>\n",
       "      <th>1525</th>\n",
       "      <td>방탄소년단 블랙핑크 세계 음원시장 올킬</td>\n",
       "      <td></td>\n",
       "      <td>아이돌 그룹 방탄소년단과 블랙핑크가 세계 무대를 뒤흔들고 있다. 글로벌 시장을 겨냥...</td>\n",
       "      <td>http://kid.chosun.com/site/data/html_dir/2020/...</td>\n",
       "      <td>756</td>\n",
       "      <td>방탄소년단·블랙핑크, 세계 음원시장 '올킬'</td>\n",
       "    </tr>\n",
       "    <tr>\n",
       "      <th>1526</th>\n",
       "      <td>알파고가 이세돌 9단을 이긴 건 딥러닝 덕분이지</td>\n",
       "      <td></td>\n",
       "      <td>인공 지능 의가 있는 병원을 상상한 적 있니. 놀랍게도 벌써 우리나라 한 병원에서는...</td>\n",
       "      <td>http://kid.chosun.com/site/data/html_dir/2020/...</td>\n",
       "      <td>1717</td>\n",
       "      <td>알파고가 이세돌 9단을 이긴 건 '딥러닝' 덕분이지</td>\n",
       "    </tr>\n",
       "  </tbody>\n",
       "</table>\n",
       "<p>1527 rows × 6 columns</p>\n",
       "</div>"
      ],
      "text/plain": [
       "                              news_title       news_subtitle  \\\n",
       "0                         러시아 고양이는 안 됩니다  국제고양이연맹 월드 캣 쇼서 퇴출   \n",
       "1              홀로 1000 우크라 국경 탈출한 11세 소년                       \n",
       "2                 온라인 쇼핑몰 니켈 납투성이 장신구 주의                       \n",
       "3                코로나에 강한 혈액형 있다 O형 위험 최저                       \n",
       "4                 잡히지 않는 화마 문화재 등 대규모 피해   서울 면적 4분의 1 이상 불타   \n",
       "...                                  ...                 ...   \n",
       "1522  돼지 뇌에 컴퓨터 칩 연결 생각만으로 기계 움직일 수 있을까.                       \n",
       "1523            탑승형 로봇 프로스테시스 조종사를 뽑습니다.                       \n",
       "1524            모험 떠날 준비 됐니. 그럼 책장을 펼쳐봐.                       \n",
       "1525               방탄소년단 블랙핑크 세계 음원시장 올킬                       \n",
       "1526          알파고가 이세돌 9단을 이긴 건 딥러닝 덕분이지                       \n",
       "\n",
       "                                           news_article  \\\n",
       "0     전 세계가 우크라이나를 침공한 러시아에 각종 제재를 가하고 있다. 이에 러시아 고양...   \n",
       "1     우크라이나 소년이 홀로 국경을 넘은 뭉클한 연이 전해졌다. 영국 매체 가디언과 메트...   \n",
       "2     온라인 쇼핑몰에서 무알러지 무니켈 도금 등으로 홍보 판매되는 액세서리에서 기준치를 ...   \n",
       "3     혈액형이 O형인 람이 코로나 바이러스 감염 시 망 위중증 위험이 다른 혈액형보다 낮...   \n",
       "4     최근 발생한 동해안 지역 대규모 산불로 인해 막대한 산림 피해가 우려되고 있다. 지...   \n",
       "...                                                 ...   \n",
       "1522  머스크 유튜브에 실험 돼지 거트루드 공개 뇌 질환 치료 도움 올해 안에 람 적용 손...   \n",
       "1523  람의 팔다리에 연결해 조종 로봇 활용한 경주 스포츠 만들 것 람이 탑승한 로봇끼리 ...   \n",
       "1524  띵똥. 선물이 도착했습니다. 판타지 소설 해리포터의 작가 조앤 롤링이 코로나19로 ...   \n",
       "1525  아이돌 그룹 방탄소년단과 블랙핑크가 세계 무대를 뒤흔들고 있다. 글로벌 시장을 겨냥...   \n",
       "1526  인공 지능 의가 있는 병원을 상상한 적 있니. 놀랍게도 벌써 우리나라 한 병원에서는...   \n",
       "\n",
       "                                               news_url  news_len  \\\n",
       "0     http://kid.chosun.com/site/data/html_dir/2022/...       469   \n",
       "1     http://kid.chosun.com/site/data/html_dir/2022/...       380   \n",
       "2     http://kid.chosun.com/site/data/html_dir/2022/...       446   \n",
       "3     http://kid.chosun.com/site/data/html_dir/2022/...       451   \n",
       "4     http://kid.chosun.com/site/data/html_dir/2022/...       620   \n",
       "...                                                 ...       ...   \n",
       "1522  http://kid.chosun.com/site/data/html_dir/2020/...      1124   \n",
       "1523  http://kid.chosun.com/site/data/html_dir/2020/...       721   \n",
       "1524  http://kid.chosun.com/site/data/html_dir/2020/...      1668   \n",
       "1525  http://kid.chosun.com/site/data/html_dir/2020/...       756   \n",
       "1526  http://kid.chosun.com/site/data/html_dir/2020/...      1717   \n",
       "\n",
       "                              split_title  \n",
       "0                                [세상 속으로]  \n",
       "1                                 [뉴스탐험대]  \n",
       "2                                 [뉴스탐험대]  \n",
       "3                                 [뉴스탐험대]  \n",
       "4             잡히지 않는 火魔<화마>… 문화재 등 대규모 피해  \n",
       "...                                   ...  \n",
       "1522  돼지 뇌에 컴퓨터 칩 연결… 생각만으로 기계 움직일 수 있을까?  \n",
       "1523           탑승형 로봇 '프로스테시스' 조종사를 뽑습니다!  \n",
       "1524            모험 떠날 준비 됐니? 그럼, 책장을 펼쳐봐!  \n",
       "1525             방탄소년단·블랙핑크, 세계 음원시장 '올킬'  \n",
       "1526         알파고가 이세돌 9단을 이긴 건 '딥러닝' 덕분이지  \n",
       "\n",
       "[1527 rows x 6 columns]"
      ]
     },
     "execution_count": 30,
     "metadata": {},
     "output_type": "execute_result"
    }
   ],
   "source": [
    "df.iloc[:, ]"
   ]
  },
  {
   "cell_type": "markdown",
   "id": "86796ec8-4368-49c6-a911-616c19030255",
   "metadata": {},
   "source": [
    "---"
   ]
  },
  {
   "cell_type": "markdown",
   "id": "277997a5-60f0-4496-b5a7-71f6318b582d",
   "metadata": {},
   "source": [
    "## 3. news_article 문장 분리"
   ]
  },
  {
   "cell_type": "markdown",
   "id": "4dab187e-5af0-4f88-adf8-261b963540e9",
   "metadata": {},
   "source": [
    "### split() 사용"
   ]
  },
  {
   "cell_type": "code",
   "execution_count": 31,
   "id": "dcf0f441-ee31-4704-abed-102d1a9bc80e",
   "metadata": {},
   "outputs": [],
   "source": [
    "# (\\. ) 온점으로 분리\n",
    "df[\"split_article\"] = df.news_article.str.split('\\. ')"
   ]
  },
  {
   "cell_type": "code",
   "execution_count": 32,
   "id": "7f567256-c859-4295-8ee7-1e9f087a2690",
   "metadata": {},
   "outputs": [
    {
     "data": {
      "text/plain": [
       "0       [전 세계가 우크라이나를 침공한 러시아에 각종 제재를 가하고 있다, 이에 러시아 고...\n",
       "1       [우크라이나 소년이 홀로 국경을 넘은 뭉클한 연이 전해졌다, 영국 매체 가디언과 메...\n",
       "2       [온라인 쇼핑몰에서 무알러지 무니켈 도금 등으로 홍보 판매되는 액세서리에서 기준치를...\n",
       "3       [혈액형이 O형인 람이 코로나 바이러스 감염 시 망 위중증 위험이 다른 혈액형보다 ...\n",
       "4       [최근 발생한 동해안 지역 대규모 산불로 인해 막대한 산림 피해가 우려되고 있다, ...\n",
       "                              ...                        \n",
       "1522    [머스크 유튜브에 실험 돼지 거트루드 공개 뇌 질환 치료 도움 올해 안에 람 적용 ...\n",
       "1523    [람의 팔다리에 연결해 조종 로봇 활용한 경주 스포츠 만들 것 람이 탑승한 로봇끼리...\n",
       "1524    [띵똥, 선물이 도착했습니다, 판타지 소설 해리포터의 작가 조앤 롤링이 코로나19로...\n",
       "1525    [아이돌 그룹 방탄소년단과 블랙핑크가 세계 무대를 뒤흔들고 있다, 글로벌 시장을 겨...\n",
       "1526    [인공 지능 의가 있는 병원을 상상한 적 있니, 놀랍게도 벌써 우리나라 한 병원에서...\n",
       "Name: split_article, Length: 1527, dtype: object"
      ]
     },
     "execution_count": 32,
     "metadata": {},
     "output_type": "execute_result"
    }
   ],
   "source": [
    "df[\"split_article\"]"
   ]
  },
  {
   "cell_type": "code",
   "execution_count": 33,
   "id": "df584cff-8eb7-478b-bb2c-93a0c7dcee5c",
   "metadata": {},
   "outputs": [
    {
     "data": {
      "text/plain": [
       "'전 세계가 우크라이나를 침공한 러시아에 각종 제재를 가하고 있다. 이에 러시아 고양이도 국제 대회에 출전하지 못한다는 소식이 전해졌다. 지난 3일 영국 일간 데일리메일에 따르면 70여 년 역를 가 국제고양이연맹이 최근 성명을 통해 월드 캣 쇼에 러시아 소속 고양이 참가를 금지하겠다고 밝혔다. 고양이연맹은 예쁜 고양이 대회를 비롯해 매년 700여 개의 고양이 관련 대회를 주최해왔다. 연맹 측은 오는 5월 말까지 러시아산 고양이의 수입을 금지하고 러시아에서 태어난 고양이의 혈통서 등록도 허용하지 않겠다며 우크라이나를 향한 러시아의 잔혹한 행위에 대해 더 이상 침묵할 수 없었다고 밝혔다. 이어 우크라이나 난민과 피란 중인 반려동물을 위한 기금도 마련할 것이라고 덧붙였다. 러시아 고양이의 국제 대회 출전 금지령에 대해 어떻게 생각하나요.'"
      ]
     },
     "execution_count": 33,
     "metadata": {},
     "output_type": "execute_result"
    }
   ],
   "source": [
    "df.news_article[0]"
   ]
  },
  {
   "cell_type": "code",
   "execution_count": 34,
   "id": "4bdea063-9ef3-42de-bbc0-4fc912a95eb2",
   "metadata": {},
   "outputs": [
    {
     "data": {
      "text/plain": [
       "['전 세계가 우크라이나를 침공한 러시아에 각종 제재를 가하고 있다',\n",
       " '이에 러시아 고양이도 국제 대회에 출전하지 못한다는 소식이 전해졌다',\n",
       " '지난 3일 영국 일간 데일리메일에 따르면 70여 년 역를 가 국제고양이연맹이 최근 성명을 통해 월드 캣 쇼에 러시아 소속 고양이 참가를 금지하겠다고 밝혔다',\n",
       " '고양이연맹은 예쁜 고양이 대회를 비롯해 매년 700여 개의 고양이 관련 대회를 주최해왔다',\n",
       " '연맹 측은 오는 5월 말까지 러시아산 고양이의 수입을 금지하고 러시아에서 태어난 고양이의 혈통서 등록도 허용하지 않겠다며 우크라이나를 향한 러시아의 잔혹한 행위에 대해 더 이상 침묵할 수 없었다고 밝혔다',\n",
       " '이어 우크라이나 난민과 피란 중인 반려동물을 위한 기금도 마련할 것이라고 덧붙였다',\n",
       " '러시아 고양이의 국제 대회 출전 금지령에 대해 어떻게 생각하나요.']"
      ]
     },
     "execution_count": 34,
     "metadata": {},
     "output_type": "execute_result"
    }
   ],
   "source": [
    "df[\"split_article\"][0]"
   ]
  },
  {
   "cell_type": "code",
   "execution_count": 35,
   "id": "f1748954-a785-40c4-a991-250bc9859b31",
   "metadata": {},
   "outputs": [
    {
     "data": {
      "text/plain": [
       "'전 세계가 우크라이나를 침공한 러시아에 각종 제재를 가하고 있다'"
      ]
     },
     "execution_count": 35,
     "metadata": {},
     "output_type": "execute_result"
    }
   ],
   "source": [
    "df[\"split_article\"][0][0]"
   ]
  },
  {
   "cell_type": "code",
   "execution_count": 36,
   "id": "122a6693-76dc-4289-879b-263a63f23368",
   "metadata": {},
   "outputs": [
    {
     "data": {
      "text/html": [
       "<div>\n",
       "<style scoped>\n",
       "    .dataframe tbody tr th:only-of-type {\n",
       "        vertical-align: middle;\n",
       "    }\n",
       "\n",
       "    .dataframe tbody tr th {\n",
       "        vertical-align: top;\n",
       "    }\n",
       "\n",
       "    .dataframe thead th {\n",
       "        text-align: right;\n",
       "    }\n",
       "</style>\n",
       "<table border=\"1\" class=\"dataframe\">\n",
       "  <thead>\n",
       "    <tr style=\"text-align: right;\">\n",
       "      <th></th>\n",
       "      <th>news_len</th>\n",
       "      <th>split_title</th>\n",
       "      <th>split_article</th>\n",
       "    </tr>\n",
       "  </thead>\n",
       "  <tbody>\n",
       "    <tr>\n",
       "      <th>0</th>\n",
       "      <td>469</td>\n",
       "      <td>[세상 속으로]</td>\n",
       "      <td>[전 세계가 우크라이나를 침공한 러시아에 각종 제재를 가하고 있다, 이에 러시아 고...</td>\n",
       "    </tr>\n",
       "    <tr>\n",
       "      <th>1</th>\n",
       "      <td>380</td>\n",
       "      <td>[뉴스탐험대]</td>\n",
       "      <td>[우크라이나 소년이 홀로 국경을 넘은 뭉클한 연이 전해졌다, 영국 매체 가디언과 메...</td>\n",
       "    </tr>\n",
       "    <tr>\n",
       "      <th>2</th>\n",
       "      <td>446</td>\n",
       "      <td>[뉴스탐험대]</td>\n",
       "      <td>[온라인 쇼핑몰에서 무알러지 무니켈 도금 등으로 홍보 판매되는 액세서리에서 기준치를...</td>\n",
       "    </tr>\n",
       "    <tr>\n",
       "      <th>3</th>\n",
       "      <td>451</td>\n",
       "      <td>[뉴스탐험대]</td>\n",
       "      <td>[혈액형이 O형인 람이 코로나 바이러스 감염 시 망 위중증 위험이 다른 혈액형보다 ...</td>\n",
       "    </tr>\n",
       "    <tr>\n",
       "      <th>4</th>\n",
       "      <td>620</td>\n",
       "      <td>잡히지 않는 火魔&lt;화마&gt;… 문화재 등 대규모 피해</td>\n",
       "      <td>[최근 발생한 동해안 지역 대규모 산불로 인해 막대한 산림 피해가 우려되고 있다, ...</td>\n",
       "    </tr>\n",
       "    <tr>\n",
       "      <th>...</th>\n",
       "      <td>...</td>\n",
       "      <td>...</td>\n",
       "      <td>...</td>\n",
       "    </tr>\n",
       "    <tr>\n",
       "      <th>1522</th>\n",
       "      <td>1124</td>\n",
       "      <td>돼지 뇌에 컴퓨터 칩 연결… 생각만으로 기계 움직일 수 있을까?</td>\n",
       "      <td>[머스크 유튜브에 실험 돼지 거트루드 공개 뇌 질환 치료 도움 올해 안에 람 적용 ...</td>\n",
       "    </tr>\n",
       "    <tr>\n",
       "      <th>1523</th>\n",
       "      <td>721</td>\n",
       "      <td>탑승형 로봇 '프로스테시스' 조종사를 뽑습니다!</td>\n",
       "      <td>[람의 팔다리에 연결해 조종 로봇 활용한 경주 스포츠 만들 것 람이 탑승한 로봇끼리...</td>\n",
       "    </tr>\n",
       "    <tr>\n",
       "      <th>1524</th>\n",
       "      <td>1668</td>\n",
       "      <td>모험 떠날 준비 됐니? 그럼, 책장을 펼쳐봐!</td>\n",
       "      <td>[띵똥, 선물이 도착했습니다, 판타지 소설 해리포터의 작가 조앤 롤링이 코로나19로...</td>\n",
       "    </tr>\n",
       "    <tr>\n",
       "      <th>1525</th>\n",
       "      <td>756</td>\n",
       "      <td>방탄소년단·블랙핑크, 세계 음원시장 '올킬'</td>\n",
       "      <td>[아이돌 그룹 방탄소년단과 블랙핑크가 세계 무대를 뒤흔들고 있다, 글로벌 시장을 겨...</td>\n",
       "    </tr>\n",
       "    <tr>\n",
       "      <th>1526</th>\n",
       "      <td>1717</td>\n",
       "      <td>알파고가 이세돌 9단을 이긴 건 '딥러닝' 덕분이지</td>\n",
       "      <td>[인공 지능 의가 있는 병원을 상상한 적 있니, 놀랍게도 벌써 우리나라 한 병원에서...</td>\n",
       "    </tr>\n",
       "  </tbody>\n",
       "</table>\n",
       "<p>1527 rows × 3 columns</p>\n",
       "</div>"
      ],
      "text/plain": [
       "      news_len                          split_title  \\\n",
       "0          469                             [세상 속으로]   \n",
       "1          380                              [뉴스탐험대]   \n",
       "2          446                              [뉴스탐험대]   \n",
       "3          451                              [뉴스탐험대]   \n",
       "4          620          잡히지 않는 火魔<화마>… 문화재 등 대규모 피해   \n",
       "...        ...                                  ...   \n",
       "1522      1124  돼지 뇌에 컴퓨터 칩 연결… 생각만으로 기계 움직일 수 있을까?   \n",
       "1523       721           탑승형 로봇 '프로스테시스' 조종사를 뽑습니다!   \n",
       "1524      1668            모험 떠날 준비 됐니? 그럼, 책장을 펼쳐봐!   \n",
       "1525       756             방탄소년단·블랙핑크, 세계 음원시장 '올킬'   \n",
       "1526      1717         알파고가 이세돌 9단을 이긴 건 '딥러닝' 덕분이지   \n",
       "\n",
       "                                          split_article  \n",
       "0     [전 세계가 우크라이나를 침공한 러시아에 각종 제재를 가하고 있다, 이에 러시아 고...  \n",
       "1     [우크라이나 소년이 홀로 국경을 넘은 뭉클한 연이 전해졌다, 영국 매체 가디언과 메...  \n",
       "2     [온라인 쇼핑몰에서 무알러지 무니켈 도금 등으로 홍보 판매되는 액세서리에서 기준치를...  \n",
       "3     [혈액형이 O형인 람이 코로나 바이러스 감염 시 망 위중증 위험이 다른 혈액형보다 ...  \n",
       "4     [최근 발생한 동해안 지역 대규모 산불로 인해 막대한 산림 피해가 우려되고 있다, ...  \n",
       "...                                                 ...  \n",
       "1522  [머스크 유튜브에 실험 돼지 거트루드 공개 뇌 질환 치료 도움 올해 안에 람 적용 ...  \n",
       "1523  [람의 팔다리에 연결해 조종 로봇 활용한 경주 스포츠 만들 것 람이 탑승한 로봇끼리...  \n",
       "1524  [띵똥, 선물이 도착했습니다, 판타지 소설 해리포터의 작가 조앤 롤링이 코로나19로...  \n",
       "1525  [아이돌 그룹 방탄소년단과 블랙핑크가 세계 무대를 뒤흔들고 있다, 글로벌 시장을 겨...  \n",
       "1526  [인공 지능 의가 있는 병원을 상상한 적 있니, 놀랍게도 벌써 우리나라 한 병원에서...  \n",
       "\n",
       "[1527 rows x 3 columns]"
      ]
     },
     "execution_count": 36,
     "metadata": {},
     "output_type": "execute_result"
    }
   ],
   "source": [
    "df.iloc[:, 4:]"
   ]
  },
  {
   "cell_type": "markdown",
   "id": "5fbe8758-4538-43ca-a9ec-7e318b3fc2d0",
   "metadata": {},
   "source": [
    "### nltk 활용"
   ]
  },
  {
   "cell_type": "code",
   "execution_count": 51,
   "id": "ee33233a-0ae6-492c-873f-46ca4406c7d8",
   "metadata": {},
   "outputs": [],
   "source": [
    "# Series to list type\n",
    "#news_list = news_summary.news_article_clean.to_list()"
   ]
  },
  {
   "cell_type": "code",
   "execution_count": 37,
   "id": "aa18ea7d-0c59-4cae-850f-0aa1ed0b821c",
   "metadata": {},
   "outputs": [
    {
     "name": "stdout",
     "output_type": "stream",
     "text": [
      "['전 세계가 우크라이나를 침공한 러시아에 각종 제재를 가하고 있다.',\n",
      "'이에 러시아 고양이도 국제 대회에 출전하지 못한다는 소식이 전해졌다.',\n",
      "'지난 3일 영국 일간 데일리메일에 따르면 70여 년 역를 가 국제고양이연맹이 최근 성명을 통해 월드 캣 쇼에 러시아 소속 고양이 참가를 '\n",
      "'금지하겠다고 밝혔다.',\n",
      "'고양이연맹은 예쁜 고양이 대회를 비롯해 매년 700여 개의 고양이 관련 대회를 주최해왔다.',\n",
      "'연맹 측은 오는 5월 말까지 러시아산 고양이의 수입을 금지하고 러시아에서 태어난 고양이의 혈통서 등록도 허용하지 않겠다며 우크라이나를 향한 '\n",
      "'러시아의 잔혹한 행위에 대해 더 이상 침묵할 수 없었다고 밝혔다.',\n",
      "'이어 우크라이나 난민과 피란 중인 반려동물을 위한 기금도 마련할 것이라고 덧붙였다.',\n",
      "'러시아 고양이의 국제 대회 출전 금지령에 대해 어떻게 생각하나요.']\n"
     ]
    }
   ],
   "source": [
    "from nltk.tokenize import sent_tokenize\n",
    "import pprint\n",
    "pp = pprint.PrettyPrinter(indent=0)\n",
    "\n",
    "article_text = df.news_article[0]\n",
    "# print('문장 토큰화1 :',sent_tokenize(text))\n",
    "pp.pprint(sent_tokenize(article_text))"
   ]
  },
  {
   "cell_type": "markdown",
   "id": "bd459215-323e-439d-8502-d783840be38d",
   "metadata": {},
   "source": [
    "---"
   ]
  },
  {
   "cell_type": "markdown",
   "id": "8edc0902-f324-4626-86e7-cddd2d73e1ec",
   "metadata": {},
   "source": [
    "## 4. 전처리 끝난 DataFrame 재생성\n",
    "- 라벨링 판정 form에 맞춰 DataFrame 재생성"
   ]
  },
  {
   "cell_type": "code",
   "execution_count": 38,
   "id": "7a259bc4-6b41-4cdd-b850-4d4a74cd3753",
   "metadata": {
    "tags": []
   },
   "outputs": [
    {
     "data": {
      "text/html": [
       "<div>\n",
       "<style scoped>\n",
       "    .dataframe tbody tr th:only-of-type {\n",
       "        vertical-align: middle;\n",
       "    }\n",
       "\n",
       "    .dataframe tbody tr th {\n",
       "        vertical-align: top;\n",
       "    }\n",
       "\n",
       "    .dataframe thead th {\n",
       "        text-align: right;\n",
       "    }\n",
       "</style>\n",
       "<table border=\"1\" class=\"dataframe\">\n",
       "  <thead>\n",
       "    <tr style=\"text-align: right;\">\n",
       "      <th></th>\n",
       "      <th>news_title</th>\n",
       "      <th>news_article</th>\n",
       "      <th>split_article</th>\n",
       "    </tr>\n",
       "  </thead>\n",
       "  <tbody>\n",
       "    <tr>\n",
       "      <th>0</th>\n",
       "      <td>러시아 고양이는 안 됩니다</td>\n",
       "      <td>전 세계가 우크라이나를 침공한 러시아에 각종 제재를 가하고 있다. 이에 러시아 고양...</td>\n",
       "      <td>[전 세계가 우크라이나를 침공한 러시아에 각종 제재를 가하고 있다, 이에 러시아 고...</td>\n",
       "    </tr>\n",
       "    <tr>\n",
       "      <th>1</th>\n",
       "      <td>홀로 1000 우크라 국경 탈출한 11세 소년</td>\n",
       "      <td>우크라이나 소년이 홀로 국경을 넘은 뭉클한 연이 전해졌다. 영국 매체 가디언과 메트...</td>\n",
       "      <td>[우크라이나 소년이 홀로 국경을 넘은 뭉클한 연이 전해졌다, 영국 매체 가디언과 메...</td>\n",
       "    </tr>\n",
       "    <tr>\n",
       "      <th>2</th>\n",
       "      <td>온라인 쇼핑몰 니켈 납투성이 장신구 주의</td>\n",
       "      <td>온라인 쇼핑몰에서 무알러지 무니켈 도금 등으로 홍보 판매되는 액세서리에서 기준치를 ...</td>\n",
       "      <td>[온라인 쇼핑몰에서 무알러지 무니켈 도금 등으로 홍보 판매되는 액세서리에서 기준치를...</td>\n",
       "    </tr>\n",
       "    <tr>\n",
       "      <th>3</th>\n",
       "      <td>코로나에 강한 혈액형 있다 O형 위험 최저</td>\n",
       "      <td>혈액형이 O형인 람이 코로나 바이러스 감염 시 망 위중증 위험이 다른 혈액형보다 낮...</td>\n",
       "      <td>[혈액형이 O형인 람이 코로나 바이러스 감염 시 망 위중증 위험이 다른 혈액형보다 ...</td>\n",
       "    </tr>\n",
       "    <tr>\n",
       "      <th>4</th>\n",
       "      <td>잡히지 않는 화마 문화재 등 대규모 피해</td>\n",
       "      <td>최근 발생한 동해안 지역 대규모 산불로 인해 막대한 산림 피해가 우려되고 있다. 지...</td>\n",
       "      <td>[최근 발생한 동해안 지역 대규모 산불로 인해 막대한 산림 피해가 우려되고 있다, ...</td>\n",
       "    </tr>\n",
       "  </tbody>\n",
       "</table>\n",
       "</div>"
      ],
      "text/plain": [
       "                  news_title  \\\n",
       "0             러시아 고양이는 안 됩니다   \n",
       "1  홀로 1000 우크라 국경 탈출한 11세 소년   \n",
       "2     온라인 쇼핑몰 니켈 납투성이 장신구 주의   \n",
       "3    코로나에 강한 혈액형 있다 O형 위험 최저   \n",
       "4     잡히지 않는 화마 문화재 등 대규모 피해   \n",
       "\n",
       "                                        news_article  \\\n",
       "0  전 세계가 우크라이나를 침공한 러시아에 각종 제재를 가하고 있다. 이에 러시아 고양...   \n",
       "1  우크라이나 소년이 홀로 국경을 넘은 뭉클한 연이 전해졌다. 영국 매체 가디언과 메트...   \n",
       "2  온라인 쇼핑몰에서 무알러지 무니켈 도금 등으로 홍보 판매되는 액세서리에서 기준치를 ...   \n",
       "3  혈액형이 O형인 람이 코로나 바이러스 감염 시 망 위중증 위험이 다른 혈액형보다 낮...   \n",
       "4  최근 발생한 동해안 지역 대규모 산불로 인해 막대한 산림 피해가 우려되고 있다. 지...   \n",
       "\n",
       "                                       split_article  \n",
       "0  [전 세계가 우크라이나를 침공한 러시아에 각종 제재를 가하고 있다, 이에 러시아 고...  \n",
       "1  [우크라이나 소년이 홀로 국경을 넘은 뭉클한 연이 전해졌다, 영국 매체 가디언과 메...  \n",
       "2  [온라인 쇼핑몰에서 무알러지 무니켈 도금 등으로 홍보 판매되는 액세서리에서 기준치를...  \n",
       "3  [혈액형이 O형인 람이 코로나 바이러스 감염 시 망 위중증 위험이 다른 혈액형보다 ...  \n",
       "4  [최근 발생한 동해안 지역 대규모 산불로 인해 막대한 산림 피해가 우려되고 있다, ...  "
      ]
     },
     "execution_count": 38,
     "metadata": {},
     "output_type": "execute_result"
    }
   ],
   "source": [
    "df = df[['news_title', 'news_article', 'split_article']]\n",
    "df.head()"
   ]
  },
  {
   "cell_type": "code",
   "execution_count": 42,
   "id": "7f8adb5c-25bb-4e60-9afc-fb25e82678f9",
   "metadata": {
    "tags": []
   },
   "outputs": [],
   "source": [
    "# 전체 dataframe에서 실행\n",
    "total_data = []\n",
    "for idxx in df.index:\n",
    "    news_article = df.split_article[idxx]\n",
    "    news_title = []\n",
    "    news_index = []\n",
    "\n",
    "    for i in range(len(news_article)):\n",
    "        news_title.append(df.news_title[idxx])\n",
    "        news_index.append(idxx + 1)\n",
    "    for idx, title, article in zip(news_index, news_title, news_article): \n",
    "        total_data.append([idx,title,article]) "
   ]
  },
  {
   "cell_type": "code",
   "execution_count": 44,
   "id": "610da52f-9ccd-4779-a59a-bd7866254e60",
   "metadata": {},
   "outputs": [
    {
     "data": {
      "text/html": [
       "<div>\n",
       "<style scoped>\n",
       "    .dataframe tbody tr th:only-of-type {\n",
       "        vertical-align: middle;\n",
       "    }\n",
       "\n",
       "    .dataframe tbody tr th {\n",
       "        vertical-align: top;\n",
       "    }\n",
       "\n",
       "    .dataframe thead th {\n",
       "        text-align: right;\n",
       "    }\n",
       "</style>\n",
       "<table border=\"1\" class=\"dataframe\">\n",
       "  <thead>\n",
       "    <tr style=\"text-align: right;\">\n",
       "      <th></th>\n",
       "      <th>news_idx</th>\n",
       "      <th>news_title</th>\n",
       "      <th>news_article</th>\n",
       "    </tr>\n",
       "  </thead>\n",
       "  <tbody>\n",
       "    <tr>\n",
       "      <th>0</th>\n",
       "      <td>1</td>\n",
       "      <td>러시아 고양이는 안 됩니다</td>\n",
       "      <td>전 세계가 우크라이나를 침공한 러시아에 각종 제재를 가하고 있다</td>\n",
       "    </tr>\n",
       "    <tr>\n",
       "      <th>1</th>\n",
       "      <td>1</td>\n",
       "      <td>러시아 고양이는 안 됩니다</td>\n",
       "      <td>이에 러시아 고양이도 국제 대회에 출전하지 못한다는 소식이 전해졌다</td>\n",
       "    </tr>\n",
       "    <tr>\n",
       "      <th>2</th>\n",
       "      <td>1</td>\n",
       "      <td>러시아 고양이는 안 됩니다</td>\n",
       "      <td>지난 3일 영국 일간 데일리메일에 따르면 70여 년 역를 가 국제고양이연맹이 최근 ...</td>\n",
       "    </tr>\n",
       "    <tr>\n",
       "      <th>3</th>\n",
       "      <td>1</td>\n",
       "      <td>러시아 고양이는 안 됩니다</td>\n",
       "      <td>고양이연맹은 예쁜 고양이 대회를 비롯해 매년 700여 개의 고양이 관련 대회를 주최해왔다</td>\n",
       "    </tr>\n",
       "    <tr>\n",
       "      <th>4</th>\n",
       "      <td>1</td>\n",
       "      <td>러시아 고양이는 안 됩니다</td>\n",
       "      <td>연맹 측은 오는 5월 말까지 러시아산 고양이의 수입을 금지하고 러시아에서 태어난 고...</td>\n",
       "    </tr>\n",
       "    <tr>\n",
       "      <th>...</th>\n",
       "      <td>...</td>\n",
       "      <td>...</td>\n",
       "      <td>...</td>\n",
       "    </tr>\n",
       "    <tr>\n",
       "      <th>30829</th>\n",
       "      <td>1527</td>\n",
       "      <td>알파고가 이세돌 9단을 이긴 건 딥러닝 덕분이지</td>\n",
       "      <td>아마도 람이 이 방법으로 학습한다면 똑같은 과정을 거치는 데 1000년도 더 걸렸을걸</td>\n",
       "    </tr>\n",
       "    <tr>\n",
       "      <th>30830</th>\n",
       "      <td>1527</td>\n",
       "      <td>알파고가 이세돌 9단을 이긴 건 딥러닝 덕분이지</td>\n",
       "      <td>인터넷 검색 이트 구글은 이제 1000만 장의 에서 고양이 을 찾아낼 수 있대</td>\n",
       "    </tr>\n",
       "    <tr>\n",
       "      <th>30831</th>\n",
       "      <td>1527</td>\n",
       "      <td>알파고가 이세돌 9단을 이긴 건 딥러닝 덕분이지</td>\n",
       "      <td>우리에게는 너무 당연한 일이지만 예전에는 컴퓨터가 람 얼굴과 고양이 얼굴을 구별하는...</td>\n",
       "    </tr>\n",
       "    <tr>\n",
       "      <th>30832</th>\n",
       "      <td>1527</td>\n",
       "      <td>알파고가 이세돌 9단을 이긴 건 딥러닝 덕분이지</td>\n",
       "      <td>알파고처럼 학습한 끝에 고양이를 알아차릴 수 있게 됐지</td>\n",
       "    </tr>\n",
       "    <tr>\n",
       "      <th>30833</th>\n",
       "      <td>1527</td>\n",
       "      <td>알파고가 이세돌 9단을 이긴 건 딥러닝 덕분이지</td>\n",
       "      <td>다락원 어린이를 위한 4차 산업 혁명 안내서</td>\n",
       "    </tr>\n",
       "  </tbody>\n",
       "</table>\n",
       "<p>30834 rows × 3 columns</p>\n",
       "</div>"
      ],
      "text/plain": [
       "       news_idx                  news_title  \\\n",
       "0             1              러시아 고양이는 안 됩니다   \n",
       "1             1              러시아 고양이는 안 됩니다   \n",
       "2             1              러시아 고양이는 안 됩니다   \n",
       "3             1              러시아 고양이는 안 됩니다   \n",
       "4             1              러시아 고양이는 안 됩니다   \n",
       "...         ...                         ...   \n",
       "30829      1527  알파고가 이세돌 9단을 이긴 건 딥러닝 덕분이지   \n",
       "30830      1527  알파고가 이세돌 9단을 이긴 건 딥러닝 덕분이지   \n",
       "30831      1527  알파고가 이세돌 9단을 이긴 건 딥러닝 덕분이지   \n",
       "30832      1527  알파고가 이세돌 9단을 이긴 건 딥러닝 덕분이지   \n",
       "30833      1527  알파고가 이세돌 9단을 이긴 건 딥러닝 덕분이지   \n",
       "\n",
       "                                            news_article  \n",
       "0                    전 세계가 우크라이나를 침공한 러시아에 각종 제재를 가하고 있다  \n",
       "1                  이에 러시아 고양이도 국제 대회에 출전하지 못한다는 소식이 전해졌다  \n",
       "2      지난 3일 영국 일간 데일리메일에 따르면 70여 년 역를 가 국제고양이연맹이 최근 ...  \n",
       "3      고양이연맹은 예쁜 고양이 대회를 비롯해 매년 700여 개의 고양이 관련 대회를 주최해왔다  \n",
       "4      연맹 측은 오는 5월 말까지 러시아산 고양이의 수입을 금지하고 러시아에서 태어난 고...  \n",
       "...                                                  ...  \n",
       "30829    아마도 람이 이 방법으로 학습한다면 똑같은 과정을 거치는 데 1000년도 더 걸렸을걸  \n",
       "30830        인터넷 검색 이트 구글은 이제 1000만 장의 에서 고양이 을 찾아낼 수 있대  \n",
       "30831  우리에게는 너무 당연한 일이지만 예전에는 컴퓨터가 람 얼굴과 고양이 얼굴을 구별하는...  \n",
       "30832                     알파고처럼 학습한 끝에 고양이를 알아차릴 수 있게 됐지  \n",
       "30833                           다락원 어린이를 위한 4차 산업 혁명 안내서  \n",
       "\n",
       "[30834 rows x 3 columns]"
      ]
     },
     "execution_count": 44,
     "metadata": {},
     "output_type": "execute_result"
    }
   ],
   "source": [
    "news_summary = pd.DataFrame(columns = ['news_idx','news_title','news_article'],data=total_data)\n",
    "news_summary"
   ]
  },
  {
   "cell_type": "markdown",
   "id": "e3c3fcdb-5f7c-43ce-83c4-0af6bfb3b565",
   "metadata": {},
   "source": [
    "---"
   ]
  },
  {
   "cell_type": "markdown",
   "id": "c54cb2a6-63e7-4d9f-a458-7f499cea8d88",
   "metadata": {
    "tags": []
   },
   "source": [
    "## 5. 형태소 분석"
   ]
  },
  {
   "cell_type": "markdown",
   "id": "d34028b0-13a0-4313-86fa-a69e80659005",
   "metadata": {},
   "source": [
    "### KoNLTK: Korean Natural Language ToolKit\n",
    "- KoNLPy(“코엔엘파이”라고 읽습니다)는 한국어 정보처리를 위한 파이썬 패키지\n",
    "- tokenizing"
   ]
  },
  {
   "cell_type": "code",
   "execution_count": 45,
   "id": "0cd14bfe-b051-470f-96d2-0ae3f6859355",
   "metadata": {},
   "outputs": [
    {
     "name": "stdout",
     "output_type": "stream",
     "text": [
      "title: 러시아 고양이는 안 됩니다 \n",
      "article: 전 세계가 우크라이나를 침공한 러시아에 각종 제재를 가하고 있다\n"
     ]
    }
   ],
   "source": [
    "news_title = str(news_summary[\"news_title\"][0])\n",
    "news_article = str(news_summary[\"news_article\"][0])\n",
    "print('title:',news_title,'\\narticle:',news_article)"
   ]
  },
  {
   "cell_type": "code",
   "execution_count": 46,
   "id": "1de6c69d-e790-43b7-aeb1-42d9874dfbcd",
   "metadata": {},
   "outputs": [
    {
     "data": {
      "text/plain": [
       "str"
      ]
     },
     "execution_count": 46,
     "metadata": {},
     "output_type": "execute_result"
    }
   ],
   "source": [
    "type(news_title)"
   ]
  },
  {
   "cell_type": "markdown",
   "id": "7980a7b8-0559-4128-8f32-a28281f82446",
   "metadata": {
    "tags": []
   },
   "source": [
    "### Mecab 형태소 분석기\n",
    "- 일본어용 형태소 분석기를 한국어를 사용할 수 있도록 수정"
   ]
  },
  {
   "cell_type": "code",
   "execution_count": 47,
   "id": "20ba5fc8-2629-475f-bef9-7ff3d9a4a44d",
   "metadata": {},
   "outputs": [],
   "source": [
    "from konlpy.tag import Mecab \n",
    "# from eunjeon import Mecab \n",
    "mecab = Mecab()"
   ]
  },
  {
   "cell_type": "code",
   "execution_count": 48,
   "id": "46ca8c24-0b7e-47a6-906c-ec080a347b7e",
   "metadata": {},
   "outputs": [
    {
     "name": "stdout",
     "output_type": "stream",
     "text": [
      "['러시아', '고양이', '는', '안', '됩니다']\n"
     ]
    }
   ],
   "source": [
    "# 텍스트에서 형태소를 반환한다\n",
    "print(mecab.morphs(news_title))"
   ]
  },
  {
   "cell_type": "code",
   "execution_count": 49,
   "id": "d91d91b5-3c88-49c2-af0d-06d7e8c52599",
   "metadata": {},
   "outputs": [
    {
     "name": "stdout",
     "output_type": "stream",
     "text": [
      "['러시아', '고양이']\n"
     ]
    }
   ],
   "source": [
    "# 텍스트에서 명사를 반환한다\n",
    "print(mecab.nouns(news_title))"
   ]
  },
  {
   "cell_type": "code",
   "execution_count": 50,
   "id": "51d6e9a8-53fb-4362-908f-55e549b3e559",
   "metadata": {},
   "outputs": [
    {
     "name": "stdout",
     "output_type": "stream",
     "text": [
      "[('러시아', 'NNP'), ('고양이', 'NNG'), ('는', 'JX'), ('안', 'MAG'), ('됩니다', 'VV+EF')]\n"
     ]
    }
   ],
   "source": [
    "# 텍스트에서 품사 정보를 부착하여 반환한다\n",
    "print(mecab.pos(news_title))"
   ]
  },
  {
   "cell_type": "markdown",
   "id": "0e7b16c9-06cc-4b02-ace7-9824d2d79e95",
   "metadata": {},
   "source": [
    "---"
   ]
  },
  {
   "cell_type": "markdown",
   "id": "6a88866a-e8da-4399-85e0-c906905468d7",
   "metadata": {
    "tags": []
   },
   "source": [
    "### Kkma\n",
    "- 서울대학교 IDS(intelligent Data Systems) 연구실에서 개발"
   ]
  },
  {
   "cell_type": "code",
   "execution_count": 51,
   "id": "9dd1ee4d-3692-4739-9752-becb6e47a24b",
   "metadata": {},
   "outputs": [
    {
     "name": "stdout",
     "output_type": "stream",
     "text": [
      "[0.017s][warning][os,thread] Attempt to protect stack guard pages failed (0x000000016cfb8000-0x000000016cfc4000).\n",
      "[0.017s][warning][os,thread] Attempt to deallocate stack guard pages failed.\n"
     ]
    }
   ],
   "source": [
    "from konlpy.tag import Kkma \n",
    "JVM_PATH = '/Library/Java/JavaVirtualMachines/zulu-15.jdk/Contents/Home/bin/java'\n",
    "kkma = Kkma(jvmpath=JVM_PATH)"
   ]
  },
  {
   "cell_type": "code",
   "execution_count": 52,
   "id": "480bd96a-3e6c-41a9-ab67-02aef724b934",
   "metadata": {},
   "outputs": [
    {
     "name": "stdout",
     "output_type": "stream",
     "text": [
      "['러시아', '고양이', '는', '안', '되', 'ㅂ니다']\n"
     ]
    }
   ],
   "source": [
    "# 텍스트에서 형태소를 반환한다\n",
    "print(kkma.morphs(news_title))"
   ]
  },
  {
   "cell_type": "code",
   "execution_count": 53,
   "id": "85040691-7e8b-4359-a2d4-5e1dff92d971",
   "metadata": {},
   "outputs": [
    {
     "name": "stdout",
     "output_type": "stream",
     "text": [
      "['러시아', '고양이']\n"
     ]
    }
   ],
   "source": [
    "# 텍스트에서 명사를 반환한다\n",
    "print(kkma.nouns(news_title))"
   ]
  },
  {
   "cell_type": "code",
   "execution_count": 54,
   "id": "96556f98-f9ec-4a31-875e-f184d5b14728",
   "metadata": {},
   "outputs": [
    {
     "name": "stdout",
     "output_type": "stream",
     "text": [
      "[('러시아', 'NNG'), ('고양이', 'NNG'), ('는', 'JX'), ('안', 'MAG'), ('되', 'VV'), ('ㅂ니다', 'EFN')]\n"
     ]
    }
   ],
   "source": [
    "# 텍스트에서 품사 정보를 부착하여 반환한다\n",
    "print(kkma.pos(news_title))"
   ]
  },
  {
   "cell_type": "markdown",
   "id": "59f858ee-1482-4977-a3ab-d1d9d470d710",
   "metadata": {},
   "source": [
    "---"
   ]
  },
  {
   "cell_type": "markdown",
   "id": "491e7602-e50d-498b-a0f3-425f3410bdea",
   "metadata": {},
   "source": [
    "### Okt (Twitter)\n",
    "- 오픈 소스 한국어 분석기이고, 과거 트위터 형태소 분석기"
   ]
  },
  {
   "cell_type": "code",
   "execution_count": 55,
   "id": "f45e2b2f-e19a-4af8-b84b-a180ca5f7f64",
   "metadata": {},
   "outputs": [],
   "source": [
    "# from konlpy.tag import Twitter\n",
    "from konlpy.tag import Okt  \n",
    "okt = Okt(jvmpath=JVM_PATH) "
   ]
  },
  {
   "cell_type": "code",
   "execution_count": 56,
   "id": "82f23d9e-9039-4572-9fa3-8d5791a4cd43",
   "metadata": {},
   "outputs": [
    {
     "name": "stdout",
     "output_type": "stream",
     "text": [
      "['러시아', '고양이', '는', '안', '됩니다']\n"
     ]
    }
   ],
   "source": [
    "# 텍스트에서 형태소를 반환한다\n",
    "print(okt.morphs(news_title))"
   ]
  },
  {
   "cell_type": "code",
   "execution_count": 57,
   "id": "3f0206c8-9e31-49e1-8ba9-ed69b38c4e2a",
   "metadata": {},
   "outputs": [
    {
     "name": "stdout",
     "output_type": "stream",
     "text": [
      "['러시아', '고양이', '안']\n"
     ]
    }
   ],
   "source": [
    "# 텍스트에서 명사를 반환한다\n",
    "print(okt.nouns(news_title))"
   ]
  },
  {
   "cell_type": "code",
   "execution_count": 58,
   "id": "896ff3d6-779a-4cfa-b31e-1c1d9a8cf865",
   "metadata": {},
   "outputs": [
    {
     "name": "stdout",
     "output_type": "stream",
     "text": [
      "['러시아', '러시아 고양이', '고양이']\n"
     ]
    }
   ],
   "source": [
    "# 텍스트에서 어절을 뽑아낸다\n",
    "print(okt.phrases(news_title))"
   ]
  },
  {
   "cell_type": "code",
   "execution_count": 59,
   "id": "a5546721-3108-4fb2-8b5f-8c8b4dfb09b8",
   "metadata": {},
   "outputs": [
    {
     "name": "stdout",
     "output_type": "stream",
     "text": [
      "[('러시아', 'Noun'), ('고양이', 'Noun'), ('는', 'Josa'), ('안', 'Noun'), ('됩니다', 'Verb')]\n"
     ]
    }
   ],
   "source": [
    "# 텍스트에서 품사 정보를 부착하여 반환한다\n",
    "print(okt.pos(news_title))"
   ]
  },
  {
   "cell_type": "markdown",
   "id": "2faa0b51-5731-4d40-a523-ad938144dc26",
   "metadata": {},
   "source": [
    "---"
   ]
  },
  {
   "cell_type": "markdown",
   "id": "8ccbf9c3-846a-4f8b-80aa-28836a8ccd86",
   "metadata": {
    "tags": []
   },
   "source": [
    "## 6. News Article 유사도 분석\n",
    "- title과 article의 유사도 분석하기"
   ]
  },
  {
   "cell_type": "code",
   "execution_count": 60,
   "id": "90708089-e020-47c5-97ec-8af78145617c",
   "metadata": {},
   "outputs": [
    {
     "data": {
      "text/plain": [
       "news_idx\n",
       "1        7\n",
       "2        8\n",
       "3        9\n",
       "4        7\n",
       "5       12\n",
       "        ..\n",
       "1523    20\n",
       "1524    13\n",
       "1525    33\n",
       "1526    11\n",
       "1527    43\n",
       "Length: 1527, dtype: int64"
      ]
     },
     "execution_count": 60,
     "metadata": {},
     "output_type": "execute_result"
    }
   ],
   "source": [
    "idx_groups = news_summary.groupby('news_idx')\n",
    "idx_groups.size()\n",
    "#pandas.core.groupby.generic.DataFrameGroupBy\n",
    "# type(idx_groups)\n",
    "# idx_groups.sort_values(by='news_idx' ,ascending=True)"
   ]
  },
  {
   "cell_type": "code",
   "execution_count": 81,
   "id": "33fcd29f-79b6-44b5-a8c4-dfb008a969de",
   "metadata": {},
   "outputs": [
    {
     "data": {
      "text/html": [
       "<div>\n",
       "<style scoped>\n",
       "    .dataframe tbody tr th:only-of-type {\n",
       "        vertical-align: middle;\n",
       "    }\n",
       "\n",
       "    .dataframe tbody tr th {\n",
       "        vertical-align: top;\n",
       "    }\n",
       "\n",
       "    .dataframe thead th {\n",
       "        text-align: right;\n",
       "    }\n",
       "</style>\n",
       "<table border=\"1\" class=\"dataframe\">\n",
       "  <thead>\n",
       "    <tr style=\"text-align: right;\">\n",
       "      <th></th>\n",
       "      <th>news_idx</th>\n",
       "      <th>news_title</th>\n",
       "      <th>news_subtitle</th>\n",
       "      <th>news_article</th>\n",
       "    </tr>\n",
       "  </thead>\n",
       "  <tbody>\n",
       "    <tr>\n",
       "      <th>0</th>\n",
       "      <td>1</td>\n",
       "      <td>러시아 고양이는 안 됩니다</td>\n",
       "      <td>국제고양이연맹, '월드 캣 쇼'서 퇴출</td>\n",
       "      <td>전 세계가 우크라이나를 침공한 러시아에 각종 제재를 가하고 있다</td>\n",
       "    </tr>\n",
       "    <tr>\n",
       "      <th>1</th>\n",
       "      <td>1</td>\n",
       "      <td>러시아 고양이는 안 됩니다</td>\n",
       "      <td>국제고양이연맹, '월드 캣 쇼'서 퇴출</td>\n",
       "      <td>이에 러시아 고양이도 국제 대회에 출전하지 못한다는 소식이 전해졌다</td>\n",
       "    </tr>\n",
       "  </tbody>\n",
       "</table>\n",
       "</div>"
      ],
      "text/plain": [
       "   news_idx      news_title          news_subtitle  \\\n",
       "0         1  러시아 고양이는 안 됩니다  국제고양이연맹, '월드 캣 쇼'서 퇴출   \n",
       "1         1  러시아 고양이는 안 됩니다  국제고양이연맹, '월드 캣 쇼'서 퇴출   \n",
       "\n",
       "                            news_article  \n",
       "0    전 세계가 우크라이나를 침공한 러시아에 각종 제재를 가하고 있다  \n",
       "1  이에 러시아 고양이도 국제 대회에 출전하지 못한다는 소식이 전해졌다  "
      ]
     },
     "execution_count": 81,
     "metadata": {},
     "output_type": "execute_result"
    }
   ],
   "source": [
    "# 딕셔너리로 범주별로 저장\n",
    "group_news_df = dict(list(idx_groups))\n",
    "# pandas.core.frame.DataFrame\n",
    "# type(group_news_df[1])\n",
    "group_news_df[1][:2]"
   ]
  },
  {
   "cell_type": "code",
   "execution_count": 61,
   "id": "f19a2097-215c-45d9-b644-e346fc7fed7a",
   "metadata": {},
   "outputs": [
    {
     "data": {
      "text/html": [
       "<div>\n",
       "<style scoped>\n",
       "    .dataframe tbody tr th:only-of-type {\n",
       "        vertical-align: middle;\n",
       "    }\n",
       "\n",
       "    .dataframe tbody tr th {\n",
       "        vertical-align: top;\n",
       "    }\n",
       "\n",
       "    .dataframe thead th {\n",
       "        text-align: right;\n",
       "    }\n",
       "</style>\n",
       "<table border=\"1\" class=\"dataframe\">\n",
       "  <thead>\n",
       "    <tr style=\"text-align: right;\">\n",
       "      <th></th>\n",
       "      <th>news_idx</th>\n",
       "      <th>news_title</th>\n",
       "      <th>news_article</th>\n",
       "    </tr>\n",
       "  </thead>\n",
       "  <tbody>\n",
       "    <tr>\n",
       "      <th>0</th>\n",
       "      <td>1</td>\n",
       "      <td>러시아 고양이는 안 됩니다</td>\n",
       "      <td>전 세계가 우크라이나를 침공한 러시아에 각종 제재를 가하고 있다</td>\n",
       "    </tr>\n",
       "    <tr>\n",
       "      <th>1</th>\n",
       "      <td>1</td>\n",
       "      <td>러시아 고양이는 안 됩니다</td>\n",
       "      <td>이에 러시아 고양이도 국제 대회에 출전하지 못한다는 소식이 전해졌다</td>\n",
       "    </tr>\n",
       "  </tbody>\n",
       "</table>\n",
       "</div>"
      ],
      "text/plain": [
       "   news_idx      news_title                           news_article\n",
       "0         1  러시아 고양이는 안 됩니다    전 세계가 우크라이나를 침공한 러시아에 각종 제재를 가하고 있다\n",
       "1         1  러시아 고양이는 안 됩니다  이에 러시아 고양이도 국제 대회에 출전하지 못한다는 소식이 전해졌다"
      ]
     },
     "execution_count": 61,
     "metadata": {},
     "output_type": "execute_result"
    }
   ],
   "source": [
    "#==위와동일\n",
    "news_summary[news_summary['news_idx']==1][:2]"
   ]
  },
  {
   "cell_type": "code",
   "execution_count": 62,
   "id": "df4a21fa-5761-472d-ab25-9b4007c417e6",
   "metadata": {},
   "outputs": [
    {
     "data": {
      "text/plain": [
       "30834"
      ]
     },
     "execution_count": 62,
     "metadata": {},
     "output_type": "execute_result"
    }
   ],
   "source": [
    "len(news_summary.index)"
   ]
  },
  {
   "cell_type": "code",
   "execution_count": 63,
   "id": "6f73e44f-f94c-4a6e-b64d-302e30f5338c",
   "metadata": {},
   "outputs": [
    {
     "name": "stdout",
     "output_type": "stream",
     "text": [
      "CPU times: user 15.9 s, sys: 172 ms, total: 16.1 s\n",
      "Wall time: 8.89 s\n"
     ]
    }
   ],
   "source": [
    "%%time\n",
    "total_news_title = []\n",
    "total_news_article = []\n",
    "for i in range(len(news_summary.index)) :\n",
    "    news_title = news_summary[news_summary['news_idx']==i+1].news_title\n",
    "    news_article = news_summary[news_summary['news_idx']==i+1].news_article\n",
    "    total_news_title.append(news_title)\n",
    "    total_news_article.append(news_article)"
   ]
  },
  {
   "cell_type": "code",
   "execution_count": 64,
   "id": "65c751a1-16c3-4281-9cd1-aed1b0aaf6ee",
   "metadata": {},
   "outputs": [
    {
     "name": "stdout",
     "output_type": "stream",
     "text": [
      "0    러시아 고양이는 안 됩니다\n",
      "1    러시아 고양이는 안 됩니다\n",
      "2    러시아 고양이는 안 됩니다\n",
      "3    러시아 고양이는 안 됩니다\n",
      "4    러시아 고양이는 안 됩니다\n",
      "5    러시아 고양이는 안 됩니다\n",
      "6    러시아 고양이는 안 됩니다\n",
      "Name: news_title, dtype: object\n"
     ]
    }
   ],
   "source": [
    "print(total_news_title[0])"
   ]
  },
  {
   "cell_type": "code",
   "execution_count": 65,
   "id": "4e2e4bb8-53df-4886-8e07-680a1f4d9eee",
   "metadata": {},
   "outputs": [
    {
     "name": "stdout",
     "output_type": "stream",
     "text": [
      "0                  전 세계가 우크라이나를 침공한 러시아에 각종 제재를 가하고 있다\n",
      "1                이에 러시아 고양이도 국제 대회에 출전하지 못한다는 소식이 전해졌다\n",
      "2    지난 3일 영국 일간 데일리메일에 따르면 70여 년 역를 가 국제고양이연맹이 최근 ...\n",
      "3    고양이연맹은 예쁜 고양이 대회를 비롯해 매년 700여 개의 고양이 관련 대회를 주최해왔다\n",
      "4    연맹 측은 오는 5월 말까지 러시아산 고양이의 수입을 금지하고 러시아에서 태어난 고...\n",
      "5        이어 우크라이나 난민과 피란 중인 반려동물을 위한 기금도 마련할 것이라고 덧붙였다\n",
      "6                 러시아 고양이의 국제 대회 출전 금지령에 대해 어떻게 생각하나요.\n",
      "Name: news_article, dtype: object\n"
     ]
    }
   ],
   "source": [
    "print(total_news_article[0])"
   ]
  },
  {
   "cell_type": "markdown",
   "id": "7e564830-18b2-42d3-993c-61e886bb252d",
   "metadata": {},
   "source": [
    "---"
   ]
  },
  {
   "cell_type": "markdown",
   "id": "01b48856-9034-4438-b713-b283b583d5fa",
   "metadata": {},
   "source": [
    "### Mecab 형태소 분석"
   ]
  },
  {
   "cell_type": "markdown",
   "id": "c92b879c-8825-4db1-9db5-0186fcfeac28",
   "metadata": {},
   "source": [
    "- news_article"
   ]
  },
  {
   "cell_type": "code",
   "execution_count": 66,
   "id": "732d3f46-c112-4dfb-b09f-192a801502a4",
   "metadata": {
    "tags": []
   },
   "outputs": [
    {
     "name": "stdout",
     "output_type": "stream",
     "text": [
      "CPU times: user 2.25 s, sys: 60.1 ms, total: 2.31 s\n",
      "Wall time: 1.99 s\n"
     ]
    }
   ],
   "source": [
    "%%time\n",
    "# total_news_title\n",
    "# total_news_article\n",
    "total_group_news_article = []\n",
    "for group_news_article in total_news_article :\n",
    "    \n",
    "    news_article_sentence = []\n",
    "    for sentence in group_news_article:\n",
    "        news_noun = ' '.join(mecab.nouns(sentence))\n",
    "        news_article_sentence.append(news_noun)\n",
    "    total_group_news_article.append(news_article_sentence)"
   ]
  },
  {
   "cell_type": "code",
   "execution_count": 67,
   "id": "65f20ffe-4cb4-45de-b183-8ab278c132ed",
   "metadata": {},
   "outputs": [
    {
     "data": {
      "text/plain": [
       "['세계 우크라이나 침공 러시아 각종 제재',\n",
       " '이 러시아 고양이 국제 대회 출전 소식',\n",
       " '일 영국 일간 데일리 메일 년 역 국제 고양이 연맹 최근 성명 월드 캣 쇼 러시아 소속 고양이 참가 금지',\n",
       " '고양이 연맹 고양이 대회 개 고양이 관련 대회 주최',\n",
       " '연맹 측 월 말 러시아 고양이 수입 금지 러시아 고양이 혈통서 등록 허용 우크라이나 러시아 잔혹 행위 이상 침묵 수',\n",
       " '우크라 난민 피란 중 반려 동물 기금 마련 것',\n",
       " '러시아 고양이 국제 대회 출전 금지령 생각']"
      ]
     },
     "execution_count": 67,
     "metadata": {},
     "output_type": "execute_result"
    }
   ],
   "source": [
    "total_group_news_article[0]"
   ]
  },
  {
   "cell_type": "markdown",
   "id": "c0e962f1-abf1-44aa-84f8-2a279a9b7ce5",
   "metadata": {},
   "source": [
    "- news_title"
   ]
  },
  {
   "cell_type": "code",
   "execution_count": 68,
   "id": "6658e96e-5062-4088-94a4-cfe8c7ccabc2",
   "metadata": {
    "tags": []
   },
   "outputs": [
    {
     "name": "stdout",
     "output_type": "stream",
     "text": [
      "CPU times: user 618 ms, sys: 8.76 ms, total: 627 ms\n",
      "Wall time: 631 ms\n"
     ]
    }
   ],
   "source": [
    "%%time\n",
    "# total_news_title\n",
    "# total_news_article\n",
    "total_group_news_title = []\n",
    "for group_news_title in total_news_title :\n",
    "    \n",
    "    news_title_sentence = []\n",
    "    for sentence in group_news_title:\n",
    "        news_noun = ' '.join(mecab.nouns(sentence))\n",
    "        news_title_sentence.append(news_noun)\n",
    "    total_group_news_title.append(news_title_sentence)"
   ]
  },
  {
   "cell_type": "code",
   "execution_count": 69,
   "id": "26d2f649-f6ad-4be7-b8ae-a455838d0a1c",
   "metadata": {},
   "outputs": [
    {
     "data": {
      "text/plain": [
       "['러시아 고양이', '러시아 고양이', '러시아 고양이', '러시아 고양이', '러시아 고양이', '러시아 고양이', '러시아 고양이']"
      ]
     },
     "execution_count": 69,
     "metadata": {},
     "output_type": "execute_result"
    }
   ],
   "source": [
    "total_group_news_title[0]"
   ]
  },
  {
   "cell_type": "markdown",
   "id": "c9f4438c-8f20-412f-9f6b-ac56070381cb",
   "metadata": {},
   "source": [
    "---"
   ]
  }
 ],
 "metadata": {
  "kernelspec": {
   "display_name": "imok",
   "language": "python",
   "name": "imok"
  },
  "language_info": {
   "codemirror_mode": {
    "name": "ipython",
    "version": 3
   },
   "file_extension": ".py",
   "mimetype": "text/x-python",
   "name": "python",
   "nbconvert_exporter": "python",
   "pygments_lexer": "ipython3",
   "version": "3.9.10"
  }
 },
 "nbformat": 4,
 "nbformat_minor": 5
}
