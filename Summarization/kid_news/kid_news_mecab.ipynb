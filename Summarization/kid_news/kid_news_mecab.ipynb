{
 "cells": [
  {
   "cell_type": "markdown",
   "id": "559c4dec-e014-4477-977a-890f93f8da4c",
   "metadata": {},
   "source": [
    "# 📰 어린이 뉴스 데이터 요약패턴 개발"
   ]
  },
  {
   "cell_type": "markdown",
   "id": "ad0e241b-184f-4584-9ec4-89a4ace5bd13",
   "metadata": {},
   "source": [
    "## 1. data import"
   ]
  },
  {
   "cell_type": "code",
   "execution_count": 1,
   "id": "f0723b47-09a0-4d22-b0f7-ff845236eb3b",
   "metadata": {},
   "outputs": [],
   "source": [
    "import pandas as pd\n",
    "import numpy as np\n",
    "import re\n",
    "\n",
    "import warnings\n",
    "warnings.filterwarnings(action='ignore')"
   ]
  },
  {
   "cell_type": "code",
   "execution_count": 554,
   "id": "725d11b9-924f-4a48-8fee-fe8db349e9f4",
   "metadata": {},
   "outputs": [],
   "source": [
    "df = pd.read_csv('./kid_news.csv', index_col=[0])"
   ]
  },
  {
   "cell_type": "code",
   "execution_count": 555,
   "id": "8bb2b666-f875-4126-8e7a-a4bd12afbc6c",
   "metadata": {},
   "outputs": [
    {
     "data": {
      "text/html": [
       "<div>\n",
       "<style scoped>\n",
       "    .dataframe tbody tr th:only-of-type {\n",
       "        vertical-align: middle;\n",
       "    }\n",
       "\n",
       "    .dataframe tbody tr th {\n",
       "        vertical-align: top;\n",
       "    }\n",
       "\n",
       "    .dataframe thead th {\n",
       "        text-align: right;\n",
       "    }\n",
       "</style>\n",
       "<table border=\"1\" class=\"dataframe\">\n",
       "  <thead>\n",
       "    <tr style=\"text-align: right;\">\n",
       "      <th></th>\n",
       "      <th>news_title</th>\n",
       "      <th>news_subtitle</th>\n",
       "      <th>news_article</th>\n",
       "      <th>news_url</th>\n",
       "    </tr>\n",
       "  </thead>\n",
       "  <tbody>\n",
       "    <tr>\n",
       "      <th>0</th>\n",
       "      <td>[세상 속으로] \"러시아 고양이는 안 됩니다\"</td>\n",
       "      <td>국제고양이연맹, '월드 캣 쇼'서 퇴출</td>\n",
       "      <td>전 세계가 우크라이나를 침공(侵攻)한 러시아에 각종 제재를 가하고 있다. 이에 러시...</td>\n",
       "      <td>http://kid.chosun.com/site/data/html_dir/2022/...</td>\n",
       "    </tr>\n",
       "    <tr>\n",
       "      <th>1</th>\n",
       "      <td>[뉴스탐험대] 홀로 1000㎞… 우크라 國境&lt;국경&gt; 탈출한 11세 소년</td>\n",
       "      <td>NaN</td>\n",
       "      <td>우크라이나 소년이 홀로 국경(國境)을 넘은 뭉클한 연이 전해졌다. 영국 매체 가디언...</td>\n",
       "      <td>http://kid.chosun.com/site/data/html_dir/2022/...</td>\n",
       "    </tr>\n",
       "    <tr>\n",
       "      <th>2</th>\n",
       "      <td>[뉴스탐험대] 온라인 쇼핑몰 '니켈·납투성이 장신구' 주의</td>\n",
       "      <td>NaN</td>\n",
       "      <td>온라인 쇼핑몰에서 '무(無)알러지' '무니켈 도금' 등으로 홍보·판매되는 액세서리에...</td>\n",
       "      <td>http://kid.chosun.com/site/data/html_dir/2022/...</td>\n",
       "    </tr>\n",
       "    <tr>\n",
       "      <th>3</th>\n",
       "      <td>[뉴스탐험대] \"코로나에 강한 혈액형 있다\"… O형, 위험 최저</td>\n",
       "      <td>NaN</td>\n",
       "      <td>혈액형이 O형(型)인 람이 코로나 바이러스 감염 시 망·위중증 위험이 다른 혈액형보...</td>\n",
       "      <td>http://kid.chosun.com/site/data/html_dir/2022/...</td>\n",
       "    </tr>\n",
       "    <tr>\n",
       "      <th>4</th>\n",
       "      <td>잡히지 않는 火魔&lt;화마&gt;… 문화재 등 대규모 피해</td>\n",
       "      <td>서울 면적 4분의 1 이상 불타</td>\n",
       "      <td>최근 발생한 동해안 지역 대규모 산불로 인해 막대한 산림(山林) 피해가 우려되고 있...</td>\n",
       "      <td>http://kid.chosun.com/site/data/html_dir/2022/...</td>\n",
       "    </tr>\n",
       "  </tbody>\n",
       "</table>\n",
       "</div>"
      ],
      "text/plain": [
       "                                news_title          news_subtitle  \\\n",
       "0                [세상 속으로] \"러시아 고양이는 안 됩니다\"  국제고양이연맹, '월드 캣 쇼'서 퇴출   \n",
       "1  [뉴스탐험대] 홀로 1000㎞… 우크라 國境<국경> 탈출한 11세 소년                    NaN   \n",
       "2         [뉴스탐험대] 온라인 쇼핑몰 '니켈·납투성이 장신구' 주의                    NaN   \n",
       "3      [뉴스탐험대] \"코로나에 강한 혈액형 있다\"… O형, 위험 최저                    NaN   \n",
       "4              잡히지 않는 火魔<화마>… 문화재 등 대규모 피해      서울 면적 4분의 1 이상 불타   \n",
       "\n",
       "                                        news_article  \\\n",
       "0  전 세계가 우크라이나를 침공(侵攻)한 러시아에 각종 제재를 가하고 있다. 이에 러시...   \n",
       "1  우크라이나 소년이 홀로 국경(國境)을 넘은 뭉클한 연이 전해졌다. 영국 매체 가디언...   \n",
       "2  온라인 쇼핑몰에서 '무(無)알러지' '무니켈 도금' 등으로 홍보·판매되는 액세서리에...   \n",
       "3  혈액형이 O형(型)인 람이 코로나 바이러스 감염 시 망·위중증 위험이 다른 혈액형보...   \n",
       "4  최근 발생한 동해안 지역 대규모 산불로 인해 막대한 산림(山林) 피해가 우려되고 있...   \n",
       "\n",
       "                                            news_url  \n",
       "0  http://kid.chosun.com/site/data/html_dir/2022/...  \n",
       "1  http://kid.chosun.com/site/data/html_dir/2022/...  \n",
       "2  http://kid.chosun.com/site/data/html_dir/2022/...  \n",
       "3  http://kid.chosun.com/site/data/html_dir/2022/...  \n",
       "4  http://kid.chosun.com/site/data/html_dir/2022/...  "
      ]
     },
     "execution_count": 555,
     "metadata": {},
     "output_type": "execute_result"
    }
   ],
   "source": [
    "# 어린이 뉴스 파일을 load\n",
    "df.head()"
   ]
  },
  {
   "cell_type": "code",
   "execution_count": 556,
   "id": "773848c8-1fa6-412e-9203-055786af783e",
   "metadata": {},
   "outputs": [
    {
     "data": {
      "text/html": [
       "<div>\n",
       "<style scoped>\n",
       "    .dataframe tbody tr th:only-of-type {\n",
       "        vertical-align: middle;\n",
       "    }\n",
       "\n",
       "    .dataframe tbody tr th {\n",
       "        vertical-align: top;\n",
       "    }\n",
       "\n",
       "    .dataframe thead th {\n",
       "        text-align: right;\n",
       "    }\n",
       "</style>\n",
       "<table border=\"1\" class=\"dataframe\">\n",
       "  <thead>\n",
       "    <tr style=\"text-align: right;\">\n",
       "      <th></th>\n",
       "      <th>news_title</th>\n",
       "      <th>news_subtitle</th>\n",
       "      <th>news_article</th>\n",
       "    </tr>\n",
       "  </thead>\n",
       "  <tbody>\n",
       "    <tr>\n",
       "      <th>0</th>\n",
       "      <td>[세상 속으로] \"러시아 고양이는 안 됩니다\"</td>\n",
       "      <td>국제고양이연맹, '월드 캣 쇼'서 퇴출</td>\n",
       "      <td>전 세계가 우크라이나를 침공(侵攻)한 러시아에 각종 제재를 가하고 있다. 이에 러시...</td>\n",
       "    </tr>\n",
       "    <tr>\n",
       "      <th>1</th>\n",
       "      <td>[뉴스탐험대] 홀로 1000㎞… 우크라 國境&lt;국경&gt; 탈출한 11세 소년</td>\n",
       "      <td>NaN</td>\n",
       "      <td>우크라이나 소년이 홀로 국경(國境)을 넘은 뭉클한 연이 전해졌다. 영국 매체 가디언...</td>\n",
       "    </tr>\n",
       "    <tr>\n",
       "      <th>2</th>\n",
       "      <td>[뉴스탐험대] 온라인 쇼핑몰 '니켈·납투성이 장신구' 주의</td>\n",
       "      <td>NaN</td>\n",
       "      <td>온라인 쇼핑몰에서 '무(無)알러지' '무니켈 도금' 등으로 홍보·판매되는 액세서리에...</td>\n",
       "    </tr>\n",
       "    <tr>\n",
       "      <th>3</th>\n",
       "      <td>[뉴스탐험대] \"코로나에 강한 혈액형 있다\"… O형, 위험 최저</td>\n",
       "      <td>NaN</td>\n",
       "      <td>혈액형이 O형(型)인 람이 코로나 바이러스 감염 시 망·위중증 위험이 다른 혈액형보...</td>\n",
       "    </tr>\n",
       "    <tr>\n",
       "      <th>4</th>\n",
       "      <td>잡히지 않는 火魔&lt;화마&gt;… 문화재 등 대규모 피해</td>\n",
       "      <td>서울 면적 4분의 1 이상 불타</td>\n",
       "      <td>최근 발생한 동해안 지역 대규모 산불로 인해 막대한 산림(山林) 피해가 우려되고 있...</td>\n",
       "    </tr>\n",
       "    <tr>\n",
       "      <th>...</th>\n",
       "      <td>...</td>\n",
       "      <td>...</td>\n",
       "      <td>...</td>\n",
       "    </tr>\n",
       "    <tr>\n",
       "      <th>1670</th>\n",
       "      <td>돼지 뇌에 컴퓨터 칩 연결… 생각만으로 기계 움직일 수 있을까?</td>\n",
       "      <td>NaN</td>\n",
       "      <td>머스크, 유튜브에 실험 돼지 '거트루드' 공개 \"뇌 질환 치료 도움… 올해 안에 람...</td>\n",
       "    </tr>\n",
       "    <tr>\n",
       "      <th>1671</th>\n",
       "      <td>탑승형 로봇 '프로스테시스' 조종사를 뽑습니다!</td>\n",
       "      <td>NaN</td>\n",
       "      <td>람의 팔다리에 연결해 조종 \"로봇 활용한 경주 스포츠 만들 것\" 람이 탑승한 로봇끼...</td>\n",
       "    </tr>\n",
       "    <tr>\n",
       "      <th>1672</th>\n",
       "      <td>모험 떠날 준비 됐니? 그럼, 책장을 펼쳐봐!</td>\n",
       "      <td>NaN</td>\n",
       "      <td>띵똥! 선물이 도착했습니다. 판타지 소설 '해리포터'의 작가 조앤 롤링(55·영국)...</td>\n",
       "    </tr>\n",
       "    <tr>\n",
       "      <th>1673</th>\n",
       "      <td>방탄소년단·블랙핑크, 세계 음원시장 '올킬'</td>\n",
       "      <td>NaN</td>\n",
       "      <td>아이돌 그룹 방탄소년단(BTS)과 블랙핑크가 세계 무대를 뒤흔들고 있다. 글로벌 시...</td>\n",
       "    </tr>\n",
       "    <tr>\n",
       "      <th>1674</th>\n",
       "      <td>알파고가 이세돌 9단을 이긴 건 '딥러닝' 덕분이지</td>\n",
       "      <td>NaN</td>\n",
       "      <td>'인공 지능 의'가 있는 병원을 상상한 적 있니? 놀랍게도 벌써 우리나라 한 병원에...</td>\n",
       "    </tr>\n",
       "  </tbody>\n",
       "</table>\n",
       "<p>1675 rows × 3 columns</p>\n",
       "</div>"
      ],
      "text/plain": [
       "                                   news_title          news_subtitle  \\\n",
       "0                   [세상 속으로] \"러시아 고양이는 안 됩니다\"  국제고양이연맹, '월드 캣 쇼'서 퇴출   \n",
       "1     [뉴스탐험대] 홀로 1000㎞… 우크라 國境<국경> 탈출한 11세 소년                    NaN   \n",
       "2            [뉴스탐험대] 온라인 쇼핑몰 '니켈·납투성이 장신구' 주의                    NaN   \n",
       "3         [뉴스탐험대] \"코로나에 강한 혈액형 있다\"… O형, 위험 최저                    NaN   \n",
       "4                 잡히지 않는 火魔<화마>… 문화재 등 대규모 피해      서울 면적 4분의 1 이상 불타   \n",
       "...                                       ...                    ...   \n",
       "1670      돼지 뇌에 컴퓨터 칩 연결… 생각만으로 기계 움직일 수 있을까?                    NaN   \n",
       "1671               탑승형 로봇 '프로스테시스' 조종사를 뽑습니다!                    NaN   \n",
       "1672                모험 떠날 준비 됐니? 그럼, 책장을 펼쳐봐!                    NaN   \n",
       "1673                 방탄소년단·블랙핑크, 세계 음원시장 '올킬'                    NaN   \n",
       "1674             알파고가 이세돌 9단을 이긴 건 '딥러닝' 덕분이지                    NaN   \n",
       "\n",
       "                                           news_article  \n",
       "0     전 세계가 우크라이나를 침공(侵攻)한 러시아에 각종 제재를 가하고 있다. 이에 러시...  \n",
       "1     우크라이나 소년이 홀로 국경(國境)을 넘은 뭉클한 연이 전해졌다. 영국 매체 가디언...  \n",
       "2     온라인 쇼핑몰에서 '무(無)알러지' '무니켈 도금' 등으로 홍보·판매되는 액세서리에...  \n",
       "3     혈액형이 O형(型)인 람이 코로나 바이러스 감염 시 망·위중증 위험이 다른 혈액형보...  \n",
       "4     최근 발생한 동해안 지역 대규모 산불로 인해 막대한 산림(山林) 피해가 우려되고 있...  \n",
       "...                                                 ...  \n",
       "1670  머스크, 유튜브에 실험 돼지 '거트루드' 공개 \"뇌 질환 치료 도움… 올해 안에 람...  \n",
       "1671  람의 팔다리에 연결해 조종 \"로봇 활용한 경주 스포츠 만들 것\" 람이 탑승한 로봇끼...  \n",
       "1672  띵똥! 선물이 도착했습니다. 판타지 소설 '해리포터'의 작가 조앤 롤링(55·영국)...  \n",
       "1673  아이돌 그룹 방탄소년단(BTS)과 블랙핑크가 세계 무대를 뒤흔들고 있다. 글로벌 시...  \n",
       "1674  '인공 지능 의'가 있는 병원을 상상한 적 있니? 놀랍게도 벌써 우리나라 한 병원에...  \n",
       "\n",
       "[1675 rows x 3 columns]"
      ]
     },
     "execution_count": 556,
     "metadata": {},
     "output_type": "execute_result"
    }
   ],
   "source": [
    "df.iloc[:, :3]"
   ]
  },
  {
   "cell_type": "code",
   "execution_count": 557,
   "id": "e3aa8c9b-ff88-444a-9d20-dc20e2223a16",
   "metadata": {},
   "outputs": [
    {
     "name": "stdout",
     "output_type": "stream",
     "text": [
      "['news_title', 'news_subtitle', 'news_article', 'news_url']\n",
      "(1675, 4)\n"
     ]
    }
   ],
   "source": [
    "# 데이터 형태 확인\n",
    "print(list(df.columns))\n",
    "print(df.shape)"
   ]
  },
  {
   "cell_type": "markdown",
   "id": "7f0ff861-f6fe-4d04-a631-c06390c52c89",
   "metadata": {},
   "source": [
    "---"
   ]
  },
  {
   "cell_type": "markdown",
   "id": "fed3f70a-24c3-4ccb-9ee4-967e4865befe",
   "metadata": {
    "tags": []
   },
   "source": [
    "## 2. 데이터 전처리(Data Preprocessing)"
   ]
  },
  {
   "cell_type": "markdown",
   "id": "903c43ed-771c-47d3-a168-43d8737785bd",
   "metadata": {},
   "source": [
    "### 결측치 확인"
   ]
  },
  {
   "cell_type": "code",
   "execution_count": 558,
   "id": "74c67791-be3e-4491-9741-016fa06aba8f",
   "metadata": {},
   "outputs": [
    {
     "name": "stdout",
     "output_type": "stream",
     "text": [
      "<class 'pandas.core.frame.DataFrame'>\n",
      "Int64Index: 1675 entries, 0 to 1674\n",
      "Data columns (total 4 columns):\n",
      " #   Column         Non-Null Count  Dtype \n",
      "---  ------         --------------  ----- \n",
      " 0   news_title     1675 non-null   object\n",
      " 1   news_subtitle  403 non-null    object\n",
      " 2   news_article   1636 non-null   object\n",
      " 3   news_url       1675 non-null   object\n",
      "dtypes: object(4)\n",
      "memory usage: 65.4+ KB\n"
     ]
    }
   ],
   "source": [
    "# 데이터 정보를 확인\n",
    "df.info()"
   ]
  },
  {
   "cell_type": "code",
   "execution_count": 559,
   "id": "11152d74-5656-43a1-8e71-150721a40990",
   "metadata": {},
   "outputs": [
    {
     "data": {
      "text/plain": [
       "news_title          0\n",
       "news_subtitle    1272\n",
       "news_article       39\n",
       "news_url            0\n",
       "dtype: int64"
      ]
     },
     "execution_count": 559,
     "metadata": {},
     "output_type": "execute_result"
    }
   ],
   "source": [
    "# 결측값 확인\n",
    "df.isnull().sum()"
   ]
  },
  {
   "cell_type": "code",
   "execution_count": 560,
   "id": "a21c8061-525c-47ac-8a0f-dbfe2945bc72",
   "metadata": {},
   "outputs": [],
   "source": [
    "# null/NaN to \"\"\n",
    "df = df.fillna(\"\")\n",
    "# df = df.dropna(subset=['news_article','news_subtitle'])"
   ]
  },
  {
   "cell_type": "code",
   "execution_count": 561,
   "id": "4c76b365-892b-4721-8c15-a7d331a7265b",
   "metadata": {},
   "outputs": [
    {
     "data": {
      "text/plain": [
       "news_title       0\n",
       "news_subtitle    0\n",
       "news_article     0\n",
       "news_url         0\n",
       "dtype: int64"
      ]
     },
     "execution_count": 561,
     "metadata": {},
     "output_type": "execute_result"
    }
   ],
   "source": [
    "# 결측값 확인\n",
    "df.isna().sum()"
   ]
  },
  {
   "cell_type": "markdown",
   "id": "535c7135-dbb7-452f-90d6-7fe9bd5698cc",
   "metadata": {},
   "source": [
    "---"
   ]
  },
  {
   "cell_type": "markdown",
   "id": "4ebc37be-4ec6-44ab-90f2-7a29ddd2d8fc",
   "metadata": {},
   "source": [
    "### 문자열 길이 확인 및 추가"
   ]
  },
  {
   "cell_type": "code",
   "execution_count": 562,
   "id": "d862fa90-d72c-4b3d-9bf9-c89e42e25ca1",
   "metadata": {},
   "outputs": [],
   "source": [
    "# df[\"news_len\"] = df.news_article.str.len()\n",
    "df['news_len'] = df['news_article'].apply(lambda x: len(x))"
   ]
  },
  {
   "cell_type": "code",
   "execution_count": 563,
   "id": "40e56eb8-a0d7-4195-a8d8-7a9eb6b7fce7",
   "metadata": {},
   "outputs": [
    {
     "data": {
      "text/html": [
       "<div>\n",
       "<style scoped>\n",
       "    .dataframe tbody tr th:only-of-type {\n",
       "        vertical-align: middle;\n",
       "    }\n",
       "\n",
       "    .dataframe tbody tr th {\n",
       "        vertical-align: top;\n",
       "    }\n",
       "\n",
       "    .dataframe thead th {\n",
       "        text-align: right;\n",
       "    }\n",
       "</style>\n",
       "<table border=\"1\" class=\"dataframe\">\n",
       "  <thead>\n",
       "    <tr style=\"text-align: right;\">\n",
       "      <th></th>\n",
       "      <th>news_title</th>\n",
       "      <th>news_subtitle</th>\n",
       "      <th>news_article</th>\n",
       "      <th>news_url</th>\n",
       "      <th>news_len</th>\n",
       "    </tr>\n",
       "  </thead>\n",
       "  <tbody>\n",
       "    <tr>\n",
       "      <th>0</th>\n",
       "      <td>[세상 속으로] \"러시아 고양이는 안 됩니다\"</td>\n",
       "      <td>국제고양이연맹, '월드 캣 쇼'서 퇴출</td>\n",
       "      <td>전 세계가 우크라이나를 침공(侵攻)한 러시아에 각종 제재를 가하고 있다. 이에 러시...</td>\n",
       "      <td>http://kid.chosun.com/site/data/html_dir/2022/...</td>\n",
       "      <td>469</td>\n",
       "    </tr>\n",
       "    <tr>\n",
       "      <th>1</th>\n",
       "      <td>[뉴스탐험대] 홀로 1000㎞… 우크라 國境&lt;국경&gt; 탈출한 11세 소년</td>\n",
       "      <td></td>\n",
       "      <td>우크라이나 소년이 홀로 국경(國境)을 넘은 뭉클한 연이 전해졌다. 영국 매체 가디언...</td>\n",
       "      <td>http://kid.chosun.com/site/data/html_dir/2022/...</td>\n",
       "      <td>380</td>\n",
       "    </tr>\n",
       "    <tr>\n",
       "      <th>2</th>\n",
       "      <td>[뉴스탐험대] 온라인 쇼핑몰 '니켈·납투성이 장신구' 주의</td>\n",
       "      <td></td>\n",
       "      <td>온라인 쇼핑몰에서 '무(無)알러지' '무니켈 도금' 등으로 홍보·판매되는 액세서리에...</td>\n",
       "      <td>http://kid.chosun.com/site/data/html_dir/2022/...</td>\n",
       "      <td>446</td>\n",
       "    </tr>\n",
       "    <tr>\n",
       "      <th>3</th>\n",
       "      <td>[뉴스탐험대] \"코로나에 강한 혈액형 있다\"… O형, 위험 최저</td>\n",
       "      <td></td>\n",
       "      <td>혈액형이 O형(型)인 람이 코로나 바이러스 감염 시 망·위중증 위험이 다른 혈액형보...</td>\n",
       "      <td>http://kid.chosun.com/site/data/html_dir/2022/...</td>\n",
       "      <td>451</td>\n",
       "    </tr>\n",
       "    <tr>\n",
       "      <th>4</th>\n",
       "      <td>잡히지 않는 火魔&lt;화마&gt;… 문화재 등 대규모 피해</td>\n",
       "      <td>서울 면적 4분의 1 이상 불타</td>\n",
       "      <td>최근 발생한 동해안 지역 대규모 산불로 인해 막대한 산림(山林) 피해가 우려되고 있...</td>\n",
       "      <td>http://kid.chosun.com/site/data/html_dir/2022/...</td>\n",
       "      <td>620</td>\n",
       "    </tr>\n",
       "  </tbody>\n",
       "</table>\n",
       "</div>"
      ],
      "text/plain": [
       "                                news_title          news_subtitle  \\\n",
       "0                [세상 속으로] \"러시아 고양이는 안 됩니다\"  국제고양이연맹, '월드 캣 쇼'서 퇴출   \n",
       "1  [뉴스탐험대] 홀로 1000㎞… 우크라 國境<국경> 탈출한 11세 소년                          \n",
       "2         [뉴스탐험대] 온라인 쇼핑몰 '니켈·납투성이 장신구' 주의                          \n",
       "3      [뉴스탐험대] \"코로나에 강한 혈액형 있다\"… O형, 위험 최저                          \n",
       "4              잡히지 않는 火魔<화마>… 문화재 등 대규모 피해      서울 면적 4분의 1 이상 불타   \n",
       "\n",
       "                                        news_article  \\\n",
       "0  전 세계가 우크라이나를 침공(侵攻)한 러시아에 각종 제재를 가하고 있다. 이에 러시...   \n",
       "1  우크라이나 소년이 홀로 국경(國境)을 넘은 뭉클한 연이 전해졌다. 영국 매체 가디언...   \n",
       "2  온라인 쇼핑몰에서 '무(無)알러지' '무니켈 도금' 등으로 홍보·판매되는 액세서리에...   \n",
       "3  혈액형이 O형(型)인 람이 코로나 바이러스 감염 시 망·위중증 위험이 다른 혈액형보...   \n",
       "4  최근 발생한 동해안 지역 대규모 산불로 인해 막대한 산림(山林) 피해가 우려되고 있...   \n",
       "\n",
       "                                            news_url  news_len  \n",
       "0  http://kid.chosun.com/site/data/html_dir/2022/...       469  \n",
       "1  http://kid.chosun.com/site/data/html_dir/2022/...       380  \n",
       "2  http://kid.chosun.com/site/data/html_dir/2022/...       446  \n",
       "3  http://kid.chosun.com/site/data/html_dir/2022/...       451  \n",
       "4  http://kid.chosun.com/site/data/html_dir/2022/...       620  "
      ]
     },
     "execution_count": 563,
     "metadata": {},
     "output_type": "execute_result"
    }
   ],
   "source": [
    "df.head()"
   ]
  },
  {
   "cell_type": "code",
   "execution_count": 564,
   "id": "2630ef5b-e95e-4e68-b36e-f381e60e2b0d",
   "metadata": {},
   "outputs": [
    {
     "data": {
      "text/html": [
       "<div>\n",
       "<style scoped>\n",
       "    .dataframe tbody tr th:only-of-type {\n",
       "        vertical-align: middle;\n",
       "    }\n",
       "\n",
       "    .dataframe tbody tr th {\n",
       "        vertical-align: top;\n",
       "    }\n",
       "\n",
       "    .dataframe thead th {\n",
       "        text-align: right;\n",
       "    }\n",
       "</style>\n",
       "<table border=\"1\" class=\"dataframe\">\n",
       "  <thead>\n",
       "    <tr style=\"text-align: right;\">\n",
       "      <th></th>\n",
       "      <th>count</th>\n",
       "      <th>mean</th>\n",
       "      <th>std</th>\n",
       "      <th>min</th>\n",
       "      <th>25%</th>\n",
       "      <th>50%</th>\n",
       "      <th>75%</th>\n",
       "      <th>max</th>\n",
       "    </tr>\n",
       "  </thead>\n",
       "  <tbody>\n",
       "    <tr>\n",
       "      <th>news_len</th>\n",
       "      <td>1675.0</td>\n",
       "      <td>981.068657</td>\n",
       "      <td>724.715977</td>\n",
       "      <td>0.0</td>\n",
       "      <td>479.0</td>\n",
       "      <td>772.0</td>\n",
       "      <td>1221.0</td>\n",
       "      <td>9658.0</td>\n",
       "    </tr>\n",
       "  </tbody>\n",
       "</table>\n",
       "</div>"
      ],
      "text/plain": [
       "           count        mean         std  min    25%    50%     75%     max\n",
       "news_len  1675.0  981.068657  724.715977  0.0  479.0  772.0  1221.0  9658.0"
      ]
     },
     "execution_count": 564,
     "metadata": {},
     "output_type": "execute_result"
    }
   ],
   "source": [
    "# min 값을 봤을 때 기사가 없는 경우도 존재\n",
    "df.describe().T"
   ]
  },
  {
   "cell_type": "markdown",
   "id": "e5b9d161-9129-49c5-b804-6f0ae1bf7e38",
   "metadata": {},
   "source": [
    "---"
   ]
  },
  {
   "cell_type": "markdown",
   "id": "5040fdb9-f47b-48e5-b146-b0495d8f7015",
   "metadata": {},
   "source": [
    "### 이상치 확인\n",
    "- 이상한 뉴스 데이터 확인"
   ]
  },
  {
   "cell_type": "code",
   "execution_count": 565,
   "id": "76fc2f6f-0016-4299-b17d-5917c096afca",
   "metadata": {
    "tags": []
   },
   "outputs": [
    {
     "data": {
      "text/html": [
       "<div>\n",
       "<style scoped>\n",
       "    .dataframe tbody tr th:only-of-type {\n",
       "        vertical-align: middle;\n",
       "    }\n",
       "\n",
       "    .dataframe tbody tr th {\n",
       "        vertical-align: top;\n",
       "    }\n",
       "\n",
       "    .dataframe thead th {\n",
       "        text-align: right;\n",
       "    }\n",
       "</style>\n",
       "<table border=\"1\" class=\"dataframe\">\n",
       "  <thead>\n",
       "    <tr style=\"text-align: right;\">\n",
       "      <th></th>\n",
       "      <th>news_title</th>\n",
       "      <th>news_url</th>\n",
       "      <th>news_len</th>\n",
       "    </tr>\n",
       "  </thead>\n",
       "  <tbody>\n",
       "    <tr>\n",
       "      <th>8</th>\n",
       "      <td>[메시지 뉴스] 명태·대게와 러시아</td>\n",
       "      <td>http://kid.chosun.com/site/data/html_dir/2022/...</td>\n",
       "      <td>0</td>\n",
       "    </tr>\n",
       "    <tr>\n",
       "      <th>303</th>\n",
       "      <td>[메시지 뉴스] 동지(冬至)</td>\n",
       "      <td>http://kid.chosun.com/site/data/html_dir/2021/...</td>\n",
       "      <td>0</td>\n",
       "    </tr>\n",
       "    <tr>\n",
       "      <th>325</th>\n",
       "      <td>[메시지 뉴스] 성탄 트리의 기원</td>\n",
       "      <td>http://kid.chosun.com/site/data/html_dir/2021/...</td>\n",
       "      <td>0</td>\n",
       "    </tr>\n",
       "    <tr>\n",
       "      <th>389</th>\n",
       "      <td>[메시지 뉴스] 일본 한류 열풍</td>\n",
       "      <td>http://kid.chosun.com/site/data/html_dir/2021/...</td>\n",
       "      <td>0</td>\n",
       "    </tr>\n",
       "    <tr>\n",
       "      <th>400</th>\n",
       "      <td>[메시지 뉴스] 우주탐사 인형</td>\n",
       "      <td>http://kid.chosun.com/site/data/html_dir/2021/...</td>\n",
       "      <td>0</td>\n",
       "    </tr>\n",
       "    <tr>\n",
       "      <th>423</th>\n",
       "      <td>[메시지 뉴스] 대학수학 능력시험</td>\n",
       "      <td>http://kid.chosun.com/site/data/html_dir/2021/...</td>\n",
       "      <td>0</td>\n",
       "    </tr>\n",
       "    <tr>\n",
       "      <th>451</th>\n",
       "      <td>[메시지 뉴스] COP26</td>\n",
       "      <td>http://kid.chosun.com/site/data/html_dir/2021/...</td>\n",
       "      <td>0</td>\n",
       "    </tr>\n",
       "    <tr>\n",
       "      <th>485</th>\n",
       "      <td>[메시지 뉴스] 기초 학력과 학교생활</td>\n",
       "      <td>http://kid.chosun.com/site/data/html_dir/2021/...</td>\n",
       "      <td>0</td>\n",
       "    </tr>\n",
       "    <tr>\n",
       "      <th>504</th>\n",
       "      <td>[메시지 뉴스] 대통령 선거</td>\n",
       "      <td>http://kid.chosun.com/site/data/html_dir/2021/...</td>\n",
       "      <td>0</td>\n",
       "    </tr>\n",
       "    <tr>\n",
       "      <th>536</th>\n",
       "      <td>[메시지 뉴스] 탄소중립</td>\n",
       "      <td>http://kid.chosun.com/site/data/html_dir/2021/...</td>\n",
       "      <td>0</td>\n",
       "    </tr>\n",
       "    <tr>\n",
       "      <th>568</th>\n",
       "      <td>[메시지 뉴스] 골프</td>\n",
       "      <td>http://kid.chosun.com/site/data/html_dir/2021/...</td>\n",
       "      <td>0</td>\n",
       "    </tr>\n",
       "    <tr>\n",
       "      <th>586</th>\n",
       "      <td>[메시지 뉴스] 국정감사</td>\n",
       "      <td>http://kid.chosun.com/site/data/html_dir/2021/...</td>\n",
       "      <td>0</td>\n",
       "    </tr>\n",
       "    <tr>\n",
       "      <th>612</th>\n",
       "      <td>[메시지 뉴스] 기네스북</td>\n",
       "      <td>http://kid.chosun.com/site/data/html_dir/2021/...</td>\n",
       "      <td>0</td>\n",
       "    </tr>\n",
       "    <tr>\n",
       "      <th>644</th>\n",
       "      <td>[메시지 뉴스] 추석</td>\n",
       "      <td>http://kid.chosun.com/site/data/html_dir/2021/...</td>\n",
       "      <td>0</td>\n",
       "    </tr>\n",
       "    <tr>\n",
       "      <th>671</th>\n",
       "      <td>[메시지 뉴스] 아프간 전쟁</td>\n",
       "      <td>http://kid.chosun.com/site/data/html_dir/2021/...</td>\n",
       "      <td>0</td>\n",
       "    </tr>\n",
       "    <tr>\n",
       "      <th>697</th>\n",
       "      <td>[메시지 뉴스] 코로나 백신</td>\n",
       "      <td>http://kid.chosun.com/site/data/html_dir/2021/...</td>\n",
       "      <td>0</td>\n",
       "    </tr>\n",
       "    <tr>\n",
       "      <th>1383</th>\n",
       "      <td>[요리 쿡! 조리 쿡!] 시원하고 달콤하고 코코아 아이스바</td>\n",
       "      <td>http://kid.chosun.com/site/data/html_dir/2020/...</td>\n",
       "      <td>0</td>\n",
       "    </tr>\n",
       "    <tr>\n",
       "      <th>1409</th>\n",
       "      <td>[요리 쿡! 조리 쿡!] 호호 불어 드세요 돌돌 말린 채소 춘권</td>\n",
       "      <td>http://kid.chosun.com/site/data/html_dir/2020/...</td>\n",
       "      <td>0</td>\n",
       "    </tr>\n",
       "    <tr>\n",
       "      <th>1413</th>\n",
       "      <td>[요리 쿡! 조리 쿡!] 콕콕 찍어 입으로 쏙쏙 톡톡 튀는 팝콘 치킨</td>\n",
       "      <td>http://kid.chosun.com/site/data/html_dir/2020/...</td>\n",
       "      <td>0</td>\n",
       "    </tr>\n",
       "    <tr>\n",
       "      <th>1438</th>\n",
       "      <td>[요리 쿡! 조리 쿡!] 파티 음식으로도 'OK' 토마토 브루스케타</td>\n",
       "      <td>http://kid.chosun.com/site/data/html_dir/2020/...</td>\n",
       "      <td>0</td>\n",
       "    </tr>\n",
       "    <tr>\n",
       "      <th>275</th>\n",
       "      <td>[메시지 뉴스] 세계의 새해 풍습</td>\n",
       "      <td>http://kid.chosun.com/site/data/html_dir/2021/...</td>\n",
       "      <td>0</td>\n",
       "    </tr>\n",
       "    <tr>\n",
       "      <th>244</th>\n",
       "      <td>[메시지 뉴스] 성년(成年) 기준</td>\n",
       "      <td>http://kid.chosun.com/site/data/html_dir/2022/...</td>\n",
       "      <td>0</td>\n",
       "    </tr>\n",
       "    <tr>\n",
       "      <th>1654</th>\n",
       "      <td>기자들의 수다</td>\n",
       "      <td>http://kid.chosun.com/site/data/html_dir/2020/...</td>\n",
       "      <td>0</td>\n",
       "    </tr>\n",
       "    <tr>\n",
       "      <th>205</th>\n",
       "      <td>[영상-맛있는 실험실] 감자채 피자를 만들어 봤어요‼</td>\n",
       "      <td>http://kid.chosun.com/site/data/html_dir/2022/...</td>\n",
       "      <td>0</td>\n",
       "    </tr>\n",
       "    <tr>\n",
       "      <th>37</th>\n",
       "      <td>[메시지 뉴스] 체스</td>\n",
       "      <td>http://kid.chosun.com/site/data/html_dir/2022/...</td>\n",
       "      <td>0</td>\n",
       "    </tr>\n",
       "    <tr>\n",
       "      <th>69</th>\n",
       "      <td>[메시지 뉴스] 용감하게 질문하기!</td>\n",
       "      <td>http://kid.chosun.com/site/data/html_dir/2022/...</td>\n",
       "      <td>0</td>\n",
       "    </tr>\n",
       "    <tr>\n",
       "      <th>214</th>\n",
       "      <td>[메시지 뉴스] 어린이 교통안전</td>\n",
       "      <td>http://kid.chosun.com/site/data/html_dir/2022/...</td>\n",
       "      <td>0</td>\n",
       "    </tr>\n",
       "    <tr>\n",
       "      <th>108</th>\n",
       "      <td>[꿀beetv] 안철수 후보의 '어린이를 위한 대선공약'은?</td>\n",
       "      <td>http://kid.chosun.com/site/data/html_dir/2022/...</td>\n",
       "      <td>0</td>\n",
       "    </tr>\n",
       "    <tr>\n",
       "      <th>109</th>\n",
       "      <td>[꿀beetv] 어린이조선일보 기자들의 해보GO! \"별걸 다 꾸며요\"</td>\n",
       "      <td>http://kid.chosun.com/site/data/html_dir/2022/...</td>\n",
       "      <td>0</td>\n",
       "    </tr>\n",
       "    <tr>\n",
       "      <th>111</th>\n",
       "      <td>[메시지 뉴스] 한국판 미네르바 大學</td>\n",
       "      <td>http://kid.chosun.com/site/data/html_dir/2022/...</td>\n",
       "      <td>0</td>\n",
       "    </tr>\n",
       "    <tr>\n",
       "      <th>120</th>\n",
       "      <td>[꿀BEE] 강아지 건강에 최고인 수제 간식 만들기</td>\n",
       "      <td>http://kid.chosun.com/site/data/html_dir/2022/...</td>\n",
       "      <td>0</td>\n",
       "    </tr>\n",
       "    <tr>\n",
       "      <th>125</th>\n",
       "      <td>[신자영의 5분 영어] 모니 모니 석가모니 일화 속 영어 표현 배우기!</td>\n",
       "      <td>http://kid.chosun.com/site/data/html_dir/2022/...</td>\n",
       "      <td>0</td>\n",
       "    </tr>\n",
       "    <tr>\n",
       "      <th>126</th>\n",
       "      <td>[일상 속 간단한 운동] 본지 기자들, 스트레칭에 도전하다</td>\n",
       "      <td>http://kid.chosun.com/site/data/html_dir/2022/...</td>\n",
       "      <td>0</td>\n",
       "    </tr>\n",
       "    <tr>\n",
       "      <th>92</th>\n",
       "      <td>[메시지 뉴스] 올바른 양치법</td>\n",
       "      <td>http://kid.chosun.com/site/data/html_dir/2022/...</td>\n",
       "      <td>0</td>\n",
       "    </tr>\n",
       "    <tr>\n",
       "      <th>164</th>\n",
       "      <td>[메시지 뉴스] 어린이 안전 관리 강화</td>\n",
       "      <td>http://kid.chosun.com/site/data/html_dir/2022/...</td>\n",
       "      <td>0</td>\n",
       "    </tr>\n",
       "    <tr>\n",
       "      <th>203</th>\n",
       "      <td>[영상-출동! 명예기자] 국립과학수사연구원을 체험하다!</td>\n",
       "      <td>http://kid.chosun.com/site/data/html_dir/2022/...</td>\n",
       "      <td>0</td>\n",
       "    </tr>\n",
       "    <tr>\n",
       "      <th>144</th>\n",
       "      <td>[영상-출동! 명예기자] 화제의 인물 글 쓰는 의사 '남궁인'을 만나다!</td>\n",
       "      <td>http://kid.chosun.com/site/data/html_dir/2022/...</td>\n",
       "      <td>0</td>\n",
       "    </tr>\n",
       "    <tr>\n",
       "      <th>187</th>\n",
       "      <td>[메시지 뉴스] 재밌는 지하철역명 이야기</td>\n",
       "      <td>http://kid.chosun.com/site/data/html_dir/2022/...</td>\n",
       "      <td>0</td>\n",
       "    </tr>\n",
       "    <tr>\n",
       "      <th>202</th>\n",
       "      <td>[영상-출동! 명예기자] 새벽배송 쇼핑몰 '마켓컬리' 김슬아 대표 인터뷰</td>\n",
       "      <td>http://kid.chosun.com/site/data/html_dir/2022/...</td>\n",
       "      <td>0</td>\n",
       "    </tr>\n",
       "    <tr>\n",
       "      <th>706</th>\n",
       "      <td>[생생~~영상뉴스] 머리에 밥솥 달린 로봇 이야기</td>\n",
       "      <td>http://kid.chosun.com/site/data/html_dir/2021/...</td>\n",
       "      <td>16</td>\n",
       "    </tr>\n",
       "    <tr>\n",
       "      <th>368</th>\n",
       "      <td>[생생 인터뷰 현장!] 주한 프랑스 대사 '필립 르포르'를 만나다!</td>\n",
       "      <td>http://kid.chosun.com/site/data/html_dir/2021/...</td>\n",
       "      <td>22</td>\n",
       "    </tr>\n",
       "    <tr>\n",
       "      <th>691</th>\n",
       "      <td>[생생~~영상뉴스] 환경파괴의 주범 누텔라?</td>\n",
       "      <td>http://kid.chosun.com/site/data/html_dir/2021/...</td>\n",
       "      <td>26</td>\n",
       "    </tr>\n",
       "    <tr>\n",
       "      <th>717</th>\n",
       "      <td>잠자리 드론과 풍선 망원경? 과감한 박새의 사연은?</td>\n",
       "      <td>http://kid.chosun.com/site/data/html_dir/2021/...</td>\n",
       "      <td>27</td>\n",
       "    </tr>\n",
       "    <tr>\n",
       "      <th>825</th>\n",
       "      <td>[동영상]\"니네 집에 요리로봇 있어? 비서로봇은?\"...\"로봇 몇 대 있니?\" 묻는...</td>\n",
       "      <td>http://kid.chosun.com/site/data/html_dir/2021/...</td>\n",
       "      <td>49</td>\n",
       "    </tr>\n",
       "    <tr>\n",
       "      <th>289</th>\n",
       "      <td>[정답 공개] 크리스마스 퍼즐, 숨은그림찾기</td>\n",
       "      <td>http://kid.chosun.com/site/data/html_dir/2021/...</td>\n",
       "      <td>49</td>\n",
       "    </tr>\n",
       "    <tr>\n",
       "      <th>76</th>\n",
       "      <td>[꿀BeeTV] 출동! 명예기자 충주 기상과학관에 가다!</td>\n",
       "      <td>http://kid.chosun.com/site/data/html_dir/2022/...</td>\n",
       "      <td>55</td>\n",
       "    </tr>\n",
       "    <tr>\n",
       "      <th>147</th>\n",
       "      <td>신자영의 5분 영어!</td>\n",
       "      <td>http://kid.chosun.com/site/data/html_dir/2022/...</td>\n",
       "      <td>59</td>\n",
       "    </tr>\n",
       "    <tr>\n",
       "      <th>590</th>\n",
       "      <td>[POPCORN NEWS] 국군의 날 특집! 영상뉴스</td>\n",
       "      <td>http://kid.chosun.com/site/data/html_dir/2021/...</td>\n",
       "      <td>63</td>\n",
       "    </tr>\n",
       "    <tr>\n",
       "      <th>1501</th>\n",
       "      <td>간편하게 한 끼 챙길 땐 쫀득쫀득 그래놀라 바</td>\n",
       "      <td>http://kid.chosun.com/site/data/html_dir/2020/...</td>\n",
       "      <td>71</td>\n",
       "    </tr>\n",
       "    <tr>\n",
       "      <th>1498</th>\n",
       "      <td>편하게 들고 '쏙쏙' 한입 토스트 꼬치</td>\n",
       "      <td>http://kid.chosun.com/site/data/html_dir/2020/...</td>\n",
       "      <td>71</td>\n",
       "    </tr>\n",
       "    <tr>\n",
       "      <th>1525</th>\n",
       "      <td>노릇하게 구워볼까? 폭신폭신 팬케이크</td>\n",
       "      <td>http://kid.chosun.com/site/data/html_dir/2020/...</td>\n",
       "      <td>74</td>\n",
       "    </tr>\n",
       "    <tr>\n",
       "      <th>352</th>\n",
       "      <td>[메시지 뉴스] 세상 가장 작은 나라들</td>\n",
       "      <td>http://kid.chosun.com/site/data/html_dir/2021/...</td>\n",
       "      <td>91</td>\n",
       "    </tr>\n",
       "    <tr>\n",
       "      <th>1569</th>\n",
       "      <td>[카드뉴스] \"취미활동 늘었지만, 친구 못만나 속상해요\"</td>\n",
       "      <td>http://kid.chosun.com/site/data/html_dir/2020/...</td>\n",
       "      <td>93</td>\n",
       "    </tr>\n",
       "    <tr>\n",
       "      <th>1444</th>\n",
       "      <td>돌돌 말렸네! 맛있는 시금치 롤</td>\n",
       "      <td>http://kid.chosun.com/site/data/html_dir/2020/...</td>\n",
       "      <td>103</td>\n",
       "    </tr>\n",
       "    <tr>\n",
       "      <th>70</th>\n",
       "      <td>[꿀BeeTV] '알리와 아브라함' 형제 이야기</td>\n",
       "      <td>http://kid.chosun.com/site/data/html_dir/2022/...</td>\n",
       "      <td>110</td>\n",
       "    </tr>\n",
       "    <tr>\n",
       "      <th>15</th>\n",
       "      <td>[꿀BeeTV] 무인도에서 극적으로 탈출한 생존자 이야기</td>\n",
       "      <td>http://kid.chosun.com/site/data/html_dir/2022/...</td>\n",
       "      <td>115</td>\n",
       "    </tr>\n",
       "    <tr>\n",
       "      <th>93</th>\n",
       "      <td>[꿀beetv] 대나무와 고사리 그리고 한 남자의 이야기</td>\n",
       "      <td>http://kid.chosun.com/site/data/html_dir/2022/...</td>\n",
       "      <td>130</td>\n",
       "    </tr>\n",
       "    <tr>\n",
       "      <th>1464</th>\n",
       "      <td>초콜릿 잼 품은 바나나 크레이프</td>\n",
       "      <td>http://kid.chosun.com/site/data/html_dir/2020/...</td>\n",
       "      <td>151</td>\n",
       "    </tr>\n",
       "    <tr>\n",
       "      <th>47</th>\n",
       "      <td>[꿀BeeTV] 아무리 돈이 많아도 살 수 없는 것은?</td>\n",
       "      <td>http://kid.chosun.com/site/data/html_dir/2022/...</td>\n",
       "      <td>158</td>\n",
       "    </tr>\n",
       "    <tr>\n",
       "      <th>1575</th>\n",
       "      <td>기록, 또 기록… 케이팝에 한계란 없다</td>\n",
       "      <td>http://kid.chosun.com/site/data/html_dir/2020/...</td>\n",
       "      <td>183</td>\n",
       "    </tr>\n",
       "  </tbody>\n",
       "</table>\n",
       "</div>"
      ],
      "text/plain": [
       "                                             news_title  \\\n",
       "8                                   [메시지 뉴스] 명태·대게와 러시아   \n",
       "303                                     [메시지 뉴스] 동지(冬至)   \n",
       "325                                  [메시지 뉴스] 성탄 트리의 기원   \n",
       "389                                   [메시지 뉴스] 일본 한류 열풍   \n",
       "400                                    [메시지 뉴스] 우주탐사 인형   \n",
       "423                                  [메시지 뉴스] 대학수학 능력시험   \n",
       "451                                      [메시지 뉴스] COP26   \n",
       "485                                [메시지 뉴스] 기초 학력과 학교생활   \n",
       "504                                     [메시지 뉴스] 대통령 선거   \n",
       "536                                       [메시지 뉴스] 탄소중립   \n",
       "568                                         [메시지 뉴스] 골프   \n",
       "586                                       [메시지 뉴스] 국정감사   \n",
       "612                                       [메시지 뉴스] 기네스북   \n",
       "644                                         [메시지 뉴스] 추석   \n",
       "671                                     [메시지 뉴스] 아프간 전쟁   \n",
       "697                                     [메시지 뉴스] 코로나 백신   \n",
       "1383                   [요리 쿡! 조리 쿡!] 시원하고 달콤하고 코코아 아이스바   \n",
       "1409                [요리 쿡! 조리 쿡!] 호호 불어 드세요 돌돌 말린 채소 춘권   \n",
       "1413             [요리 쿡! 조리 쿡!] 콕콕 찍어 입으로 쏙쏙 톡톡 튀는 팝콘 치킨   \n",
       "1438              [요리 쿡! 조리 쿡!] 파티 음식으로도 'OK' 토마토 브루스케타   \n",
       "275                                  [메시지 뉴스] 세계의 새해 풍습   \n",
       "244                                  [메시지 뉴스] 성년(成年) 기준   \n",
       "1654                                            기자들의 수다   \n",
       "205                       [영상-맛있는 실험실] 감자채 피자를 만들어 봤어요‼   \n",
       "37                                          [메시지 뉴스] 체스   \n",
       "69                                  [메시지 뉴스] 용감하게 질문하기!   \n",
       "214                                   [메시지 뉴스] 어린이 교통안전   \n",
       "108                   [꿀beetv] 안철수 후보의 '어린이를 위한 대선공약'은?   \n",
       "109              [꿀beetv] 어린이조선일보 기자들의 해보GO! \"별걸 다 꾸며요\"   \n",
       "111                                [메시지 뉴스] 한국판 미네르바 大學   \n",
       "120                        [꿀BEE] 강아지 건강에 최고인 수제 간식 만들기   \n",
       "125             [신자영의 5분 영어] 모니 모니 석가모니 일화 속 영어 표현 배우기!   \n",
       "126                    [일상 속 간단한 운동] 본지 기자들, 스트레칭에 도전하다   \n",
       "92                                     [메시지 뉴스] 올바른 양치법   \n",
       "164                               [메시지 뉴스] 어린이 안전 관리 강화   \n",
       "203                      [영상-출동! 명예기자] 국립과학수사연구원을 체험하다!   \n",
       "144            [영상-출동! 명예기자] 화제의 인물 글 쓰는 의사 '남궁인'을 만나다!   \n",
       "187                              [메시지 뉴스] 재밌는 지하철역명 이야기   \n",
       "202            [영상-출동! 명예기자] 새벽배송 쇼핑몰 '마켓컬리' 김슬아 대표 인터뷰   \n",
       "706                         [생생~~영상뉴스] 머리에 밥솥 달린 로봇 이야기   \n",
       "368               [생생 인터뷰 현장!] 주한 프랑스 대사 '필립 르포르'를 만나다!   \n",
       "691                            [생생~~영상뉴스] 환경파괴의 주범 누텔라?   \n",
       "717                        잠자리 드론과 풍선 망원경? 과감한 박새의 사연은?   \n",
       "825   [동영상]\"니네 집에 요리로봇 있어? 비서로봇은?\"...\"로봇 몇 대 있니?\" 묻는...   \n",
       "289                            [정답 공개] 크리스마스 퍼즐, 숨은그림찾기   \n",
       "76                      [꿀BeeTV] 출동! 명예기자 충주 기상과학관에 가다!   \n",
       "147                                         신자영의 5분 영어!   \n",
       "590                       [POPCORN NEWS] 국군의 날 특집! 영상뉴스   \n",
       "1501                          간편하게 한 끼 챙길 땐 쫀득쫀득 그래놀라 바   \n",
       "1498                              편하게 들고 '쏙쏙' 한입 토스트 꼬치   \n",
       "1525                               노릇하게 구워볼까? 폭신폭신 팬케이크   \n",
       "352                               [메시지 뉴스] 세상 가장 작은 나라들   \n",
       "1569                    [카드뉴스] \"취미활동 늘었지만, 친구 못만나 속상해요\"   \n",
       "1444                                  돌돌 말렸네! 맛있는 시금치 롤   \n",
       "70                           [꿀BeeTV] '알리와 아브라함' 형제 이야기   \n",
       "15                      [꿀BeeTV] 무인도에서 극적으로 탈출한 생존자 이야기   \n",
       "93                      [꿀beetv] 대나무와 고사리 그리고 한 남자의 이야기   \n",
       "1464                                  초콜릿 잼 품은 바나나 크레이프   \n",
       "47                      [꿀BeeTV] 아무리 돈이 많아도 살 수 없는 것은?    \n",
       "1575                              기록, 또 기록… 케이팝에 한계란 없다   \n",
       "\n",
       "                                               news_url  news_len  \n",
       "8     http://kid.chosun.com/site/data/html_dir/2022/...         0  \n",
       "303   http://kid.chosun.com/site/data/html_dir/2021/...         0  \n",
       "325   http://kid.chosun.com/site/data/html_dir/2021/...         0  \n",
       "389   http://kid.chosun.com/site/data/html_dir/2021/...         0  \n",
       "400   http://kid.chosun.com/site/data/html_dir/2021/...         0  \n",
       "423   http://kid.chosun.com/site/data/html_dir/2021/...         0  \n",
       "451   http://kid.chosun.com/site/data/html_dir/2021/...         0  \n",
       "485   http://kid.chosun.com/site/data/html_dir/2021/...         0  \n",
       "504   http://kid.chosun.com/site/data/html_dir/2021/...         0  \n",
       "536   http://kid.chosun.com/site/data/html_dir/2021/...         0  \n",
       "568   http://kid.chosun.com/site/data/html_dir/2021/...         0  \n",
       "586   http://kid.chosun.com/site/data/html_dir/2021/...         0  \n",
       "612   http://kid.chosun.com/site/data/html_dir/2021/...         0  \n",
       "644   http://kid.chosun.com/site/data/html_dir/2021/...         0  \n",
       "671   http://kid.chosun.com/site/data/html_dir/2021/...         0  \n",
       "697   http://kid.chosun.com/site/data/html_dir/2021/...         0  \n",
       "1383  http://kid.chosun.com/site/data/html_dir/2020/...         0  \n",
       "1409  http://kid.chosun.com/site/data/html_dir/2020/...         0  \n",
       "1413  http://kid.chosun.com/site/data/html_dir/2020/...         0  \n",
       "1438  http://kid.chosun.com/site/data/html_dir/2020/...         0  \n",
       "275   http://kid.chosun.com/site/data/html_dir/2021/...         0  \n",
       "244   http://kid.chosun.com/site/data/html_dir/2022/...         0  \n",
       "1654  http://kid.chosun.com/site/data/html_dir/2020/...         0  \n",
       "205   http://kid.chosun.com/site/data/html_dir/2022/...         0  \n",
       "37    http://kid.chosun.com/site/data/html_dir/2022/...         0  \n",
       "69    http://kid.chosun.com/site/data/html_dir/2022/...         0  \n",
       "214   http://kid.chosun.com/site/data/html_dir/2022/...         0  \n",
       "108   http://kid.chosun.com/site/data/html_dir/2022/...         0  \n",
       "109   http://kid.chosun.com/site/data/html_dir/2022/...         0  \n",
       "111   http://kid.chosun.com/site/data/html_dir/2022/...         0  \n",
       "120   http://kid.chosun.com/site/data/html_dir/2022/...         0  \n",
       "125   http://kid.chosun.com/site/data/html_dir/2022/...         0  \n",
       "126   http://kid.chosun.com/site/data/html_dir/2022/...         0  \n",
       "92    http://kid.chosun.com/site/data/html_dir/2022/...         0  \n",
       "164   http://kid.chosun.com/site/data/html_dir/2022/...         0  \n",
       "203   http://kid.chosun.com/site/data/html_dir/2022/...         0  \n",
       "144   http://kid.chosun.com/site/data/html_dir/2022/...         0  \n",
       "187   http://kid.chosun.com/site/data/html_dir/2022/...         0  \n",
       "202   http://kid.chosun.com/site/data/html_dir/2022/...         0  \n",
       "706   http://kid.chosun.com/site/data/html_dir/2021/...        16  \n",
       "368   http://kid.chosun.com/site/data/html_dir/2021/...        22  \n",
       "691   http://kid.chosun.com/site/data/html_dir/2021/...        26  \n",
       "717   http://kid.chosun.com/site/data/html_dir/2021/...        27  \n",
       "825   http://kid.chosun.com/site/data/html_dir/2021/...        49  \n",
       "289   http://kid.chosun.com/site/data/html_dir/2021/...        49  \n",
       "76    http://kid.chosun.com/site/data/html_dir/2022/...        55  \n",
       "147   http://kid.chosun.com/site/data/html_dir/2022/...        59  \n",
       "590   http://kid.chosun.com/site/data/html_dir/2021/...        63  \n",
       "1501  http://kid.chosun.com/site/data/html_dir/2020/...        71  \n",
       "1498  http://kid.chosun.com/site/data/html_dir/2020/...        71  \n",
       "1525  http://kid.chosun.com/site/data/html_dir/2020/...        74  \n",
       "352   http://kid.chosun.com/site/data/html_dir/2021/...        91  \n",
       "1569  http://kid.chosun.com/site/data/html_dir/2020/...        93  \n",
       "1444  http://kid.chosun.com/site/data/html_dir/2020/...       103  \n",
       "70    http://kid.chosun.com/site/data/html_dir/2022/...       110  \n",
       "15    http://kid.chosun.com/site/data/html_dir/2022/...       115  \n",
       "93    http://kid.chosun.com/site/data/html_dir/2022/...       130  \n",
       "1464  http://kid.chosun.com/site/data/html_dir/2020/...       151  \n",
       "47    http://kid.chosun.com/site/data/html_dir/2022/...       158  \n",
       "1575  http://kid.chosun.com/site/data/html_dir/2020/...       183  "
      ]
     },
     "execution_count": 565,
     "metadata": {},
     "output_type": "execute_result"
    }
   ],
   "source": [
    "# 기사 길이 200 이하 확인\n",
    "condition = (df.news_len <= 200)\n",
    "\n",
    "shorts_df = df[condition][['news_title','news_url','news_len']].sort_values(by='news_len' ,ascending=True)\n",
    "shorts_df"
   ]
  },
  {
   "cell_type": "code",
   "execution_count": 566,
   "id": "da04c4fe-c7e2-4301-8121-6cd965571d03",
   "metadata": {},
   "outputs": [
    {
     "data": {
      "text/plain": [
       "(60, 3)"
      ]
     },
     "execution_count": 566,
     "metadata": {},
     "output_type": "execute_result"
    }
   ],
   "source": [
    "shorts_df.shape"
   ]
  },
  {
   "cell_type": "code",
   "execution_count": 567,
   "id": "7ac84cb2-40c9-4539-a676-140fa17ea454",
   "metadata": {
    "tags": []
   },
   "outputs": [
    {
     "data": {
      "text/plain": [
       "['[메시지 뉴스] 명태·대게와 러시아',\n",
       " '[메시지 뉴스] 동지(冬至)',\n",
       " '[메시지 뉴스] 성탄 트리의 기원',\n",
       " '[메시지 뉴스] 일본 한류 열풍',\n",
       " '[메시지 뉴스] 우주탐사 인형',\n",
       " '[메시지 뉴스] 대학수학 능력시험',\n",
       " '[메시지 뉴스] COP26',\n",
       " '[메시지 뉴스] 기초 학력과 학교생활',\n",
       " '[메시지 뉴스] 대통령 선거',\n",
       " '[메시지 뉴스] 탄소중립',\n",
       " '[메시지 뉴스] 골프',\n",
       " '[메시지 뉴스] 국정감사',\n",
       " '[메시지 뉴스] 기네스북',\n",
       " '[메시지 뉴스] 추석',\n",
       " '[메시지 뉴스] 아프간 전쟁',\n",
       " '[메시지 뉴스] 코로나 백신',\n",
       " '[요리 쿡! 조리 쿡!] 시원하고 달콤하고 코코아 아이스바',\n",
       " '[요리 쿡! 조리 쿡!] 호호 불어 드세요 돌돌 말린 채소 춘권',\n",
       " '[요리 쿡! 조리 쿡!] 콕콕 찍어 입으로 쏙쏙 톡톡 튀는 팝콘 치킨',\n",
       " \"[요리 쿡! 조리 쿡!] 파티 음식으로도 'OK' 토마토 브루스케타\",\n",
       " '[메시지 뉴스] 세계의 새해 풍습',\n",
       " '[메시지 뉴스] 성년(成年) 기준',\n",
       " '기자들의 수다',\n",
       " '[영상-맛있는 실험실] 감자채 피자를 만들어 봤어요‼',\n",
       " '[메시지 뉴스] 체스',\n",
       " '[메시지 뉴스] 용감하게 질문하기!',\n",
       " '[메시지 뉴스] 어린이 교통안전',\n",
       " \"[꿀beetv] 안철수 후보의 '어린이를 위한 대선공약'은?\",\n",
       " '[꿀beetv] 어린이조선일보 기자들의 해보GO! \"별걸 다 꾸며요\"',\n",
       " '[메시지 뉴스] 한국판 미네르바 大學',\n",
       " '[꿀BEE] 강아지 건강에 최고인 수제 간식 만들기',\n",
       " '[신자영의 5분 영어] 모니 모니 석가모니 일화 속 영어 표현 배우기!',\n",
       " '[일상 속 간단한 운동] 본지 기자들, 스트레칭에 도전하다',\n",
       " '[메시지 뉴스] 올바른 양치법',\n",
       " '[메시지 뉴스] 어린이 안전 관리 강화',\n",
       " '[영상-출동! 명예기자] 국립과학수사연구원을 체험하다!',\n",
       " \"[영상-출동! 명예기자] 화제의 인물 글 쓰는 의사 '남궁인'을 만나다!\",\n",
       " '[메시지 뉴스] 재밌는 지하철역명 이야기',\n",
       " \"[영상-출동! 명예기자] 새벽배송 쇼핑몰 '마켓컬리' 김슬아 대표 인터뷰\",\n",
       " '[생생~~영상뉴스] 머리에 밥솥 달린 로봇 이야기',\n",
       " \"[생생 인터뷰 현장!] 주한 프랑스 대사 '필립 르포르'를 만나다!\",\n",
       " '[생생~~영상뉴스] 환경파괴의 주범 누텔라?',\n",
       " '잠자리 드론과 풍선 망원경? 과감한 박새의 사연은?',\n",
       " '[동영상]\"니네 집에 요리로봇 있어? 비서로봇은?\"...\"로봇 몇 대 있니?\" 묻는 세상 온다!',\n",
       " '[정답 공개] 크리스마스 퍼즐, 숨은그림찾기',\n",
       " '[꿀BeeTV] 출동! 명예기자 충주 기상과학관에 가다!',\n",
       " '신자영의 5분 영어!',\n",
       " '[POPCORN NEWS] 국군의 날 특집! 영상뉴스',\n",
       " '간편하게 한 끼 챙길 땐 쫀득쫀득 그래놀라 바',\n",
       " \"편하게 들고 '쏙쏙' 한입 토스트 꼬치\",\n",
       " '노릇하게 구워볼까? 폭신폭신 팬케이크',\n",
       " '[메시지 뉴스] 세상 가장 작은 나라들',\n",
       " '[카드뉴스] \"취미활동 늘었지만, 친구 못만나 속상해요\"',\n",
       " '돌돌 말렸네! 맛있는 시금치 롤',\n",
       " \"[꿀BeeTV] '알리와 아브라함' 형제 이야기\",\n",
       " '[꿀BeeTV] 무인도에서 극적으로 탈출한 생존자 이야기',\n",
       " '[꿀beetv] 대나무와 고사리 그리고 한 남자의 이야기',\n",
       " '초콜릿 잼 품은 바나나 크레이프',\n",
       " '[꿀BeeTV] 아무리 돈이 많아도 살 수 없는 것은? ',\n",
       " '기록, 또 기록… 케이팝에 한계란 없다']"
      ]
     },
     "execution_count": 567,
     "metadata": {},
     "output_type": "execute_result"
    }
   ],
   "source": [
    "short_title = shorts_df.news_title\n",
    "list(short_title)"
   ]
  },
  {
   "cell_type": "markdown",
   "id": "92a9d9e0-0c47-4d3c-b0df-cf9e7c5b7041",
   "metadata": {},
   "source": [
    "---"
   ]
  },
  {
   "cell_type": "markdown",
   "id": "a95ac2ae-51c2-40ab-8379-454cb503bd57",
   "metadata": {
    "tags": []
   },
   "source": [
    "### 데이터 삭제\n",
    "- 시리즈 기사 title과 그 외 text title 확인"
   ]
  },
  {
   "cell_type": "code",
   "execution_count": 568,
   "id": "40e60c63-2896-4584-8978-7a716613a92d",
   "metadata": {},
   "outputs": [],
   "source": [
    "# 전체 기사 대상 진행\n",
    "split_title = []\n",
    "\n",
    "for title in df.news_title:\n",
    "    # m = re.search(r'(?<=\\[).*(?=\\])', title)\n",
    "    m = re.search(r'\\[(.*?)\\]', title)\n",
    "    if m :\n",
    "        split_title.append(m.group())\n",
    "    else:\n",
    "        # sub_text = re.sub(r'[?]',\"\\?\",title)\n",
    "        split_title.append(title)"
   ]
  },
  {
   "cell_type": "code",
   "execution_count": 569,
   "id": "3c091038-0390-403e-bd9f-f9db7746906c",
   "metadata": {},
   "outputs": [],
   "source": [
    "df['split_title'] = split_title"
   ]
  },
  {
   "cell_type": "code",
   "execution_count": 570,
   "id": "c9195b62-8872-4114-a616-1dc508fc3624",
   "metadata": {},
   "outputs": [
    {
     "data": {
      "text/html": [
       "<div>\n",
       "<style scoped>\n",
       "    .dataframe tbody tr th:only-of-type {\n",
       "        vertical-align: middle;\n",
       "    }\n",
       "\n",
       "    .dataframe tbody tr th {\n",
       "        vertical-align: top;\n",
       "    }\n",
       "\n",
       "    .dataframe thead th {\n",
       "        text-align: right;\n",
       "    }\n",
       "</style>\n",
       "<table border=\"1\" class=\"dataframe\">\n",
       "  <thead>\n",
       "    <tr style=\"text-align: right;\">\n",
       "      <th></th>\n",
       "      <th>split_title</th>\n",
       "    </tr>\n",
       "  </thead>\n",
       "  <tbody>\n",
       "    <tr>\n",
       "      <th>0</th>\n",
       "      <td>[세상 속으로]</td>\n",
       "    </tr>\n",
       "    <tr>\n",
       "      <th>1</th>\n",
       "      <td>[뉴스탐험대]</td>\n",
       "    </tr>\n",
       "    <tr>\n",
       "      <th>2</th>\n",
       "      <td>[뉴스탐험대]</td>\n",
       "    </tr>\n",
       "    <tr>\n",
       "      <th>3</th>\n",
       "      <td>[뉴스탐험대]</td>\n",
       "    </tr>\n",
       "    <tr>\n",
       "      <th>4</th>\n",
       "      <td>잡히지 않는 火魔&lt;화마&gt;… 문화재 등 대규모 피해</td>\n",
       "    </tr>\n",
       "    <tr>\n",
       "      <th>5</th>\n",
       "      <td>[뉴스탐험대]</td>\n",
       "    </tr>\n",
       "    <tr>\n",
       "      <th>6</th>\n",
       "      <td>[우리의 보금자리, 놀라운 住居 상식]</td>\n",
       "    </tr>\n",
       "    <tr>\n",
       "      <th>7</th>\n",
       "      <td>[주목! 정보 레터]</td>\n",
       "    </tr>\n",
       "    <tr>\n",
       "      <th>8</th>\n",
       "      <td>[메시지 뉴스]</td>\n",
       "    </tr>\n",
       "    <tr>\n",
       "      <th>9</th>\n",
       "      <td>[뉴스탐험대]</td>\n",
       "    </tr>\n",
       "  </tbody>\n",
       "</table>\n",
       "</div>"
      ],
      "text/plain": [
       "                   split_title\n",
       "0                     [세상 속으로]\n",
       "1                      [뉴스탐험대]\n",
       "2                      [뉴스탐험대]\n",
       "3                      [뉴스탐험대]\n",
       "4  잡히지 않는 火魔<화마>… 문화재 등 대규모 피해\n",
       "5                      [뉴스탐험대]\n",
       "6        [우리의 보금자리, 놀라운 住居 상식]\n",
       "7                  [주목! 정보 레터]\n",
       "8                     [메시지 뉴스]\n",
       "9                      [뉴스탐험대]"
      ]
     },
     "execution_count": 570,
     "metadata": {},
     "output_type": "execute_result"
    }
   ],
   "source": [
    "df[['split_title']][:10]"
   ]
  },
  {
   "cell_type": "code",
   "execution_count": 571,
   "id": "8703c248-3533-48d4-b131-fc1b0ff6a96a",
   "metadata": {},
   "outputs": [
    {
     "data": {
      "text/plain": [
       "[뉴스탐험대]                  544\n",
       "[오늘의 키워드]                 86\n",
       "기자들의 수다                   77\n",
       "[메시지 뉴스]                  26\n",
       "[팝콘뉴스]                    26\n",
       "[주목! 정보 레터]               19\n",
       "[푸른 별, 지구를 지켜라]           15\n",
       "[ESG 기업 탐방]               14\n",
       "[이슬기의 슬기로운 스토리 잡스]        10\n",
       "[의학 정보 쏙쏙, 우리 아이 쑥쑥]       9\n",
       "[여러분의 생각은?]                8\n",
       "[기획]                       8\n",
       "[사진으로 보는 세상]               7\n",
       "[알차고 통통튀는 인터뷰]             7\n",
       "[현장]                       5\n",
       "[호국 보훈의 달 특집]              5\n",
       "[기자 수첩]                    5\n",
       "[출동! 명예기자]                 4\n",
       "[탄소 중립 기획]                 4\n",
       "[요리 쿡! 조리 쿡!]              4\n",
       "[세상 속으로]                   4\n",
       "[초등 트렌드]                   4\n",
       "[꿀BeeTV]                   4\n",
       "[알립니다]                     3\n",
       "[영상-출동! 명예기자]              3\n",
       "[현장 스케치]                   3\n",
       "[우리의 보금자리, 놀라운 住居 상식]      3\n",
       "[초등 줌터뷰]                   3\n",
       "[꿀beetv]                   3\n",
       "[생생~~영상뉴스]                 2\n",
       "[현장 취재]                    2\n",
       "간추린 소식                     2\n",
       "[뉴스타그램]                    2\n",
       "Name: split_title, dtype: int64"
      ]
     },
     "execution_count": 571,
     "metadata": {},
     "output_type": "execute_result"
    }
   ],
   "source": [
    "# 시리즈 기사 유니크 값 체크\n",
    "count_unique_title = df.split_title.value_counts()\n",
    "count_unique_title[count_unique_title >= 2]"
   ]
  },
  {
   "cell_type": "code",
   "execution_count": 572,
   "id": "4815fa5c-dbee-4164-9850-8d48e28a2b89",
   "metadata": {},
   "outputs": [],
   "source": [
    "# 200줄 이하 기사 대상 진행\n",
    "import re\n",
    "\n",
    "split_title = []\n",
    "\n",
    "for title in short_title:\n",
    "    m = re.search(r'\\[(.*?)\\]', title)\n",
    "    if m :\n",
    "        split_title.append(m.group())\n",
    "    else:\n",
    "        split_title.append(title)"
   ]
  },
  {
   "cell_type": "code",
   "execution_count": 573,
   "id": "a208c0e5-55fc-4365-99f5-da82725420e2",
   "metadata": {},
   "outputs": [
    {
     "data": {
      "text/plain": [
       "['기록, 또 기록… 케이팝에 한계란 없다',\n",
       " '[신자영의 5분 영어]',\n",
       " '[정답 공개]',\n",
       " '잠자리 드론과 풍선 망원경? 과감한 박새의 사연은?',\n",
       " \"편하게 들고 '쏙쏙' 한입 토스트 꼬치\",\n",
       " '초콜릿 잼 품은 바나나 크레이프',\n",
       " '간편하게 한 끼 챙길 땐 쫀득쫀득 그래놀라 바',\n",
       " '노릇하게 구워볼까? 폭신폭신 팬케이크',\n",
       " '[꿀beetv]',\n",
       " '기자들의 수다',\n",
       " '[일상 속 간단한 운동]',\n",
       " '[카드뉴스]',\n",
       " '[생생 인터뷰 현장!]',\n",
       " '[영상-출동! 명예기자]',\n",
       " '돌돌 말렸네! 맛있는 시금치 롤',\n",
       " '[요리 쿡! 조리 쿡!]',\n",
       " '신자영의 5분 영어!',\n",
       " '[꿀BeeTV]',\n",
       " '[동영상]',\n",
       " '[POPCORN NEWS]',\n",
       " '[꿀BEE]',\n",
       " '[영상-맛있는 실험실]',\n",
       " '[생생~~영상뉴스]',\n",
       " '[메시지 뉴스]']"
      ]
     },
     "execution_count": 573,
     "metadata": {},
     "output_type": "execute_result"
    }
   ],
   "source": [
    "list(set(split_title))"
   ]
  },
  {
   "cell_type": "code",
   "execution_count": 574,
   "id": "87eef965-77ea-4ed0-bb98-24f5baabd2ef",
   "metadata": {},
   "outputs": [
    {
     "name": "stdout",
     "output_type": "stream",
     "text": [
      "불용어 처리 전 df 크기: 1675\n"
     ]
    }
   ],
   "source": [
    "# 전체 기사에 대한 불용어 처리를 진행합니다\n",
    "print('불용어 처리 전 df 크기:',len(df))"
   ]
  },
  {
   "cell_type": "code",
   "execution_count": 575,
   "id": "be00418f-19b3-4073-963d-82f328340283",
   "metadata": {
    "tags": []
   },
   "outputs": [],
   "source": [
    "for title in split_title:\n",
    "    # 불용어 단어가 news_title에 포함되지 않은 데이터를 걸러냅니다\n",
    "    df = df[df['news_title'].apply(lambda x: title not in x)]\n",
    "    # 간혹 시리즈 타이틀이 기사 본문 안에서 시작하는 경우도 있습니다\n",
    "    df = df[df['news_article'].apply(lambda x: title not in x)]"
   ]
  },
  {
   "cell_type": "code",
   "execution_count": 576,
   "id": "c16713b7-9924-4660-9319-660935bfcb4b",
   "metadata": {},
   "outputs": [
    {
     "name": "stdout",
     "output_type": "stream",
     "text": [
      "불용어 처리 후 df 크기: 1538\n"
     ]
    }
   ],
   "source": [
    "print('불용어 처리 후 df 크기:',len(df))"
   ]
  },
  {
   "cell_type": "code",
   "execution_count": 577,
   "id": "4d739586-3c5e-4f1d-b081-19260b620b86",
   "metadata": {
    "tags": []
   },
   "outputs": [
    {
     "data": {
      "text/html": [
       "<div>\n",
       "<style scoped>\n",
       "    .dataframe tbody tr th:only-of-type {\n",
       "        vertical-align: middle;\n",
       "    }\n",
       "\n",
       "    .dataframe tbody tr th {\n",
       "        vertical-align: top;\n",
       "    }\n",
       "\n",
       "    .dataframe thead th {\n",
       "        text-align: right;\n",
       "    }\n",
       "</style>\n",
       "<table border=\"1\" class=\"dataframe\">\n",
       "  <thead>\n",
       "    <tr style=\"text-align: right;\">\n",
       "      <th></th>\n",
       "      <th>news_title</th>\n",
       "      <th>news_subtitle</th>\n",
       "      <th>news_article</th>\n",
       "      <th>news_url</th>\n",
       "      <th>news_len</th>\n",
       "      <th>split_title</th>\n",
       "    </tr>\n",
       "  </thead>\n",
       "  <tbody>\n",
       "    <tr>\n",
       "      <th>0</th>\n",
       "      <td>[세상 속으로] \"러시아 고양이는 안 됩니다\"</td>\n",
       "      <td>국제고양이연맹, '월드 캣 쇼'서 퇴출</td>\n",
       "      <td>전 세계가 우크라이나를 침공(侵攻)한 러시아에 각종 제재를 가하고 있다. 이에 러시...</td>\n",
       "      <td>http://kid.chosun.com/site/data/html_dir/2022/...</td>\n",
       "      <td>469</td>\n",
       "      <td>[세상 속으로]</td>\n",
       "    </tr>\n",
       "    <tr>\n",
       "      <th>1</th>\n",
       "      <td>[뉴스탐험대] 홀로 1000㎞… 우크라 國境&lt;국경&gt; 탈출한 11세 소년</td>\n",
       "      <td></td>\n",
       "      <td>우크라이나 소년이 홀로 국경(國境)을 넘은 뭉클한 연이 전해졌다. 영국 매체 가디언...</td>\n",
       "      <td>http://kid.chosun.com/site/data/html_dir/2022/...</td>\n",
       "      <td>380</td>\n",
       "      <td>[뉴스탐험대]</td>\n",
       "    </tr>\n",
       "  </tbody>\n",
       "</table>\n",
       "</div>"
      ],
      "text/plain": [
       "                                news_title          news_subtitle  \\\n",
       "0                [세상 속으로] \"러시아 고양이는 안 됩니다\"  국제고양이연맹, '월드 캣 쇼'서 퇴출   \n",
       "1  [뉴스탐험대] 홀로 1000㎞… 우크라 國境<국경> 탈출한 11세 소년                          \n",
       "\n",
       "                                        news_article  \\\n",
       "0  전 세계가 우크라이나를 침공(侵攻)한 러시아에 각종 제재를 가하고 있다. 이에 러시...   \n",
       "1  우크라이나 소년이 홀로 국경(國境)을 넘은 뭉클한 연이 전해졌다. 영국 매체 가디언...   \n",
       "\n",
       "                                            news_url  news_len split_title  \n",
       "0  http://kid.chosun.com/site/data/html_dir/2022/...       469    [세상 속으로]  \n",
       "1  http://kid.chosun.com/site/data/html_dir/2022/...       380     [뉴스탐험대]  "
      ]
     },
     "execution_count": 577,
     "metadata": {},
     "output_type": "execute_result"
    }
   ],
   "source": [
    "# 기사의 길이가 300개 아래인 경우 버림\n",
    "# 문장 요약을 위해 세 문장보다 많은 기사를 확보하기 위함\n",
    "df = df[df['news_len'] > 300].reset_index(drop=True)\n",
    "df.head(2)"
   ]
  },
  {
   "cell_type": "code",
   "execution_count": 578,
   "id": "c876922e-63d1-4949-b8f8-2ba958f787e0",
   "metadata": {},
   "outputs": [
    {
     "name": "stdout",
     "output_type": "stream",
     "text": [
      "짧은 기사 처리 후 df 크기: 1527\n"
     ]
    }
   ],
   "source": [
    "# 초기 데이터 : 1675\n",
    "print('짧은 기사 처리 후 df 크기:',len(df))"
   ]
  },
  {
   "cell_type": "markdown",
   "id": "1619e53b-2e14-4ff1-a036-1d2824fc7c37",
   "metadata": {},
   "source": [
    "---"
   ]
  },
  {
   "cell_type": "markdown",
   "id": "6466f068-3d8a-4a5b-a1c1-382be5a30830",
   "metadata": {},
   "source": [
    "### 특수문자 및 공백 제거"
   ]
  },
  {
   "cell_type": "markdown",
   "id": "7efb9192-1c9c-46aa-adac-aa9dfc5c4b10",
   "metadata": {},
   "source": [
    "**0. Basic**\n",
    "- 기초적인 전처리,\n",
    "- html tag 제거(크롤링한 데이터일경우)\n",
    "- 숫자, 영어, 특수문자 등 필요하지 않은 언어 제거\n",
    "- Lowercasing\n",
    "- \"@%*=()/+ 와 같은 punctuation(문장부호) 제거\n",
    "- 한자 - 삭제할지 고민\n"
   ]
  },
  {
   "cell_type": "code",
   "execution_count": 579,
   "id": "8c987113-6fc7-4635-b616-040bc45332aa",
   "metadata": {},
   "outputs": [],
   "source": [
    "import re \n",
    "def clean_text(text): \n",
    "    text = re.sub(r'(\\[)(.*?)(\\])','',str(text)) # remove [title]\n",
    "    text = re.sub(r'(\\()(.*?)(\\))', '', text)  # 소괄호 (세부 설명\n",
    "    text = re.sub(r'[?!]', '.', text)          # ?! => 마침표 처리\n",
    "    text = re.sub(r'[\\,\\·\\:\\-\\_]', ' ', text)  # 문장부호 구분자 => 공백 처리\n",
    "    # text = text.lower() #lower case \n",
    "    text = re.sub(r'\\s+', ' ', text) #remove extra space\n",
    "    # text = re.sub(r'<[^>]+>','',text) #remove Html tags \n",
    "    text = re.sub(r'<[^가-힣]+>','',text)# 홑화살괄호 => 한글만 빼고 제거\n",
    "    text = re.sub(r'^\\s+', '', text) #remove space from start\n",
    "    text = re.sub(r'\\s+$', '', text) #remove space from the end\n",
    "    text = re.sub('[^가-힣\\w. ]', '', text)    # 한글, 문자, 숫자, 마침표, 공백 제외 제거\n",
    "    text = re.sub(r'[一-龥]', '', text) #remove Chinese character\n",
    "    text = re.sub('\\s{2,}', ' ', text)        # 2번 이상의 space 제거\n",
    "    text = text.strip()\n",
    "    return text"
   ]
  },
  {
   "cell_type": "code",
   "execution_count": 580,
   "id": "cbbddac7-8d83-4ecc-9449-43a1dd052ac6",
   "metadata": {},
   "outputs": [
    {
     "data": {
      "text/plain": [
       "'화마 고양이. 러시아 고양이는 안 됩니다.'"
      ]
     },
     "execution_count": 580,
     "metadata": {},
     "output_type": "execute_result"
    }
   ],
   "source": [
    "text = ' <p>[세상 속으로] <화마> \"고양이?  러시아·고양이(소말리·스핑크스·오리엔탈 등...)는 안  됩니다.無 </p>\" '\n",
    "clean_text(text)"
   ]
  },
  {
   "cell_type": "code",
   "execution_count": 581,
   "id": "553eadba-4848-4dc3-96c3-511e5442c292",
   "metadata": {},
   "outputs": [],
   "source": [
    "df[\"news_title\"] = df[\"news_title\"].apply(clean_text)\n",
    "df[\"news_subtitle\"] = df[\"news_subtitle\"].apply(clean_text)\n",
    "df[\"news_article\"] = df[\"news_article\"].apply(clean_text)"
   ]
  },
  {
   "cell_type": "code",
   "execution_count": 582,
   "id": "6ed31ef4-83a2-417a-825c-5f5d8667289d",
   "metadata": {},
   "outputs": [
    {
     "data": {
      "text/html": [
       "<div>\n",
       "<style scoped>\n",
       "    .dataframe tbody tr th:only-of-type {\n",
       "        vertical-align: middle;\n",
       "    }\n",
       "\n",
       "    .dataframe tbody tr th {\n",
       "        vertical-align: top;\n",
       "    }\n",
       "\n",
       "    .dataframe thead th {\n",
       "        text-align: right;\n",
       "    }\n",
       "</style>\n",
       "<table border=\"1\" class=\"dataframe\">\n",
       "  <thead>\n",
       "    <tr style=\"text-align: right;\">\n",
       "      <th></th>\n",
       "      <th>news_title</th>\n",
       "      <th>news_subtitle</th>\n",
       "      <th>news_article</th>\n",
       "      <th>news_url</th>\n",
       "      <th>news_len</th>\n",
       "      <th>split_title</th>\n",
       "    </tr>\n",
       "  </thead>\n",
       "  <tbody>\n",
       "    <tr>\n",
       "      <th>0</th>\n",
       "      <td>러시아 고양이는 안 됩니다</td>\n",
       "      <td>국제고양이연맹 월드 캣 쇼서 퇴출</td>\n",
       "      <td>전 세계가 우크라이나를 침공한 러시아에 각종 제재를 가하고 있다. 이에 러시아 고양...</td>\n",
       "      <td>http://kid.chosun.com/site/data/html_dir/2022/...</td>\n",
       "      <td>469</td>\n",
       "      <td>[세상 속으로]</td>\n",
       "    </tr>\n",
       "    <tr>\n",
       "      <th>1</th>\n",
       "      <td>홀로 1000 우크라 국경 탈출한 11세 소년</td>\n",
       "      <td></td>\n",
       "      <td>우크라이나 소년이 홀로 국경을 넘은 뭉클한 연이 전해졌다. 영국 매체 가디언과 메트...</td>\n",
       "      <td>http://kid.chosun.com/site/data/html_dir/2022/...</td>\n",
       "      <td>380</td>\n",
       "      <td>[뉴스탐험대]</td>\n",
       "    </tr>\n",
       "    <tr>\n",
       "      <th>2</th>\n",
       "      <td>온라인 쇼핑몰 니켈 납투성이 장신구 주의</td>\n",
       "      <td></td>\n",
       "      <td>온라인 쇼핑몰에서 무알러지 무니켈 도금 등으로 홍보 판매되는 액세서리에서 기준치를 ...</td>\n",
       "      <td>http://kid.chosun.com/site/data/html_dir/2022/...</td>\n",
       "      <td>446</td>\n",
       "      <td>[뉴스탐험대]</td>\n",
       "    </tr>\n",
       "    <tr>\n",
       "      <th>3</th>\n",
       "      <td>코로나에 강한 혈액형 있다 O형 위험 최저</td>\n",
       "      <td></td>\n",
       "      <td>혈액형이 O형인 람이 코로나 바이러스 감염 시 망 위중증 위험이 다른 혈액형보다 낮...</td>\n",
       "      <td>http://kid.chosun.com/site/data/html_dir/2022/...</td>\n",
       "      <td>451</td>\n",
       "      <td>[뉴스탐험대]</td>\n",
       "    </tr>\n",
       "    <tr>\n",
       "      <th>4</th>\n",
       "      <td>잡히지 않는 화마 문화재 등 대규모 피해</td>\n",
       "      <td>서울 면적 4분의 1 이상 불타</td>\n",
       "      <td>최근 발생한 동해안 지역 대규모 산불로 인해 막대한 산림 피해가 우려되고 있다. 지...</td>\n",
       "      <td>http://kid.chosun.com/site/data/html_dir/2022/...</td>\n",
       "      <td>620</td>\n",
       "      <td>잡히지 않는 火魔&lt;화마&gt;… 문화재 등 대규모 피해</td>\n",
       "    </tr>\n",
       "    <tr>\n",
       "      <th>...</th>\n",
       "      <td>...</td>\n",
       "      <td>...</td>\n",
       "      <td>...</td>\n",
       "      <td>...</td>\n",
       "      <td>...</td>\n",
       "      <td>...</td>\n",
       "    </tr>\n",
       "    <tr>\n",
       "      <th>1522</th>\n",
       "      <td>돼지 뇌에 컴퓨터 칩 연결 생각만으로 기계 움직일 수 있을까.</td>\n",
       "      <td></td>\n",
       "      <td>머스크 유튜브에 실험 돼지 거트루드 공개 뇌 질환 치료 도움 올해 안에 람 적용 손...</td>\n",
       "      <td>http://kid.chosun.com/site/data/html_dir/2020/...</td>\n",
       "      <td>1124</td>\n",
       "      <td>돼지 뇌에 컴퓨터 칩 연결… 생각만으로 기계 움직일 수 있을까?</td>\n",
       "    </tr>\n",
       "    <tr>\n",
       "      <th>1523</th>\n",
       "      <td>탑승형 로봇 프로스테시스 조종사를 뽑습니다.</td>\n",
       "      <td></td>\n",
       "      <td>람의 팔다리에 연결해 조종 로봇 활용한 경주 스포츠 만들 것 람이 탑승한 로봇끼리 ...</td>\n",
       "      <td>http://kid.chosun.com/site/data/html_dir/2020/...</td>\n",
       "      <td>721</td>\n",
       "      <td>탑승형 로봇 '프로스테시스' 조종사를 뽑습니다!</td>\n",
       "    </tr>\n",
       "    <tr>\n",
       "      <th>1524</th>\n",
       "      <td>모험 떠날 준비 됐니. 그럼 책장을 펼쳐봐.</td>\n",
       "      <td></td>\n",
       "      <td>띵똥. 선물이 도착했습니다. 판타지 소설 해리포터의 작가 조앤 롤링이 코로나19로 ...</td>\n",
       "      <td>http://kid.chosun.com/site/data/html_dir/2020/...</td>\n",
       "      <td>1668</td>\n",
       "      <td>모험 떠날 준비 됐니? 그럼, 책장을 펼쳐봐!</td>\n",
       "    </tr>\n",
       "    <tr>\n",
       "      <th>1525</th>\n",
       "      <td>방탄소년단 블랙핑크 세계 음원시장 올킬</td>\n",
       "      <td></td>\n",
       "      <td>아이돌 그룹 방탄소년단과 블랙핑크가 세계 무대를 뒤흔들고 있다. 글로벌 시장을 겨냥...</td>\n",
       "      <td>http://kid.chosun.com/site/data/html_dir/2020/...</td>\n",
       "      <td>756</td>\n",
       "      <td>방탄소년단·블랙핑크, 세계 음원시장 '올킬'</td>\n",
       "    </tr>\n",
       "    <tr>\n",
       "      <th>1526</th>\n",
       "      <td>알파고가 이세돌 9단을 이긴 건 딥러닝 덕분이지</td>\n",
       "      <td></td>\n",
       "      <td>인공 지능 의가 있는 병원을 상상한 적 있니. 놀랍게도 벌써 우리나라 한 병원에서는...</td>\n",
       "      <td>http://kid.chosun.com/site/data/html_dir/2020/...</td>\n",
       "      <td>1717</td>\n",
       "      <td>알파고가 이세돌 9단을 이긴 건 '딥러닝' 덕분이지</td>\n",
       "    </tr>\n",
       "  </tbody>\n",
       "</table>\n",
       "<p>1527 rows × 6 columns</p>\n",
       "</div>"
      ],
      "text/plain": [
       "                              news_title       news_subtitle  \\\n",
       "0                         러시아 고양이는 안 됩니다  국제고양이연맹 월드 캣 쇼서 퇴출   \n",
       "1              홀로 1000 우크라 국경 탈출한 11세 소년                       \n",
       "2                 온라인 쇼핑몰 니켈 납투성이 장신구 주의                       \n",
       "3                코로나에 강한 혈액형 있다 O형 위험 최저                       \n",
       "4                 잡히지 않는 화마 문화재 등 대규모 피해   서울 면적 4분의 1 이상 불타   \n",
       "...                                  ...                 ...   \n",
       "1522  돼지 뇌에 컴퓨터 칩 연결 생각만으로 기계 움직일 수 있을까.                       \n",
       "1523            탑승형 로봇 프로스테시스 조종사를 뽑습니다.                       \n",
       "1524            모험 떠날 준비 됐니. 그럼 책장을 펼쳐봐.                       \n",
       "1525               방탄소년단 블랙핑크 세계 음원시장 올킬                       \n",
       "1526          알파고가 이세돌 9단을 이긴 건 딥러닝 덕분이지                       \n",
       "\n",
       "                                           news_article  \\\n",
       "0     전 세계가 우크라이나를 침공한 러시아에 각종 제재를 가하고 있다. 이에 러시아 고양...   \n",
       "1     우크라이나 소년이 홀로 국경을 넘은 뭉클한 연이 전해졌다. 영국 매체 가디언과 메트...   \n",
       "2     온라인 쇼핑몰에서 무알러지 무니켈 도금 등으로 홍보 판매되는 액세서리에서 기준치를 ...   \n",
       "3     혈액형이 O형인 람이 코로나 바이러스 감염 시 망 위중증 위험이 다른 혈액형보다 낮...   \n",
       "4     최근 발생한 동해안 지역 대규모 산불로 인해 막대한 산림 피해가 우려되고 있다. 지...   \n",
       "...                                                 ...   \n",
       "1522  머스크 유튜브에 실험 돼지 거트루드 공개 뇌 질환 치료 도움 올해 안에 람 적용 손...   \n",
       "1523  람의 팔다리에 연결해 조종 로봇 활용한 경주 스포츠 만들 것 람이 탑승한 로봇끼리 ...   \n",
       "1524  띵똥. 선물이 도착했습니다. 판타지 소설 해리포터의 작가 조앤 롤링이 코로나19로 ...   \n",
       "1525  아이돌 그룹 방탄소년단과 블랙핑크가 세계 무대를 뒤흔들고 있다. 글로벌 시장을 겨냥...   \n",
       "1526  인공 지능 의가 있는 병원을 상상한 적 있니. 놀랍게도 벌써 우리나라 한 병원에서는...   \n",
       "\n",
       "                                               news_url  news_len  \\\n",
       "0     http://kid.chosun.com/site/data/html_dir/2022/...       469   \n",
       "1     http://kid.chosun.com/site/data/html_dir/2022/...       380   \n",
       "2     http://kid.chosun.com/site/data/html_dir/2022/...       446   \n",
       "3     http://kid.chosun.com/site/data/html_dir/2022/...       451   \n",
       "4     http://kid.chosun.com/site/data/html_dir/2022/...       620   \n",
       "...                                                 ...       ...   \n",
       "1522  http://kid.chosun.com/site/data/html_dir/2020/...      1124   \n",
       "1523  http://kid.chosun.com/site/data/html_dir/2020/...       721   \n",
       "1524  http://kid.chosun.com/site/data/html_dir/2020/...      1668   \n",
       "1525  http://kid.chosun.com/site/data/html_dir/2020/...       756   \n",
       "1526  http://kid.chosun.com/site/data/html_dir/2020/...      1717   \n",
       "\n",
       "                              split_title  \n",
       "0                                [세상 속으로]  \n",
       "1                                 [뉴스탐험대]  \n",
       "2                                 [뉴스탐험대]  \n",
       "3                                 [뉴스탐험대]  \n",
       "4             잡히지 않는 火魔<화마>… 문화재 등 대규모 피해  \n",
       "...                                   ...  \n",
       "1522  돼지 뇌에 컴퓨터 칩 연결… 생각만으로 기계 움직일 수 있을까?  \n",
       "1523           탑승형 로봇 '프로스테시스' 조종사를 뽑습니다!  \n",
       "1524            모험 떠날 준비 됐니? 그럼, 책장을 펼쳐봐!  \n",
       "1525             방탄소년단·블랙핑크, 세계 음원시장 '올킬'  \n",
       "1526         알파고가 이세돌 9단을 이긴 건 '딥러닝' 덕분이지  \n",
       "\n",
       "[1527 rows x 6 columns]"
      ]
     },
     "execution_count": 582,
     "metadata": {},
     "output_type": "execute_result"
    }
   ],
   "source": [
    "df.iloc[:, ]"
   ]
  },
  {
   "cell_type": "markdown",
   "id": "86796ec8-4368-49c6-a911-616c19030255",
   "metadata": {},
   "source": [
    "---"
   ]
  },
  {
   "cell_type": "markdown",
   "id": "277997a5-60f0-4496-b5a7-71f6318b582d",
   "metadata": {},
   "source": [
    "## 3. news_article 문장 분리"
   ]
  },
  {
   "cell_type": "markdown",
   "id": "4dab187e-5af0-4f88-adf8-261b963540e9",
   "metadata": {},
   "source": [
    "### split() 사용"
   ]
  },
  {
   "cell_type": "code",
   "execution_count": 583,
   "id": "dcf0f441-ee31-4704-abed-102d1a9bc80e",
   "metadata": {},
   "outputs": [],
   "source": [
    "# (\\. ) 온점으로 분리\n",
    "df[\"split_article\"] = df.news_article.str.split('\\. ')"
   ]
  },
  {
   "cell_type": "code",
   "execution_count": 584,
   "id": "7f567256-c859-4295-8ee7-1e9f087a2690",
   "metadata": {},
   "outputs": [
    {
     "data": {
      "text/plain": [
       "0       [전 세계가 우크라이나를 침공한 러시아에 각종 제재를 가하고 있다, 이에 러시아 고...\n",
       "1       [우크라이나 소년이 홀로 국경을 넘은 뭉클한 연이 전해졌다, 영국 매체 가디언과 메...\n",
       "2       [온라인 쇼핑몰에서 무알러지 무니켈 도금 등으로 홍보 판매되는 액세서리에서 기준치를...\n",
       "3       [혈액형이 O형인 람이 코로나 바이러스 감염 시 망 위중증 위험이 다른 혈액형보다 ...\n",
       "4       [최근 발생한 동해안 지역 대규모 산불로 인해 막대한 산림 피해가 우려되고 있다, ...\n",
       "                              ...                        \n",
       "1522    [머스크 유튜브에 실험 돼지 거트루드 공개 뇌 질환 치료 도움 올해 안에 람 적용 ...\n",
       "1523    [람의 팔다리에 연결해 조종 로봇 활용한 경주 스포츠 만들 것 람이 탑승한 로봇끼리...\n",
       "1524    [띵똥, 선물이 도착했습니다, 판타지 소설 해리포터의 작가 조앤 롤링이 코로나19로...\n",
       "1525    [아이돌 그룹 방탄소년단과 블랙핑크가 세계 무대를 뒤흔들고 있다, 글로벌 시장을 겨...\n",
       "1526    [인공 지능 의가 있는 병원을 상상한 적 있니, 놀랍게도 벌써 우리나라 한 병원에서...\n",
       "Name: split_article, Length: 1527, dtype: object"
      ]
     },
     "execution_count": 584,
     "metadata": {},
     "output_type": "execute_result"
    }
   ],
   "source": [
    "df[\"split_article\"]"
   ]
  },
  {
   "cell_type": "code",
   "execution_count": 585,
   "id": "df584cff-8eb7-478b-bb2c-93a0c7dcee5c",
   "metadata": {},
   "outputs": [
    {
     "data": {
      "text/plain": [
       "'전 세계가 우크라이나를 침공한 러시아에 각종 제재를 가하고 있다. 이에 러시아 고양이도 국제 대회에 출전하지 못한다는 소식이 전해졌다. 지난 3일 영국 일간 데일리메일에 따르면 70여 년 역를 가 국제고양이연맹이 최근 성명을 통해 월드 캣 쇼에 러시아 소속 고양이 참가를 금지하겠다고 밝혔다. 고양이연맹은 예쁜 고양이 대회를 비롯해 매년 700여 개의 고양이 관련 대회를 주최해왔다. 연맹 측은 오는 5월 말까지 러시아산 고양이의 수입을 금지하고 러시아에서 태어난 고양이의 혈통서 등록도 허용하지 않겠다며 우크라이나를 향한 러시아의 잔혹한 행위에 대해 더 이상 침묵할 수 없었다고 밝혔다. 이어 우크라이나 난민과 피란 중인 반려동물을 위한 기금도 마련할 것이라고 덧붙였다. 러시아 고양이의 국제 대회 출전 금지령에 대해 어떻게 생각하나요.'"
      ]
     },
     "execution_count": 585,
     "metadata": {},
     "output_type": "execute_result"
    }
   ],
   "source": [
    "df.news_article[0]"
   ]
  },
  {
   "cell_type": "code",
   "execution_count": 586,
   "id": "4bdea063-9ef3-42de-bbc0-4fc912a95eb2",
   "metadata": {},
   "outputs": [
    {
     "data": {
      "text/plain": [
       "['전 세계가 우크라이나를 침공한 러시아에 각종 제재를 가하고 있다',\n",
       " '이에 러시아 고양이도 국제 대회에 출전하지 못한다는 소식이 전해졌다',\n",
       " '지난 3일 영국 일간 데일리메일에 따르면 70여 년 역를 가 국제고양이연맹이 최근 성명을 통해 월드 캣 쇼에 러시아 소속 고양이 참가를 금지하겠다고 밝혔다',\n",
       " '고양이연맹은 예쁜 고양이 대회를 비롯해 매년 700여 개의 고양이 관련 대회를 주최해왔다',\n",
       " '연맹 측은 오는 5월 말까지 러시아산 고양이의 수입을 금지하고 러시아에서 태어난 고양이의 혈통서 등록도 허용하지 않겠다며 우크라이나를 향한 러시아의 잔혹한 행위에 대해 더 이상 침묵할 수 없었다고 밝혔다',\n",
       " '이어 우크라이나 난민과 피란 중인 반려동물을 위한 기금도 마련할 것이라고 덧붙였다',\n",
       " '러시아 고양이의 국제 대회 출전 금지령에 대해 어떻게 생각하나요.']"
      ]
     },
     "execution_count": 586,
     "metadata": {},
     "output_type": "execute_result"
    }
   ],
   "source": [
    "df[\"split_article\"][0]"
   ]
  },
  {
   "cell_type": "code",
   "execution_count": 587,
   "id": "f1748954-a785-40c4-a991-250bc9859b31",
   "metadata": {},
   "outputs": [
    {
     "data": {
      "text/plain": [
       "'전 세계가 우크라이나를 침공한 러시아에 각종 제재를 가하고 있다'"
      ]
     },
     "execution_count": 587,
     "metadata": {},
     "output_type": "execute_result"
    }
   ],
   "source": [
    "df[\"split_article\"][0][0]"
   ]
  },
  {
   "cell_type": "code",
   "execution_count": 588,
   "id": "122a6693-76dc-4289-879b-263a63f23368",
   "metadata": {},
   "outputs": [
    {
     "data": {
      "text/html": [
       "<div>\n",
       "<style scoped>\n",
       "    .dataframe tbody tr th:only-of-type {\n",
       "        vertical-align: middle;\n",
       "    }\n",
       "\n",
       "    .dataframe tbody tr th {\n",
       "        vertical-align: top;\n",
       "    }\n",
       "\n",
       "    .dataframe thead th {\n",
       "        text-align: right;\n",
       "    }\n",
       "</style>\n",
       "<table border=\"1\" class=\"dataframe\">\n",
       "  <thead>\n",
       "    <tr style=\"text-align: right;\">\n",
       "      <th></th>\n",
       "      <th>news_len</th>\n",
       "      <th>split_title</th>\n",
       "      <th>split_article</th>\n",
       "    </tr>\n",
       "  </thead>\n",
       "  <tbody>\n",
       "    <tr>\n",
       "      <th>0</th>\n",
       "      <td>469</td>\n",
       "      <td>[세상 속으로]</td>\n",
       "      <td>[전 세계가 우크라이나를 침공한 러시아에 각종 제재를 가하고 있다, 이에 러시아 고...</td>\n",
       "    </tr>\n",
       "    <tr>\n",
       "      <th>1</th>\n",
       "      <td>380</td>\n",
       "      <td>[뉴스탐험대]</td>\n",
       "      <td>[우크라이나 소년이 홀로 국경을 넘은 뭉클한 연이 전해졌다, 영국 매체 가디언과 메...</td>\n",
       "    </tr>\n",
       "    <tr>\n",
       "      <th>2</th>\n",
       "      <td>446</td>\n",
       "      <td>[뉴스탐험대]</td>\n",
       "      <td>[온라인 쇼핑몰에서 무알러지 무니켈 도금 등으로 홍보 판매되는 액세서리에서 기준치를...</td>\n",
       "    </tr>\n",
       "    <tr>\n",
       "      <th>3</th>\n",
       "      <td>451</td>\n",
       "      <td>[뉴스탐험대]</td>\n",
       "      <td>[혈액형이 O형인 람이 코로나 바이러스 감염 시 망 위중증 위험이 다른 혈액형보다 ...</td>\n",
       "    </tr>\n",
       "    <tr>\n",
       "      <th>4</th>\n",
       "      <td>620</td>\n",
       "      <td>잡히지 않는 火魔&lt;화마&gt;… 문화재 등 대규모 피해</td>\n",
       "      <td>[최근 발생한 동해안 지역 대규모 산불로 인해 막대한 산림 피해가 우려되고 있다, ...</td>\n",
       "    </tr>\n",
       "    <tr>\n",
       "      <th>...</th>\n",
       "      <td>...</td>\n",
       "      <td>...</td>\n",
       "      <td>...</td>\n",
       "    </tr>\n",
       "    <tr>\n",
       "      <th>1522</th>\n",
       "      <td>1124</td>\n",
       "      <td>돼지 뇌에 컴퓨터 칩 연결… 생각만으로 기계 움직일 수 있을까?</td>\n",
       "      <td>[머스크 유튜브에 실험 돼지 거트루드 공개 뇌 질환 치료 도움 올해 안에 람 적용 ...</td>\n",
       "    </tr>\n",
       "    <tr>\n",
       "      <th>1523</th>\n",
       "      <td>721</td>\n",
       "      <td>탑승형 로봇 '프로스테시스' 조종사를 뽑습니다!</td>\n",
       "      <td>[람의 팔다리에 연결해 조종 로봇 활용한 경주 스포츠 만들 것 람이 탑승한 로봇끼리...</td>\n",
       "    </tr>\n",
       "    <tr>\n",
       "      <th>1524</th>\n",
       "      <td>1668</td>\n",
       "      <td>모험 떠날 준비 됐니? 그럼, 책장을 펼쳐봐!</td>\n",
       "      <td>[띵똥, 선물이 도착했습니다, 판타지 소설 해리포터의 작가 조앤 롤링이 코로나19로...</td>\n",
       "    </tr>\n",
       "    <tr>\n",
       "      <th>1525</th>\n",
       "      <td>756</td>\n",
       "      <td>방탄소년단·블랙핑크, 세계 음원시장 '올킬'</td>\n",
       "      <td>[아이돌 그룹 방탄소년단과 블랙핑크가 세계 무대를 뒤흔들고 있다, 글로벌 시장을 겨...</td>\n",
       "    </tr>\n",
       "    <tr>\n",
       "      <th>1526</th>\n",
       "      <td>1717</td>\n",
       "      <td>알파고가 이세돌 9단을 이긴 건 '딥러닝' 덕분이지</td>\n",
       "      <td>[인공 지능 의가 있는 병원을 상상한 적 있니, 놀랍게도 벌써 우리나라 한 병원에서...</td>\n",
       "    </tr>\n",
       "  </tbody>\n",
       "</table>\n",
       "<p>1527 rows × 3 columns</p>\n",
       "</div>"
      ],
      "text/plain": [
       "      news_len                          split_title  \\\n",
       "0          469                             [세상 속으로]   \n",
       "1          380                              [뉴스탐험대]   \n",
       "2          446                              [뉴스탐험대]   \n",
       "3          451                              [뉴스탐험대]   \n",
       "4          620          잡히지 않는 火魔<화마>… 문화재 등 대규모 피해   \n",
       "...        ...                                  ...   \n",
       "1522      1124  돼지 뇌에 컴퓨터 칩 연결… 생각만으로 기계 움직일 수 있을까?   \n",
       "1523       721           탑승형 로봇 '프로스테시스' 조종사를 뽑습니다!   \n",
       "1524      1668            모험 떠날 준비 됐니? 그럼, 책장을 펼쳐봐!   \n",
       "1525       756             방탄소년단·블랙핑크, 세계 음원시장 '올킬'   \n",
       "1526      1717         알파고가 이세돌 9단을 이긴 건 '딥러닝' 덕분이지   \n",
       "\n",
       "                                          split_article  \n",
       "0     [전 세계가 우크라이나를 침공한 러시아에 각종 제재를 가하고 있다, 이에 러시아 고...  \n",
       "1     [우크라이나 소년이 홀로 국경을 넘은 뭉클한 연이 전해졌다, 영국 매체 가디언과 메...  \n",
       "2     [온라인 쇼핑몰에서 무알러지 무니켈 도금 등으로 홍보 판매되는 액세서리에서 기준치를...  \n",
       "3     [혈액형이 O형인 람이 코로나 바이러스 감염 시 망 위중증 위험이 다른 혈액형보다 ...  \n",
       "4     [최근 발생한 동해안 지역 대규모 산불로 인해 막대한 산림 피해가 우려되고 있다, ...  \n",
       "...                                                 ...  \n",
       "1522  [머스크 유튜브에 실험 돼지 거트루드 공개 뇌 질환 치료 도움 올해 안에 람 적용 ...  \n",
       "1523  [람의 팔다리에 연결해 조종 로봇 활용한 경주 스포츠 만들 것 람이 탑승한 로봇끼리...  \n",
       "1524  [띵똥, 선물이 도착했습니다, 판타지 소설 해리포터의 작가 조앤 롤링이 코로나19로...  \n",
       "1525  [아이돌 그룹 방탄소년단과 블랙핑크가 세계 무대를 뒤흔들고 있다, 글로벌 시장을 겨...  \n",
       "1526  [인공 지능 의가 있는 병원을 상상한 적 있니, 놀랍게도 벌써 우리나라 한 병원에서...  \n",
       "\n",
       "[1527 rows x 3 columns]"
      ]
     },
     "execution_count": 588,
     "metadata": {},
     "output_type": "execute_result"
    }
   ],
   "source": [
    "df.iloc[:, 4:]"
   ]
  },
  {
   "cell_type": "markdown",
   "id": "5fbe8758-4538-43ca-a9ec-7e318b3fc2d0",
   "metadata": {},
   "source": [
    "### nltk 활용"
   ]
  },
  {
   "cell_type": "code",
   "execution_count": 589,
   "id": "aa18ea7d-0c59-4cae-850f-0aa1ed0b821c",
   "metadata": {},
   "outputs": [
    {
     "name": "stdout",
     "output_type": "stream",
     "text": [
      "['전 세계가 우크라이나를 침공한 러시아에 각종 제재를 가하고 있다.',\n",
      "'이에 러시아 고양이도 국제 대회에 출전하지 못한다는 소식이 전해졌다.',\n",
      "'지난 3일 영국 일간 데일리메일에 따르면 70여 년 역를 가 국제고양이연맹이 최근 성명을 통해 월드 캣 쇼에 러시아 소속 고양이 참가를 '\n",
      "'금지하겠다고 밝혔다.',\n",
      "'고양이연맹은 예쁜 고양이 대회를 비롯해 매년 700여 개의 고양이 관련 대회를 주최해왔다.',\n",
      "'연맹 측은 오는 5월 말까지 러시아산 고양이의 수입을 금지하고 러시아에서 태어난 고양이의 혈통서 등록도 허용하지 않겠다며 우크라이나를 향한 '\n",
      "'러시아의 잔혹한 행위에 대해 더 이상 침묵할 수 없었다고 밝혔다.',\n",
      "'이어 우크라이나 난민과 피란 중인 반려동물을 위한 기금도 마련할 것이라고 덧붙였다.',\n",
      "'러시아 고양이의 국제 대회 출전 금지령에 대해 어떻게 생각하나요.']\n"
     ]
    }
   ],
   "source": [
    "from nltk.tokenize import sent_tokenize\n",
    "import pprint\n",
    "pp = pprint.PrettyPrinter(indent=0)\n",
    "\n",
    "article_text = df.news_article[0]\n",
    "# print('문장 토큰화1 :',sent_tokenize(text))\n",
    "pp.pprint(sent_tokenize(article_text))"
   ]
  },
  {
   "cell_type": "markdown",
   "id": "bd459215-323e-439d-8502-d783840be38d",
   "metadata": {},
   "source": [
    "---"
   ]
  },
  {
   "cell_type": "markdown",
   "id": "8edc0902-f324-4626-86e7-cddd2d73e1ec",
   "metadata": {},
   "source": [
    "## 4. 전처리 끝난 DataFrame 재생성\n",
    "- 라벨링 판정 form에 맞춰 DataFrame 재생성"
   ]
  },
  {
   "cell_type": "code",
   "execution_count": 590,
   "id": "7a259bc4-6b41-4cdd-b850-4d4a74cd3753",
   "metadata": {
    "tags": []
   },
   "outputs": [
    {
     "data": {
      "text/html": [
       "<div>\n",
       "<style scoped>\n",
       "    .dataframe tbody tr th:only-of-type {\n",
       "        vertical-align: middle;\n",
       "    }\n",
       "\n",
       "    .dataframe tbody tr th {\n",
       "        vertical-align: top;\n",
       "    }\n",
       "\n",
       "    .dataframe thead th {\n",
       "        text-align: right;\n",
       "    }\n",
       "</style>\n",
       "<table border=\"1\" class=\"dataframe\">\n",
       "  <thead>\n",
       "    <tr style=\"text-align: right;\">\n",
       "      <th></th>\n",
       "      <th>news_title</th>\n",
       "      <th>news_article</th>\n",
       "      <th>split_article</th>\n",
       "      <th>news_url</th>\n",
       "    </tr>\n",
       "  </thead>\n",
       "  <tbody>\n",
       "    <tr>\n",
       "      <th>0</th>\n",
       "      <td>러시아 고양이는 안 됩니다</td>\n",
       "      <td>전 세계가 우크라이나를 침공한 러시아에 각종 제재를 가하고 있다. 이에 러시아 고양...</td>\n",
       "      <td>[전 세계가 우크라이나를 침공한 러시아에 각종 제재를 가하고 있다, 이에 러시아 고...</td>\n",
       "      <td>http://kid.chosun.com/site/data/html_dir/2022/...</td>\n",
       "    </tr>\n",
       "    <tr>\n",
       "      <th>1</th>\n",
       "      <td>홀로 1000 우크라 국경 탈출한 11세 소년</td>\n",
       "      <td>우크라이나 소년이 홀로 국경을 넘은 뭉클한 연이 전해졌다. 영국 매체 가디언과 메트...</td>\n",
       "      <td>[우크라이나 소년이 홀로 국경을 넘은 뭉클한 연이 전해졌다, 영국 매체 가디언과 메...</td>\n",
       "      <td>http://kid.chosun.com/site/data/html_dir/2022/...</td>\n",
       "    </tr>\n",
       "    <tr>\n",
       "      <th>2</th>\n",
       "      <td>온라인 쇼핑몰 니켈 납투성이 장신구 주의</td>\n",
       "      <td>온라인 쇼핑몰에서 무알러지 무니켈 도금 등으로 홍보 판매되는 액세서리에서 기준치를 ...</td>\n",
       "      <td>[온라인 쇼핑몰에서 무알러지 무니켈 도금 등으로 홍보 판매되는 액세서리에서 기준치를...</td>\n",
       "      <td>http://kid.chosun.com/site/data/html_dir/2022/...</td>\n",
       "    </tr>\n",
       "    <tr>\n",
       "      <th>3</th>\n",
       "      <td>코로나에 강한 혈액형 있다 O형 위험 최저</td>\n",
       "      <td>혈액형이 O형인 람이 코로나 바이러스 감염 시 망 위중증 위험이 다른 혈액형보다 낮...</td>\n",
       "      <td>[혈액형이 O형인 람이 코로나 바이러스 감염 시 망 위중증 위험이 다른 혈액형보다 ...</td>\n",
       "      <td>http://kid.chosun.com/site/data/html_dir/2022/...</td>\n",
       "    </tr>\n",
       "    <tr>\n",
       "      <th>4</th>\n",
       "      <td>잡히지 않는 화마 문화재 등 대규모 피해</td>\n",
       "      <td>최근 발생한 동해안 지역 대규모 산불로 인해 막대한 산림 피해가 우려되고 있다. 지...</td>\n",
       "      <td>[최근 발생한 동해안 지역 대규모 산불로 인해 막대한 산림 피해가 우려되고 있다, ...</td>\n",
       "      <td>http://kid.chosun.com/site/data/html_dir/2022/...</td>\n",
       "    </tr>\n",
       "  </tbody>\n",
       "</table>\n",
       "</div>"
      ],
      "text/plain": [
       "                  news_title  \\\n",
       "0             러시아 고양이는 안 됩니다   \n",
       "1  홀로 1000 우크라 국경 탈출한 11세 소년   \n",
       "2     온라인 쇼핑몰 니켈 납투성이 장신구 주의   \n",
       "3    코로나에 강한 혈액형 있다 O형 위험 최저   \n",
       "4     잡히지 않는 화마 문화재 등 대규모 피해   \n",
       "\n",
       "                                        news_article  \\\n",
       "0  전 세계가 우크라이나를 침공한 러시아에 각종 제재를 가하고 있다. 이에 러시아 고양...   \n",
       "1  우크라이나 소년이 홀로 국경을 넘은 뭉클한 연이 전해졌다. 영국 매체 가디언과 메트...   \n",
       "2  온라인 쇼핑몰에서 무알러지 무니켈 도금 등으로 홍보 판매되는 액세서리에서 기준치를 ...   \n",
       "3  혈액형이 O형인 람이 코로나 바이러스 감염 시 망 위중증 위험이 다른 혈액형보다 낮...   \n",
       "4  최근 발생한 동해안 지역 대규모 산불로 인해 막대한 산림 피해가 우려되고 있다. 지...   \n",
       "\n",
       "                                       split_article  \\\n",
       "0  [전 세계가 우크라이나를 침공한 러시아에 각종 제재를 가하고 있다, 이에 러시아 고...   \n",
       "1  [우크라이나 소년이 홀로 국경을 넘은 뭉클한 연이 전해졌다, 영국 매체 가디언과 메...   \n",
       "2  [온라인 쇼핑몰에서 무알러지 무니켈 도금 등으로 홍보 판매되는 액세서리에서 기준치를...   \n",
       "3  [혈액형이 O형인 람이 코로나 바이러스 감염 시 망 위중증 위험이 다른 혈액형보다 ...   \n",
       "4  [최근 발생한 동해안 지역 대규모 산불로 인해 막대한 산림 피해가 우려되고 있다, ...   \n",
       "\n",
       "                                            news_url  \n",
       "0  http://kid.chosun.com/site/data/html_dir/2022/...  \n",
       "1  http://kid.chosun.com/site/data/html_dir/2022/...  \n",
       "2  http://kid.chosun.com/site/data/html_dir/2022/...  \n",
       "3  http://kid.chosun.com/site/data/html_dir/2022/...  \n",
       "4  http://kid.chosun.com/site/data/html_dir/2022/...  "
      ]
     },
     "execution_count": 590,
     "metadata": {},
     "output_type": "execute_result"
    }
   ],
   "source": [
    "df = df[['news_title', 'news_article', 'split_article','news_url' ]]\n",
    "df.head()"
   ]
  },
  {
   "cell_type": "markdown",
   "id": "e3c3fcdb-5f7c-43ce-83c4-0af6bfb3b565",
   "metadata": {},
   "source": [
    "---"
   ]
  },
  {
   "cell_type": "markdown",
   "id": "c54cb2a6-63e7-4d9f-a458-7f499cea8d88",
   "metadata": {
    "tags": []
   },
   "source": [
    "## 5. 형태소 분석 (Mecab)"
   ]
  },
  {
   "cell_type": "markdown",
   "id": "d34028b0-13a0-4313-86fa-a69e80659005",
   "metadata": {},
   "source": [
    "- tokenizing"
   ]
  },
  {
   "cell_type": "code",
   "execution_count": 2,
   "id": "625a9c1a-86b0-4284-b176-bee5a0e170d3",
   "metadata": {},
   "outputs": [],
   "source": [
    "from konlpy.tag import Mecab\n",
    "mecab = Mecab()"
   ]
  },
  {
   "cell_type": "code",
   "execution_count": 3,
   "id": "954a3439-1cb0-4cfb-b35a-ae4c214fe141",
   "metadata": {
    "collapsed": true,
    "jupyter": {
     "outputs_hidden": true
    },
    "tags": []
   },
   "outputs": [
    {
     "data": {
      "text/plain": [
       "{'EC': '연결 어미',\n",
       " 'EF': '종결 어미',\n",
       " 'EP': '선어말어미',\n",
       " 'ETM': '관형형 전성 어미',\n",
       " 'ETN': '명사형 전성 어미',\n",
       " 'IC': '감탄사',\n",
       " 'JC': '접속 조사',\n",
       " 'JKB': '부사격 조사',\n",
       " 'JKC': '보격 조사',\n",
       " 'JKG': '관형격 조사',\n",
       " 'JKO': '목적격 조사',\n",
       " 'JKQ': '인용격 조사',\n",
       " 'JKS': '주격 조사',\n",
       " 'JKV': '호격 조사',\n",
       " 'JX': '보조사',\n",
       " 'MAG': '일반 부사',\n",
       " 'MAJ': '접속 부사',\n",
       " 'MM': '관형사',\n",
       " 'NNB': '의존 명사',\n",
       " 'NNBC': '단위를 나타내는 명사',\n",
       " 'NNG': '일반 명사',\n",
       " 'NNP': '고유 명사',\n",
       " 'NP': '대명사',\n",
       " 'NR': '수사',\n",
       " 'SC': '구분자 , · / :',\n",
       " 'SE': '줄임표 …',\n",
       " 'SF': '마침표, 물음표, 느낌표',\n",
       " 'SH': '한자',\n",
       " 'SL': '외국어',\n",
       " 'SN': '숫자',\n",
       " 'SSC': '닫는 괄호 ), ]',\n",
       " 'SSO': '여는 괄호 (, [',\n",
       " 'SY': '기타 기호',\n",
       " 'VA': '형용사',\n",
       " 'VCN': '부정 지정사',\n",
       " 'VCP': '긍정 지정사',\n",
       " 'VV': '동사',\n",
       " 'VX': '보조 용언',\n",
       " 'XPN': '체언 접두사',\n",
       " 'XR': '어근',\n",
       " 'XSA': '형용사 파생 접미사',\n",
       " 'XSN': '명사파생 접미사',\n",
       " 'XSV': '동사 파생 접미사'}"
      ]
     },
     "execution_count": 3,
     "metadata": {},
     "output_type": "execute_result"
    }
   ],
   "source": [
    "mecab.tagset"
   ]
  },
  {
   "cell_type": "code",
   "execution_count": 593,
   "id": "0cd14bfe-b051-470f-96d2-0ae3f6859355",
   "metadata": {},
   "outputs": [
    {
     "name": "stdout",
     "output_type": "stream",
     "text": [
      "title: 러시아 고양이는 안 됩니다 \n",
      "article: 전 세계가 우크라이나를 침공한 러시아에 각종 제재를 가하고 있다\n"
     ]
    }
   ],
   "source": [
    "news_title = str(df[\"news_title\"][0])\n",
    "news_article = str(df[\"split_article\"][0][0])\n",
    "print('title:',news_title,'\\narticle:',news_article)"
   ]
  },
  {
   "cell_type": "code",
   "execution_count": 594,
   "id": "46ca8c24-0b7e-47a6-906c-ec080a347b7e",
   "metadata": {},
   "outputs": [
    {
     "name": "stdout",
     "output_type": "stream",
     "text": [
      "['전', '세계', '가', '우크라이나', '를', '침공', '한', '러시아', '에', '각종', '제재', '를', '가하', '고', '있', '다']\n"
     ]
    }
   ],
   "source": [
    "# 텍스트에서 형태소를 반환한다\n",
    "print(mecab.morphs(news_article))"
   ]
  },
  {
   "cell_type": "code",
   "execution_count": 595,
   "id": "d91d91b5-3c88-49c2-af0d-06d7e8c52599",
   "metadata": {},
   "outputs": [
    {
     "name": "stdout",
     "output_type": "stream",
     "text": [
      "['세계', '우크라이나', '침공', '러시아', '각종', '제재']\n"
     ]
    }
   ],
   "source": [
    "# 텍스트에서 명사를 반환한다\n",
    "print(mecab.nouns(news_article))"
   ]
  },
  {
   "cell_type": "code",
   "execution_count": 596,
   "id": "51d6e9a8-53fb-4362-908f-55e549b3e559",
   "metadata": {},
   "outputs": [
    {
     "name": "stdout",
     "output_type": "stream",
     "text": [
      "['러시아', '고양이', '됩니다']\n"
     ]
    }
   ],
   "source": [
    "# 텍스트에서 품사 정보를 부착하여 반환한다\n",
    "token = mecab.pos(news_title)\n",
    "# NN 명사, NX 의존 명사, VA 형용사, VV 동사, XR 어근, VCN 부정 지정사\n",
    "token = [t for t, p in token if ('NN' in p or 'XR' in p or 'VV' in p)]\n",
    "print(token)"
   ]
  },
  {
   "cell_type": "code",
   "execution_count": 597,
   "id": "34802ea9-9e6a-4f1a-9a86-f58eb1add32e",
   "metadata": {},
   "outputs": [
    {
     "data": {
      "text/plain": [
       "[('러시아', 'NNP'), ('고양이', 'NNG'), ('는', 'JX'), ('안', 'MAG'), ('됩니다', 'VV+EF')]"
      ]
     },
     "execution_count": 597,
     "metadata": {},
     "output_type": "execute_result"
    }
   ],
   "source": [
    "mecab.pos(news_title)"
   ]
  },
  {
   "cell_type": "code",
   "execution_count": 598,
   "id": "20ba5fc8-2629-475f-bef9-7ff3d9a4a44d",
   "metadata": {},
   "outputs": [],
   "source": [
    "def mecab_tokenizer(text):\n",
    "    mecab = Mecab()\n",
    "    token = mecab.pos(text)\n",
    "    token = [t for t, p in token if ('NN' in p or 'XR' in p or 'VV' in p or 'VCN' in p)]\n",
    "    return token"
   ]
  },
  {
   "cell_type": "markdown",
   "id": "2faa0b51-5731-4d40-a523-ad938144dc26",
   "metadata": {},
   "source": [
    "---"
   ]
  },
  {
   "cell_type": "markdown",
   "id": "8ccbf9c3-846a-4f8b-80aa-28836a8ccd86",
   "metadata": {
    "tags": []
   },
   "source": [
    "## 6. News Article 유사도 분석\n",
    "- title과 article의 유사도 분석하기\n",
    "- 여러가지 유사도 기법 : https://wikidocs.net/24654"
   ]
  },
  {
   "cell_type": "code",
   "execution_count": 599,
   "id": "31f0d6dc-3077-4b58-8564-c0356214dd6e",
   "metadata": {},
   "outputs": [],
   "source": [
    "from sklearn.feature_extraction.text import TfidfVectorizer\n",
    "from sklearn.metrics.pairwise import cosine_similarity"
   ]
  },
  {
   "cell_type": "code",
   "execution_count": 600,
   "id": "760c782c-29a2-4da8-ae6b-63aa6c092d24",
   "metadata": {},
   "outputs": [
    {
     "data": {
      "text/plain": [
       "'러시아 고양이 됩니다'"
      ]
     },
     "execution_count": 600,
     "metadata": {},
     "output_type": "execute_result"
    }
   ],
   "source": [
    "title = ' '.join(mecab_tokenizer(df.iloc[0]['news_title']))\n",
    "title"
   ]
  },
  {
   "cell_type": "code",
   "execution_count": 601,
   "id": "2dc06fc0-9ed1-46cd-bc89-42eb5394fbba",
   "metadata": {},
   "outputs": [
    {
     "data": {
      "text/plain": [
       "'세계 우크라이나 침공 러시아 각종 제재 가하'"
      ]
     },
     "execution_count": 601,
     "metadata": {},
     "output_type": "execute_result"
    }
   ],
   "source": [
    "article = [' '.join(mecab_tokenizer(a)) for a in df.iloc[0]['split_article']]\n",
    "article[0]"
   ]
  },
  {
   "cell_type": "code",
   "execution_count": 602,
   "id": "f5e6909e-706d-4210-836e-6cf0fbdceaa4",
   "metadata": {},
   "outputs": [
    {
     "data": {
      "text/plain": [
       "['러시아 고양이 됩니다',\n",
       " '세계 우크라이나 침공 러시아 각종 제재 가하',\n",
       " '러시아 고양이 국제 대회 출전 소식 전해졌',\n",
       " '지난 일 영국 일간 데일리 메일 따르 년 역 가 국제 고양이 연맹 최근 성명 통해 월드 캣 쇼 러시아 소속 고양이 참가 금지 밝혔',\n",
       " '고양이 연맹 고양이 대회 비롯 개 고양이 관련 대회 주최',\n",
       " '연맹 측 오 월 말 러시아 고양이 수입 금지 러시아 태어난 고양이 혈통서 등록 허용 우크라이나 향한 러시아 잔혹 행위 대해 이상 침묵 수 밝혔',\n",
       " '우크라 난민 피란 중 반려 동물 위한 기금 마련 것 덧붙였',\n",
       " '러시아 고양이 국제 대회 출전 금지령 대해 생각']"
      ]
     },
     "execution_count": 602,
     "metadata": {},
     "output_type": "execute_result"
    }
   ],
   "source": [
    "doc = [title] + article\n",
    "doc"
   ]
  },
  {
   "cell_type": "code",
   "execution_count": 603,
   "id": "5177af52-2f12-4747-8fc4-67c5a7cb3991",
   "metadata": {},
   "outputs": [],
   "source": [
    "tfidf = TfidfVectorizer()\n",
    "vect = tfidf.fit_transform(doc).todense()"
   ]
  },
  {
   "cell_type": "code",
   "execution_count": 604,
   "id": "3907e044-51f2-4a65-a108-af305f9d9236",
   "metadata": {},
   "outputs": [],
   "source": [
    "res = cosine_similarity(vect[0], vect[1:]).reshape(-1).tolist()"
   ]
  },
  {
   "cell_type": "code",
   "execution_count": 605,
   "id": "51a4cae5-0a13-4dc5-8e45-04e3faadc33d",
   "metadata": {},
   "outputs": [
    {
     "data": {
      "text/plain": [
       "[0.08358742123652907,\n",
       " 0.19788956250925133,\n",
       " 0.15440322328062311,\n",
       " 0.21818165287724522,\n",
       " 0.2504203714606354,\n",
       " 0.0,\n",
       " 0.18331362032464324]"
      ]
     },
     "execution_count": 605,
     "metadata": {},
     "output_type": "execute_result"
    }
   ],
   "source": [
    "res"
   ]
  },
  {
   "cell_type": "code",
   "execution_count": 606,
   "id": "5a393231-f442-4646-ab93-963f1ed34296",
   "metadata": {},
   "outputs": [],
   "source": [
    "res = sorted([(i, s) for i, s in enumerate(res)],key=lambda x: x[1], reverse=True)[:3]"
   ]
  },
  {
   "cell_type": "code",
   "execution_count": 607,
   "id": "852a8545-f6ec-47fa-9bc1-8633fc98b4df",
   "metadata": {},
   "outputs": [
    {
     "data": {
      "text/plain": [
       "[(4, 0.2504203714606354), (3, 0.21818165287724522), (1, 0.19788956250925133)]"
      ]
     },
     "execution_count": 607,
     "metadata": {},
     "output_type": "execute_result"
    }
   ],
   "source": [
    "res"
   ]
  },
  {
   "cell_type": "code",
   "execution_count": 608,
   "id": "3e550b6a-3024-4dc5-a409-332a9f167beb",
   "metadata": {},
   "outputs": [],
   "source": [
    "res = [df.iloc[0]['split_article'][i] for i, s in res]"
   ]
  },
  {
   "cell_type": "code",
   "execution_count": 609,
   "id": "f612f27f-5bbe-49b3-9e62-60463bd3ea36",
   "metadata": {},
   "outputs": [
    {
     "data": {
      "text/plain": [
       "['연맹 측은 오는 5월 말까지 러시아산 고양이의 수입을 금지하고 러시아에서 태어난 고양이의 혈통서 등록도 허용하지 않겠다며 우크라이나를 향한 러시아의 잔혹한 행위에 대해 더 이상 침묵할 수 없었다고 밝혔다',\n",
       " '고양이연맹은 예쁜 고양이 대회를 비롯해 매년 700여 개의 고양이 관련 대회를 주최해왔다',\n",
       " '이에 러시아 고양이도 국제 대회에 출전하지 못한다는 소식이 전해졌다']"
      ]
     },
     "execution_count": 609,
     "metadata": {},
     "output_type": "execute_result"
    }
   ],
   "source": [
    "res"
   ]
  },
  {
   "cell_type": "code",
   "execution_count": 610,
   "id": "289df862-9cba-41e5-ae59-aa25fff52ff5",
   "metadata": {},
   "outputs": [],
   "source": [
    "# 자카드 유사도: 합집합에서 교집합의 비율로 유사도를 구합니다\n",
    "def get_jacaard_similarity(df, tokenizer):\n",
    "    \n",
    "    # 비율을 계산하는 함수\n",
    "    def jaccard(doc1, doc2):\n",
    "        try:\n",
    "            union = set(doc1)|set(doc2)\n",
    "            intersection = set(doc1)&set(doc2)\n",
    "            return len(intersection)/len(union)\n",
    "        except ZeroDivisionError:\n",
    "            print('연산 오류')\n",
    "            \n",
    "    # 토큰화한 타이틀\n",
    "    title = tokenizer(df['news_title'])\n",
    "    # 토큰화한 기사 리스트\n",
    "    article = list(map(tokenizer, df['split_article']))\n",
    "    \n",
    "    # 타이틀과 기사의 유사도를 구하여 내림차순으로 정렬합니다\n",
    "    res = sorted([(i,jaccard(title, a)) for i, a in enumerate(article)], \n",
    "                 key=lambda x: x[1], reverse=True)[:3]\n",
    "    # 유사도 상위 인덱스를 원본 기사 리스트에 대입합니다\n",
    "    res = res = [df['split_article'][i] for i, s in res]\n",
    "    return res"
   ]
  },
  {
   "cell_type": "code",
   "execution_count": 611,
   "id": "aa2394ba-d5df-4064-827e-ec33bc78d487",
   "metadata": {},
   "outputs": [
    {
     "name": "stdout",
     "output_type": "stream",
     "text": [
      "이에 러시아 고양이도 국제 대회에 출전하지 못한다는 소식이 전해졌다\n",
      "러시아 고양이의 국제 대회 출전 금지령에 대해 어떻게 생각하나요.\n",
      "전 세계가 우크라이나를 침공한 러시아에 각종 제재를 가하고 있다\n"
     ]
    }
   ],
   "source": [
    "print(*get_jacaard_similarity(df.iloc[0], mecab_tokenizer), sep='\\n')"
   ]
  },
  {
   "cell_type": "code",
   "execution_count": 612,
   "id": "d4f16e45-5064-4652-b502-e19a67db5364",
   "metadata": {},
   "outputs": [],
   "source": [
    "# 코사인 유사도\n",
    "def get_cosine_similarity(df, tokenizer):\n",
    "    \n",
    "     # 토큰화한 타이틀\n",
    "    title = ' '.join(tokenizer(df['news_title']))\n",
    "    # 토큰화한 기사리스트\n",
    "    article = [' '.join(tokenizer(a)) for a in df['split_article']]\n",
    "\n",
    "    # 타이틀+기사를 tf-idf 벡터화합니다\n",
    "    doc = [title] + article\n",
    "    tfidf = TfidfVectorizer()\n",
    "    # TFidfVectorizer로 transform()한 결과는 Sparse Matrix이므로 Dense Matrix로 변환합니다 \n",
    "    vect = tfidf.fit_transform(doc).todense()\n",
    "    \n",
    "    # 타이틀(vect[0])과 기사 리스트(vect[1:])의 코사인 유사도를 적용합니다\n",
    "    res = cosine_similarity(vect[0], vect[1:]).reshape(-1).tolist()\n",
    "\n",
    "    # 유사도를 내림차순으로 정렬합니다\n",
    "    res = sorted([(i, s) for i, s in enumerate(res)],\n",
    "                 key=lambda x: x[1], reverse=True)[:3]\n",
    "    # 유사도 상위 인덱스를 원본 기사 리스트에 대입합니다\n",
    "    res = [df['split_article'][i] for i, s in res]\n",
    "    \n",
    "    return res"
   ]
  },
  {
   "cell_type": "code",
   "execution_count": 613,
   "id": "217c18e2-e73d-4dd6-9a3b-a8146ad17b74",
   "metadata": {
    "tags": []
   },
   "outputs": [
    {
     "name": "stdout",
     "output_type": "stream",
     "text": [
      "연맹 측은 오는 5월 말까지 러시아산 고양이의 수입을 금지하고 러시아에서 태어난 고양이의 혈통서 등록도 허용하지 않겠다며 우크라이나를 향한 러시아의 잔혹한 행위에 대해 더 이상 침묵할 수 없었다고 밝혔다\n",
      "고양이연맹은 예쁜 고양이 대회를 비롯해 매년 700여 개의 고양이 관련 대회를 주최해왔다\n",
      "이에 러시아 고양이도 국제 대회에 출전하지 못한다는 소식이 전해졌다\n"
     ]
    }
   ],
   "source": [
    "print(*get_cosine_similarity(df.iloc[0], mecab_tokenizer), sep='\\n')"
   ]
  },
  {
   "cell_type": "code",
   "execution_count": 614,
   "id": "19b60592-2778-403c-aca1-29929ce06195",
   "metadata": {},
   "outputs": [],
   "source": [
    "# 유클리드 거리 유사도\n",
    "\n",
    "def get_euclidean_dist(df, tokenizer):\n",
    "    \n",
    "    # 유클리드 거리를 계산하는 함수\n",
    "    def dist(v1, v2):   \n",
    "        return np.sqrt(np.sum((v1-v2)**2))\n",
    "    \n",
    "    # 토큰화한 타이틀\n",
    "    title = ' '.join(tokenizer(df['news_title']))\n",
    "    # 토큰화한 기사 리스트\n",
    "    article = [' '.join(tokenizer(a)) for a in df['split_article']]\n",
    "    \n",
    "    # 타이틀+기사를 tf-idf 벡터화합니다\n",
    "    doc = [title] + article\n",
    "    tfidf_vect_simple = TfidfVectorizer()\n",
    "    # TFidfVectorizer로 transform()한 결과는 Sparse Matrix이므로 Dense Matrix로 변환합니다 \n",
    "    vect = tfidf_vect_simple.fit_transform(doc).todense()\n",
    "\n",
    "    # 타이틀과 기사의 유클리드 거리 계산결과를 리스트에 담습니다\n",
    "    res = []\n",
    "    v1 = np.array(vect[0]).reshape(-1)\n",
    "    for v in vect[1:]:\n",
    "        v2 = np.array(v).reshape(-1)\n",
    "        res.append(dist(v1, v2))\n",
    "\n",
    "    # 유클리드 거리를 오름차순으로 정렬합니다\n",
    "    res = sorted([(i, s) for i, s in enumerate(res)], \n",
    "                 key=lambda x: x[1])[:3]\n",
    "    # 유클리드 거리의 상위 인덱스를 원본 기사 리스트에 대입합니다\n",
    "    res = [df['split_article'][i] for i, s in res]\n",
    "    return res"
   ]
  },
  {
   "cell_type": "code",
   "execution_count": 615,
   "id": "dc66a7e8-3610-412a-b54b-aff844ea98e6",
   "metadata": {},
   "outputs": [
    {
     "name": "stdout",
     "output_type": "stream",
     "text": [
      "연맹 측은 오는 5월 말까지 러시아산 고양이의 수입을 금지하고 러시아에서 태어난 고양이의 혈통서 등록도 허용하지 않겠다며 우크라이나를 향한 러시아의 잔혹한 행위에 대해 더 이상 침묵할 수 없었다고 밝혔다\n",
      "고양이연맹은 예쁜 고양이 대회를 비롯해 매년 700여 개의 고양이 관련 대회를 주최해왔다\n",
      "이에 러시아 고양이도 국제 대회에 출전하지 못한다는 소식이 전해졌다\n"
     ]
    }
   ],
   "source": [
    "print(*get_euclidean_dist(df.iloc[0], mecab_tokenizer), sep='\\n')"
   ]
  },
  {
   "cell_type": "markdown",
   "id": "96461664-6de0-48e0-8020-e5c02fb935f9",
   "metadata": {},
   "source": [
    "## 7. 결과 비교\n",
    "\n",
    "* 토크나이징 + 유사도\n",
    "* 토크나이징\n",
    "    1. mecab\n",
    "* 유사도\n",
    "    1. 자카드 유사도\n",
    "    2. 코사인 유사도\n",
    "    3. 유클리드 거리"
   ]
  },
  {
   "cell_type": "code",
   "execution_count": 616,
   "id": "b6cdfcb7-694a-469d-9930-6f66e0b7f446",
   "metadata": {
    "scrolled": true
   },
   "outputs": [],
   "source": [
    "def result_compare(n):\n",
    "    print('[기사 제목]'.ljust(100, '-'))\n",
    "    print(df.iloc[n]['news_title'])\n",
    "    print('\\n[기사 원문]'.ljust(100, '-'))\n",
    "    print(df.iloc[n]['news_article'])\n",
    "    \n",
    "    print('\\n[meacab 자카드 유사도]'.ljust(100, '-'))\n",
    "    print(*get_jacaard_similarity(df.iloc[n], mecab_tokenizer), sep='\\n')\n",
    "    \n",
    "    print('\\n[mecab 코사인 유사도]'.ljust(100, '-'))\n",
    "    print(*get_cosine_similarity(df.iloc[n], mecab_tokenizer), sep='\\n')\n",
    "    \n",
    "    print('\\n[mecab 유클리드 거리]'.ljust(100, '-'))\n",
    "    print(*get_euclidean_dist(df.iloc[n], mecab_tokenizer), sep='\\n')"
   ]
  },
  {
   "cell_type": "code",
   "execution_count": 617,
   "id": "f375f9bb-05cc-434a-823c-213d489e5cb1",
   "metadata": {},
   "outputs": [
    {
     "name": "stdout",
     "output_type": "stream",
     "text": [
      "[기사 제목]---------------------------------------------------------------------------------------------\n",
      "러시아 고양이는 안 됩니다\n",
      "\n",
      "[기사 원문]--------------------------------------------------------------------------------------------\n",
      "전 세계가 우크라이나를 침공한 러시아에 각종 제재를 가하고 있다. 이에 러시아 고양이도 국제 대회에 출전하지 못한다는 소식이 전해졌다. 지난 3일 영국 일간 데일리메일에 따르면 70여 년 역를 가 국제고양이연맹이 최근 성명을 통해 월드 캣 쇼에 러시아 소속 고양이 참가를 금지하겠다고 밝혔다. 고양이연맹은 예쁜 고양이 대회를 비롯해 매년 700여 개의 고양이 관련 대회를 주최해왔다. 연맹 측은 오는 5월 말까지 러시아산 고양이의 수입을 금지하고 러시아에서 태어난 고양이의 혈통서 등록도 허용하지 않겠다며 우크라이나를 향한 러시아의 잔혹한 행위에 대해 더 이상 침묵할 수 없었다고 밝혔다. 이어 우크라이나 난민과 피란 중인 반려동물을 위한 기금도 마련할 것이라고 덧붙였다. 러시아 고양이의 국제 대회 출전 금지령에 대해 어떻게 생각하나요.\n",
      "\n",
      "[meacab 자카드 유사도]-----------------------------------------------------------------------------------\n",
      "이에 러시아 고양이도 국제 대회에 출전하지 못한다는 소식이 전해졌다\n",
      "러시아 고양이의 국제 대회 출전 금지령에 대해 어떻게 생각하나요.\n",
      "전 세계가 우크라이나를 침공한 러시아에 각종 제재를 가하고 있다\n",
      "\n",
      "[mecab 코사인 유사도]------------------------------------------------------------------------------------\n",
      "연맹 측은 오는 5월 말까지 러시아산 고양이의 수입을 금지하고 러시아에서 태어난 고양이의 혈통서 등록도 허용하지 않겠다며 우크라이나를 향한 러시아의 잔혹한 행위에 대해 더 이상 침묵할 수 없었다고 밝혔다\n",
      "고양이연맹은 예쁜 고양이 대회를 비롯해 매년 700여 개의 고양이 관련 대회를 주최해왔다\n",
      "이에 러시아 고양이도 국제 대회에 출전하지 못한다는 소식이 전해졌다\n",
      "\n",
      "[mecab 유클리드 거리]------------------------------------------------------------------------------------\n",
      "연맹 측은 오는 5월 말까지 러시아산 고양이의 수입을 금지하고 러시아에서 태어난 고양이의 혈통서 등록도 허용하지 않겠다며 우크라이나를 향한 러시아의 잔혹한 행위에 대해 더 이상 침묵할 수 없었다고 밝혔다\n",
      "고양이연맹은 예쁜 고양이 대회를 비롯해 매년 700여 개의 고양이 관련 대회를 주최해왔다\n",
      "이에 러시아 고양이도 국제 대회에 출전하지 못한다는 소식이 전해졌다\n"
     ]
    }
   ],
   "source": [
    "result_compare(0)"
   ]
  },
  {
   "cell_type": "markdown",
   "id": "6e9b7452-a27c-4596-8f8e-d1db46bee620",
   "metadata": {},
   "source": [
    "---"
   ]
  },
  {
   "cell_type": "markdown",
   "id": "3deb5dc2-3f8f-4a23-95ef-0caa8654e7db",
   "metadata": {
    "tags": []
   },
   "source": [
    "## 8. 결과물 파일 만들기"
   ]
  },
  {
   "cell_type": "code",
   "execution_count": 618,
   "id": "0e286cbf-278e-423d-afa2-9bdf269fc6b4",
   "metadata": {},
   "outputs": [],
   "source": [
    "# 코사인 유사도\n",
    "def get_cosine_similarity(df, tokenizer):\n",
    "    \n",
    "     # 토큰화한 타이틀\n",
    "    title = ' '.join(tokenizer(df['news_title']))\n",
    "    # 토큰화한 기사리스트\n",
    "    article = [' '.join(tokenizer(a)) for a in df['split_article']]\n",
    "\n",
    "    # 타이틀+기사를 tf-idf 벡터화합니다\n",
    "    doc = [title] + article\n",
    "    tfidf = TfidfVectorizer()\n",
    "    # TFidfVectorizer로 transform()한 결과는 Sparse Matrix이므로 Dense Matrix로 변환합니다 \n",
    "    vect = tfidf.fit_transform(doc).todense()\n",
    "    \n",
    "    # 타이틀(vect[0])과 기사 리스트(vect[1:])의 코사인 유사도를 적용합니다\n",
    "    res = cosine_similarity(vect[0], vect[1:]).reshape(-1).tolist()\n",
    "    # # 유사도를 내림차순으로 정렬합니다\n",
    "    # res = sorted([(i, s) for i, s in enumerate(res)],\n",
    "    #              key=lambda x: x[1], reverse=True)[:3]\n",
    "    # # 유사도 상위 인덱스를 원본 기사 리스트에 대입합니다\n",
    "    # res = [df['split_article'][i] for i, s in res]\n",
    "    \n",
    "    return res"
   ]
  },
  {
   "cell_type": "code",
   "execution_count": 619,
   "id": "92d8aeb4-b1b8-4f19-aef4-0ab139df4566",
   "metadata": {},
   "outputs": [
    {
     "data": {
      "text/plain": [
       "'러시아 고양이 됩니다'"
      ]
     },
     "execution_count": 619,
     "metadata": {},
     "output_type": "execute_result"
    }
   ],
   "source": [
    "title = ' '.join(mecab_tokenizer(df.iloc[0]['news_title']))\n",
    "title"
   ]
  },
  {
   "cell_type": "code",
   "execution_count": 620,
   "id": "f17d255d-a740-47aa-b217-8e871c32199e",
   "metadata": {},
   "outputs": [
    {
     "data": {
      "text/plain": [
       "'세계 우크라이나 침공 러시아 각종 제재 가하'"
      ]
     },
     "execution_count": 620,
     "metadata": {},
     "output_type": "execute_result"
    }
   ],
   "source": [
    "article = [' '.join(mecab_tokenizer(a)) for a in df.iloc[0]['split_article']]\n",
    "article[0]"
   ]
  },
  {
   "cell_type": "code",
   "execution_count": 621,
   "id": "766434bc-b6bd-4e28-97e4-ef5921e96cb8",
   "metadata": {},
   "outputs": [
    {
     "data": {
      "text/plain": [
       "['러시아 고양이 됩니다',\n",
       " '세계 우크라이나 침공 러시아 각종 제재 가하',\n",
       " '러시아 고양이 국제 대회 출전 소식 전해졌',\n",
       " '지난 일 영국 일간 데일리 메일 따르 년 역 가 국제 고양이 연맹 최근 성명 통해 월드 캣 쇼 러시아 소속 고양이 참가 금지 밝혔',\n",
       " '고양이 연맹 고양이 대회 비롯 개 고양이 관련 대회 주최',\n",
       " '연맹 측 오 월 말 러시아 고양이 수입 금지 러시아 태어난 고양이 혈통서 등록 허용 우크라이나 향한 러시아 잔혹 행위 대해 이상 침묵 수 밝혔',\n",
       " '우크라 난민 피란 중 반려 동물 위한 기금 마련 것 덧붙였',\n",
       " '러시아 고양이 국제 대회 출전 금지령 대해 생각']"
      ]
     },
     "execution_count": 621,
     "metadata": {},
     "output_type": "execute_result"
    }
   ],
   "source": [
    "doc = [title] + article\n",
    "doc"
   ]
  },
  {
   "cell_type": "code",
   "execution_count": 622,
   "id": "6e1c102e-2888-42f9-a39c-e505495f52d8",
   "metadata": {},
   "outputs": [],
   "source": [
    "tfidf = TfidfVectorizer()\n",
    "vect = tfidf.fit_transform(doc).todense()"
   ]
  },
  {
   "cell_type": "code",
   "execution_count": 623,
   "id": "0a552cdb-4ee0-466e-b431-be32f43e3ffe",
   "metadata": {},
   "outputs": [],
   "source": [
    "def jaccard(doc1, doc2):\n",
    "    union = set(doc1)|set(doc2)\n",
    "    intersection = set(doc1)&set(doc2)\n",
    "    return len(intersection)/len(union)"
   ]
  },
  {
   "cell_type": "code",
   "execution_count": 624,
   "id": "186ee5ea-37d5-4ffe-9ab8-b1fe0e328743",
   "metadata": {},
   "outputs": [],
   "source": [
    "res1= [(jaccard(title, a)) for _, a in enumerate(article)]"
   ]
  },
  {
   "cell_type": "code",
   "execution_count": 625,
   "id": "fabc659d-122f-45d0-9d87-3997b96e0082",
   "metadata": {},
   "outputs": [
    {
     "data": {
      "text/plain": [
       "[0.20833333333333334,\n",
       " 0.35,\n",
       " 0.16279069767441862,\n",
       " 0.19047619047619047,\n",
       " 0.14893617021276595,\n",
       " 0.03125,\n",
       " 0.3181818181818182]"
      ]
     },
     "execution_count": 625,
     "metadata": {},
     "output_type": "execute_result"
    }
   ],
   "source": [
    "res1"
   ]
  },
  {
   "cell_type": "code",
   "execution_count": 626,
   "id": "9df9582a-4289-413a-b6a7-7611be304c4b",
   "metadata": {},
   "outputs": [],
   "source": [
    "res = cosine_similarity(vect[0], vect[1:]).reshape(-1).tolist()"
   ]
  },
  {
   "cell_type": "code",
   "execution_count": 627,
   "id": "fc5044e5-6126-4013-b44a-d00b814b60e4",
   "metadata": {},
   "outputs": [
    {
     "data": {
      "text/plain": [
       "[0.08358742123652907,\n",
       " 0.19788956250925133,\n",
       " 0.15440322328062311,\n",
       " 0.21818165287724522,\n",
       " 0.2504203714606354,\n",
       " 0.0,\n",
       " 0.18331362032464324]"
      ]
     },
     "execution_count": 627,
     "metadata": {},
     "output_type": "execute_result"
    }
   ],
   "source": [
    "res"
   ]
  },
  {
   "cell_type": "code",
   "execution_count": 628,
   "id": "f9d18864-4177-4616-8082-6c57cff196fa",
   "metadata": {},
   "outputs": [],
   "source": [
    "res = sorted([(i, s) for i, s in enumerate(res)],key=lambda x: x[1], reverse=True)[:3]"
   ]
  },
  {
   "cell_type": "code",
   "execution_count": 629,
   "id": "0d004064-3cec-4c27-8509-bbcd9f340bbf",
   "metadata": {},
   "outputs": [
    {
     "data": {
      "text/plain": [
       "[(4, 0.2504203714606354), (3, 0.21818165287724522), (1, 0.19788956250925133)]"
      ]
     },
     "execution_count": 629,
     "metadata": {},
     "output_type": "execute_result"
    }
   ],
   "source": [
    "res"
   ]
  },
  {
   "cell_type": "code",
   "execution_count": 630,
   "id": "51563adb-ffd7-4766-adc1-70e1b16b4349",
   "metadata": {},
   "outputs": [
    {
     "name": "stdout",
     "output_type": "stream",
     "text": [
      "0.08358742123652907\n",
      "0.19788956250925133\n",
      "0.15440322328062311\n",
      "0.21818165287724522\n",
      "0.2504203714606354\n",
      "0.0\n",
      "0.18331362032464324\n"
     ]
    }
   ],
   "source": [
    "print(*get_cosine_similarity(df.iloc[0], mecab_tokenizer), sep='\\n')"
   ]
  },
  {
   "cell_type": "code",
   "execution_count": 631,
   "id": "cc3eee97-aad0-41c0-a008-160f3f62be98",
   "metadata": {},
   "outputs": [],
   "source": [
    "# 유클리드 거리 유사도\n",
    "\n",
    "def get_euclidean_dist(df, tokenizer):\n",
    "    \n",
    "    # 유클리드 거리를 계산하는 함수\n",
    "    def dist(v1, v2):   \n",
    "        return np.sqrt(np.sum((v1-v2)**2))\n",
    "    \n",
    "    # 토큰화한 타이틀\n",
    "    title = ' '.join(tokenizer(df['news_title']))\n",
    "    # 토큰화한 기사 리스트\n",
    "    article = [' '.join(tokenizer(a)) for a in df['split_article']]\n",
    "    \n",
    "    # 타이틀+기사를 tf-idf 벡터화합니다\n",
    "    doc = [title] + article\n",
    "    tfidf_vect_simple = TfidfVectorizer()\n",
    "    # TFidfVectorizer로 transform()한 결과는 Sparse Matrix이므로 Dense Matrix로 변환합니다 \n",
    "    vect = tfidf_vect_simple.fit_transform(doc).todense()\n",
    "\n",
    "    # 타이틀과 기사의 유클리드 거리 계산결과를 리스트에 담습니다\n",
    "    res = []\n",
    "    v1 = np.array(vect[0]).reshape(-1)\n",
    "    for v in vect[1:]:\n",
    "        v2 = np.array(v).reshape(-1)\n",
    "        res.append(dist(v1, v2))\n",
    "\n",
    "    # # 유클리드 거리를 오름차순으로 정렬합니다\n",
    "    # res = sorted([(i, s) for i, s in enumerate(res)], \n",
    "    #              key=lambda x: x[1])[:3]\n",
    "    # # 유클리드 거리의 상위 인덱스를 원본 기사 리스트에 대입합니다\n",
    "    # res = [df['split_article'][i] for i, s in res]\n",
    "    return res"
   ]
  },
  {
   "cell_type": "code",
   "execution_count": 632,
   "id": "7cd23253-e900-4804-b22d-d254d562ab6f",
   "metadata": {},
   "outputs": [
    {
     "name": "stdout",
     "output_type": "stream",
     "text": [
      "1.3538187314138264\n",
      "1.2665784124883455\n",
      "1.3004589779915219\n",
      "1.2504545950355452\n",
      "1.224401591422818\n",
      "1.414213562373095\n",
      "1.278034725408787\n"
     ]
    }
   ],
   "source": [
    "print(*get_euclidean_dist(df.iloc[0], mecab_tokenizer), sep='\\n')"
   ]
  },
  {
   "cell_type": "code",
   "execution_count": 643,
   "id": "80aec919-0b9c-4558-a13d-6ccc625ba798",
   "metadata": {},
   "outputs": [],
   "source": [
    "# 자카드 유사도: 합집합에서 교집합의 비율로 유사도를 구합니다\n",
    "def get_jacaard_similarity(df, tokenizer):\n",
    "    \n",
    "    # 비율을 계산하는 함수\n",
    "    def jaccard(doc1, doc2):\n",
    "        try:\n",
    "            union = set(doc1)|set(doc2)\n",
    "            intersection = set(doc1)&set(doc2)\n",
    "            return len(intersection)/len(union)\n",
    "        except ZeroDivisionError:\n",
    "            print('연산 오류')\n",
    "            return 0\n",
    "    \n",
    "    # 토큰화한 타이틀\n",
    "    title = tokenizer(df['news_title'])\n",
    "    # 토큰화한 기사 리스트\n",
    "    article = list(map(tokenizer, df['split_article']))\n",
    "    \n",
    "    res = [(jaccard(title, a)) for _, a in enumerate(article)]\n",
    "    # # 타이틀과 기사의 유사도를 구하여 내림차순으로 정렬합니다\n",
    "    # res = sorted([(i,jaccard(title, a)) for i, a in enumerate(article)], \n",
    "    #              key=lambda x: x[1], reverse=True)[:3]\n",
    "    # # 유사도 상위 인덱스를 원본 기사 리스트에 대입합니다\n",
    "    # res = res = [df['split_article'][i] for i, s in res]\n",
    "    return res"
   ]
  },
  {
   "cell_type": "code",
   "execution_count": 644,
   "id": "2fbe91e4-8902-487e-82e3-5cdca1d62e34",
   "metadata": {},
   "outputs": [
    {
     "name": "stdout",
     "output_type": "stream",
     "text": [
      "0.1111111111111111\n",
      "0.25\n",
      "0.08\n",
      "0.1111111111111111\n",
      "0.08695652173913043\n",
      "0.0\n",
      "0.2222222222222222\n"
     ]
    }
   ],
   "source": [
    "print(*get_jacaard_similarity(df.iloc[0], mecab_tokenizer), sep='\\n')"
   ]
  },
  {
   "cell_type": "code",
   "execution_count": 647,
   "id": "7f8adb5c-25bb-4e60-9afc-fb25e82678f9",
   "metadata": {
    "tags": []
   },
   "outputs": [],
   "source": [
    "# zip - news_index + news_title + news_article \n",
    "# 전체 dataframe에서 실행\n",
    "total_data = []\n",
    "for idxx in df.index:\n",
    "    news_article = df.split_article[idxx]\n",
    "    news_title = []\n",
    "    news_index = []\n",
    "\n",
    "    for i in range(len(news_article)):\n",
    "        news_title.append(df.news_title[idxx])\n",
    "        news_index.append(idxx + 1)\n",
    "    for idx, title, article in zip(news_index, news_title, news_article): \n",
    "        total_data.append([idx,title,article]) "
   ]
  },
  {
   "cell_type": "code",
   "execution_count": 648,
   "id": "0e1ed4eb-1a93-44f7-9182-c6c861d82923",
   "metadata": {
    "tags": []
   },
   "outputs": [
    {
     "data": {
      "text/html": [
       "<div>\n",
       "<style scoped>\n",
       "    .dataframe tbody tr th:only-of-type {\n",
       "        vertical-align: middle;\n",
       "    }\n",
       "\n",
       "    .dataframe tbody tr th {\n",
       "        vertical-align: top;\n",
       "    }\n",
       "\n",
       "    .dataframe thead th {\n",
       "        text-align: right;\n",
       "    }\n",
       "</style>\n",
       "<table border=\"1\" class=\"dataframe\">\n",
       "  <thead>\n",
       "    <tr style=\"text-align: right;\">\n",
       "      <th></th>\n",
       "      <th>news_idx</th>\n",
       "      <th>news_title</th>\n",
       "      <th>news_article</th>\n",
       "    </tr>\n",
       "  </thead>\n",
       "  <tbody>\n",
       "    <tr>\n",
       "      <th>0</th>\n",
       "      <td>1</td>\n",
       "      <td>러시아 고양이는 안 됩니다</td>\n",
       "      <td>전 세계가 우크라이나를 침공한 러시아에 각종 제재를 가하고 있다</td>\n",
       "    </tr>\n",
       "    <tr>\n",
       "      <th>1</th>\n",
       "      <td>1</td>\n",
       "      <td>러시아 고양이는 안 됩니다</td>\n",
       "      <td>이에 러시아 고양이도 국제 대회에 출전하지 못한다는 소식이 전해졌다</td>\n",
       "    </tr>\n",
       "    <tr>\n",
       "      <th>2</th>\n",
       "      <td>1</td>\n",
       "      <td>러시아 고양이는 안 됩니다</td>\n",
       "      <td>지난 3일 영국 일간 데일리메일에 따르면 70여 년 역를 가 국제고양이연맹이 최근 ...</td>\n",
       "    </tr>\n",
       "    <tr>\n",
       "      <th>3</th>\n",
       "      <td>1</td>\n",
       "      <td>러시아 고양이는 안 됩니다</td>\n",
       "      <td>고양이연맹은 예쁜 고양이 대회를 비롯해 매년 700여 개의 고양이 관련 대회를 주최해왔다</td>\n",
       "    </tr>\n",
       "    <tr>\n",
       "      <th>4</th>\n",
       "      <td>1</td>\n",
       "      <td>러시아 고양이는 안 됩니다</td>\n",
       "      <td>연맹 측은 오는 5월 말까지 러시아산 고양이의 수입을 금지하고 러시아에서 태어난 고...</td>\n",
       "    </tr>\n",
       "    <tr>\n",
       "      <th>...</th>\n",
       "      <td>...</td>\n",
       "      <td>...</td>\n",
       "      <td>...</td>\n",
       "    </tr>\n",
       "    <tr>\n",
       "      <th>30829</th>\n",
       "      <td>1527</td>\n",
       "      <td>알파고가 이세돌 9단을 이긴 건 딥러닝 덕분이지</td>\n",
       "      <td>아마도 람이 이 방법으로 학습한다면 똑같은 과정을 거치는 데 1000년도 더 걸렸을걸</td>\n",
       "    </tr>\n",
       "    <tr>\n",
       "      <th>30830</th>\n",
       "      <td>1527</td>\n",
       "      <td>알파고가 이세돌 9단을 이긴 건 딥러닝 덕분이지</td>\n",
       "      <td>인터넷 검색 이트 구글은 이제 1000만 장의 에서 고양이 을 찾아낼 수 있대</td>\n",
       "    </tr>\n",
       "    <tr>\n",
       "      <th>30831</th>\n",
       "      <td>1527</td>\n",
       "      <td>알파고가 이세돌 9단을 이긴 건 딥러닝 덕분이지</td>\n",
       "      <td>우리에게는 너무 당연한 일이지만 예전에는 컴퓨터가 람 얼굴과 고양이 얼굴을 구별하는...</td>\n",
       "    </tr>\n",
       "    <tr>\n",
       "      <th>30832</th>\n",
       "      <td>1527</td>\n",
       "      <td>알파고가 이세돌 9단을 이긴 건 딥러닝 덕분이지</td>\n",
       "      <td>알파고처럼 학습한 끝에 고양이를 알아차릴 수 있게 됐지</td>\n",
       "    </tr>\n",
       "    <tr>\n",
       "      <th>30833</th>\n",
       "      <td>1527</td>\n",
       "      <td>알파고가 이세돌 9단을 이긴 건 딥러닝 덕분이지</td>\n",
       "      <td>다락원 어린이를 위한 4차 산업 혁명 안내서</td>\n",
       "    </tr>\n",
       "  </tbody>\n",
       "</table>\n",
       "<p>30834 rows × 3 columns</p>\n",
       "</div>"
      ],
      "text/plain": [
       "       news_idx                  news_title  \\\n",
       "0             1              러시아 고양이는 안 됩니다   \n",
       "1             1              러시아 고양이는 안 됩니다   \n",
       "2             1              러시아 고양이는 안 됩니다   \n",
       "3             1              러시아 고양이는 안 됩니다   \n",
       "4             1              러시아 고양이는 안 됩니다   \n",
       "...         ...                         ...   \n",
       "30829      1527  알파고가 이세돌 9단을 이긴 건 딥러닝 덕분이지   \n",
       "30830      1527  알파고가 이세돌 9단을 이긴 건 딥러닝 덕분이지   \n",
       "30831      1527  알파고가 이세돌 9단을 이긴 건 딥러닝 덕분이지   \n",
       "30832      1527  알파고가 이세돌 9단을 이긴 건 딥러닝 덕분이지   \n",
       "30833      1527  알파고가 이세돌 9단을 이긴 건 딥러닝 덕분이지   \n",
       "\n",
       "                                            news_article  \n",
       "0                    전 세계가 우크라이나를 침공한 러시아에 각종 제재를 가하고 있다  \n",
       "1                  이에 러시아 고양이도 국제 대회에 출전하지 못한다는 소식이 전해졌다  \n",
       "2      지난 3일 영국 일간 데일리메일에 따르면 70여 년 역를 가 국제고양이연맹이 최근 ...  \n",
       "3      고양이연맹은 예쁜 고양이 대회를 비롯해 매년 700여 개의 고양이 관련 대회를 주최해왔다  \n",
       "4      연맹 측은 오는 5월 말까지 러시아산 고양이의 수입을 금지하고 러시아에서 태어난 고...  \n",
       "...                                                  ...  \n",
       "30829    아마도 람이 이 방법으로 학습한다면 똑같은 과정을 거치는 데 1000년도 더 걸렸을걸  \n",
       "30830        인터넷 검색 이트 구글은 이제 1000만 장의 에서 고양이 을 찾아낼 수 있대  \n",
       "30831  우리에게는 너무 당연한 일이지만 예전에는 컴퓨터가 람 얼굴과 고양이 얼굴을 구별하는...  \n",
       "30832                     알파고처럼 학습한 끝에 고양이를 알아차릴 수 있게 됐지  \n",
       "30833                           다락원 어린이를 위한 4차 산업 혁명 안내서  \n",
       "\n",
       "[30834 rows x 3 columns]"
      ]
     },
     "execution_count": 648,
     "metadata": {},
     "output_type": "execute_result"
    }
   ],
   "source": [
    "news_summary = pd.DataFrame(columns = ['news_idx','news_title','news_article'],data=total_data)\n",
    "news_summary"
   ]
  },
  {
   "cell_type": "code",
   "execution_count": 649,
   "id": "6dc4cecc-8c66-44cc-ab8e-cffdb38168e4",
   "metadata": {},
   "outputs": [
    {
     "name": "stdout",
     "output_type": "stream",
     "text": [
      "연산 오류\n",
      "CPU times: user 36.3 s, sys: 44.2 s, total: 1min 20s\n",
      "Wall time: 35 s\n"
     ]
    }
   ],
   "source": [
    "%%time\n",
    "cosine_result = []\n",
    "jacaard_result = []\n",
    "euclidean_result = []\n",
    "for i in df.index:\n",
    "    cosine = get_cosine_similarity(df.iloc[i], mecab_tokenizer)\n",
    "    jacaard = get_jacaard_similarity(df.iloc[i], mecab_tokenizer)\n",
    "    euclidean = get_euclidean_dist(df.iloc[i], mecab_tokenizer)\n",
    "    for j in range(len(df.iloc[i].split_article)):\n",
    "        cosine_result.append(cosine[j])\n",
    "        jacaard_result.append(jacaard[j])\n",
    "        euclidean_result.append(euclidean[j])"
   ]
  },
  {
   "cell_type": "code",
   "execution_count": 651,
   "id": "31d13df8-422b-4e1f-a664-c1fa1d94eb8c",
   "metadata": {},
   "outputs": [
    {
     "data": {
      "text/plain": [
       "'http://kid.chosun.com/site/data/html_dir/2021/12/30/2021123002109.html'"
      ]
     },
     "execution_count": 651,
     "metadata": {},
     "output_type": "execute_result"
    }
   ],
   "source": [
    "df[df['news_title'] == '모두 고맙습니다'].news_url.values[0]"
   ]
  },
  {
   "cell_type": "code",
   "execution_count": 652,
   "id": "286f9b37-6e81-4c0d-ba70-6477322b9563",
   "metadata": {
    "tags": []
   },
   "outputs": [],
   "source": [
    "news_summary['jacaard_result'] = jacaard_result"
   ]
  },
  {
   "cell_type": "code",
   "execution_count": 654,
   "id": "df6751b7-4287-4121-8faa-587bdbc9a33f",
   "metadata": {
    "collapsed": true,
    "jupyter": {
     "outputs_hidden": true
    },
    "tags": []
   },
   "outputs": [
    {
     "data": {
      "text/html": [
       "<div>\n",
       "<style scoped>\n",
       "    .dataframe tbody tr th:only-of-type {\n",
       "        vertical-align: middle;\n",
       "    }\n",
       "\n",
       "    .dataframe tbody tr th {\n",
       "        vertical-align: top;\n",
       "    }\n",
       "\n",
       "    .dataframe thead th {\n",
       "        text-align: right;\n",
       "    }\n",
       "</style>\n",
       "<table border=\"1\" class=\"dataframe\">\n",
       "  <thead>\n",
       "    <tr style=\"text-align: right;\">\n",
       "      <th></th>\n",
       "      <th>news_idx</th>\n",
       "      <th>news_title</th>\n",
       "      <th>news_article</th>\n",
       "      <th>jacaard_result</th>\n",
       "    </tr>\n",
       "  </thead>\n",
       "  <tbody>\n",
       "    <tr>\n",
       "      <th>5</th>\n",
       "      <td>1</td>\n",
       "      <td>러시아 고양이는 안 됩니다</td>\n",
       "      <td>이어 우크라이나 난민과 피란 중인 반려동물을 위한 기금도 마련할 것이라고 덧붙였다</td>\n",
       "      <td>0.0</td>\n",
       "    </tr>\n",
       "    <tr>\n",
       "      <th>11</th>\n",
       "      <td>2</td>\n",
       "      <td>홀로 1000 우크라 국경 탈출한 11세 소년</td>\n",
       "      <td>그의 손에는 비닐봉지와 여권이 쥐여 있었고 손등에는 전화번호가 적혀 있었다</td>\n",
       "      <td>0.0</td>\n",
       "    </tr>\n",
       "    <tr>\n",
       "      <th>12</th>\n",
       "      <td>2</td>\n",
       "      <td>홀로 1000 우크라 국경 탈출한 11세 소년</td>\n",
       "      <td>전화번호 덕분에 슬로바키아 경찰은 그의 친척과 연락할 수 있었다</td>\n",
       "      <td>0.0</td>\n",
       "    </tr>\n",
       "    <tr>\n",
       "      <th>13</th>\n",
       "      <td>2</td>\n",
       "      <td>홀로 1000 우크라 국경 탈출한 11세 소년</td>\n",
       "      <td>아들의 도착 소식을 접한 엄마는 SNS를 통해 아이의 생명을 구해줘서 정말 감하다고 했다</td>\n",
       "      <td>0.0</td>\n",
       "    </tr>\n",
       "    <tr>\n",
       "      <th>18</th>\n",
       "      <td>3</td>\n",
       "      <td>온라인 쇼핑몰 니켈 납투성이 장신구 주의</td>\n",
       "      <td>최근 한국소비자원이 발표한 자료에 따르면 인터넷에서 판매되는 귀걸이 목걸이 등 30...</td>\n",
       "      <td>0.0</td>\n",
       "    </tr>\n",
       "    <tr>\n",
       "      <th>...</th>\n",
       "      <td>...</td>\n",
       "      <td>...</td>\n",
       "      <td>...</td>\n",
       "      <td>...</td>\n",
       "    </tr>\n",
       "    <tr>\n",
       "      <th>30825</th>\n",
       "      <td>1527</td>\n",
       "      <td>알파고가 이세돌 9단을 이긴 건 딥러닝 덕분이지</td>\n",
       "      <td>규칙을 찾아내며 익히고 다음에 놓을 수를 예측하지</td>\n",
       "      <td>0.0</td>\n",
       "    </tr>\n",
       "    <tr>\n",
       "      <th>30827</th>\n",
       "      <td>1527</td>\n",
       "      <td>알파고가 이세돌 9단을 이긴 건 딥러닝 덕분이지</td>\n",
       "      <td>이길 수 있는 좋은 수만 기억하면서 말이야</td>\n",
       "      <td>0.0</td>\n",
       "    </tr>\n",
       "    <tr>\n",
       "      <th>30829</th>\n",
       "      <td>1527</td>\n",
       "      <td>알파고가 이세돌 9단을 이긴 건 딥러닝 덕분이지</td>\n",
       "      <td>아마도 람이 이 방법으로 학습한다면 똑같은 과정을 거치는 데 1000년도 더 걸렸을걸</td>\n",
       "      <td>0.0</td>\n",
       "    </tr>\n",
       "    <tr>\n",
       "      <th>30830</th>\n",
       "      <td>1527</td>\n",
       "      <td>알파고가 이세돌 9단을 이긴 건 딥러닝 덕분이지</td>\n",
       "      <td>인터넷 검색 이트 구글은 이제 1000만 장의 에서 고양이 을 찾아낼 수 있대</td>\n",
       "      <td>0.0</td>\n",
       "    </tr>\n",
       "    <tr>\n",
       "      <th>30833</th>\n",
       "      <td>1527</td>\n",
       "      <td>알파고가 이세돌 9단을 이긴 건 딥러닝 덕분이지</td>\n",
       "      <td>다락원 어린이를 위한 4차 산업 혁명 안내서</td>\n",
       "      <td>0.0</td>\n",
       "    </tr>\n",
       "  </tbody>\n",
       "</table>\n",
       "<p>16582 rows × 4 columns</p>\n",
       "</div>"
      ],
      "text/plain": [
       "       news_idx                  news_title  \\\n",
       "5             1              러시아 고양이는 안 됩니다   \n",
       "11            2   홀로 1000 우크라 국경 탈출한 11세 소년   \n",
       "12            2   홀로 1000 우크라 국경 탈출한 11세 소년   \n",
       "13            2   홀로 1000 우크라 국경 탈출한 11세 소년   \n",
       "18            3      온라인 쇼핑몰 니켈 납투성이 장신구 주의   \n",
       "...         ...                         ...   \n",
       "30825      1527  알파고가 이세돌 9단을 이긴 건 딥러닝 덕분이지   \n",
       "30827      1527  알파고가 이세돌 9단을 이긴 건 딥러닝 덕분이지   \n",
       "30829      1527  알파고가 이세돌 9단을 이긴 건 딥러닝 덕분이지   \n",
       "30830      1527  알파고가 이세돌 9단을 이긴 건 딥러닝 덕분이지   \n",
       "30833      1527  알파고가 이세돌 9단을 이긴 건 딥러닝 덕분이지   \n",
       "\n",
       "                                            news_article  jacaard_result  \n",
       "5          이어 우크라이나 난민과 피란 중인 반려동물을 위한 기금도 마련할 것이라고 덧붙였다             0.0  \n",
       "11             그의 손에는 비닐봉지와 여권이 쥐여 있었고 손등에는 전화번호가 적혀 있었다             0.0  \n",
       "12                   전화번호 덕분에 슬로바키아 경찰은 그의 친척과 연락할 수 있었다             0.0  \n",
       "13     아들의 도착 소식을 접한 엄마는 SNS를 통해 아이의 생명을 구해줘서 정말 감하다고 했다             0.0  \n",
       "18     최근 한국소비자원이 발표한 자료에 따르면 인터넷에서 판매되는 귀걸이 목걸이 등 30...             0.0  \n",
       "...                                                  ...             ...  \n",
       "30825                        규칙을 찾아내며 익히고 다음에 놓을 수를 예측하지             0.0  \n",
       "30827                            이길 수 있는 좋은 수만 기억하면서 말이야             0.0  \n",
       "30829    아마도 람이 이 방법으로 학습한다면 똑같은 과정을 거치는 데 1000년도 더 걸렸을걸             0.0  \n",
       "30830        인터넷 검색 이트 구글은 이제 1000만 장의 에서 고양이 을 찾아낼 수 있대             0.0  \n",
       "30833                           다락원 어린이를 위한 4차 산업 혁명 안내서             0.0  \n",
       "\n",
       "[16582 rows x 4 columns]"
      ]
     },
     "execution_count": 654,
     "metadata": {},
     "output_type": "execute_result"
    }
   ],
   "source": [
    "news_summary[news_summary['jacaard_result']==0]"
   ]
  },
  {
   "cell_type": "code",
   "execution_count": 655,
   "id": "f6dfbcfe-4e7c-474e-8293-65cb09229d6b",
   "metadata": {},
   "outputs": [],
   "source": [
    "news_summary['cosine_result'] = np.round(np.float_(cosine_result), 3)\n",
    "news_summary['jacaard_result'] = np.round(np.float_(jacaard_result), 3)\n",
    "news_summary['euclidean_result'] = np.round(np.float_(euclidean_result), 3)"
   ]
  },
  {
   "cell_type": "code",
   "execution_count": 656,
   "id": "dbb035a2-d010-484b-852a-3d00b75db243",
   "metadata": {},
   "outputs": [
    {
     "data": {
      "text/html": [
       "<div>\n",
       "<style scoped>\n",
       "    .dataframe tbody tr th:only-of-type {\n",
       "        vertical-align: middle;\n",
       "    }\n",
       "\n",
       "    .dataframe tbody tr th {\n",
       "        vertical-align: top;\n",
       "    }\n",
       "\n",
       "    .dataframe thead th {\n",
       "        text-align: right;\n",
       "    }\n",
       "</style>\n",
       "<table border=\"1\" class=\"dataframe\">\n",
       "  <thead>\n",
       "    <tr style=\"text-align: right;\">\n",
       "      <th></th>\n",
       "      <th>news_idx</th>\n",
       "      <th>news_title</th>\n",
       "      <th>news_article</th>\n",
       "      <th>jacaard_result</th>\n",
       "      <th>cosine_result</th>\n",
       "      <th>euclidean_result</th>\n",
       "    </tr>\n",
       "  </thead>\n",
       "  <tbody>\n",
       "    <tr>\n",
       "      <th>7</th>\n",
       "      <td>2</td>\n",
       "      <td>홀로 1000 우크라 국경 탈출한 11세 소년</td>\n",
       "      <td>우크라이나 소년이 홀로 국경을 넘은 뭉클한 연이 전해졌다</td>\n",
       "      <td>0.333</td>\n",
       "      <td>0.502</td>\n",
       "      <td>0.998</td>\n",
       "    </tr>\n",
       "    <tr>\n",
       "      <th>8</th>\n",
       "      <td>2</td>\n",
       "      <td>홀로 1000 우크라 국경 탈출한 11세 소년</td>\n",
       "      <td>영국 매체 가디언과 메트로 등 외신은 지난 6일 슬로바키아 경찰의 공식 소셜미디어에...</td>\n",
       "      <td>0.048</td>\n",
       "      <td>0.000</td>\n",
       "      <td>1.414</td>\n",
       "    </tr>\n",
       "    <tr>\n",
       "      <th>9</th>\n",
       "      <td>2</td>\n",
       "      <td>홀로 1000 우크라 국경 탈출한 11세 소년</td>\n",
       "      <td>소년은 우크라이나 자포리자에서 출발한 후 1000가량을 이동해 슬로바키아에 도착했다</td>\n",
       "      <td>0.167</td>\n",
       "      <td>0.196</td>\n",
       "      <td>1.268</td>\n",
       "    </tr>\n",
       "    <tr>\n",
       "      <th>10</th>\n",
       "      <td>2</td>\n",
       "      <td>홀로 1000 우크라 국경 탈출한 11세 소년</td>\n",
       "      <td>거동이 힘든 어머니와 함께 떠날 수 없었던 소년은 결국 어머니의 설득 끝에 홀로 기...</td>\n",
       "      <td>0.071</td>\n",
       "      <td>0.066</td>\n",
       "      <td>1.366</td>\n",
       "    </tr>\n",
       "    <tr>\n",
       "      <th>11</th>\n",
       "      <td>2</td>\n",
       "      <td>홀로 1000 우크라 국경 탈출한 11세 소년</td>\n",
       "      <td>그의 손에는 비닐봉지와 여권이 쥐여 있었고 손등에는 전화번호가 적혀 있었다</td>\n",
       "      <td>0.000</td>\n",
       "      <td>0.000</td>\n",
       "      <td>1.414</td>\n",
       "    </tr>\n",
       "    <tr>\n",
       "      <th>12</th>\n",
       "      <td>2</td>\n",
       "      <td>홀로 1000 우크라 국경 탈출한 11세 소년</td>\n",
       "      <td>전화번호 덕분에 슬로바키아 경찰은 그의 친척과 연락할 수 있었다</td>\n",
       "      <td>0.000</td>\n",
       "      <td>0.000</td>\n",
       "      <td>1.414</td>\n",
       "    </tr>\n",
       "    <tr>\n",
       "      <th>13</th>\n",
       "      <td>2</td>\n",
       "      <td>홀로 1000 우크라 국경 탈출한 11세 소년</td>\n",
       "      <td>아들의 도착 소식을 접한 엄마는 SNS를 통해 아이의 생명을 구해줘서 정말 감하다고 했다</td>\n",
       "      <td>0.000</td>\n",
       "      <td>0.000</td>\n",
       "      <td>1.414</td>\n",
       "    </tr>\n",
       "    <tr>\n",
       "      <th>14</th>\n",
       "      <td>2</td>\n",
       "      <td>홀로 1000 우크라 국경 탈출한 11세 소년</td>\n",
       "      <td>우크라이나 소년의 탈출기를 글로 써봅시다.</td>\n",
       "      <td>0.250</td>\n",
       "      <td>0.290</td>\n",
       "      <td>1.192</td>\n",
       "    </tr>\n",
       "  </tbody>\n",
       "</table>\n",
       "</div>"
      ],
      "text/plain": [
       "    news_idx                 news_title  \\\n",
       "7          2  홀로 1000 우크라 국경 탈출한 11세 소년   \n",
       "8          2  홀로 1000 우크라 국경 탈출한 11세 소년   \n",
       "9          2  홀로 1000 우크라 국경 탈출한 11세 소년   \n",
       "10         2  홀로 1000 우크라 국경 탈출한 11세 소년   \n",
       "11         2  홀로 1000 우크라 국경 탈출한 11세 소년   \n",
       "12         2  홀로 1000 우크라 국경 탈출한 11세 소년   \n",
       "13         2  홀로 1000 우크라 국경 탈출한 11세 소년   \n",
       "14         2  홀로 1000 우크라 국경 탈출한 11세 소년   \n",
       "\n",
       "                                         news_article  jacaard_result  \\\n",
       "7                     우크라이나 소년이 홀로 국경을 넘은 뭉클한 연이 전해졌다           0.333   \n",
       "8   영국 매체 가디언과 메트로 등 외신은 지난 6일 슬로바키아 경찰의 공식 소셜미디어에...           0.048   \n",
       "9      소년은 우크라이나 자포리자에서 출발한 후 1000가량을 이동해 슬로바키아에 도착했다           0.167   \n",
       "10  거동이 힘든 어머니와 함께 떠날 수 없었던 소년은 결국 어머니의 설득 끝에 홀로 기...           0.071   \n",
       "11          그의 손에는 비닐봉지와 여권이 쥐여 있었고 손등에는 전화번호가 적혀 있었다           0.000   \n",
       "12                전화번호 덕분에 슬로바키아 경찰은 그의 친척과 연락할 수 있었다           0.000   \n",
       "13  아들의 도착 소식을 접한 엄마는 SNS를 통해 아이의 생명을 구해줘서 정말 감하다고 했다           0.000   \n",
       "14                            우크라이나 소년의 탈출기를 글로 써봅시다.           0.250   \n",
       "\n",
       "    cosine_result  euclidean_result  \n",
       "7           0.502             0.998  \n",
       "8           0.000             1.414  \n",
       "9           0.196             1.268  \n",
       "10          0.066             1.366  \n",
       "11          0.000             1.414  \n",
       "12          0.000             1.414  \n",
       "13          0.000             1.414  \n",
       "14          0.290             1.192  "
      ]
     },
     "execution_count": 656,
     "metadata": {},
     "output_type": "execute_result"
    }
   ],
   "source": [
    "news_summary[news_summary.news_idx==2]"
   ]
  },
  {
   "cell_type": "code",
   "execution_count": 657,
   "id": "d237d70d-478b-4ad5-bfc5-e04a81f844a0",
   "metadata": {},
   "outputs": [],
   "source": [
    "news_summary.to_csv('./news_summary_result.csv',index=False)"
   ]
  },
  {
   "cell_type": "code",
   "execution_count": null,
   "id": "05faf491-a148-464f-819f-a020ceda0adb",
   "metadata": {},
   "outputs": [],
   "source": []
  }
 ],
 "metadata": {
  "kernelspec": {
   "display_name": "imok",
   "language": "python",
   "name": "imok"
  },
  "language_info": {
   "codemirror_mode": {
    "name": "ipython",
    "version": 3
   },
   "file_extension": ".py",
   "mimetype": "text/x-python",
   "name": "python",
   "nbconvert_exporter": "python",
   "pygments_lexer": "ipython3",
   "version": "3.9.10"
  }
 },
 "nbformat": 4,
 "nbformat_minor": 5
}
