{
 "cells": [
  {
   "cell_type": "markdown",
   "id": "559c4dec-e014-4477-977a-890f93f8da4c",
   "metadata": {},
   "source": [
    "# 📰 어린이 뉴스 데이터 요약패턴 개발"
   ]
  },
  {
   "cell_type": "markdown",
   "id": "ad0e241b-184f-4584-9ec4-89a4ace5bd13",
   "metadata": {},
   "source": [
    "## 1. data import"
   ]
  },
  {
   "cell_type": "code",
   "execution_count": 4,
   "id": "6467b6fe-9709-441d-ba8e-c8065830d07f",
   "metadata": {},
   "outputs": [],
   "source": [
    "# 설정초기화\n",
    "pd.reset_option('display')"
   ]
  },
  {
   "cell_type": "code",
   "execution_count": 3,
   "id": "a53f32d7-2d20-411a-a340-e58b9d1593aa",
   "metadata": {},
   "outputs": [],
   "source": [
    "pd.options.display.max_rows = 6"
   ]
  },
  {
   "cell_type": "code",
   "execution_count": 342,
   "id": "8957e79d-b127-42d0-93e4-6f139685aae4",
   "metadata": {},
   "outputs": [],
   "source": [
    "# row 생략 없이 출력\n",
    "# pd.set_option('display.max_rows', None)\n",
    "# pd.set_option('display.max_rows', 10)"
   ]
  },
  {
   "cell_type": "code",
   "execution_count": 343,
   "id": "f0723b47-09a0-4d22-b0f7-ff845236eb3b",
   "metadata": {},
   "outputs": [],
   "source": [
    "import pandas as pd\n",
    "import numpy as np\n",
    "from tabulate import tabulate"
   ]
  },
  {
   "cell_type": "code",
   "execution_count": 344,
   "id": "725d11b9-924f-4a48-8fee-fe8db349e9f4",
   "metadata": {},
   "outputs": [],
   "source": [
    "news_summary = pd.read_csv('./kid_news.csv', index_col=[0])"
   ]
  },
  {
   "cell_type": "code",
   "execution_count": 345,
   "id": "8bb2b666-f875-4126-8e7a-a4bd12afbc6c",
   "metadata": {},
   "outputs": [
    {
     "data": {
      "text/html": [
       "<div>\n",
       "<style scoped>\n",
       "    .dataframe tbody tr th:only-of-type {\n",
       "        vertical-align: middle;\n",
       "    }\n",
       "\n",
       "    .dataframe tbody tr th {\n",
       "        vertical-align: top;\n",
       "    }\n",
       "\n",
       "    .dataframe thead th {\n",
       "        text-align: right;\n",
       "    }\n",
       "</style>\n",
       "<table border=\"1\" class=\"dataframe\">\n",
       "  <thead>\n",
       "    <tr style=\"text-align: right;\">\n",
       "      <th></th>\n",
       "      <th>news_title</th>\n",
       "      <th>news_subtitle</th>\n",
       "      <th>news_article</th>\n",
       "      <th>news_url</th>\n",
       "    </tr>\n",
       "  </thead>\n",
       "  <tbody>\n",
       "    <tr>\n",
       "      <th>0</th>\n",
       "      <td>[세상 속으로] \"러시아 고양이는 안 됩니다\"</td>\n",
       "      <td>국제고양이연맹, '월드 캣 쇼'서 퇴출</td>\n",
       "      <td>전 세계가 우크라이나를 침공(侵攻)한 러시아에 각종 제재를 가하고 있다. 이에 러시...</td>\n",
       "      <td>http://kid.chosun.com/site/data/html_dir/2022/...</td>\n",
       "    </tr>\n",
       "    <tr>\n",
       "      <th>1</th>\n",
       "      <td>[뉴스탐험대] 홀로 1000㎞… 우크라 國境&lt;국경&gt; 탈출한 11세 소년</td>\n",
       "      <td>NaN</td>\n",
       "      <td>우크라이나 소년이 홀로 국경(國境)을 넘은 뭉클한 연이 전해졌다. 영국 매체 가디언...</td>\n",
       "      <td>http://kid.chosun.com/site/data/html_dir/2022/...</td>\n",
       "    </tr>\n",
       "    <tr>\n",
       "      <th>2</th>\n",
       "      <td>[뉴스탐험대] 온라인 쇼핑몰 '니켈·납투성이 장신구' 주의</td>\n",
       "      <td>NaN</td>\n",
       "      <td>온라인 쇼핑몰에서 '무(無)알러지' '무니켈 도금' 등으로 홍보·판매되는 액세서리에...</td>\n",
       "      <td>http://kid.chosun.com/site/data/html_dir/2022/...</td>\n",
       "    </tr>\n",
       "    <tr>\n",
       "      <th>3</th>\n",
       "      <td>[뉴스탐험대] \"코로나에 강한 혈액형 있다\"… O형, 위험 최저</td>\n",
       "      <td>NaN</td>\n",
       "      <td>혈액형이 O형(型)인 람이 코로나 바이러스 감염 시 망·위중증 위험이 다른 혈액형보...</td>\n",
       "      <td>http://kid.chosun.com/site/data/html_dir/2022/...</td>\n",
       "    </tr>\n",
       "    <tr>\n",
       "      <th>4</th>\n",
       "      <td>잡히지 않는 火魔&lt;화마&gt;… 문화재 등 대규모 피해</td>\n",
       "      <td>서울 면적 4분의 1 이상 불타</td>\n",
       "      <td>최근 발생한 동해안 지역 대규모 산불로 인해 막대한 산림(山林) 피해가 우려되고 있...</td>\n",
       "      <td>http://kid.chosun.com/site/data/html_dir/2022/...</td>\n",
       "    </tr>\n",
       "  </tbody>\n",
       "</table>\n",
       "</div>"
      ],
      "text/plain": [
       "                                news_title          news_subtitle  \\\n",
       "0                [세상 속으로] \"러시아 고양이는 안 됩니다\"  국제고양이연맹, '월드 캣 쇼'서 퇴출   \n",
       "1  [뉴스탐험대] 홀로 1000㎞… 우크라 國境<국경> 탈출한 11세 소년                    NaN   \n",
       "2         [뉴스탐험대] 온라인 쇼핑몰 '니켈·납투성이 장신구' 주의                    NaN   \n",
       "3      [뉴스탐험대] \"코로나에 강한 혈액형 있다\"… O형, 위험 최저                    NaN   \n",
       "4              잡히지 않는 火魔<화마>… 문화재 등 대규모 피해      서울 면적 4분의 1 이상 불타   \n",
       "\n",
       "                                        news_article  \\\n",
       "0  전 세계가 우크라이나를 침공(侵攻)한 러시아에 각종 제재를 가하고 있다. 이에 러시...   \n",
       "1  우크라이나 소년이 홀로 국경(國境)을 넘은 뭉클한 연이 전해졌다. 영국 매체 가디언...   \n",
       "2  온라인 쇼핑몰에서 '무(無)알러지' '무니켈 도금' 등으로 홍보·판매되는 액세서리에...   \n",
       "3  혈액형이 O형(型)인 람이 코로나 바이러스 감염 시 망·위중증 위험이 다른 혈액형보...   \n",
       "4  최근 발생한 동해안 지역 대규모 산불로 인해 막대한 산림(山林) 피해가 우려되고 있...   \n",
       "\n",
       "                                            news_url  \n",
       "0  http://kid.chosun.com/site/data/html_dir/2022/...  \n",
       "1  http://kid.chosun.com/site/data/html_dir/2022/...  \n",
       "2  http://kid.chosun.com/site/data/html_dir/2022/...  \n",
       "3  http://kid.chosun.com/site/data/html_dir/2022/...  \n",
       "4  http://kid.chosun.com/site/data/html_dir/2022/...  "
      ]
     },
     "execution_count": 345,
     "metadata": {},
     "output_type": "execute_result"
    }
   ],
   "source": [
    "news_summary.head()"
   ]
  },
  {
   "cell_type": "code",
   "execution_count": 346,
   "id": "773848c8-1fa6-412e-9203-055786af783e",
   "metadata": {},
   "outputs": [
    {
     "data": {
      "text/html": [
       "<div>\n",
       "<style scoped>\n",
       "    .dataframe tbody tr th:only-of-type {\n",
       "        vertical-align: middle;\n",
       "    }\n",
       "\n",
       "    .dataframe tbody tr th {\n",
       "        vertical-align: top;\n",
       "    }\n",
       "\n",
       "    .dataframe thead th {\n",
       "        text-align: right;\n",
       "    }\n",
       "</style>\n",
       "<table border=\"1\" class=\"dataframe\">\n",
       "  <thead>\n",
       "    <tr style=\"text-align: right;\">\n",
       "      <th></th>\n",
       "      <th>news_title</th>\n",
       "      <th>news_subtitle</th>\n",
       "      <th>news_article</th>\n",
       "    </tr>\n",
       "  </thead>\n",
       "  <tbody>\n",
       "    <tr>\n",
       "      <th>0</th>\n",
       "      <td>[세상 속으로] \"러시아 고양이는 안 됩니다\"</td>\n",
       "      <td>국제고양이연맹, '월드 캣 쇼'서 퇴출</td>\n",
       "      <td>전 세계가 우크라이나를 침공(侵攻)한 러시아에 각종 제재를 가하고 있다. 이에 러시...</td>\n",
       "    </tr>\n",
       "    <tr>\n",
       "      <th>1</th>\n",
       "      <td>[뉴스탐험대] 홀로 1000㎞… 우크라 國境&lt;국경&gt; 탈출한 11세 소년</td>\n",
       "      <td>NaN</td>\n",
       "      <td>우크라이나 소년이 홀로 국경(國境)을 넘은 뭉클한 연이 전해졌다. 영국 매체 가디언...</td>\n",
       "    </tr>\n",
       "    <tr>\n",
       "      <th>2</th>\n",
       "      <td>[뉴스탐험대] 온라인 쇼핑몰 '니켈·납투성이 장신구' 주의</td>\n",
       "      <td>NaN</td>\n",
       "      <td>온라인 쇼핑몰에서 '무(無)알러지' '무니켈 도금' 등으로 홍보·판매되는 액세서리에...</td>\n",
       "    </tr>\n",
       "    <tr>\n",
       "      <th>3</th>\n",
       "      <td>[뉴스탐험대] \"코로나에 강한 혈액형 있다\"… O형, 위험 최저</td>\n",
       "      <td>NaN</td>\n",
       "      <td>혈액형이 O형(型)인 람이 코로나 바이러스 감염 시 망·위중증 위험이 다른 혈액형보...</td>\n",
       "    </tr>\n",
       "    <tr>\n",
       "      <th>4</th>\n",
       "      <td>잡히지 않는 火魔&lt;화마&gt;… 문화재 등 대규모 피해</td>\n",
       "      <td>서울 면적 4분의 1 이상 불타</td>\n",
       "      <td>최근 발생한 동해안 지역 대규모 산불로 인해 막대한 산림(山林) 피해가 우려되고 있...</td>\n",
       "    </tr>\n",
       "    <tr>\n",
       "      <th>...</th>\n",
       "      <td>...</td>\n",
       "      <td>...</td>\n",
       "      <td>...</td>\n",
       "    </tr>\n",
       "    <tr>\n",
       "      <th>1670</th>\n",
       "      <td>돼지 뇌에 컴퓨터 칩 연결… 생각만으로 기계 움직일 수 있을까?</td>\n",
       "      <td>NaN</td>\n",
       "      <td>머스크, 유튜브에 실험 돼지 '거트루드' 공개 \"뇌 질환 치료 도움… 올해 안에 람...</td>\n",
       "    </tr>\n",
       "    <tr>\n",
       "      <th>1671</th>\n",
       "      <td>탑승형 로봇 '프로스테시스' 조종사를 뽑습니다!</td>\n",
       "      <td>NaN</td>\n",
       "      <td>람의 팔다리에 연결해 조종 \"로봇 활용한 경주 스포츠 만들 것\" 람이 탑승한 로봇끼...</td>\n",
       "    </tr>\n",
       "    <tr>\n",
       "      <th>1672</th>\n",
       "      <td>모험 떠날 준비 됐니? 그럼, 책장을 펼쳐봐!</td>\n",
       "      <td>NaN</td>\n",
       "      <td>띵똥! 선물이 도착했습니다. 판타지 소설 '해리포터'의 작가 조앤 롤링(55·영국)...</td>\n",
       "    </tr>\n",
       "    <tr>\n",
       "      <th>1673</th>\n",
       "      <td>방탄소년단·블랙핑크, 세계 음원시장 '올킬'</td>\n",
       "      <td>NaN</td>\n",
       "      <td>아이돌 그룹 방탄소년단(BTS)과 블랙핑크가 세계 무대를 뒤흔들고 있다. 글로벌 시...</td>\n",
       "    </tr>\n",
       "    <tr>\n",
       "      <th>1674</th>\n",
       "      <td>알파고가 이세돌 9단을 이긴 건 '딥러닝' 덕분이지</td>\n",
       "      <td>NaN</td>\n",
       "      <td>'인공 지능 의'가 있는 병원을 상상한 적 있니? 놀랍게도 벌써 우리나라 한 병원에...</td>\n",
       "    </tr>\n",
       "  </tbody>\n",
       "</table>\n",
       "<p>1675 rows × 3 columns</p>\n",
       "</div>"
      ],
      "text/plain": [
       "                                   news_title          news_subtitle  \\\n",
       "0                   [세상 속으로] \"러시아 고양이는 안 됩니다\"  국제고양이연맹, '월드 캣 쇼'서 퇴출   \n",
       "1     [뉴스탐험대] 홀로 1000㎞… 우크라 國境<국경> 탈출한 11세 소년                    NaN   \n",
       "2            [뉴스탐험대] 온라인 쇼핑몰 '니켈·납투성이 장신구' 주의                    NaN   \n",
       "3         [뉴스탐험대] \"코로나에 강한 혈액형 있다\"… O형, 위험 최저                    NaN   \n",
       "4                 잡히지 않는 火魔<화마>… 문화재 등 대규모 피해      서울 면적 4분의 1 이상 불타   \n",
       "...                                       ...                    ...   \n",
       "1670      돼지 뇌에 컴퓨터 칩 연결… 생각만으로 기계 움직일 수 있을까?                    NaN   \n",
       "1671               탑승형 로봇 '프로스테시스' 조종사를 뽑습니다!                    NaN   \n",
       "1672                모험 떠날 준비 됐니? 그럼, 책장을 펼쳐봐!                    NaN   \n",
       "1673                 방탄소년단·블랙핑크, 세계 음원시장 '올킬'                    NaN   \n",
       "1674             알파고가 이세돌 9단을 이긴 건 '딥러닝' 덕분이지                    NaN   \n",
       "\n",
       "                                           news_article  \n",
       "0     전 세계가 우크라이나를 침공(侵攻)한 러시아에 각종 제재를 가하고 있다. 이에 러시...  \n",
       "1     우크라이나 소년이 홀로 국경(國境)을 넘은 뭉클한 연이 전해졌다. 영국 매체 가디언...  \n",
       "2     온라인 쇼핑몰에서 '무(無)알러지' '무니켈 도금' 등으로 홍보·판매되는 액세서리에...  \n",
       "3     혈액형이 O형(型)인 람이 코로나 바이러스 감염 시 망·위중증 위험이 다른 혈액형보...  \n",
       "4     최근 발생한 동해안 지역 대규모 산불로 인해 막대한 산림(山林) 피해가 우려되고 있...  \n",
       "...                                                 ...  \n",
       "1670  머스크, 유튜브에 실험 돼지 '거트루드' 공개 \"뇌 질환 치료 도움… 올해 안에 람...  \n",
       "1671  람의 팔다리에 연결해 조종 \"로봇 활용한 경주 스포츠 만들 것\" 람이 탑승한 로봇끼...  \n",
       "1672  띵똥! 선물이 도착했습니다. 판타지 소설 '해리포터'의 작가 조앤 롤링(55·영국)...  \n",
       "1673  아이돌 그룹 방탄소년단(BTS)과 블랙핑크가 세계 무대를 뒤흔들고 있다. 글로벌 시...  \n",
       "1674  '인공 지능 의'가 있는 병원을 상상한 적 있니? 놀랍게도 벌써 우리나라 한 병원에...  \n",
       "\n",
       "[1675 rows x 3 columns]"
      ]
     },
     "execution_count": 346,
     "metadata": {},
     "output_type": "execute_result"
    }
   ],
   "source": [
    "news_summary.iloc[:, :3]"
   ]
  },
  {
   "cell_type": "code",
   "execution_count": 347,
   "id": "499e5888-fef8-44f9-9848-a2e2822025dc",
   "metadata": {},
   "outputs": [],
   "source": [
    "pd.set_option('display.width', 10)"
   ]
  },
  {
   "cell_type": "code",
   "execution_count": 348,
   "id": "e3aa8c9b-ff88-444a-9d20-dc20e2223a16",
   "metadata": {},
   "outputs": [
    {
     "data": {
      "text/plain": [
       "Index(['news_title',\n",
       "       'news_subtitle',\n",
       "       'news_article',\n",
       "       'news_url'],\n",
       "      dtype='object')"
      ]
     },
     "execution_count": 348,
     "metadata": {},
     "output_type": "execute_result"
    }
   ],
   "source": [
    "news_summary.columns"
   ]
  },
  {
   "cell_type": "markdown",
   "id": "7f0ff861-f6fe-4d04-a631-c06390c52c89",
   "metadata": {},
   "source": [
    "---"
   ]
  },
  {
   "cell_type": "markdown",
   "id": "fed3f70a-24c3-4ccb-9ee4-967e4865befe",
   "metadata": {
    "tags": []
   },
   "source": [
    "## 2. 데이터 전처리(Data Preprocessing)"
   ]
  },
  {
   "cell_type": "markdown",
   "id": "903c43ed-771c-47d3-a168-43d8737785bd",
   "metadata": {},
   "source": [
    "### 결측치 확인"
   ]
  },
  {
   "cell_type": "code",
   "execution_count": 349,
   "id": "b0a48b19-4424-43ff-a5d0-e92cec5833e4",
   "metadata": {},
   "outputs": [
    {
     "data": {
      "text/plain": [
       "(1675, 4)"
      ]
     },
     "execution_count": 349,
     "metadata": {},
     "output_type": "execute_result"
    }
   ],
   "source": [
    "news_summary.shape"
   ]
  },
  {
   "cell_type": "code",
   "execution_count": 350,
   "id": "74c67791-be3e-4491-9741-016fa06aba8f",
   "metadata": {},
   "outputs": [
    {
     "name": "stdout",
     "output_type": "stream",
     "text": [
      "<class 'pandas.core.frame.DataFrame'>\n",
      "Int64Index: 1675 entries, 0 to 1674\n",
      "Data columns (total 4 columns):\n",
      " #   Column         Non-Null Count  Dtype \n",
      "---  ------         --------------  ----- \n",
      " 0   news_title     1675 non-null   object\n",
      " 1   news_subtitle  403 non-null    object\n",
      " 2   news_article   1636 non-null   object\n",
      " 3   news_url       1675 non-null   object\n",
      "dtypes: object(4)\n",
      "memory usage: 65.4+ KB\n"
     ]
    }
   ],
   "source": [
    "news_summary.info()"
   ]
  },
  {
   "cell_type": "code",
   "execution_count": 351,
   "id": "239bb927-4fe7-4828-92e4-c5ac7ad9eb5c",
   "metadata": {},
   "outputs": [
    {
     "data": {
      "text/html": [
       "<div>\n",
       "<style scoped>\n",
       "    .dataframe tbody tr th:only-of-type {\n",
       "        vertical-align: middle;\n",
       "    }\n",
       "\n",
       "    .dataframe tbody tr th {\n",
       "        vertical-align: top;\n",
       "    }\n",
       "\n",
       "    .dataframe thead th {\n",
       "        text-align: right;\n",
       "    }\n",
       "</style>\n",
       "<table border=\"1\" class=\"dataframe\">\n",
       "  <thead>\n",
       "    <tr style=\"text-align: right;\">\n",
       "      <th></th>\n",
       "      <th>news_title</th>\n",
       "      <th>news_subtitle</th>\n",
       "      <th>news_article</th>\n",
       "      <th>news_url</th>\n",
       "    </tr>\n",
       "  </thead>\n",
       "  <tbody>\n",
       "    <tr>\n",
       "      <th>0</th>\n",
       "      <td>False</td>\n",
       "      <td>False</td>\n",
       "      <td>False</td>\n",
       "      <td>False</td>\n",
       "    </tr>\n",
       "    <tr>\n",
       "      <th>1</th>\n",
       "      <td>False</td>\n",
       "      <td>True</td>\n",
       "      <td>False</td>\n",
       "      <td>False</td>\n",
       "    </tr>\n",
       "    <tr>\n",
       "      <th>2</th>\n",
       "      <td>False</td>\n",
       "      <td>True</td>\n",
       "      <td>False</td>\n",
       "      <td>False</td>\n",
       "    </tr>\n",
       "    <tr>\n",
       "      <th>3</th>\n",
       "      <td>False</td>\n",
       "      <td>True</td>\n",
       "      <td>False</td>\n",
       "      <td>False</td>\n",
       "    </tr>\n",
       "    <tr>\n",
       "      <th>4</th>\n",
       "      <td>False</td>\n",
       "      <td>False</td>\n",
       "      <td>False</td>\n",
       "      <td>False</td>\n",
       "    </tr>\n",
       "    <tr>\n",
       "      <th>...</th>\n",
       "      <td>...</td>\n",
       "      <td>...</td>\n",
       "      <td>...</td>\n",
       "      <td>...</td>\n",
       "    </tr>\n",
       "    <tr>\n",
       "      <th>1670</th>\n",
       "      <td>False</td>\n",
       "      <td>True</td>\n",
       "      <td>False</td>\n",
       "      <td>False</td>\n",
       "    </tr>\n",
       "    <tr>\n",
       "      <th>1671</th>\n",
       "      <td>False</td>\n",
       "      <td>True</td>\n",
       "      <td>False</td>\n",
       "      <td>False</td>\n",
       "    </tr>\n",
       "    <tr>\n",
       "      <th>1672</th>\n",
       "      <td>False</td>\n",
       "      <td>True</td>\n",
       "      <td>False</td>\n",
       "      <td>False</td>\n",
       "    </tr>\n",
       "    <tr>\n",
       "      <th>1673</th>\n",
       "      <td>False</td>\n",
       "      <td>True</td>\n",
       "      <td>False</td>\n",
       "      <td>False</td>\n",
       "    </tr>\n",
       "    <tr>\n",
       "      <th>1674</th>\n",
       "      <td>False</td>\n",
       "      <td>True</td>\n",
       "      <td>False</td>\n",
       "      <td>False</td>\n",
       "    </tr>\n",
       "  </tbody>\n",
       "</table>\n",
       "<p>1675 rows × 4 columns</p>\n",
       "</div>"
      ],
      "text/plain": [
       "      news_title  \\\n",
       "0          False   \n",
       "1          False   \n",
       "2          False   \n",
       "3          False   \n",
       "4          False   \n",
       "...          ...   \n",
       "1670       False   \n",
       "1671       False   \n",
       "1672       False   \n",
       "1673       False   \n",
       "1674       False   \n",
       "\n",
       "      news_subtitle  \\\n",
       "0             False   \n",
       "1              True   \n",
       "2              True   \n",
       "3              True   \n",
       "4             False   \n",
       "...             ...   \n",
       "1670           True   \n",
       "1671           True   \n",
       "1672           True   \n",
       "1673           True   \n",
       "1674           True   \n",
       "\n",
       "      news_article  \\\n",
       "0            False   \n",
       "1            False   \n",
       "2            False   \n",
       "3            False   \n",
       "4            False   \n",
       "...            ...   \n",
       "1670         False   \n",
       "1671         False   \n",
       "1672         False   \n",
       "1673         False   \n",
       "1674         False   \n",
       "\n",
       "      news_url  \n",
       "0        False  \n",
       "1        False  \n",
       "2        False  \n",
       "3        False  \n",
       "4        False  \n",
       "...        ...  \n",
       "1670     False  \n",
       "1671     False  \n",
       "1672     False  \n",
       "1673     False  \n",
       "1674     False  \n",
       "\n",
       "[1675 rows x 4 columns]"
      ]
     },
     "execution_count": 351,
     "metadata": {},
     "output_type": "execute_result"
    }
   ],
   "source": [
    "news_summary.isnull()"
   ]
  },
  {
   "cell_type": "code",
   "execution_count": 352,
   "id": "11152d74-5656-43a1-8e71-150721a40990",
   "metadata": {},
   "outputs": [
    {
     "data": {
      "text/plain": [
       "news_title          0\n",
       "news_subtitle    1272\n",
       "news_article       39\n",
       "news_url            0\n",
       "dtype: int64"
      ]
     },
     "execution_count": 352,
     "metadata": {},
     "output_type": "execute_result"
    }
   ],
   "source": [
    "news_summary.isnull().sum()"
   ]
  },
  {
   "cell_type": "code",
   "execution_count": 353,
   "id": "a21c8061-525c-47ac-8a0f-dbfe2945bc72",
   "metadata": {},
   "outputs": [],
   "source": [
    "# null/NaN to \"\"\n",
    "news_summary = news_summary.fillna(\"\")\n",
    "# dropna\n",
    "# news_summary = news_summary.dropna(subset=['news_article'])"
   ]
  },
  {
   "cell_type": "code",
   "execution_count": 354,
   "id": "4c76b365-892b-4721-8c15-a7d331a7265b",
   "metadata": {},
   "outputs": [
    {
     "data": {
      "text/plain": [
       "(1675, 4)"
      ]
     },
     "execution_count": 354,
     "metadata": {},
     "output_type": "execute_result"
    }
   ],
   "source": [
    "news_summary.shape"
   ]
  },
  {
   "cell_type": "code",
   "execution_count": 355,
   "id": "0e6376cd-8fb5-4843-bd03-dea8c0e3ebc7",
   "metadata": {},
   "outputs": [
    {
     "data": {
      "text/plain": [
       "news_title       0\n",
       "news_subtitle    0\n",
       "news_article     0\n",
       "news_url         0\n",
       "dtype: int64"
      ]
     },
     "execution_count": 355,
     "metadata": {},
     "output_type": "execute_result"
    }
   ],
   "source": [
    "# null\n",
    "news_summary.isnull().sum()"
   ]
  },
  {
   "cell_type": "code",
   "execution_count": 356,
   "id": "19574219-3f95-40d2-baba-9dc91a6ec7bc",
   "metadata": {},
   "outputs": [
    {
     "data": {
      "text/plain": [
       "news_title       0\n",
       "news_subtitle    0\n",
       "news_article     0\n",
       "news_url         0\n",
       "dtype: int64"
      ]
     },
     "execution_count": 356,
     "metadata": {},
     "output_type": "execute_result"
    }
   ],
   "source": [
    "# NaN\n",
    "news_summary.isna().sum()"
   ]
  },
  {
   "cell_type": "markdown",
   "id": "535c7135-dbb7-452f-90d6-7fe9bd5698cc",
   "metadata": {},
   "source": [
    "---"
   ]
  },
  {
   "cell_type": "markdown",
   "id": "4ebc37be-4ec6-44ab-90f2-7a29ddd2d8fc",
   "metadata": {},
   "source": [
    "### 문자열 길이 확인 및 추가"
   ]
  },
  {
   "cell_type": "code",
   "execution_count": 357,
   "id": "28fdd53d-78c3-4573-9ce1-bc80926de63e",
   "metadata": {},
   "outputs": [
    {
     "data": {
      "text/plain": [
       "news_title       object\n",
       "news_subtitle    object\n",
       "news_article     object\n",
       "news_url         object\n",
       "dtype: object"
      ]
     },
     "execution_count": 357,
     "metadata": {},
     "output_type": "execute_result"
    }
   ],
   "source": [
    "news_summary.dtypes"
   ]
  },
  {
   "cell_type": "code",
   "execution_count": 358,
   "id": "d6b5e8ab-d676-47a6-a4cd-07ad4eb331e9",
   "metadata": {},
   "outputs": [
    {
     "data": {
      "text/plain": [
       "0        469\n",
       "1        380\n",
       "2        446\n",
       "3        451\n",
       "4        620\n",
       "        ... \n",
       "1670    1124\n",
       "1671     721\n",
       "1672    1668\n",
       "1673     756\n",
       "1674    1717\n",
       "Name: news_article, Length: 1675, dtype: int64"
      ]
     },
     "execution_count": 358,
     "metadata": {},
     "output_type": "execute_result"
    }
   ],
   "source": [
    "# 문자열 길이\n",
    "news_summary.news_article.str.len()"
   ]
  },
  {
   "cell_type": "code",
   "execution_count": 359,
   "id": "d862fa90-d72c-4b3d-9bf9-c89e42e25ca1",
   "metadata": {},
   "outputs": [],
   "source": [
    "news_summary[\"news_len\"] = news_summary.news_article.str.len()"
   ]
  },
  {
   "cell_type": "code",
   "execution_count": 360,
   "id": "6ca098ca-7289-48ec-a962-51de9241aafd",
   "metadata": {},
   "outputs": [
    {
     "data": {
      "text/html": [
       "<div>\n",
       "<style scoped>\n",
       "    .dataframe tbody tr th:only-of-type {\n",
       "        vertical-align: middle;\n",
       "    }\n",
       "\n",
       "    .dataframe tbody tr th {\n",
       "        vertical-align: top;\n",
       "    }\n",
       "\n",
       "    .dataframe thead th {\n",
       "        text-align: right;\n",
       "    }\n",
       "</style>\n",
       "<table border=\"1\" class=\"dataframe\">\n",
       "  <thead>\n",
       "    <tr style=\"text-align: right;\">\n",
       "      <th></th>\n",
       "      <th>news_title</th>\n",
       "      <th>news_subtitle</th>\n",
       "      <th>news_article</th>\n",
       "      <th>news_url</th>\n",
       "      <th>news_len</th>\n",
       "    </tr>\n",
       "  </thead>\n",
       "  <tbody>\n",
       "  </tbody>\n",
       "</table>\n",
       "</div>"
      ],
      "text/plain": [
       "Empty DataFrame\n",
       "Columns: [news_title, news_subtitle, news_article, news_url, news_len]\n",
       "Index: []"
      ]
     },
     "execution_count": 360,
     "metadata": {},
     "output_type": "execute_result"
    }
   ],
   "source": [
    "news_summary[news_summary.news_len.isnull()][:2]"
   ]
  },
  {
   "cell_type": "code",
   "execution_count": 361,
   "id": "1324c073-8b97-44a0-abd4-c7705f19dded",
   "metadata": {},
   "outputs": [
    {
     "data": {
      "text/plain": [
       "news_title       0\n",
       "news_subtitle    0\n",
       "news_article     0\n",
       "news_url         0\n",
       "news_len         0\n",
       "dtype: int64"
      ]
     },
     "execution_count": 361,
     "metadata": {},
     "output_type": "execute_result"
    }
   ],
   "source": [
    "# NaN\n",
    "news_summary.isna().sum()"
   ]
  },
  {
   "cell_type": "code",
   "execution_count": 362,
   "id": "4028a470-a1eb-49fc-bf45-7a3ee3ba5b68",
   "metadata": {},
   "outputs": [],
   "source": [
    "# null/NaN to 0\n",
    "news_summary = news_summary.fillna(0)"
   ]
  },
  {
   "cell_type": "code",
   "execution_count": 363,
   "id": "c330f99f-be5b-40a9-9658-e8e18f41f05d",
   "metadata": {},
   "outputs": [],
   "source": [
    "# IntCastingNaNError: Cannot convert non-finite values (NA or inf) to integer \n",
    "news_summary['news_len'] = news_summary['news_len'].astype(int)"
   ]
  },
  {
   "cell_type": "code",
   "execution_count": 364,
   "id": "b172a22c-12d4-4390-b887-a31ea568123f",
   "metadata": {},
   "outputs": [
    {
     "data": {
      "text/html": [
       "<div>\n",
       "<style scoped>\n",
       "    .dataframe tbody tr th:only-of-type {\n",
       "        vertical-align: middle;\n",
       "    }\n",
       "\n",
       "    .dataframe tbody tr th {\n",
       "        vertical-align: top;\n",
       "    }\n",
       "\n",
       "    .dataframe thead th {\n",
       "        text-align: right;\n",
       "    }\n",
       "</style>\n",
       "<table border=\"1\" class=\"dataframe\">\n",
       "  <thead>\n",
       "    <tr style=\"text-align: right;\">\n",
       "      <th></th>\n",
       "      <th>news_title</th>\n",
       "      <th>news_subtitle</th>\n",
       "      <th>news_article</th>\n",
       "      <th>news_url</th>\n",
       "      <th>news_len</th>\n",
       "    </tr>\n",
       "  </thead>\n",
       "  <tbody>\n",
       "    <tr>\n",
       "      <th>0</th>\n",
       "      <td>[세상 속으로] \"러시아 고양이는 안 됩니다\"</td>\n",
       "      <td>국제고양이연맹, '월드 캣 쇼'서 퇴출</td>\n",
       "      <td>전 세계가 우크라이나를 침공(侵攻)한 러시아에 각종 제재를 가하고 있다. 이에 러시...</td>\n",
       "      <td>http://kid.chosun.com/site/data/html_dir/2022/...</td>\n",
       "      <td>469</td>\n",
       "    </tr>\n",
       "    <tr>\n",
       "      <th>1</th>\n",
       "      <td>[뉴스탐험대] 홀로 1000㎞… 우크라 國境&lt;국경&gt; 탈출한 11세 소년</td>\n",
       "      <td></td>\n",
       "      <td>우크라이나 소년이 홀로 국경(國境)을 넘은 뭉클한 연이 전해졌다. 영국 매체 가디언...</td>\n",
       "      <td>http://kid.chosun.com/site/data/html_dir/2022/...</td>\n",
       "      <td>380</td>\n",
       "    </tr>\n",
       "    <tr>\n",
       "      <th>2</th>\n",
       "      <td>[뉴스탐험대] 온라인 쇼핑몰 '니켈·납투성이 장신구' 주의</td>\n",
       "      <td></td>\n",
       "      <td>온라인 쇼핑몰에서 '무(無)알러지' '무니켈 도금' 등으로 홍보·판매되는 액세서리에...</td>\n",
       "      <td>http://kid.chosun.com/site/data/html_dir/2022/...</td>\n",
       "      <td>446</td>\n",
       "    </tr>\n",
       "    <tr>\n",
       "      <th>3</th>\n",
       "      <td>[뉴스탐험대] \"코로나에 강한 혈액형 있다\"… O형, 위험 최저</td>\n",
       "      <td></td>\n",
       "      <td>혈액형이 O형(型)인 람이 코로나 바이러스 감염 시 망·위중증 위험이 다른 혈액형보...</td>\n",
       "      <td>http://kid.chosun.com/site/data/html_dir/2022/...</td>\n",
       "      <td>451</td>\n",
       "    </tr>\n",
       "    <tr>\n",
       "      <th>4</th>\n",
       "      <td>잡히지 않는 火魔&lt;화마&gt;… 문화재 등 대규모 피해</td>\n",
       "      <td>서울 면적 4분의 1 이상 불타</td>\n",
       "      <td>최근 발생한 동해안 지역 대규모 산불로 인해 막대한 산림(山林) 피해가 우려되고 있...</td>\n",
       "      <td>http://kid.chosun.com/site/data/html_dir/2022/...</td>\n",
       "      <td>620</td>\n",
       "    </tr>\n",
       "  </tbody>\n",
       "</table>\n",
       "</div>"
      ],
      "text/plain": [
       "                                news_title  \\\n",
       "0                [세상 속으로] \"러시아 고양이는 안 됩니다\"   \n",
       "1  [뉴스탐험대] 홀로 1000㎞… 우크라 國境<국경> 탈출한 11세 소년   \n",
       "2         [뉴스탐험대] 온라인 쇼핑몰 '니켈·납투성이 장신구' 주의   \n",
       "3      [뉴스탐험대] \"코로나에 강한 혈액형 있다\"… O형, 위험 최저   \n",
       "4              잡히지 않는 火魔<화마>… 문화재 등 대규모 피해   \n",
       "\n",
       "           news_subtitle  \\\n",
       "0  국제고양이연맹, '월드 캣 쇼'서 퇴출   \n",
       "1                          \n",
       "2                          \n",
       "3                          \n",
       "4      서울 면적 4분의 1 이상 불타   \n",
       "\n",
       "                                        news_article  \\\n",
       "0  전 세계가 우크라이나를 침공(侵攻)한 러시아에 각종 제재를 가하고 있다. 이에 러시...   \n",
       "1  우크라이나 소년이 홀로 국경(國境)을 넘은 뭉클한 연이 전해졌다. 영국 매체 가디언...   \n",
       "2  온라인 쇼핑몰에서 '무(無)알러지' '무니켈 도금' 등으로 홍보·판매되는 액세서리에...   \n",
       "3  혈액형이 O형(型)인 람이 코로나 바이러스 감염 시 망·위중증 위험이 다른 혈액형보...   \n",
       "4  최근 발생한 동해안 지역 대규모 산불로 인해 막대한 산림(山林) 피해가 우려되고 있...   \n",
       "\n",
       "                                            news_url  \\\n",
       "0  http://kid.chosun.com/site/data/html_dir/2022/...   \n",
       "1  http://kid.chosun.com/site/data/html_dir/2022/...   \n",
       "2  http://kid.chosun.com/site/data/html_dir/2022/...   \n",
       "3  http://kid.chosun.com/site/data/html_dir/2022/...   \n",
       "4  http://kid.chosun.com/site/data/html_dir/2022/...   \n",
       "\n",
       "   news_len  \n",
       "0       469  \n",
       "1       380  \n",
       "2       446  \n",
       "3       451  \n",
       "4       620  "
      ]
     },
     "execution_count": 364,
     "metadata": {},
     "output_type": "execute_result"
    }
   ],
   "source": [
    "news_summary.head()"
   ]
  },
  {
   "cell_type": "markdown",
   "id": "e5b9d161-9129-49c5-b804-6f0ae1bf7e38",
   "metadata": {},
   "source": [
    "---"
   ]
  },
  {
   "cell_type": "markdown",
   "id": "5040fdb9-f47b-48e5-b146-b0495d8f7015",
   "metadata": {},
   "source": [
    "### 이상치 확인\n",
    "- 이상한 뉴스 데이터 확인"
   ]
  },
  {
   "cell_type": "code",
   "execution_count": 365,
   "id": "da9df40a-ae86-4928-8cbe-d98ba0658ae2",
   "metadata": {},
   "outputs": [],
   "source": [
    "pd.set_option('display.max_rows', None)"
   ]
  },
  {
   "cell_type": "code",
   "execution_count": 366,
   "id": "76fc2f6f-0016-4299-b17d-5917c096afca",
   "metadata": {
    "tags": []
   },
   "outputs": [
    {
     "data": {
      "text/html": [
       "<div>\n",
       "<style scoped>\n",
       "    .dataframe tbody tr th:only-of-type {\n",
       "        vertical-align: middle;\n",
       "    }\n",
       "\n",
       "    .dataframe tbody tr th {\n",
       "        vertical-align: top;\n",
       "    }\n",
       "\n",
       "    .dataframe thead th {\n",
       "        text-align: right;\n",
       "    }\n",
       "</style>\n",
       "<table border=\"1\" class=\"dataframe\">\n",
       "  <thead>\n",
       "    <tr style=\"text-align: right;\">\n",
       "      <th></th>\n",
       "      <th>news_title</th>\n",
       "      <th>news_url</th>\n",
       "      <th>news_len</th>\n",
       "    </tr>\n",
       "  </thead>\n",
       "  <tbody>\n",
       "    <tr>\n",
       "      <th>8</th>\n",
       "      <td>[메시지 뉴스] 명태·대게와 러시아</td>\n",
       "      <td>http://kid.chosun.com/site/data/html_dir/2022/...</td>\n",
       "      <td>0</td>\n",
       "    </tr>\n",
       "    <tr>\n",
       "      <th>303</th>\n",
       "      <td>[메시지 뉴스] 동지(冬至)</td>\n",
       "      <td>http://kid.chosun.com/site/data/html_dir/2021/...</td>\n",
       "      <td>0</td>\n",
       "    </tr>\n",
       "    <tr>\n",
       "      <th>325</th>\n",
       "      <td>[메시지 뉴스] 성탄 트리의 기원</td>\n",
       "      <td>http://kid.chosun.com/site/data/html_dir/2021/...</td>\n",
       "      <td>0</td>\n",
       "    </tr>\n",
       "    <tr>\n",
       "      <th>389</th>\n",
       "      <td>[메시지 뉴스] 일본 한류 열풍</td>\n",
       "      <td>http://kid.chosun.com/site/data/html_dir/2021/...</td>\n",
       "      <td>0</td>\n",
       "    </tr>\n",
       "    <tr>\n",
       "      <th>400</th>\n",
       "      <td>[메시지 뉴스] 우주탐사 인형</td>\n",
       "      <td>http://kid.chosun.com/site/data/html_dir/2021/...</td>\n",
       "      <td>0</td>\n",
       "    </tr>\n",
       "    <tr>\n",
       "      <th>423</th>\n",
       "      <td>[메시지 뉴스] 대학수학 능력시험</td>\n",
       "      <td>http://kid.chosun.com/site/data/html_dir/2021/...</td>\n",
       "      <td>0</td>\n",
       "    </tr>\n",
       "    <tr>\n",
       "      <th>451</th>\n",
       "      <td>[메시지 뉴스] COP26</td>\n",
       "      <td>http://kid.chosun.com/site/data/html_dir/2021/...</td>\n",
       "      <td>0</td>\n",
       "    </tr>\n",
       "    <tr>\n",
       "      <th>485</th>\n",
       "      <td>[메시지 뉴스] 기초 학력과 학교생활</td>\n",
       "      <td>http://kid.chosun.com/site/data/html_dir/2021/...</td>\n",
       "      <td>0</td>\n",
       "    </tr>\n",
       "    <tr>\n",
       "      <th>504</th>\n",
       "      <td>[메시지 뉴스] 대통령 선거</td>\n",
       "      <td>http://kid.chosun.com/site/data/html_dir/2021/...</td>\n",
       "      <td>0</td>\n",
       "    </tr>\n",
       "    <tr>\n",
       "      <th>536</th>\n",
       "      <td>[메시지 뉴스] 탄소중립</td>\n",
       "      <td>http://kid.chosun.com/site/data/html_dir/2021/...</td>\n",
       "      <td>0</td>\n",
       "    </tr>\n",
       "    <tr>\n",
       "      <th>568</th>\n",
       "      <td>[메시지 뉴스] 골프</td>\n",
       "      <td>http://kid.chosun.com/site/data/html_dir/2021/...</td>\n",
       "      <td>0</td>\n",
       "    </tr>\n",
       "    <tr>\n",
       "      <th>586</th>\n",
       "      <td>[메시지 뉴스] 국정감사</td>\n",
       "      <td>http://kid.chosun.com/site/data/html_dir/2021/...</td>\n",
       "      <td>0</td>\n",
       "    </tr>\n",
       "    <tr>\n",
       "      <th>612</th>\n",
       "      <td>[메시지 뉴스] 기네스북</td>\n",
       "      <td>http://kid.chosun.com/site/data/html_dir/2021/...</td>\n",
       "      <td>0</td>\n",
       "    </tr>\n",
       "    <tr>\n",
       "      <th>644</th>\n",
       "      <td>[메시지 뉴스] 추석</td>\n",
       "      <td>http://kid.chosun.com/site/data/html_dir/2021/...</td>\n",
       "      <td>0</td>\n",
       "    </tr>\n",
       "    <tr>\n",
       "      <th>671</th>\n",
       "      <td>[메시지 뉴스] 아프간 전쟁</td>\n",
       "      <td>http://kid.chosun.com/site/data/html_dir/2021/...</td>\n",
       "      <td>0</td>\n",
       "    </tr>\n",
       "    <tr>\n",
       "      <th>697</th>\n",
       "      <td>[메시지 뉴스] 코로나 백신</td>\n",
       "      <td>http://kid.chosun.com/site/data/html_dir/2021/...</td>\n",
       "      <td>0</td>\n",
       "    </tr>\n",
       "    <tr>\n",
       "      <th>1383</th>\n",
       "      <td>[요리 쿡! 조리 쿡!] 시원하고 달콤하고 코코아 아이스바</td>\n",
       "      <td>http://kid.chosun.com/site/data/html_dir/2020/...</td>\n",
       "      <td>0</td>\n",
       "    </tr>\n",
       "    <tr>\n",
       "      <th>1409</th>\n",
       "      <td>[요리 쿡! 조리 쿡!] 호호 불어 드세요 돌돌 말린 채소 춘권</td>\n",
       "      <td>http://kid.chosun.com/site/data/html_dir/2020/...</td>\n",
       "      <td>0</td>\n",
       "    </tr>\n",
       "    <tr>\n",
       "      <th>1413</th>\n",
       "      <td>[요리 쿡! 조리 쿡!] 콕콕 찍어 입으로 쏙쏙 톡톡 튀는 팝콘 치킨</td>\n",
       "      <td>http://kid.chosun.com/site/data/html_dir/2020/...</td>\n",
       "      <td>0</td>\n",
       "    </tr>\n",
       "    <tr>\n",
       "      <th>1438</th>\n",
       "      <td>[요리 쿡! 조리 쿡!] 파티 음식으로도 'OK' 토마토 브루스케타</td>\n",
       "      <td>http://kid.chosun.com/site/data/html_dir/2020/...</td>\n",
       "      <td>0</td>\n",
       "    </tr>\n",
       "    <tr>\n",
       "      <th>275</th>\n",
       "      <td>[메시지 뉴스] 세계의 새해 풍습</td>\n",
       "      <td>http://kid.chosun.com/site/data/html_dir/2021/...</td>\n",
       "      <td>0</td>\n",
       "    </tr>\n",
       "    <tr>\n",
       "      <th>244</th>\n",
       "      <td>[메시지 뉴스] 성년(成年) 기준</td>\n",
       "      <td>http://kid.chosun.com/site/data/html_dir/2022/...</td>\n",
       "      <td>0</td>\n",
       "    </tr>\n",
       "    <tr>\n",
       "      <th>1654</th>\n",
       "      <td>기자들의 수다</td>\n",
       "      <td>http://kid.chosun.com/site/data/html_dir/2020/...</td>\n",
       "      <td>0</td>\n",
       "    </tr>\n",
       "    <tr>\n",
       "      <th>205</th>\n",
       "      <td>[영상-맛있는 실험실] 감자채 피자를 만들어 봤어요‼</td>\n",
       "      <td>http://kid.chosun.com/site/data/html_dir/2022/...</td>\n",
       "      <td>0</td>\n",
       "    </tr>\n",
       "    <tr>\n",
       "      <th>37</th>\n",
       "      <td>[메시지 뉴스] 체스</td>\n",
       "      <td>http://kid.chosun.com/site/data/html_dir/2022/...</td>\n",
       "      <td>0</td>\n",
       "    </tr>\n",
       "    <tr>\n",
       "      <th>69</th>\n",
       "      <td>[메시지 뉴스] 용감하게 질문하기!</td>\n",
       "      <td>http://kid.chosun.com/site/data/html_dir/2022/...</td>\n",
       "      <td>0</td>\n",
       "    </tr>\n",
       "    <tr>\n",
       "      <th>214</th>\n",
       "      <td>[메시지 뉴스] 어린이 교통안전</td>\n",
       "      <td>http://kid.chosun.com/site/data/html_dir/2022/...</td>\n",
       "      <td>0</td>\n",
       "    </tr>\n",
       "    <tr>\n",
       "      <th>108</th>\n",
       "      <td>[꿀beetv] 안철수 후보의 '어린이를 위한 대선공약'은?</td>\n",
       "      <td>http://kid.chosun.com/site/data/html_dir/2022/...</td>\n",
       "      <td>0</td>\n",
       "    </tr>\n",
       "    <tr>\n",
       "      <th>109</th>\n",
       "      <td>[꿀beetv] 어린이조선일보 기자들의 해보GO! \"별걸 다 꾸며요\"</td>\n",
       "      <td>http://kid.chosun.com/site/data/html_dir/2022/...</td>\n",
       "      <td>0</td>\n",
       "    </tr>\n",
       "    <tr>\n",
       "      <th>111</th>\n",
       "      <td>[메시지 뉴스] 한국판 미네르바 大學</td>\n",
       "      <td>http://kid.chosun.com/site/data/html_dir/2022/...</td>\n",
       "      <td>0</td>\n",
       "    </tr>\n",
       "    <tr>\n",
       "      <th>120</th>\n",
       "      <td>[꿀BEE] 강아지 건강에 최고인 수제 간식 만들기</td>\n",
       "      <td>http://kid.chosun.com/site/data/html_dir/2022/...</td>\n",
       "      <td>0</td>\n",
       "    </tr>\n",
       "    <tr>\n",
       "      <th>125</th>\n",
       "      <td>[신자영의 5분 영어] 모니 모니 석가모니 일화 속 영어 표현 배우기!</td>\n",
       "      <td>http://kid.chosun.com/site/data/html_dir/2022/...</td>\n",
       "      <td>0</td>\n",
       "    </tr>\n",
       "    <tr>\n",
       "      <th>126</th>\n",
       "      <td>[일상 속 간단한 운동] 본지 기자들, 스트레칭에 도전하다</td>\n",
       "      <td>http://kid.chosun.com/site/data/html_dir/2022/...</td>\n",
       "      <td>0</td>\n",
       "    </tr>\n",
       "    <tr>\n",
       "      <th>92</th>\n",
       "      <td>[메시지 뉴스] 올바른 양치법</td>\n",
       "      <td>http://kid.chosun.com/site/data/html_dir/2022/...</td>\n",
       "      <td>0</td>\n",
       "    </tr>\n",
       "    <tr>\n",
       "      <th>164</th>\n",
       "      <td>[메시지 뉴스] 어린이 안전 관리 강화</td>\n",
       "      <td>http://kid.chosun.com/site/data/html_dir/2022/...</td>\n",
       "      <td>0</td>\n",
       "    </tr>\n",
       "    <tr>\n",
       "      <th>203</th>\n",
       "      <td>[영상-출동! 명예기자] 국립과학수사연구원을 체험하다!</td>\n",
       "      <td>http://kid.chosun.com/site/data/html_dir/2022/...</td>\n",
       "      <td>0</td>\n",
       "    </tr>\n",
       "    <tr>\n",
       "      <th>144</th>\n",
       "      <td>[영상-출동! 명예기자] 화제의 인물 글 쓰는 의사 '남궁인'을 만나다!</td>\n",
       "      <td>http://kid.chosun.com/site/data/html_dir/2022/...</td>\n",
       "      <td>0</td>\n",
       "    </tr>\n",
       "    <tr>\n",
       "      <th>187</th>\n",
       "      <td>[메시지 뉴스] 재밌는 지하철역명 이야기</td>\n",
       "      <td>http://kid.chosun.com/site/data/html_dir/2022/...</td>\n",
       "      <td>0</td>\n",
       "    </tr>\n",
       "    <tr>\n",
       "      <th>202</th>\n",
       "      <td>[영상-출동! 명예기자] 새벽배송 쇼핑몰 '마켓컬리' 김슬아 대표 인터뷰</td>\n",
       "      <td>http://kid.chosun.com/site/data/html_dir/2022/...</td>\n",
       "      <td>0</td>\n",
       "    </tr>\n",
       "    <tr>\n",
       "      <th>706</th>\n",
       "      <td>[생생~~영상뉴스] 머리에 밥솥 달린 로봇 이야기</td>\n",
       "      <td>http://kid.chosun.com/site/data/html_dir/2021/...</td>\n",
       "      <td>16</td>\n",
       "    </tr>\n",
       "    <tr>\n",
       "      <th>368</th>\n",
       "      <td>[생생 인터뷰 현장!] 주한 프랑스 대사 '필립 르포르'를 만나다!</td>\n",
       "      <td>http://kid.chosun.com/site/data/html_dir/2021/...</td>\n",
       "      <td>22</td>\n",
       "    </tr>\n",
       "    <tr>\n",
       "      <th>691</th>\n",
       "      <td>[생생~~영상뉴스] 환경파괴의 주범 누텔라?</td>\n",
       "      <td>http://kid.chosun.com/site/data/html_dir/2021/...</td>\n",
       "      <td>26</td>\n",
       "    </tr>\n",
       "    <tr>\n",
       "      <th>717</th>\n",
       "      <td>잠자리 드론과 풍선 망원경? 과감한 박새의 사연은?</td>\n",
       "      <td>http://kid.chosun.com/site/data/html_dir/2021/...</td>\n",
       "      <td>27</td>\n",
       "    </tr>\n",
       "    <tr>\n",
       "      <th>825</th>\n",
       "      <td>[동영상]\"니네 집에 요리로봇 있어? 비서로봇은?\"...\"로봇 몇 대 있니?\" 묻는...</td>\n",
       "      <td>http://kid.chosun.com/site/data/html_dir/2021/...</td>\n",
       "      <td>49</td>\n",
       "    </tr>\n",
       "    <tr>\n",
       "      <th>289</th>\n",
       "      <td>[정답 공개] 크리스마스 퍼즐, 숨은그림찾기</td>\n",
       "      <td>http://kid.chosun.com/site/data/html_dir/2021/...</td>\n",
       "      <td>49</td>\n",
       "    </tr>\n",
       "    <tr>\n",
       "      <th>76</th>\n",
       "      <td>[꿀BeeTV] 출동! 명예기자 충주 기상과학관에 가다!</td>\n",
       "      <td>http://kid.chosun.com/site/data/html_dir/2022/...</td>\n",
       "      <td>55</td>\n",
       "    </tr>\n",
       "    <tr>\n",
       "      <th>147</th>\n",
       "      <td>신자영의 5분 영어!</td>\n",
       "      <td>http://kid.chosun.com/site/data/html_dir/2022/...</td>\n",
       "      <td>59</td>\n",
       "    </tr>\n",
       "    <tr>\n",
       "      <th>590</th>\n",
       "      <td>[POPCORN NEWS] 국군의 날 특집! 영상뉴스</td>\n",
       "      <td>http://kid.chosun.com/site/data/html_dir/2021/...</td>\n",
       "      <td>63</td>\n",
       "    </tr>\n",
       "    <tr>\n",
       "      <th>1501</th>\n",
       "      <td>간편하게 한 끼 챙길 땐 쫀득쫀득 그래놀라 바</td>\n",
       "      <td>http://kid.chosun.com/site/data/html_dir/2020/...</td>\n",
       "      <td>71</td>\n",
       "    </tr>\n",
       "    <tr>\n",
       "      <th>1498</th>\n",
       "      <td>편하게 들고 '쏙쏙' 한입 토스트 꼬치</td>\n",
       "      <td>http://kid.chosun.com/site/data/html_dir/2020/...</td>\n",
       "      <td>71</td>\n",
       "    </tr>\n",
       "    <tr>\n",
       "      <th>1525</th>\n",
       "      <td>노릇하게 구워볼까? 폭신폭신 팬케이크</td>\n",
       "      <td>http://kid.chosun.com/site/data/html_dir/2020/...</td>\n",
       "      <td>74</td>\n",
       "    </tr>\n",
       "    <tr>\n",
       "      <th>352</th>\n",
       "      <td>[메시지 뉴스] 세상 가장 작은 나라들</td>\n",
       "      <td>http://kid.chosun.com/site/data/html_dir/2021/...</td>\n",
       "      <td>91</td>\n",
       "    </tr>\n",
       "    <tr>\n",
       "      <th>1569</th>\n",
       "      <td>[카드뉴스] \"취미활동 늘었지만, 친구 못만나 속상해요\"</td>\n",
       "      <td>http://kid.chosun.com/site/data/html_dir/2020/...</td>\n",
       "      <td>93</td>\n",
       "    </tr>\n",
       "    <tr>\n",
       "      <th>1444</th>\n",
       "      <td>돌돌 말렸네! 맛있는 시금치 롤</td>\n",
       "      <td>http://kid.chosun.com/site/data/html_dir/2020/...</td>\n",
       "      <td>103</td>\n",
       "    </tr>\n",
       "    <tr>\n",
       "      <th>70</th>\n",
       "      <td>[꿀BeeTV] '알리와 아브라함' 형제 이야기</td>\n",
       "      <td>http://kid.chosun.com/site/data/html_dir/2022/...</td>\n",
       "      <td>110</td>\n",
       "    </tr>\n",
       "    <tr>\n",
       "      <th>15</th>\n",
       "      <td>[꿀BeeTV] 무인도에서 극적으로 탈출한 생존자 이야기</td>\n",
       "      <td>http://kid.chosun.com/site/data/html_dir/2022/...</td>\n",
       "      <td>115</td>\n",
       "    </tr>\n",
       "    <tr>\n",
       "      <th>93</th>\n",
       "      <td>[꿀beetv] 대나무와 고사리 그리고 한 남자의 이야기</td>\n",
       "      <td>http://kid.chosun.com/site/data/html_dir/2022/...</td>\n",
       "      <td>130</td>\n",
       "    </tr>\n",
       "    <tr>\n",
       "      <th>1464</th>\n",
       "      <td>초콜릿 잼 품은 바나나 크레이프</td>\n",
       "      <td>http://kid.chosun.com/site/data/html_dir/2020/...</td>\n",
       "      <td>151</td>\n",
       "    </tr>\n",
       "    <tr>\n",
       "      <th>47</th>\n",
       "      <td>[꿀BeeTV] 아무리 돈이 많아도 살 수 없는 것은?</td>\n",
       "      <td>http://kid.chosun.com/site/data/html_dir/2022/...</td>\n",
       "      <td>158</td>\n",
       "    </tr>\n",
       "    <tr>\n",
       "      <th>1575</th>\n",
       "      <td>기록, 또 기록… 케이팝에 한계란 없다</td>\n",
       "      <td>http://kid.chosun.com/site/data/html_dir/2020/...</td>\n",
       "      <td>183</td>\n",
       "    </tr>\n",
       "  </tbody>\n",
       "</table>\n",
       "</div>"
      ],
      "text/plain": [
       "                                             news_title  \\\n",
       "8                                   [메시지 뉴스] 명태·대게와 러시아   \n",
       "303                                     [메시지 뉴스] 동지(冬至)   \n",
       "325                                  [메시지 뉴스] 성탄 트리의 기원   \n",
       "389                                   [메시지 뉴스] 일본 한류 열풍   \n",
       "400                                    [메시지 뉴스] 우주탐사 인형   \n",
       "423                                  [메시지 뉴스] 대학수학 능력시험   \n",
       "451                                      [메시지 뉴스] COP26   \n",
       "485                                [메시지 뉴스] 기초 학력과 학교생활   \n",
       "504                                     [메시지 뉴스] 대통령 선거   \n",
       "536                                       [메시지 뉴스] 탄소중립   \n",
       "568                                         [메시지 뉴스] 골프   \n",
       "586                                       [메시지 뉴스] 국정감사   \n",
       "612                                       [메시지 뉴스] 기네스북   \n",
       "644                                         [메시지 뉴스] 추석   \n",
       "671                                     [메시지 뉴스] 아프간 전쟁   \n",
       "697                                     [메시지 뉴스] 코로나 백신   \n",
       "1383                   [요리 쿡! 조리 쿡!] 시원하고 달콤하고 코코아 아이스바   \n",
       "1409                [요리 쿡! 조리 쿡!] 호호 불어 드세요 돌돌 말린 채소 춘권   \n",
       "1413             [요리 쿡! 조리 쿡!] 콕콕 찍어 입으로 쏙쏙 톡톡 튀는 팝콘 치킨   \n",
       "1438              [요리 쿡! 조리 쿡!] 파티 음식으로도 'OK' 토마토 브루스케타   \n",
       "275                                  [메시지 뉴스] 세계의 새해 풍습   \n",
       "244                                  [메시지 뉴스] 성년(成年) 기준   \n",
       "1654                                            기자들의 수다   \n",
       "205                       [영상-맛있는 실험실] 감자채 피자를 만들어 봤어요‼   \n",
       "37                                          [메시지 뉴스] 체스   \n",
       "69                                  [메시지 뉴스] 용감하게 질문하기!   \n",
       "214                                   [메시지 뉴스] 어린이 교통안전   \n",
       "108                   [꿀beetv] 안철수 후보의 '어린이를 위한 대선공약'은?   \n",
       "109              [꿀beetv] 어린이조선일보 기자들의 해보GO! \"별걸 다 꾸며요\"   \n",
       "111                                [메시지 뉴스] 한국판 미네르바 大學   \n",
       "120                        [꿀BEE] 강아지 건강에 최고인 수제 간식 만들기   \n",
       "125             [신자영의 5분 영어] 모니 모니 석가모니 일화 속 영어 표현 배우기!   \n",
       "126                    [일상 속 간단한 운동] 본지 기자들, 스트레칭에 도전하다   \n",
       "92                                     [메시지 뉴스] 올바른 양치법   \n",
       "164                               [메시지 뉴스] 어린이 안전 관리 강화   \n",
       "203                      [영상-출동! 명예기자] 국립과학수사연구원을 체험하다!   \n",
       "144            [영상-출동! 명예기자] 화제의 인물 글 쓰는 의사 '남궁인'을 만나다!   \n",
       "187                              [메시지 뉴스] 재밌는 지하철역명 이야기   \n",
       "202            [영상-출동! 명예기자] 새벽배송 쇼핑몰 '마켓컬리' 김슬아 대표 인터뷰   \n",
       "706                         [생생~~영상뉴스] 머리에 밥솥 달린 로봇 이야기   \n",
       "368               [생생 인터뷰 현장!] 주한 프랑스 대사 '필립 르포르'를 만나다!   \n",
       "691                            [생생~~영상뉴스] 환경파괴의 주범 누텔라?   \n",
       "717                        잠자리 드론과 풍선 망원경? 과감한 박새의 사연은?   \n",
       "825   [동영상]\"니네 집에 요리로봇 있어? 비서로봇은?\"...\"로봇 몇 대 있니?\" 묻는...   \n",
       "289                            [정답 공개] 크리스마스 퍼즐, 숨은그림찾기   \n",
       "76                      [꿀BeeTV] 출동! 명예기자 충주 기상과학관에 가다!   \n",
       "147                                         신자영의 5분 영어!   \n",
       "590                       [POPCORN NEWS] 국군의 날 특집! 영상뉴스   \n",
       "1501                          간편하게 한 끼 챙길 땐 쫀득쫀득 그래놀라 바   \n",
       "1498                              편하게 들고 '쏙쏙' 한입 토스트 꼬치   \n",
       "1525                               노릇하게 구워볼까? 폭신폭신 팬케이크   \n",
       "352                               [메시지 뉴스] 세상 가장 작은 나라들   \n",
       "1569                    [카드뉴스] \"취미활동 늘었지만, 친구 못만나 속상해요\"   \n",
       "1444                                  돌돌 말렸네! 맛있는 시금치 롤   \n",
       "70                           [꿀BeeTV] '알리와 아브라함' 형제 이야기   \n",
       "15                      [꿀BeeTV] 무인도에서 극적으로 탈출한 생존자 이야기   \n",
       "93                      [꿀beetv] 대나무와 고사리 그리고 한 남자의 이야기   \n",
       "1464                                  초콜릿 잼 품은 바나나 크레이프   \n",
       "47                      [꿀BeeTV] 아무리 돈이 많아도 살 수 없는 것은?    \n",
       "1575                              기록, 또 기록… 케이팝에 한계란 없다   \n",
       "\n",
       "                                               news_url  \\\n",
       "8     http://kid.chosun.com/site/data/html_dir/2022/...   \n",
       "303   http://kid.chosun.com/site/data/html_dir/2021/...   \n",
       "325   http://kid.chosun.com/site/data/html_dir/2021/...   \n",
       "389   http://kid.chosun.com/site/data/html_dir/2021/...   \n",
       "400   http://kid.chosun.com/site/data/html_dir/2021/...   \n",
       "423   http://kid.chosun.com/site/data/html_dir/2021/...   \n",
       "451   http://kid.chosun.com/site/data/html_dir/2021/...   \n",
       "485   http://kid.chosun.com/site/data/html_dir/2021/...   \n",
       "504   http://kid.chosun.com/site/data/html_dir/2021/...   \n",
       "536   http://kid.chosun.com/site/data/html_dir/2021/...   \n",
       "568   http://kid.chosun.com/site/data/html_dir/2021/...   \n",
       "586   http://kid.chosun.com/site/data/html_dir/2021/...   \n",
       "612   http://kid.chosun.com/site/data/html_dir/2021/...   \n",
       "644   http://kid.chosun.com/site/data/html_dir/2021/...   \n",
       "671   http://kid.chosun.com/site/data/html_dir/2021/...   \n",
       "697   http://kid.chosun.com/site/data/html_dir/2021/...   \n",
       "1383  http://kid.chosun.com/site/data/html_dir/2020/...   \n",
       "1409  http://kid.chosun.com/site/data/html_dir/2020/...   \n",
       "1413  http://kid.chosun.com/site/data/html_dir/2020/...   \n",
       "1438  http://kid.chosun.com/site/data/html_dir/2020/...   \n",
       "275   http://kid.chosun.com/site/data/html_dir/2021/...   \n",
       "244   http://kid.chosun.com/site/data/html_dir/2022/...   \n",
       "1654  http://kid.chosun.com/site/data/html_dir/2020/...   \n",
       "205   http://kid.chosun.com/site/data/html_dir/2022/...   \n",
       "37    http://kid.chosun.com/site/data/html_dir/2022/...   \n",
       "69    http://kid.chosun.com/site/data/html_dir/2022/...   \n",
       "214   http://kid.chosun.com/site/data/html_dir/2022/...   \n",
       "108   http://kid.chosun.com/site/data/html_dir/2022/...   \n",
       "109   http://kid.chosun.com/site/data/html_dir/2022/...   \n",
       "111   http://kid.chosun.com/site/data/html_dir/2022/...   \n",
       "120   http://kid.chosun.com/site/data/html_dir/2022/...   \n",
       "125   http://kid.chosun.com/site/data/html_dir/2022/...   \n",
       "126   http://kid.chosun.com/site/data/html_dir/2022/...   \n",
       "92    http://kid.chosun.com/site/data/html_dir/2022/...   \n",
       "164   http://kid.chosun.com/site/data/html_dir/2022/...   \n",
       "203   http://kid.chosun.com/site/data/html_dir/2022/...   \n",
       "144   http://kid.chosun.com/site/data/html_dir/2022/...   \n",
       "187   http://kid.chosun.com/site/data/html_dir/2022/...   \n",
       "202   http://kid.chosun.com/site/data/html_dir/2022/...   \n",
       "706   http://kid.chosun.com/site/data/html_dir/2021/...   \n",
       "368   http://kid.chosun.com/site/data/html_dir/2021/...   \n",
       "691   http://kid.chosun.com/site/data/html_dir/2021/...   \n",
       "717   http://kid.chosun.com/site/data/html_dir/2021/...   \n",
       "825   http://kid.chosun.com/site/data/html_dir/2021/...   \n",
       "289   http://kid.chosun.com/site/data/html_dir/2021/...   \n",
       "76    http://kid.chosun.com/site/data/html_dir/2022/...   \n",
       "147   http://kid.chosun.com/site/data/html_dir/2022/...   \n",
       "590   http://kid.chosun.com/site/data/html_dir/2021/...   \n",
       "1501  http://kid.chosun.com/site/data/html_dir/2020/...   \n",
       "1498  http://kid.chosun.com/site/data/html_dir/2020/...   \n",
       "1525  http://kid.chosun.com/site/data/html_dir/2020/...   \n",
       "352   http://kid.chosun.com/site/data/html_dir/2021/...   \n",
       "1569  http://kid.chosun.com/site/data/html_dir/2020/...   \n",
       "1444  http://kid.chosun.com/site/data/html_dir/2020/...   \n",
       "70    http://kid.chosun.com/site/data/html_dir/2022/...   \n",
       "15    http://kid.chosun.com/site/data/html_dir/2022/...   \n",
       "93    http://kid.chosun.com/site/data/html_dir/2022/...   \n",
       "1464  http://kid.chosun.com/site/data/html_dir/2020/...   \n",
       "47    http://kid.chosun.com/site/data/html_dir/2022/...   \n",
       "1575  http://kid.chosun.com/site/data/html_dir/2020/...   \n",
       "\n",
       "      news_len  \n",
       "8            0  \n",
       "303          0  \n",
       "325          0  \n",
       "389          0  \n",
       "400          0  \n",
       "423          0  \n",
       "451          0  \n",
       "485          0  \n",
       "504          0  \n",
       "536          0  \n",
       "568          0  \n",
       "586          0  \n",
       "612          0  \n",
       "644          0  \n",
       "671          0  \n",
       "697          0  \n",
       "1383         0  \n",
       "1409         0  \n",
       "1413         0  \n",
       "1438         0  \n",
       "275          0  \n",
       "244          0  \n",
       "1654         0  \n",
       "205          0  \n",
       "37           0  \n",
       "69           0  \n",
       "214          0  \n",
       "108          0  \n",
       "109          0  \n",
       "111          0  \n",
       "120          0  \n",
       "125          0  \n",
       "126          0  \n",
       "92           0  \n",
       "164          0  \n",
       "203          0  \n",
       "144          0  \n",
       "187          0  \n",
       "202          0  \n",
       "706         16  \n",
       "368         22  \n",
       "691         26  \n",
       "717         27  \n",
       "825         49  \n",
       "289         49  \n",
       "76          55  \n",
       "147         59  \n",
       "590         63  \n",
       "1501        71  \n",
       "1498        71  \n",
       "1525        74  \n",
       "352         91  \n",
       "1569        93  \n",
       "1444       103  \n",
       "70         110  \n",
       "15         115  \n",
       "93         130  \n",
       "1464       151  \n",
       "47         158  \n",
       "1575       183  "
      ]
     },
     "execution_count": 366,
     "metadata": {},
     "output_type": "execute_result"
    }
   ],
   "source": [
    "# 기사 길이 작은거 검색\n",
    "condition = (news_summary.news_len <= 200)\n",
    "# = news_summary.loc[condition]\n",
    "shorts_news_summary = news_summary[condition][['news_title','news_url','news_len']].sort_values(by='news_len' ,ascending=True)\n",
    "shorts_news_summary"
   ]
  },
  {
   "cell_type": "code",
   "execution_count": 23,
   "id": "da04c4fe-c7e2-4301-8121-6cd965571d03",
   "metadata": {},
   "outputs": [
    {
     "data": {
      "text/plain": [
       "(60, 3)"
      ]
     },
     "execution_count": 23,
     "metadata": {},
     "output_type": "execute_result"
    }
   ],
   "source": [
    "shorts_news_summary.shape"
   ]
  },
  {
   "cell_type": "code",
   "execution_count": 24,
   "id": "78b4e39f-1a76-4a25-9ed4-2c8b59ad6e52",
   "metadata": {},
   "outputs": [
    {
     "data": {
      "text/plain": [
       "pandas.core.series.Series"
      ]
     },
     "execution_count": 24,
     "metadata": {},
     "output_type": "execute_result"
    }
   ],
   "source": [
    "type(shorts_news_summary.news_url)"
   ]
  },
  {
   "cell_type": "code",
   "execution_count": 25,
   "id": "ea60af72-a5a6-4d24-9c1f-e2c4fe4cf549",
   "metadata": {},
   "outputs": [],
   "source": [
    "# url 전체 출력\n",
    "# shorts_news_url = shorts_news_summary.news_url\n",
    "# for url in shorts_news_url:\n",
    "#     print(url)"
   ]
  },
  {
   "cell_type": "code",
   "execution_count": 26,
   "id": "175008bd-bf8d-4675-9ff0-517e82687fed",
   "metadata": {},
   "outputs": [
    {
     "data": {
      "text/plain": [
       "'http://kid.chosun.com/site/data/html_dir/2022/03/07/2022030702124.html'"
      ]
     },
     "execution_count": 26,
     "metadata": {},
     "output_type": "execute_result"
    }
   ],
   "source": [
    "# [메세지 뉴스]에 내용 없음\n",
    "shorts_news_url = shorts_news_summary.news_url.values[0]\n",
    "shorts_news_url"
   ]
  },
  {
   "cell_type": "code",
   "execution_count": 27,
   "id": "bd47016e-ccad-4471-b8b8-df28da400fa4",
   "metadata": {},
   "outputs": [
    {
     "data": {
      "text/plain": [
       "'http://kid.chosun.com/site/data/html_dir/2022/02/12/2022021201006.html'"
      ]
     },
     "execution_count": 27,
     "metadata": {},
     "output_type": "execute_result"
    }
   ],
   "source": [
    "# [꿀beetv] \n",
    "shorts_news_summary.loc[[93]].news_url.values[0]"
   ]
  },
  {
   "cell_type": "code",
   "execution_count": 28,
   "id": "872470ae-0091-444d-b27f-05ef1c361b45",
   "metadata": {},
   "outputs": [
    {
     "data": {
      "text/plain": [
       "'http://kid.chosun.com/site/data/html_dir/2020/10/13/2020101301951.html'"
      ]
     },
     "execution_count": 28,
     "metadata": {},
     "output_type": "execute_result"
    }
   ],
   "source": [
    "# 기록, 또 기록… 케이팝에 한계란 없다 ?\n",
    "shorts_news_summary.loc[shorts_news_summary.index == 1575].news_url.values[0]"
   ]
  },
  {
   "cell_type": "code",
   "execution_count": 29,
   "id": "ecba0f6e-6d98-40a3-befa-564cb4d2bc65",
   "metadata": {},
   "outputs": [
    {
     "data": {
      "text/plain": [
       "str"
      ]
     },
     "execution_count": 29,
     "metadata": {},
     "output_type": "execute_result"
    }
   ],
   "source": [
    "type(shorts_news_url)"
   ]
  },
  {
   "cell_type": "markdown",
   "id": "92a9d9e0-0c47-4d3c-b0df-cf9e7c5b7041",
   "metadata": {},
   "source": [
    "---"
   ]
  },
  {
   "cell_type": "markdown",
   "id": "a95ac2ae-51c2-40ab-8379-454cb503bd57",
   "metadata": {
    "tags": []
   },
   "source": [
    "### 데이터 삭제"
   ]
  },
  {
   "cell_type": "code",
   "execution_count": 30,
   "id": "3eb1f8ba-f910-44d0-902d-1619ccf889a7",
   "metadata": {},
   "outputs": [
    {
     "data": {
      "text/plain": [
       "8      [메시지 뉴스] 명태·대게와 러시아\n",
       "303        [메시지 뉴스] 동지(冬至)\n",
       "325     [메시지 뉴스] 성탄 트리의 기원\n",
       "389      [메시지 뉴스] 일본 한류 열풍\n",
       "400       [메시지 뉴스] 우주탐사 인형\n",
       "Name: news_title, dtype: object"
      ]
     },
     "execution_count": 30,
     "metadata": {},
     "output_type": "execute_result"
    }
   ],
   "source": [
    "shorts_news_title = shorts_news_summary.news_title\n",
    "shorts_news_title.head()"
   ]
  },
  {
   "cell_type": "code",
   "execution_count": 31,
   "id": "acbdbe30-9918-476c-9d1d-c3df78059c39",
   "metadata": {},
   "outputs": [],
   "source": [
    "import re\n",
    "\n",
    "result_title = []\n",
    "for title in shorts_news_title: \n",
    "    m = re.match(r'(\\[)(.*?)(\\])', title)\n",
    "    # 왜 안되는지 모르겠음\n",
    "    # m = re.match('(?!\\[).*?(?=\\])', title)\n",
    "    # m = re.match(r'\\[[^)]*\\]', title)\n",
    "    if m :\n",
    "        sub_text = re.sub(r'\\[|\\]',\"\",m.group())\n",
    "        sub_text = re.sub(r'(영상-)(.*)',\"명예기자\",sub_text)\n",
    "        \n",
    "        result_title.append(sub_text)\n",
    "    else : \n",
    "        result_title.append(title)"
   ]
  },
  {
   "cell_type": "code",
   "execution_count": 32,
   "id": "83b2ad88-b695-4a34-a406-3ff3b79f72bf",
   "metadata": {},
   "outputs": [
    {
     "data": {
      "text/plain": [
       "['생생~~영상뉴스',\n",
       " '잠자리 드론과 풍선 망원경? 과감한 박새의 사연은?',\n",
       " '메시지 뉴스',\n",
       " '돌돌 말렸네! 맛있는 시금치 롤',\n",
       " '동영상',\n",
       " '카드뉴스',\n",
       " '일상 속 간단한 운동',\n",
       " '간편하게 한 끼 챙길 땐 쫀득쫀득 그래놀라 바',\n",
       " '노릇하게 구워볼까? 폭신폭신 팬케이크',\n",
       " '명예기자',\n",
       " '신자영의 5분 영어',\n",
       " '정답 공개',\n",
       " '기자들의 수다',\n",
       " '생생 인터뷰 현장!',\n",
       " '꿀beetv',\n",
       " '꿀BeeTV',\n",
       " '기록, 또 기록… 케이팝에 한계란 없다',\n",
       " '신자영의 5분 영어!',\n",
       " '요리 쿡! 조리 쿡!',\n",
       " '꿀BEE',\n",
       " '초콜릿 잼 품은 바나나 크레이프',\n",
       " \"편하게 들고 '쏙쏙' 한입 토스트 꼬치\",\n",
       " 'POPCORN NEWS']"
      ]
     },
     "execution_count": 32,
     "metadata": {},
     "output_type": "execute_result"
    }
   ],
   "source": [
    "title_set = set(result_title)\n",
    "[key for key in title_set]"
   ]
  },
  {
   "cell_type": "code",
   "execution_count": 33,
   "id": "be00418f-19b3-4073-963d-82f328340283",
   "metadata": {
    "tags": []
   },
   "outputs": [],
   "source": [
    "# 이상한 뉴스 삭제.. \"영상-맛있는 실험실\" 삭제에서 error\n",
    "# news_summary[~news_summary['news_title'].str.contains(i)]\n",
    "for i in title_set:\n",
    "    condition = news_summary[news_summary['news_title'].str.contains(i)].index\n",
    "    news_summary.drop(condition,inplace=True)"
   ]
  },
  {
   "cell_type": "code",
   "execution_count": 34,
   "id": "b28345f4-1e1a-47e8-8127-7045fd987463",
   "metadata": {},
   "outputs": [],
   "source": [
    "# 확인\n",
    "# news_summary[news_summary['news_title'].str.contains('꿀BeeTV')].news_url.values"
   ]
  },
  {
   "cell_type": "code",
   "execution_count": 35,
   "id": "8919e9d2-1476-410d-bb6b-c17ed566d347",
   "metadata": {},
   "outputs": [],
   "source": [
    "# 인덱스 재정렬\n",
    "news_summary.reset_index(drop=True,inplace=True)"
   ]
  },
  {
   "cell_type": "code",
   "execution_count": 36,
   "id": "c876922e-63d1-4949-b8f8-2ba958f787e0",
   "metadata": {},
   "outputs": [
    {
     "data": {
      "text/plain": [
       "(1529, 5)"
      ]
     },
     "execution_count": 36,
     "metadata": {},
     "output_type": "execute_result"
    }
   ],
   "source": [
    "# 초기 데이터 : 1675\n",
    "news_summary.shape"
   ]
  },
  {
   "cell_type": "code",
   "execution_count": 37,
   "id": "6a2e5669-7dd5-44d3-b20e-adbb522d659b",
   "metadata": {},
   "outputs": [],
   "source": [
    "# 설정초기화\n",
    "pd.reset_option('display')"
   ]
  },
  {
   "cell_type": "markdown",
   "id": "1619e53b-2e14-4ff1-a036-1d2824fc7c37",
   "metadata": {},
   "source": [
    "---"
   ]
  },
  {
   "cell_type": "markdown",
   "id": "6466f068-3d8a-4a5b-a1c1-382be5a30830",
   "metadata": {},
   "source": [
    "### 특수문자 및 공백 제거"
   ]
  },
  {
   "cell_type": "markdown",
   "id": "7efb9192-1c9c-46aa-adac-aa9dfc5c4b10",
   "metadata": {},
   "source": [
    "**0. Basic**\n",
    "- 기초적인 전처리,\n",
    "- html tag 제거(크롤링한 데이터일경우)\n",
    "- 숫자, 영어, 특수문자 등 필요하지 않은 언어 제거\n",
    "- Lowercasing\n",
    "- \"@%*=()/+ 와 같은 punctuation(문장부호) 제거\n",
    "- 한자 - 삭제할지 고민\n"
   ]
  },
  {
   "cell_type": "code",
   "execution_count": 38,
   "id": "8c987113-6fc7-4635-b616-040bc45332aa",
   "metadata": {},
   "outputs": [],
   "source": [
    "import re \n",
    "def clean_text(texts): \n",
    "    corpus = [] \n",
    "    for i in range(0, len(texts)): \n",
    "        article = re.sub(r'(\\[)(.*?)(\\])',\"\",str(texts[i])) #remove [title]\n",
    "        article = re.sub(r'[@%\\\\*=()/~#&\\+á?\\xc3\\xa1\\-\\|\\:\\;\\!\\-\\,\\_\\~\\$\\'\\\"\\→\\[\\]]', '',article) #remove punctuation \n",
    "        # article = re.sub(r'\\d+','', str(texts[i]))# remove number \n",
    "        # article = review.lower() #lower case \n",
    "        article = re.sub(r'\\s+', ' ', article) #remove extra space \n",
    "        article = re.sub(r'<[^>]+>','',article) #remove Html tags \n",
    "        article = re.sub(r'\\s+', ' ', article) #remove spaces\n",
    "        article = re.sub(r\"^\\s+\", '', article) #remove space from start\n",
    "        article = re.sub(r'\\s+$', '', article) #remove space from the end \n",
    "        article = re.sub(r'[一-龥]', '', article) #remove Chinese character\n",
    "        corpus.append(article) \n",
    "    return corpus"
   ]
  },
  {
   "cell_type": "markdown",
   "id": "f9fe72cf-8a0f-43b8-bcf4-898a542fbfd0",
   "metadata": {},
   "source": [
    "- news_title 전처리"
   ]
  },
  {
   "cell_type": "code",
   "execution_count": 39,
   "id": "a7dfbe26-7d08-4cf9-b09b-534f82248625",
   "metadata": {},
   "outputs": [],
   "source": [
    "news_summary[\"news_title_clean\"] = clean_text(news_summary.news_title)"
   ]
  },
  {
   "cell_type": "markdown",
   "id": "83285e12-868e-4db1-b410-dfcb93e49ed9",
   "metadata": {},
   "source": [
    "- news_article 전처리"
   ]
  },
  {
   "cell_type": "code",
   "execution_count": 40,
   "id": "fb28c718-0b12-4be5-8165-ae31ac6b5120",
   "metadata": {},
   "outputs": [],
   "source": [
    "news_summary[\"news_article_clean\"] = clean_text(news_summary.news_article)"
   ]
  },
  {
   "cell_type": "code",
   "execution_count": 41,
   "id": "6ed31ef4-83a2-417a-825c-5f5d8667289d",
   "metadata": {},
   "outputs": [
    {
     "data": {
      "text/html": [
       "<div>\n",
       "<style scoped>\n",
       "    .dataframe tbody tr th:only-of-type {\n",
       "        vertical-align: middle;\n",
       "    }\n",
       "\n",
       "    .dataframe tbody tr th {\n",
       "        vertical-align: top;\n",
       "    }\n",
       "\n",
       "    .dataframe thead th {\n",
       "        text-align: right;\n",
       "    }\n",
       "</style>\n",
       "<table border=\"1\" class=\"dataframe\">\n",
       "  <thead>\n",
       "    <tr style=\"text-align: right;\">\n",
       "      <th></th>\n",
       "      <th>news_len</th>\n",
       "      <th>news_title_clean</th>\n",
       "      <th>news_article_clean</th>\n",
       "    </tr>\n",
       "  </thead>\n",
       "  <tbody>\n",
       "    <tr>\n",
       "      <th>0</th>\n",
       "      <td>469</td>\n",
       "      <td>러시아 고양이는 안 됩니다</td>\n",
       "      <td>전 세계가 우크라이나를 침공한 러시아에 각종 제재를 가하고 있다. 이에 러시아 고양...</td>\n",
       "    </tr>\n",
       "    <tr>\n",
       "      <th>1</th>\n",
       "      <td>380</td>\n",
       "      <td>홀로 1000㎞… 우크라  탈출한 11세 소년</td>\n",
       "      <td>우크라이나 소년이 홀로 국경을 넘은 뭉클한 연이 전해졌다. 영국 매체 가디언과 메트...</td>\n",
       "    </tr>\n",
       "    <tr>\n",
       "      <th>2</th>\n",
       "      <td>446</td>\n",
       "      <td>온라인 쇼핑몰 니켈·납투성이 장신구 주의</td>\n",
       "      <td>온라인 쇼핑몰에서 무알러지 무니켈 도금 등으로 홍보·판매되는 액세서리에서 기준치를 ...</td>\n",
       "    </tr>\n",
       "    <tr>\n",
       "      <th>3</th>\n",
       "      <td>451</td>\n",
       "      <td>코로나에 강한 혈액형 있다… O형 위험 최저</td>\n",
       "      <td>혈액형이 O형인 람이 코로나 바이러스 감염 시 망·위중증 위험이 다른 혈액형보다 낮...</td>\n",
       "    </tr>\n",
       "    <tr>\n",
       "      <th>4</th>\n",
       "      <td>620</td>\n",
       "      <td>잡히지 않는 … 문화재 등 대규모 피해</td>\n",
       "      <td>최근 발생한 동해안 지역 대규모 산불로 인해 막대한 산림 피해가 우려되고 있다. 지...</td>\n",
       "    </tr>\n",
       "    <tr>\n",
       "      <th>...</th>\n",
       "      <td>...</td>\n",
       "      <td>...</td>\n",
       "      <td>...</td>\n",
       "    </tr>\n",
       "    <tr>\n",
       "      <th>1524</th>\n",
       "      <td>1124</td>\n",
       "      <td>돼지 뇌에 컴퓨터 칩 연결… 생각만으로 기계 움직일 수 있을까</td>\n",
       "      <td>머스크 유튜브에 실험 돼지 거트루드 공개 뇌 질환 치료 도움… 올해 안에 람 적용 ...</td>\n",
       "    </tr>\n",
       "    <tr>\n",
       "      <th>1525</th>\n",
       "      <td>721</td>\n",
       "      <td>탑승형 로봇 프로스테시스 조종사를 뽑습니다</td>\n",
       "      <td>람의 팔다리에 연결해 조종 로봇 활용한 경주 스포츠 만들 것 람이 탑승한 로봇끼리 ...</td>\n",
       "    </tr>\n",
       "    <tr>\n",
       "      <th>1526</th>\n",
       "      <td>1668</td>\n",
       "      <td>모험 떠날 준비 됐니 그럼 책장을 펼쳐봐</td>\n",
       "      <td>띵똥 선물이 도착했습니다. 판타지 소설 해리포터의 작가 조앤 롤링55·영국이 코로나...</td>\n",
       "    </tr>\n",
       "    <tr>\n",
       "      <th>1527</th>\n",
       "      <td>756</td>\n",
       "      <td>방탄소년단·블랙핑크 세계 음원시장 올킬</td>\n",
       "      <td>아이돌 그룹 방탄소년단BTS과 블랙핑크가 세계 무대를 뒤흔들고 있다. 글로벌 시장을...</td>\n",
       "    </tr>\n",
       "    <tr>\n",
       "      <th>1528</th>\n",
       "      <td>1717</td>\n",
       "      <td>알파고가 이세돌 9단을 이긴 건 딥러닝 덕분이지</td>\n",
       "      <td>인공 지능 의가 있는 병원을 상상한 적 있니 놀랍게도 벌써 우리나라 한 병원에서는 ...</td>\n",
       "    </tr>\n",
       "  </tbody>\n",
       "</table>\n",
       "<p>1529 rows × 3 columns</p>\n",
       "</div>"
      ],
      "text/plain": [
       "      news_len                    news_title_clean  \\\n",
       "0          469                      러시아 고양이는 안 됩니다   \n",
       "1          380           홀로 1000㎞… 우크라  탈출한 11세 소년   \n",
       "2          446              온라인 쇼핑몰 니켈·납투성이 장신구 주의   \n",
       "3          451            코로나에 강한 혈액형 있다… O형 위험 최저   \n",
       "4          620               잡히지 않는 … 문화재 등 대규모 피해   \n",
       "...        ...                                 ...   \n",
       "1524      1124  돼지 뇌에 컴퓨터 칩 연결… 생각만으로 기계 움직일 수 있을까   \n",
       "1525       721             탑승형 로봇 프로스테시스 조종사를 뽑습니다   \n",
       "1526      1668              모험 떠날 준비 됐니 그럼 책장을 펼쳐봐   \n",
       "1527       756               방탄소년단·블랙핑크 세계 음원시장 올킬   \n",
       "1528      1717          알파고가 이세돌 9단을 이긴 건 딥러닝 덕분이지   \n",
       "\n",
       "                                     news_article_clean  \n",
       "0     전 세계가 우크라이나를 침공한 러시아에 각종 제재를 가하고 있다. 이에 러시아 고양...  \n",
       "1     우크라이나 소년이 홀로 국경을 넘은 뭉클한 연이 전해졌다. 영국 매체 가디언과 메트...  \n",
       "2     온라인 쇼핑몰에서 무알러지 무니켈 도금 등으로 홍보·판매되는 액세서리에서 기준치를 ...  \n",
       "3     혈액형이 O형인 람이 코로나 바이러스 감염 시 망·위중증 위험이 다른 혈액형보다 낮...  \n",
       "4     최근 발생한 동해안 지역 대규모 산불로 인해 막대한 산림 피해가 우려되고 있다. 지...  \n",
       "...                                                 ...  \n",
       "1524  머스크 유튜브에 실험 돼지 거트루드 공개 뇌 질환 치료 도움… 올해 안에 람 적용 ...  \n",
       "1525  람의 팔다리에 연결해 조종 로봇 활용한 경주 스포츠 만들 것 람이 탑승한 로봇끼리 ...  \n",
       "1526  띵똥 선물이 도착했습니다. 판타지 소설 해리포터의 작가 조앤 롤링55·영국이 코로나...  \n",
       "1527  아이돌 그룹 방탄소년단BTS과 블랙핑크가 세계 무대를 뒤흔들고 있다. 글로벌 시장을...  \n",
       "1528  인공 지능 의가 있는 병원을 상상한 적 있니 놀랍게도 벌써 우리나라 한 병원에서는 ...  \n",
       "\n",
       "[1529 rows x 3 columns]"
      ]
     },
     "execution_count": 41,
     "metadata": {},
     "output_type": "execute_result"
    }
   ],
   "source": [
    "news_summary.iloc[:, 4:]"
   ]
  },
  {
   "cell_type": "markdown",
   "id": "86796ec8-4368-49c6-a911-616c19030255",
   "metadata": {},
   "source": [
    "---"
   ]
  },
  {
   "cell_type": "markdown",
   "id": "277997a5-60f0-4496-b5a7-71f6318b582d",
   "metadata": {},
   "source": [
    "## 3. news_article 문장 분리"
   ]
  },
  {
   "cell_type": "markdown",
   "id": "4dab187e-5af0-4f88-adf8-261b963540e9",
   "metadata": {},
   "source": [
    "### split() 사용"
   ]
  },
  {
   "cell_type": "code",
   "execution_count": 42,
   "id": "dcf0f441-ee31-4704-abed-102d1a9bc80e",
   "metadata": {},
   "outputs": [],
   "source": [
    "# (\\. ) 온점으로 분리\n",
    "news_summary[\"news_article_split\"] = news_summary.news_article_clean.str.split('\\. ')"
   ]
  },
  {
   "cell_type": "code",
   "execution_count": 43,
   "id": "840cb1fd-65a6-4e00-b0fe-53c6cbdf21ea",
   "metadata": {},
   "outputs": [],
   "source": [
    "# news_summary.news_article_split.str.strip('news_article_split')"
   ]
  },
  {
   "cell_type": "code",
   "execution_count": 44,
   "id": "7f567256-c859-4295-8ee7-1e9f087a2690",
   "metadata": {},
   "outputs": [
    {
     "data": {
      "text/plain": [
       "0       [전 세계가 우크라이나를 침공한 러시아에 각종 제재를 가하고 있다, 이에 러시아 고...\n",
       "1       [우크라이나 소년이 홀로 국경을 넘은 뭉클한 연이 전해졌다, 영국 매체 가디언과 메...\n",
       "2       [온라인 쇼핑몰에서 무알러지 무니켈 도금 등으로 홍보·판매되는 액세서리에서 기준치를...\n",
       "3       [혈액형이 O형인 람이 코로나 바이러스 감염 시 망·위중증 위험이 다른 혈액형보다 ...\n",
       "4       [최근 발생한 동해안 지역 대규모 산불로 인해 막대한 산림 피해가 우려되고 있다, ...\n",
       "                              ...                        \n",
       "1524    [머스크 유튜브에 실험 돼지 거트루드 공개 뇌 질환 치료 도움… 올해 안에 람 적용...\n",
       "1525    [람의 팔다리에 연결해 조종 로봇 활용한 경주 스포츠 만들 것 람이 탑승한 로봇끼리...\n",
       "1526    [띵똥 선물이 도착했습니다, 판타지 소설 해리포터의 작가 조앤 롤링55·영국이 코로...\n",
       "1527    [아이돌 그룹 방탄소년단BTS과 블랙핑크가 세계 무대를 뒤흔들고 있다, 글로벌 시장...\n",
       "1528    [인공 지능 의가 있는 병원을 상상한 적 있니 놀랍게도 벌써 우리나라 한 병원에서는...\n",
       "Name: news_article_split, Length: 1529, dtype: object"
      ]
     },
     "execution_count": 44,
     "metadata": {},
     "output_type": "execute_result"
    }
   ],
   "source": [
    "news_summary[\"news_article_split\"]"
   ]
  },
  {
   "cell_type": "code",
   "execution_count": 45,
   "id": "df584cff-8eb7-478b-bb2c-93a0c7dcee5c",
   "metadata": {},
   "outputs": [
    {
     "data": {
      "text/plain": [
       "'전 세계가 우크라이나를 침공(侵攻)한 러시아에 각종 제재를 가하고 있다. 이에 러시아 고양이도 \\'국제 대회\\'에 출전하지 못한다는 소식이 전해졌다. 지난 3일(현지 시각), 영국 일간(日刊) 데일리메일에 따르면 70여 년 역(歷史)를 가 국제고양이연맹(FIFE)이 최근 성명을 통해 \\'월드 캣 쇼\\'에 러시아(社) 소속 고양이 참가를 금지하겠다고 밝혔다. 고양이연맹은 \\'예쁜 고양이 대회\\'를 비롯해 매년 700여 개의 고양이 관련 대회를 주최해왔다. 연맹 측은 \"오는 5월 말까지 러시아산(産) 고양이의 수입을 금지하고, 러시아에서 태어난 고양이의 혈통서 등록도 허용하지 않겠다\"며 \"우크라이나를 향한 러시아의 잔혹한 행위에 대해 더 이상 침묵할 수 없었다\"고 밝혔다. 이어 \"우크라이나 난민(難民)과 피란 중인 반려동물을 위한 기금도 마련할 것\"이라고 덧붙였다. → 러시아 고양이의 \\'국제 대회 출전 금지령(令)\\'에 대해 어떻게 생각하나요?'"
      ]
     },
     "execution_count": 45,
     "metadata": {},
     "output_type": "execute_result"
    }
   ],
   "source": [
    "news_summary.news_article[0]"
   ]
  },
  {
   "cell_type": "code",
   "execution_count": 46,
   "id": "4bdea063-9ef3-42de-bbc0-4fc912a95eb2",
   "metadata": {},
   "outputs": [
    {
     "data": {
      "text/plain": [
       "['전 세계가 우크라이나를 침공한 러시아에 각종 제재를 가하고 있다',\n",
       " '이에 러시아 고양이도 국제 대회에 출전하지 못한다는 소식이 전해졌다',\n",
       " '지난 3일현지 시각 영국 일간 데일리메일에 따르면 70여 년 역를 가 국제고양이연맹FIFE이 최근 성명을 통해 월드 캣 쇼에 러시아 소속 고양이 참가를 금지하겠다고 밝혔다',\n",
       " '고양이연맹은 예쁜 고양이 대회를 비롯해 매년 700여 개의 고양이 관련 대회를 주최해왔다',\n",
       " '연맹 측은 오는 5월 말까지 러시아산 고양이의 수입을 금지하고 러시아에서 태어난 고양이의 혈통서 등록도 허용하지 않겠다며 우크라이나를 향한 러시아의 잔혹한 행위에 대해 더 이상 침묵할 수 없었다고 밝혔다',\n",
       " '이어 우크라이나 난민과 피란 중인 반려동물을 위한 기금도 마련할 것이라고 덧붙였다',\n",
       " '러시아 고양이의 국제 대회 출전 금지령에 대해 어떻게 생각하나요']"
      ]
     },
     "execution_count": 46,
     "metadata": {},
     "output_type": "execute_result"
    }
   ],
   "source": [
    "news_summary[\"news_article_split\"][0]"
   ]
  },
  {
   "cell_type": "code",
   "execution_count": 47,
   "id": "f1748954-a785-40c4-a991-250bc9859b31",
   "metadata": {},
   "outputs": [
    {
     "data": {
      "text/plain": [
       "'전 세계가 우크라이나를 침공한 러시아에 각종 제재를 가하고 있다'"
      ]
     },
     "execution_count": 47,
     "metadata": {},
     "output_type": "execute_result"
    }
   ],
   "source": [
    "news_summary[\"news_article_split\"][0][0]"
   ]
  },
  {
   "cell_type": "code",
   "execution_count": 48,
   "id": "122a6693-76dc-4289-879b-263a63f23368",
   "metadata": {},
   "outputs": [
    {
     "data": {
      "text/html": [
       "<div>\n",
       "<style scoped>\n",
       "    .dataframe tbody tr th:only-of-type {\n",
       "        vertical-align: middle;\n",
       "    }\n",
       "\n",
       "    .dataframe tbody tr th {\n",
       "        vertical-align: top;\n",
       "    }\n",
       "\n",
       "    .dataframe thead th {\n",
       "        text-align: right;\n",
       "    }\n",
       "</style>\n",
       "<table border=\"1\" class=\"dataframe\">\n",
       "  <thead>\n",
       "    <tr style=\"text-align: right;\">\n",
       "      <th></th>\n",
       "      <th>news_len</th>\n",
       "      <th>news_title_clean</th>\n",
       "      <th>news_article_clean</th>\n",
       "      <th>news_article_split</th>\n",
       "    </tr>\n",
       "  </thead>\n",
       "  <tbody>\n",
       "    <tr>\n",
       "      <th>0</th>\n",
       "      <td>469</td>\n",
       "      <td>러시아 고양이는 안 됩니다</td>\n",
       "      <td>전 세계가 우크라이나를 침공한 러시아에 각종 제재를 가하고 있다. 이에 러시아 고양...</td>\n",
       "      <td>[전 세계가 우크라이나를 침공한 러시아에 각종 제재를 가하고 있다, 이에 러시아 고...</td>\n",
       "    </tr>\n",
       "    <tr>\n",
       "      <th>1</th>\n",
       "      <td>380</td>\n",
       "      <td>홀로 1000㎞… 우크라  탈출한 11세 소년</td>\n",
       "      <td>우크라이나 소년이 홀로 국경을 넘은 뭉클한 연이 전해졌다. 영국 매체 가디언과 메트...</td>\n",
       "      <td>[우크라이나 소년이 홀로 국경을 넘은 뭉클한 연이 전해졌다, 영국 매체 가디언과 메...</td>\n",
       "    </tr>\n",
       "    <tr>\n",
       "      <th>2</th>\n",
       "      <td>446</td>\n",
       "      <td>온라인 쇼핑몰 니켈·납투성이 장신구 주의</td>\n",
       "      <td>온라인 쇼핑몰에서 무알러지 무니켈 도금 등으로 홍보·판매되는 액세서리에서 기준치를 ...</td>\n",
       "      <td>[온라인 쇼핑몰에서 무알러지 무니켈 도금 등으로 홍보·판매되는 액세서리에서 기준치를...</td>\n",
       "    </tr>\n",
       "    <tr>\n",
       "      <th>3</th>\n",
       "      <td>451</td>\n",
       "      <td>코로나에 강한 혈액형 있다… O형 위험 최저</td>\n",
       "      <td>혈액형이 O형인 람이 코로나 바이러스 감염 시 망·위중증 위험이 다른 혈액형보다 낮...</td>\n",
       "      <td>[혈액형이 O형인 람이 코로나 바이러스 감염 시 망·위중증 위험이 다른 혈액형보다 ...</td>\n",
       "    </tr>\n",
       "    <tr>\n",
       "      <th>4</th>\n",
       "      <td>620</td>\n",
       "      <td>잡히지 않는 … 문화재 등 대규모 피해</td>\n",
       "      <td>최근 발생한 동해안 지역 대규모 산불로 인해 막대한 산림 피해가 우려되고 있다. 지...</td>\n",
       "      <td>[최근 발생한 동해안 지역 대규모 산불로 인해 막대한 산림 피해가 우려되고 있다, ...</td>\n",
       "    </tr>\n",
       "    <tr>\n",
       "      <th>...</th>\n",
       "      <td>...</td>\n",
       "      <td>...</td>\n",
       "      <td>...</td>\n",
       "      <td>...</td>\n",
       "    </tr>\n",
       "    <tr>\n",
       "      <th>1524</th>\n",
       "      <td>1124</td>\n",
       "      <td>돼지 뇌에 컴퓨터 칩 연결… 생각만으로 기계 움직일 수 있을까</td>\n",
       "      <td>머스크 유튜브에 실험 돼지 거트루드 공개 뇌 질환 치료 도움… 올해 안에 람 적용 ...</td>\n",
       "      <td>[머스크 유튜브에 실험 돼지 거트루드 공개 뇌 질환 치료 도움… 올해 안에 람 적용...</td>\n",
       "    </tr>\n",
       "    <tr>\n",
       "      <th>1525</th>\n",
       "      <td>721</td>\n",
       "      <td>탑승형 로봇 프로스테시스 조종사를 뽑습니다</td>\n",
       "      <td>람의 팔다리에 연결해 조종 로봇 활용한 경주 스포츠 만들 것 람이 탑승한 로봇끼리 ...</td>\n",
       "      <td>[람의 팔다리에 연결해 조종 로봇 활용한 경주 스포츠 만들 것 람이 탑승한 로봇끼리...</td>\n",
       "    </tr>\n",
       "    <tr>\n",
       "      <th>1526</th>\n",
       "      <td>1668</td>\n",
       "      <td>모험 떠날 준비 됐니 그럼 책장을 펼쳐봐</td>\n",
       "      <td>띵똥 선물이 도착했습니다. 판타지 소설 해리포터의 작가 조앤 롤링55·영국이 코로나...</td>\n",
       "      <td>[띵똥 선물이 도착했습니다, 판타지 소설 해리포터의 작가 조앤 롤링55·영국이 코로...</td>\n",
       "    </tr>\n",
       "    <tr>\n",
       "      <th>1527</th>\n",
       "      <td>756</td>\n",
       "      <td>방탄소년단·블랙핑크 세계 음원시장 올킬</td>\n",
       "      <td>아이돌 그룹 방탄소년단BTS과 블랙핑크가 세계 무대를 뒤흔들고 있다. 글로벌 시장을...</td>\n",
       "      <td>[아이돌 그룹 방탄소년단BTS과 블랙핑크가 세계 무대를 뒤흔들고 있다, 글로벌 시장...</td>\n",
       "    </tr>\n",
       "    <tr>\n",
       "      <th>1528</th>\n",
       "      <td>1717</td>\n",
       "      <td>알파고가 이세돌 9단을 이긴 건 딥러닝 덕분이지</td>\n",
       "      <td>인공 지능 의가 있는 병원을 상상한 적 있니 놀랍게도 벌써 우리나라 한 병원에서는 ...</td>\n",
       "      <td>[인공 지능 의가 있는 병원을 상상한 적 있니 놀랍게도 벌써 우리나라 한 병원에서는...</td>\n",
       "    </tr>\n",
       "  </tbody>\n",
       "</table>\n",
       "<p>1529 rows × 4 columns</p>\n",
       "</div>"
      ],
      "text/plain": [
       "      news_len                    news_title_clean  \\\n",
       "0          469                      러시아 고양이는 안 됩니다   \n",
       "1          380           홀로 1000㎞… 우크라  탈출한 11세 소년   \n",
       "2          446              온라인 쇼핑몰 니켈·납투성이 장신구 주의   \n",
       "3          451            코로나에 강한 혈액형 있다… O형 위험 최저   \n",
       "4          620               잡히지 않는 … 문화재 등 대규모 피해   \n",
       "...        ...                                 ...   \n",
       "1524      1124  돼지 뇌에 컴퓨터 칩 연결… 생각만으로 기계 움직일 수 있을까   \n",
       "1525       721             탑승형 로봇 프로스테시스 조종사를 뽑습니다   \n",
       "1526      1668              모험 떠날 준비 됐니 그럼 책장을 펼쳐봐   \n",
       "1527       756               방탄소년단·블랙핑크 세계 음원시장 올킬   \n",
       "1528      1717          알파고가 이세돌 9단을 이긴 건 딥러닝 덕분이지   \n",
       "\n",
       "                                     news_article_clean  \\\n",
       "0     전 세계가 우크라이나를 침공한 러시아에 각종 제재를 가하고 있다. 이에 러시아 고양...   \n",
       "1     우크라이나 소년이 홀로 국경을 넘은 뭉클한 연이 전해졌다. 영국 매체 가디언과 메트...   \n",
       "2     온라인 쇼핑몰에서 무알러지 무니켈 도금 등으로 홍보·판매되는 액세서리에서 기준치를 ...   \n",
       "3     혈액형이 O형인 람이 코로나 바이러스 감염 시 망·위중증 위험이 다른 혈액형보다 낮...   \n",
       "4     최근 발생한 동해안 지역 대규모 산불로 인해 막대한 산림 피해가 우려되고 있다. 지...   \n",
       "...                                                 ...   \n",
       "1524  머스크 유튜브에 실험 돼지 거트루드 공개 뇌 질환 치료 도움… 올해 안에 람 적용 ...   \n",
       "1525  람의 팔다리에 연결해 조종 로봇 활용한 경주 스포츠 만들 것 람이 탑승한 로봇끼리 ...   \n",
       "1526  띵똥 선물이 도착했습니다. 판타지 소설 해리포터의 작가 조앤 롤링55·영국이 코로나...   \n",
       "1527  아이돌 그룹 방탄소년단BTS과 블랙핑크가 세계 무대를 뒤흔들고 있다. 글로벌 시장을...   \n",
       "1528  인공 지능 의가 있는 병원을 상상한 적 있니 놀랍게도 벌써 우리나라 한 병원에서는 ...   \n",
       "\n",
       "                                     news_article_split  \n",
       "0     [전 세계가 우크라이나를 침공한 러시아에 각종 제재를 가하고 있다, 이에 러시아 고...  \n",
       "1     [우크라이나 소년이 홀로 국경을 넘은 뭉클한 연이 전해졌다, 영국 매체 가디언과 메...  \n",
       "2     [온라인 쇼핑몰에서 무알러지 무니켈 도금 등으로 홍보·판매되는 액세서리에서 기준치를...  \n",
       "3     [혈액형이 O형인 람이 코로나 바이러스 감염 시 망·위중증 위험이 다른 혈액형보다 ...  \n",
       "4     [최근 발생한 동해안 지역 대규모 산불로 인해 막대한 산림 피해가 우려되고 있다, ...  \n",
       "...                                                 ...  \n",
       "1524  [머스크 유튜브에 실험 돼지 거트루드 공개 뇌 질환 치료 도움… 올해 안에 람 적용...  \n",
       "1525  [람의 팔다리에 연결해 조종 로봇 활용한 경주 스포츠 만들 것 람이 탑승한 로봇끼리...  \n",
       "1526  [띵똥 선물이 도착했습니다, 판타지 소설 해리포터의 작가 조앤 롤링55·영국이 코로...  \n",
       "1527  [아이돌 그룹 방탄소년단BTS과 블랙핑크가 세계 무대를 뒤흔들고 있다, 글로벌 시장...  \n",
       "1528  [인공 지능 의가 있는 병원을 상상한 적 있니 놀랍게도 벌써 우리나라 한 병원에서는...  \n",
       "\n",
       "[1529 rows x 4 columns]"
      ]
     },
     "execution_count": 48,
     "metadata": {},
     "output_type": "execute_result"
    }
   ],
   "source": [
    "news_summary.iloc[:, 4:]"
   ]
  },
  {
   "cell_type": "markdown",
   "id": "5fbe8758-4538-43ca-a9ec-7e318b3fc2d0",
   "metadata": {},
   "source": [
    "### nltk 활용"
   ]
  },
  {
   "cell_type": "code",
   "execution_count": 49,
   "id": "ee33233a-0ae6-492c-873f-46ca4406c7d8",
   "metadata": {},
   "outputs": [],
   "source": [
    "# Series to list type\n",
    "#news_list = news_summary.news_article_clean.to_list()"
   ]
  },
  {
   "cell_type": "code",
   "execution_count": 50,
   "id": "aa18ea7d-0c59-4cae-850f-0aa1ed0b821c",
   "metadata": {},
   "outputs": [
    {
     "name": "stdout",
     "output_type": "stream",
     "text": [
      "['전 세계가 우크라이나를 침공한 러시아에 각종 제재를 가하고 있다.',\n",
      "'이에 러시아 고양이도 국제 대회에 출전하지 못한다는 소식이 전해졌다.',\n",
      "'지난 3일현지 시각 영국 일간 데일리메일에 따르면 70여 년 역를 가 국제고양이연맹FIFE이 최근 성명을 통해 월드 캣 쇼에 러시아 소속 '\n",
      "'고양이 참가를 금지하겠다고 밝혔다.',\n",
      "'고양이연맹은 예쁜 고양이 대회를 비롯해 매년 700여 개의 고양이 관련 대회를 주최해왔다.',\n",
      "'연맹 측은 오는 5월 말까지 러시아산 고양이의 수입을 금지하고 러시아에서 태어난 고양이의 혈통서 등록도 허용하지 않겠다며 우크라이나를 향한 '\n",
      "'러시아의 잔혹한 행위에 대해 더 이상 침묵할 수 없었다고 밝혔다.',\n",
      "'이어 우크라이나 난민과 피란 중인 반려동물을 위한 기금도 마련할 것이라고 덧붙였다.',\n",
      "'러시아 고양이의 국제 대회 출전 금지령에 대해 어떻게 생각하나요']\n"
     ]
    }
   ],
   "source": [
    "from nltk.tokenize import sent_tokenize\n",
    "import pprint\n",
    "pp = pprint.PrettyPrinter(indent=0)\n",
    "\n",
    "article_text = news_summary[\"news_article_clean\"][0]\n",
    "# print('문장 토큰화1 :',sent_tokenize(text))\n",
    "pp.pprint(sent_tokenize(article_text))"
   ]
  },
  {
   "cell_type": "markdown",
   "id": "bd459215-323e-439d-8502-d783840be38d",
   "metadata": {},
   "source": [
    "---"
   ]
  },
  {
   "cell_type": "markdown",
   "id": "8edc0902-f324-4626-86e7-cddd2d73e1ec",
   "metadata": {},
   "source": [
    "## 4. 전처리 끝난 DataFrame 재생성\n",
    "- 라벨링 판정 form에 맞춰 DataFrame 재생성"
   ]
  },
  {
   "cell_type": "code",
   "execution_count": 51,
   "id": "7a259bc4-6b41-4cdd-b850-4d4a74cd3753",
   "metadata": {
    "tags": []
   },
   "outputs": [
    {
     "data": {
      "text/html": [
       "<div>\n",
       "<style scoped>\n",
       "    .dataframe tbody tr th:only-of-type {\n",
       "        vertical-align: middle;\n",
       "    }\n",
       "\n",
       "    .dataframe tbody tr th {\n",
       "        vertical-align: top;\n",
       "    }\n",
       "\n",
       "    .dataframe thead th {\n",
       "        text-align: right;\n",
       "    }\n",
       "</style>\n",
       "<table border=\"1\" class=\"dataframe\">\n",
       "  <thead>\n",
       "    <tr style=\"text-align: right;\">\n",
       "      <th></th>\n",
       "      <th>news_subtitle</th>\n",
       "      <th>news_title_clean</th>\n",
       "      <th>news_article_split</th>\n",
       "    </tr>\n",
       "  </thead>\n",
       "  <tbody>\n",
       "    <tr>\n",
       "      <th>0</th>\n",
       "      <td>국제고양이연맹, '월드 캣 쇼'서 퇴출</td>\n",
       "      <td>러시아 고양이는 안 됩니다</td>\n",
       "      <td>[전 세계가 우크라이나를 침공한 러시아에 각종 제재를 가하고 있다, 이에 러시아 고...</td>\n",
       "    </tr>\n",
       "    <tr>\n",
       "      <th>1</th>\n",
       "      <td>0</td>\n",
       "      <td>홀로 1000㎞… 우크라  탈출한 11세 소년</td>\n",
       "      <td>[우크라이나 소년이 홀로 국경을 넘은 뭉클한 연이 전해졌다, 영국 매체 가디언과 메...</td>\n",
       "    </tr>\n",
       "    <tr>\n",
       "      <th>2</th>\n",
       "      <td>0</td>\n",
       "      <td>온라인 쇼핑몰 니켈·납투성이 장신구 주의</td>\n",
       "      <td>[온라인 쇼핑몰에서 무알러지 무니켈 도금 등으로 홍보·판매되는 액세서리에서 기준치를...</td>\n",
       "    </tr>\n",
       "    <tr>\n",
       "      <th>3</th>\n",
       "      <td>0</td>\n",
       "      <td>코로나에 강한 혈액형 있다… O형 위험 최저</td>\n",
       "      <td>[혈액형이 O형인 람이 코로나 바이러스 감염 시 망·위중증 위험이 다른 혈액형보다 ...</td>\n",
       "    </tr>\n",
       "    <tr>\n",
       "      <th>4</th>\n",
       "      <td>서울 면적 4분의 1 이상 불타</td>\n",
       "      <td>잡히지 않는 … 문화재 등 대규모 피해</td>\n",
       "      <td>[최근 발생한 동해안 지역 대규모 산불로 인해 막대한 산림 피해가 우려되고 있다, ...</td>\n",
       "    </tr>\n",
       "    <tr>\n",
       "      <th>...</th>\n",
       "      <td>...</td>\n",
       "      <td>...</td>\n",
       "      <td>...</td>\n",
       "    </tr>\n",
       "    <tr>\n",
       "      <th>1524</th>\n",
       "      <td>0</td>\n",
       "      <td>돼지 뇌에 컴퓨터 칩 연결… 생각만으로 기계 움직일 수 있을까</td>\n",
       "      <td>[머스크 유튜브에 실험 돼지 거트루드 공개 뇌 질환 치료 도움… 올해 안에 람 적용...</td>\n",
       "    </tr>\n",
       "    <tr>\n",
       "      <th>1525</th>\n",
       "      <td>0</td>\n",
       "      <td>탑승형 로봇 프로스테시스 조종사를 뽑습니다</td>\n",
       "      <td>[람의 팔다리에 연결해 조종 로봇 활용한 경주 스포츠 만들 것 람이 탑승한 로봇끼리...</td>\n",
       "    </tr>\n",
       "    <tr>\n",
       "      <th>1526</th>\n",
       "      <td>0</td>\n",
       "      <td>모험 떠날 준비 됐니 그럼 책장을 펼쳐봐</td>\n",
       "      <td>[띵똥 선물이 도착했습니다, 판타지 소설 해리포터의 작가 조앤 롤링55·영국이 코로...</td>\n",
       "    </tr>\n",
       "    <tr>\n",
       "      <th>1527</th>\n",
       "      <td>0</td>\n",
       "      <td>방탄소년단·블랙핑크 세계 음원시장 올킬</td>\n",
       "      <td>[아이돌 그룹 방탄소년단BTS과 블랙핑크가 세계 무대를 뒤흔들고 있다, 글로벌 시장...</td>\n",
       "    </tr>\n",
       "    <tr>\n",
       "      <th>1528</th>\n",
       "      <td>0</td>\n",
       "      <td>알파고가 이세돌 9단을 이긴 건 딥러닝 덕분이지</td>\n",
       "      <td>[인공 지능 의가 있는 병원을 상상한 적 있니 놀랍게도 벌써 우리나라 한 병원에서는...</td>\n",
       "    </tr>\n",
       "  </tbody>\n",
       "</table>\n",
       "<p>1529 rows × 3 columns</p>\n",
       "</div>"
      ],
      "text/plain": [
       "              news_subtitle                    news_title_clean  \\\n",
       "0     국제고양이연맹, '월드 캣 쇼'서 퇴출                      러시아 고양이는 안 됩니다   \n",
       "1                         0           홀로 1000㎞… 우크라  탈출한 11세 소년   \n",
       "2                         0              온라인 쇼핑몰 니켈·납투성이 장신구 주의   \n",
       "3                         0            코로나에 강한 혈액형 있다… O형 위험 최저   \n",
       "4         서울 면적 4분의 1 이상 불타               잡히지 않는 … 문화재 등 대규모 피해   \n",
       "...                     ...                                 ...   \n",
       "1524                      0  돼지 뇌에 컴퓨터 칩 연결… 생각만으로 기계 움직일 수 있을까   \n",
       "1525                      0             탑승형 로봇 프로스테시스 조종사를 뽑습니다   \n",
       "1526                      0              모험 떠날 준비 됐니 그럼 책장을 펼쳐봐   \n",
       "1527                      0               방탄소년단·블랙핑크 세계 음원시장 올킬   \n",
       "1528                      0          알파고가 이세돌 9단을 이긴 건 딥러닝 덕분이지   \n",
       "\n",
       "                                     news_article_split  \n",
       "0     [전 세계가 우크라이나를 침공한 러시아에 각종 제재를 가하고 있다, 이에 러시아 고...  \n",
       "1     [우크라이나 소년이 홀로 국경을 넘은 뭉클한 연이 전해졌다, 영국 매체 가디언과 메...  \n",
       "2     [온라인 쇼핑몰에서 무알러지 무니켈 도금 등으로 홍보·판매되는 액세서리에서 기준치를...  \n",
       "3     [혈액형이 O형인 람이 코로나 바이러스 감염 시 망·위중증 위험이 다른 혈액형보다 ...  \n",
       "4     [최근 발생한 동해안 지역 대규모 산불로 인해 막대한 산림 피해가 우려되고 있다, ...  \n",
       "...                                                 ...  \n",
       "1524  [머스크 유튜브에 실험 돼지 거트루드 공개 뇌 질환 치료 도움… 올해 안에 람 적용...  \n",
       "1525  [람의 팔다리에 연결해 조종 로봇 활용한 경주 스포츠 만들 것 람이 탑승한 로봇끼리...  \n",
       "1526  [띵똥 선물이 도착했습니다, 판타지 소설 해리포터의 작가 조앤 롤링55·영국이 코로...  \n",
       "1527  [아이돌 그룹 방탄소년단BTS과 블랙핑크가 세계 무대를 뒤흔들고 있다, 글로벌 시장...  \n",
       "1528  [인공 지능 의가 있는 병원을 상상한 적 있니 놀랍게도 벌써 우리나라 한 병원에서는...  \n",
       "\n",
       "[1529 rows x 3 columns]"
      ]
     },
     "execution_count": 51,
     "metadata": {},
     "output_type": "execute_result"
    }
   ],
   "source": [
    "p_news_summary = news_summary[['news_subtitle','news_title_clean','news_article_split']]\n",
    "p_news_summary"
   ]
  },
  {
   "cell_type": "code",
   "execution_count": 52,
   "id": "6f669510-e162-4716-908c-363b12639395",
   "metadata": {},
   "outputs": [
    {
     "data": {
      "text/plain": [
       "(1529, 3)"
      ]
     },
     "execution_count": 52,
     "metadata": {},
     "output_type": "execute_result"
    }
   ],
   "source": [
    "p_news_summary.shape"
   ]
  },
  {
   "cell_type": "code",
   "execution_count": 53,
   "id": "e8155d40-53d2-4fae-bbd6-09fa96ad1906",
   "metadata": {},
   "outputs": [],
   "source": [
    "# zip - news_article + news_title + news_subtitle (1차원 + 1차원 + 2차원 = 2차원 )\n",
    "def zip_dataframe(index):\n",
    "    total_data = []  \n",
    "\n",
    "    new_news_article = p_news_summary.news_article_split[index]\n",
    "    new_news_title = []\n",
    "    new_news_subtitle = []\n",
    "    new_news_index = []\n",
    "\n",
    "    for i in range(len(new_news_article)):\n",
    "        new_news_title.append(p_news_summary.news_title_clean[index])\n",
    "        new_news_subtitle.append(p_news_summary.news_subtitle[index])\n",
    "        new_news_index.append(index + 1)\n",
    "    for idx, title, subtitle, article in zip(new_news_index, new_news_title, new_news_subtitle, new_news_article): \n",
    "        total_data.append([idx,title,subtitle,article]) \n",
    "        \n",
    "    return total_data"
   ]
  },
  {
   "cell_type": "code",
   "execution_count": 54,
   "id": "7f8adb5c-25bb-4e60-9afc-fb25e82678f9",
   "metadata": {
    "tags": []
   },
   "outputs": [],
   "source": [
    "# 전체 dataframe에서 실행\n",
    "total_data = []\n",
    "for inxx in p_news_summary.index:\n",
    "    new_news_article = p_news_summary.news_article_split[inxx]\n",
    "    new_news_title = []\n",
    "    new_news_subtitle = []\n",
    "    new_news_index = []\n",
    "\n",
    "    for i in range(len(new_news_article)):\n",
    "        new_news_title.append(p_news_summary.news_title_clean[inxx])\n",
    "        new_news_subtitle.append(p_news_summary.news_subtitle[inxx])\n",
    "        new_news_index.append(inxx + 1)\n",
    "    for idx, title, subtitle, article in zip(new_news_index, new_news_title, new_news_subtitle, new_news_article): \n",
    "        total_data.append([idx,title,subtitle,article]) "
   ]
  },
  {
   "cell_type": "code",
   "execution_count": 55,
   "id": "610da52f-9ccd-4779-a59a-bd7866254e60",
   "metadata": {},
   "outputs": [
    {
     "data": {
      "text/html": [
       "<div>\n",
       "<style scoped>\n",
       "    .dataframe tbody tr th:only-of-type {\n",
       "        vertical-align: middle;\n",
       "    }\n",
       "\n",
       "    .dataframe tbody tr th {\n",
       "        vertical-align: top;\n",
       "    }\n",
       "\n",
       "    .dataframe thead th {\n",
       "        text-align: right;\n",
       "    }\n",
       "</style>\n",
       "<table border=\"1\" class=\"dataframe\">\n",
       "  <thead>\n",
       "    <tr style=\"text-align: right;\">\n",
       "      <th></th>\n",
       "      <th>news_idx</th>\n",
       "      <th>news_title</th>\n",
       "      <th>news_subtitle</th>\n",
       "      <th>news_article</th>\n",
       "    </tr>\n",
       "  </thead>\n",
       "  <tbody>\n",
       "    <tr>\n",
       "      <th>0</th>\n",
       "      <td>1</td>\n",
       "      <td>러시아 고양이는 안 됩니다</td>\n",
       "      <td>국제고양이연맹, '월드 캣 쇼'서 퇴출</td>\n",
       "      <td>전 세계가 우크라이나를 침공한 러시아에 각종 제재를 가하고 있다</td>\n",
       "    </tr>\n",
       "    <tr>\n",
       "      <th>1</th>\n",
       "      <td>1</td>\n",
       "      <td>러시아 고양이는 안 됩니다</td>\n",
       "      <td>국제고양이연맹, '월드 캣 쇼'서 퇴출</td>\n",
       "      <td>이에 러시아 고양이도 국제 대회에 출전하지 못한다는 소식이 전해졌다</td>\n",
       "    </tr>\n",
       "    <tr>\n",
       "      <th>2</th>\n",
       "      <td>1</td>\n",
       "      <td>러시아 고양이는 안 됩니다</td>\n",
       "      <td>국제고양이연맹, '월드 캣 쇼'서 퇴출</td>\n",
       "      <td>지난 3일현지 시각 영국 일간 데일리메일에 따르면 70여 년 역를 가 국제고양이연맹...</td>\n",
       "    </tr>\n",
       "    <tr>\n",
       "      <th>3</th>\n",
       "      <td>1</td>\n",
       "      <td>러시아 고양이는 안 됩니다</td>\n",
       "      <td>국제고양이연맹, '월드 캣 쇼'서 퇴출</td>\n",
       "      <td>고양이연맹은 예쁜 고양이 대회를 비롯해 매년 700여 개의 고양이 관련 대회를 주최해왔다</td>\n",
       "    </tr>\n",
       "    <tr>\n",
       "      <th>4</th>\n",
       "      <td>1</td>\n",
       "      <td>러시아 고양이는 안 됩니다</td>\n",
       "      <td>국제고양이연맹, '월드 캣 쇼'서 퇴출</td>\n",
       "      <td>연맹 측은 오는 5월 말까지 러시아산 고양이의 수입을 금지하고 러시아에서 태어난 고...</td>\n",
       "    </tr>\n",
       "    <tr>\n",
       "      <th>...</th>\n",
       "      <td>...</td>\n",
       "      <td>...</td>\n",
       "      <td>...</td>\n",
       "      <td>...</td>\n",
       "    </tr>\n",
       "    <tr>\n",
       "      <th>28534</th>\n",
       "      <td>1529</td>\n",
       "      <td>알파고가 이세돌 9단을 이긴 건 딥러닝 덕분이지</td>\n",
       "      <td>0</td>\n",
       "      <td>알파고는 이런 훈련을 몇 주 만에 끝내고 이세돌 9단을 이길 수 있었던 거야</td>\n",
       "    </tr>\n",
       "    <tr>\n",
       "      <th>28535</th>\n",
       "      <td>1529</td>\n",
       "      <td>알파고가 이세돌 9단을 이긴 건 딥러닝 덕분이지</td>\n",
       "      <td>0</td>\n",
       "      <td>아마도 람이 이 방법으로 학습한다면 똑같은 과정을 거치는 데 1000년도 더 걸렸을...</td>\n",
       "    </tr>\n",
       "    <tr>\n",
       "      <th>28536</th>\n",
       "      <td>1529</td>\n",
       "      <td>알파고가 이세돌 9단을 이긴 건 딥러닝 덕분이지</td>\n",
       "      <td>0</td>\n",
       "      <td>우리에게는 너무 당연한 일이지만 예전에는 컴퓨터가 람 얼굴과 고양이 얼굴을 구별하는...</td>\n",
       "    </tr>\n",
       "    <tr>\n",
       "      <th>28537</th>\n",
       "      <td>1529</td>\n",
       "      <td>알파고가 이세돌 9단을 이긴 건 딥러닝 덕분이지</td>\n",
       "      <td>0</td>\n",
       "      <td>알파고처럼 학습한 끝에 고양이를 알아차릴 수 있게 됐지</td>\n",
       "    </tr>\n",
       "    <tr>\n",
       "      <th>28538</th>\n",
       "      <td>1529</td>\n",
       "      <td>알파고가 이세돌 9단을 이긴 건 딥러닝 덕분이지</td>\n",
       "      <td>0</td>\n",
       "      <td>다락원 어린이를 위한 4차 산업 혁명 안내서 정윤선 글 우연희 그림</td>\n",
       "    </tr>\n",
       "  </tbody>\n",
       "</table>\n",
       "<p>28539 rows × 4 columns</p>\n",
       "</div>"
      ],
      "text/plain": [
       "       news_idx                  news_title          news_subtitle  \\\n",
       "0             1              러시아 고양이는 안 됩니다  국제고양이연맹, '월드 캣 쇼'서 퇴출   \n",
       "1             1              러시아 고양이는 안 됩니다  국제고양이연맹, '월드 캣 쇼'서 퇴출   \n",
       "2             1              러시아 고양이는 안 됩니다  국제고양이연맹, '월드 캣 쇼'서 퇴출   \n",
       "3             1              러시아 고양이는 안 됩니다  국제고양이연맹, '월드 캣 쇼'서 퇴출   \n",
       "4             1              러시아 고양이는 안 됩니다  국제고양이연맹, '월드 캣 쇼'서 퇴출   \n",
       "...         ...                         ...                    ...   \n",
       "28534      1529  알파고가 이세돌 9단을 이긴 건 딥러닝 덕분이지                      0   \n",
       "28535      1529  알파고가 이세돌 9단을 이긴 건 딥러닝 덕분이지                      0   \n",
       "28536      1529  알파고가 이세돌 9단을 이긴 건 딥러닝 덕분이지                      0   \n",
       "28537      1529  알파고가 이세돌 9단을 이긴 건 딥러닝 덕분이지                      0   \n",
       "28538      1529  알파고가 이세돌 9단을 이긴 건 딥러닝 덕분이지                      0   \n",
       "\n",
       "                                            news_article  \n",
       "0                    전 세계가 우크라이나를 침공한 러시아에 각종 제재를 가하고 있다  \n",
       "1                  이에 러시아 고양이도 국제 대회에 출전하지 못한다는 소식이 전해졌다  \n",
       "2      지난 3일현지 시각 영국 일간 데일리메일에 따르면 70여 년 역를 가 국제고양이연맹...  \n",
       "3      고양이연맹은 예쁜 고양이 대회를 비롯해 매년 700여 개의 고양이 관련 대회를 주최해왔다  \n",
       "4      연맹 측은 오는 5월 말까지 러시아산 고양이의 수입을 금지하고 러시아에서 태어난 고...  \n",
       "...                                                  ...  \n",
       "28534         알파고는 이런 훈련을 몇 주 만에 끝내고 이세돌 9단을 이길 수 있었던 거야  \n",
       "28535  아마도 람이 이 방법으로 학습한다면 똑같은 과정을 거치는 데 1000년도 더 걸렸을...  \n",
       "28536  우리에게는 너무 당연한 일이지만 예전에는 컴퓨터가 람 얼굴과 고양이 얼굴을 구별하는...  \n",
       "28537                     알파고처럼 학습한 끝에 고양이를 알아차릴 수 있게 됐지  \n",
       "28538              다락원 어린이를 위한 4차 산업 혁명 안내서 정윤선 글 우연희 그림  \n",
       "\n",
       "[28539 rows x 4 columns]"
      ]
     },
     "execution_count": 55,
     "metadata": {},
     "output_type": "execute_result"
    }
   ],
   "source": [
    "new_news_summary = pd.DataFrame(columns = ['news_idx','news_title','news_subtitle','news_article'],data=total_data)\n",
    "new_news_summary"
   ]
  },
  {
   "cell_type": "code",
   "execution_count": 56,
   "id": "e23e8e82-433a-4739-bfcb-cbad8ea7ebb4",
   "metadata": {
    "tags": []
   },
   "outputs": [],
   "source": [
    "# # pandas.DataFrame.itertuples 각 행에 대한 튜플을 반복하는 객체를 반환\n",
    "# for index, row in p_news_summary.iterrows():\n",
    "#     print(index)\n",
    "#     print('~~~~~~')\n",
    "    \n",
    "#     print(row)\n",
    "#     print('------')"
   ]
  },
  {
   "cell_type": "markdown",
   "id": "e3c3fcdb-5f7c-43ce-83c4-0af6bfb3b565",
   "metadata": {},
   "source": [
    "---"
   ]
  },
  {
   "cell_type": "markdown",
   "id": "c54cb2a6-63e7-4d9f-a458-7f499cea8d88",
   "metadata": {
    "tags": []
   },
   "source": [
    "## 5. 형태소 분석"
   ]
  },
  {
   "cell_type": "markdown",
   "id": "d34028b0-13a0-4313-86fa-a69e80659005",
   "metadata": {},
   "source": [
    "### KoNLTK: Korean Natural Language ToolKit\n",
    "- KoNLPy(“코엔엘파이”라고 읽습니다)는 한국어 정보처리를 위한 파이썬 패키지\n",
    "- tokenizing"
   ]
  },
  {
   "cell_type": "code",
   "execution_count": 57,
   "id": "0cd14bfe-b051-470f-96d2-0ae3f6859355",
   "metadata": {},
   "outputs": [
    {
     "name": "stdout",
     "output_type": "stream",
     "text": [
      "title: 러시아 고양이는 안 됩니다 \n",
      "article: 전 세계가 우크라이나를 침공한 러시아에 각종 제재를 가하고 있다\n"
     ]
    }
   ],
   "source": [
    "news_title = str(new_news_summary[\"news_title\"][0])\n",
    "news_article = str(new_news_summary[\"news_article\"][0])\n",
    "print('title:',news_title,'\\narticle:',news_article)"
   ]
  },
  {
   "cell_type": "code",
   "execution_count": 58,
   "id": "1de6c69d-e790-43b7-aeb1-42d9874dfbcd",
   "metadata": {},
   "outputs": [
    {
     "data": {
      "text/plain": [
       "str"
      ]
     },
     "execution_count": 58,
     "metadata": {},
     "output_type": "execute_result"
    }
   ],
   "source": [
    "type(news_title)"
   ]
  },
  {
   "cell_type": "markdown",
   "id": "7980a7b8-0559-4128-8f32-a28281f82446",
   "metadata": {
    "tags": []
   },
   "source": [
    "### Mecab 형태소 분석기\n",
    "- 일본어용 형태소 분석기를 한국어를 사용할 수 있도록 수정"
   ]
  },
  {
   "cell_type": "code",
   "execution_count": 59,
   "id": "20ba5fc8-2629-475f-bef9-7ff3d9a4a44d",
   "metadata": {},
   "outputs": [],
   "source": [
    "from konlpy.tag import Mecab \n",
    "# from eunjeon import Mecab \n",
    "mecab = Mecab()"
   ]
  },
  {
   "cell_type": "code",
   "execution_count": 60,
   "id": "46ca8c24-0b7e-47a6-906c-ec080a347b7e",
   "metadata": {},
   "outputs": [
    {
     "name": "stdout",
     "output_type": "stream",
     "text": [
      "['러시아', '고양이', '는', '안', '됩니다']\n"
     ]
    }
   ],
   "source": [
    "# 텍스트에서 형태소를 반환한다\n",
    "print(mecab.morphs(news_title))"
   ]
  },
  {
   "cell_type": "code",
   "execution_count": 61,
   "id": "d91d91b5-3c88-49c2-af0d-06d7e8c52599",
   "metadata": {},
   "outputs": [
    {
     "name": "stdout",
     "output_type": "stream",
     "text": [
      "['러시아', '고양이']\n"
     ]
    }
   ],
   "source": [
    "# 텍스트에서 명사를 반환한다\n",
    "print(mecab.nouns(news_title))"
   ]
  },
  {
   "cell_type": "code",
   "execution_count": 62,
   "id": "51d6e9a8-53fb-4362-908f-55e549b3e559",
   "metadata": {},
   "outputs": [
    {
     "name": "stdout",
     "output_type": "stream",
     "text": [
      "[('러시아', 'NNP'), ('고양이', 'NNG'), ('는', 'JX'), ('안', 'MAG'), ('됩니다', 'VV+EF')]\n"
     ]
    }
   ],
   "source": [
    "# 텍스트에서 품사 정보를 부착하여 반환한다\n",
    "print(mecab.pos(news_title))"
   ]
  },
  {
   "cell_type": "markdown",
   "id": "0e7b16c9-06cc-4b02-ace7-9824d2d79e95",
   "metadata": {},
   "source": [
    "---"
   ]
  },
  {
   "cell_type": "markdown",
   "id": "6a88866a-e8da-4399-85e0-c906905468d7",
   "metadata": {
    "tags": []
   },
   "source": [
    "### Kkma\n",
    "- 서울대학교 IDS(intelligent Data Systems) 연구실에서 개발"
   ]
  },
  {
   "cell_type": "code",
   "execution_count": 63,
   "id": "9dd1ee4d-3692-4739-9752-becb6e47a24b",
   "metadata": {},
   "outputs": [],
   "source": [
    "from konlpy.tag import Kkma \n",
    "JVM_PATH = '/Library/Java/JavaVirtualMachines/zulu-15.jdk/Contents/Home/bin/java'\n",
    "kkma = Kkma(jvmpath=JVM_PATH)"
   ]
  },
  {
   "cell_type": "code",
   "execution_count": 64,
   "id": "480bd96a-3e6c-41a9-ab67-02aef724b934",
   "metadata": {},
   "outputs": [
    {
     "name": "stdout",
     "output_type": "stream",
     "text": [
      "['러시아', '고양이', '는', '안', '되', 'ㅂ니다']\n"
     ]
    }
   ],
   "source": [
    "# 텍스트에서 형태소를 반환한다\n",
    "print(kkma.morphs(news_title))"
   ]
  },
  {
   "cell_type": "code",
   "execution_count": 65,
   "id": "85040691-7e8b-4359-a2d4-5e1dff92d971",
   "metadata": {},
   "outputs": [
    {
     "name": "stdout",
     "output_type": "stream",
     "text": [
      "['러시아', '고양이']\n"
     ]
    }
   ],
   "source": [
    "# 텍스트에서 명사를 반환한다\n",
    "print(kkma.nouns(news_title))"
   ]
  },
  {
   "cell_type": "code",
   "execution_count": 66,
   "id": "96556f98-f9ec-4a31-875e-f184d5b14728",
   "metadata": {},
   "outputs": [
    {
     "name": "stdout",
     "output_type": "stream",
     "text": [
      "[('러시아', 'NNG'), ('고양이', 'NNG'), ('는', 'JX'), ('안', 'MAG'), ('되', 'VV'), ('ㅂ니다', 'EFN')]\n"
     ]
    }
   ],
   "source": [
    "# 텍스트에서 품사 정보를 부착하여 반환한다\n",
    "print(kkma.pos(news_title))"
   ]
  },
  {
   "cell_type": "markdown",
   "id": "59f858ee-1482-4977-a3ab-d1d9d470d710",
   "metadata": {},
   "source": [
    "---"
   ]
  },
  {
   "cell_type": "markdown",
   "id": "491e7602-e50d-498b-a0f3-425f3410bdea",
   "metadata": {},
   "source": [
    "### Okt (Twitter)\n",
    "- 오픈 소스 한국어 분석기이고, 과거 트위터 형태소 분석기"
   ]
  },
  {
   "cell_type": "code",
   "execution_count": 67,
   "id": "f45e2b2f-e19a-4af8-b84b-a180ca5f7f64",
   "metadata": {},
   "outputs": [],
   "source": [
    "# from konlpy.tag import Twitter\n",
    "from konlpy.tag import Okt  \n",
    "okt = Okt(jvmpath=JVM_PATH) "
   ]
  },
  {
   "cell_type": "code",
   "execution_count": 68,
   "id": "82f23d9e-9039-4572-9fa3-8d5791a4cd43",
   "metadata": {},
   "outputs": [
    {
     "name": "stdout",
     "output_type": "stream",
     "text": [
      "['러시아', '고양이', '는', '안', '됩니다']\n"
     ]
    }
   ],
   "source": [
    "# 텍스트에서 형태소를 반환한다\n",
    "print(okt.morphs(news_title))"
   ]
  },
  {
   "cell_type": "code",
   "execution_count": 69,
   "id": "3f0206c8-9e31-49e1-8ba9-ed69b38c4e2a",
   "metadata": {},
   "outputs": [
    {
     "name": "stdout",
     "output_type": "stream",
     "text": [
      "['러시아', '고양이', '안']\n"
     ]
    }
   ],
   "source": [
    "# 텍스트에서 명사를 반환한다\n",
    "print(okt.nouns(news_title))"
   ]
  },
  {
   "cell_type": "code",
   "execution_count": 70,
   "id": "896ff3d6-779a-4cfa-b31e-1c1d9a8cf865",
   "metadata": {},
   "outputs": [
    {
     "name": "stdout",
     "output_type": "stream",
     "text": [
      "['러시아', '러시아 고양이', '고양이']\n"
     ]
    }
   ],
   "source": [
    "# 텍스트에서 어절을 뽑아낸다\n",
    "print(okt.phrases(news_title))"
   ]
  },
  {
   "cell_type": "code",
   "execution_count": 71,
   "id": "a5546721-3108-4fb2-8b5f-8c8b4dfb09b8",
   "metadata": {},
   "outputs": [
    {
     "name": "stdout",
     "output_type": "stream",
     "text": [
      "[('러시아', 'Noun'), ('고양이', 'Noun'), ('는', 'Josa'), ('안', 'Noun'), ('됩니다', 'Verb')]\n"
     ]
    }
   ],
   "source": [
    "# 텍스트에서 품사 정보를 부착하여 반환한다\n",
    "print(okt.pos(news_title))"
   ]
  },
  {
   "cell_type": "markdown",
   "id": "2faa0b51-5731-4d40-a523-ad938144dc26",
   "metadata": {},
   "source": [
    "---"
   ]
  },
  {
   "cell_type": "markdown",
   "id": "8ccbf9c3-846a-4f8b-80aa-28836a8ccd86",
   "metadata": {
    "tags": []
   },
   "source": [
    "## 6. News Article 유사도 분석\n",
    "- title과 article의 유사도 분석하기"
   ]
  },
  {
   "cell_type": "code",
   "execution_count": 73,
   "id": "90708089-e020-47c5-97ec-8af78145617c",
   "metadata": {},
   "outputs": [
    {
     "data": {
      "text/plain": [
       "news_idx\n",
       "1        7\n",
       "2        8\n",
       "3        9\n",
       "4        7\n",
       "5       12\n",
       "        ..\n",
       "1525    20\n",
       "1526    11\n",
       "1527    28\n",
       "1528    11\n",
       "1529    37\n",
       "Length: 1529, dtype: int64"
      ]
     },
     "execution_count": 73,
     "metadata": {},
     "output_type": "execute_result"
    }
   ],
   "source": [
    "idx_groups = new_news_summary.groupby('news_idx')\n",
    "idx_groups.size()\n",
    "#pandas.core.groupby.generic.DataFrameGroupBy\n",
    "# type(idx_groups)\n",
    "# idx_groups.sort_values(by='news_idx' ,ascending=True)"
   ]
  },
  {
   "cell_type": "code",
   "execution_count": 74,
   "id": "33fcd29f-79b6-44b5-a8c4-dfb008a969de",
   "metadata": {},
   "outputs": [
    {
     "data": {
      "text/html": [
       "<div>\n",
       "<style scoped>\n",
       "    .dataframe tbody tr th:only-of-type {\n",
       "        vertical-align: middle;\n",
       "    }\n",
       "\n",
       "    .dataframe tbody tr th {\n",
       "        vertical-align: top;\n",
       "    }\n",
       "\n",
       "    .dataframe thead th {\n",
       "        text-align: right;\n",
       "    }\n",
       "</style>\n",
       "<table border=\"1\" class=\"dataframe\">\n",
       "  <thead>\n",
       "    <tr style=\"text-align: right;\">\n",
       "      <th></th>\n",
       "      <th>news_idx</th>\n",
       "      <th>news_title</th>\n",
       "      <th>news_subtitle</th>\n",
       "      <th>news_article</th>\n",
       "    </tr>\n",
       "  </thead>\n",
       "  <tbody>\n",
       "    <tr>\n",
       "      <th>0</th>\n",
       "      <td>1</td>\n",
       "      <td>러시아 고양이는 안 됩니다</td>\n",
       "      <td>국제고양이연맹, '월드 캣 쇼'서 퇴출</td>\n",
       "      <td>전 세계가 우크라이나를 침공한 러시아에 각종 제재를 가하고 있다</td>\n",
       "    </tr>\n",
       "    <tr>\n",
       "      <th>1</th>\n",
       "      <td>1</td>\n",
       "      <td>러시아 고양이는 안 됩니다</td>\n",
       "      <td>국제고양이연맹, '월드 캣 쇼'서 퇴출</td>\n",
       "      <td>이에 러시아 고양이도 국제 대회에 출전하지 못한다는 소식이 전해졌다</td>\n",
       "    </tr>\n",
       "  </tbody>\n",
       "</table>\n",
       "</div>"
      ],
      "text/plain": [
       "   news_idx      news_title          news_subtitle  \\\n",
       "0         1  러시아 고양이는 안 됩니다  국제고양이연맹, '월드 캣 쇼'서 퇴출   \n",
       "1         1  러시아 고양이는 안 됩니다  국제고양이연맹, '월드 캣 쇼'서 퇴출   \n",
       "\n",
       "                            news_article  \n",
       "0    전 세계가 우크라이나를 침공한 러시아에 각종 제재를 가하고 있다  \n",
       "1  이에 러시아 고양이도 국제 대회에 출전하지 못한다는 소식이 전해졌다  "
      ]
     },
     "execution_count": 74,
     "metadata": {},
     "output_type": "execute_result"
    }
   ],
   "source": [
    "# 딕셔너리로 범주별로 저장\n",
    "group_news_df = dict(list(idx_groups))\n",
    "# pandas.core.frame.DataFrame\n",
    "# type(group_news_df[1])\n",
    "group_news_df[1][:2]"
   ]
  },
  {
   "cell_type": "code",
   "execution_count": 75,
   "id": "f19a2097-215c-45d9-b644-e346fc7fed7a",
   "metadata": {},
   "outputs": [
    {
     "data": {
      "text/html": [
       "<div>\n",
       "<style scoped>\n",
       "    .dataframe tbody tr th:only-of-type {\n",
       "        vertical-align: middle;\n",
       "    }\n",
       "\n",
       "    .dataframe tbody tr th {\n",
       "        vertical-align: top;\n",
       "    }\n",
       "\n",
       "    .dataframe thead th {\n",
       "        text-align: right;\n",
       "    }\n",
       "</style>\n",
       "<table border=\"1\" class=\"dataframe\">\n",
       "  <thead>\n",
       "    <tr style=\"text-align: right;\">\n",
       "      <th></th>\n",
       "      <th>news_idx</th>\n",
       "      <th>news_title</th>\n",
       "      <th>news_subtitle</th>\n",
       "      <th>news_article</th>\n",
       "    </tr>\n",
       "  </thead>\n",
       "  <tbody>\n",
       "    <tr>\n",
       "      <th>0</th>\n",
       "      <td>1</td>\n",
       "      <td>러시아 고양이는 안 됩니다</td>\n",
       "      <td>국제고양이연맹, '월드 캣 쇼'서 퇴출</td>\n",
       "      <td>전 세계가 우크라이나를 침공한 러시아에 각종 제재를 가하고 있다</td>\n",
       "    </tr>\n",
       "    <tr>\n",
       "      <th>1</th>\n",
       "      <td>1</td>\n",
       "      <td>러시아 고양이는 안 됩니다</td>\n",
       "      <td>국제고양이연맹, '월드 캣 쇼'서 퇴출</td>\n",
       "      <td>이에 러시아 고양이도 국제 대회에 출전하지 못한다는 소식이 전해졌다</td>\n",
       "    </tr>\n",
       "  </tbody>\n",
       "</table>\n",
       "</div>"
      ],
      "text/plain": [
       "   news_idx      news_title          news_subtitle  \\\n",
       "0         1  러시아 고양이는 안 됩니다  국제고양이연맹, '월드 캣 쇼'서 퇴출   \n",
       "1         1  러시아 고양이는 안 됩니다  국제고양이연맹, '월드 캣 쇼'서 퇴출   \n",
       "\n",
       "                            news_article  \n",
       "0    전 세계가 우크라이나를 침공한 러시아에 각종 제재를 가하고 있다  \n",
       "1  이에 러시아 고양이도 국제 대회에 출전하지 못한다는 소식이 전해졌다  "
      ]
     },
     "execution_count": 75,
     "metadata": {},
     "output_type": "execute_result"
    }
   ],
   "source": [
    "#==위와동일\n",
    "new_news_summary[new_news_summary['news_idx']==1][:2]"
   ]
  },
  {
   "cell_type": "code",
   "execution_count": 76,
   "id": "df4a21fa-5761-472d-ab25-9b4007c417e6",
   "metadata": {},
   "outputs": [
    {
     "data": {
      "text/plain": [
       "28539"
      ]
     },
     "execution_count": 76,
     "metadata": {},
     "output_type": "execute_result"
    }
   ],
   "source": [
    "len(new_news_summary.index)"
   ]
  },
  {
   "cell_type": "code",
   "execution_count": 220,
   "id": "6f73e44f-f94c-4a6e-b64d-302e30f5338c",
   "metadata": {},
   "outputs": [
    {
     "name": "stdout",
     "output_type": "stream",
     "text": [
      "CPU times: user 7.7 s, sys: 66.5 ms, total: 7.77 s\n",
      "Wall time: 6.42 s\n"
     ]
    }
   ],
   "source": [
    "%%time #pandas apply()\n",
    "total_news_title = []\n",
    "total_news_article = []\n",
    "for i in range(len(new_news_summary.index)) :\n",
    "    news_title = new_news_summary[new_news_summary['news_idx']==i+1].news_title\n",
    "    news_article = new_news_summary[new_news_summary['news_idx']==i+1].news_article\n",
    "    total_news_title.append(news_title)\n",
    "    total_news_article.append(news_article)"
   ]
  },
  {
   "cell_type": "code",
   "execution_count": 223,
   "id": "65c751a1-16c3-4281-9cd1-aed1b0aaf6ee",
   "metadata": {},
   "outputs": [
    {
     "name": "stdout",
     "output_type": "stream",
     "text": [
      "0    러시아 고양이는 안 됩니다\n",
      "1    러시아 고양이는 안 됩니다\n",
      "2    러시아 고양이는 안 됩니다\n",
      "3    러시아 고양이는 안 됩니다\n",
      "4    러시아 고양이는 안 됩니다\n",
      "5    러시아 고양이는 안 됩니다\n",
      "6    러시아 고양이는 안 됩니다\n",
      "Name: news_title, dtype: object\n",
      "0                  전 세계가 우크라이나를 침공한 러시아에 각종 제재를 가하고 있다\n",
      "1                이에 러시아 고양이도 국제 대회에 출전하지 못한다는 소식이 전해졌다\n",
      "2    지난 3일현지 시각 영국 일간 데일리메일에 따르면 70여 년 역를 가 국제고양이연맹...\n",
      "3    고양이연맹은 예쁜 고양이 대회를 비롯해 매년 700여 개의 고양이 관련 대회를 주최해왔다\n",
      "4    연맹 측은 오는 5월 말까지 러시아산 고양이의 수입을 금지하고 러시아에서 태어난 고...\n",
      "5        이어 우크라이나 난민과 피란 중인 반려동물을 위한 기금도 마련할 것이라고 덧붙였다\n",
      "6                  러시아 고양이의 국제 대회 출전 금지령에 대해 어떻게 생각하나요\n",
      "Name: news_article, dtype: object\n"
     ]
    }
   ],
   "source": [
    "print(total_news_title[0])\n",
    "print(total_news_article[0])"
   ]
  },
  {
   "cell_type": "markdown",
   "id": "7e564830-18b2-42d3-993c-61e886bb252d",
   "metadata": {},
   "source": [
    "---"
   ]
  },
  {
   "cell_type": "markdown",
   "id": "01b48856-9034-4438-b713-b283b583d5fa",
   "metadata": {},
   "source": [
    "### Mecab 형태소 분석"
   ]
  },
  {
   "cell_type": "markdown",
   "id": "c92b879c-8825-4db1-9db5-0186fcfeac28",
   "metadata": {},
   "source": [
    "- news_article"
   ]
  },
  {
   "cell_type": "code",
   "execution_count": 224,
   "id": "732d3f46-c112-4dfb-b09f-192a801502a4",
   "metadata": {
    "tags": []
   },
   "outputs": [
    {
     "name": "stdout",
     "output_type": "stream",
     "text": [
      "CPU times: user 1.22 s, sys: 10.3 ms, total: 1.23 s\n",
      "Wall time: 1.23 s\n"
     ]
    }
   ],
   "source": [
    "%%time\n",
    "# total_news_title\n",
    "# total_news_article\n",
    "total_group_news_article = []\n",
    "for group_news_article in total_news_article :\n",
    "    \n",
    "    news_article_sentence = []\n",
    "    for sentence in group_news_article:\n",
    "        news_noun = ' '.join(mecab.nouns(sentence))\n",
    "        news_article_sentence.append(news_noun)\n",
    "    total_group_news_article.append(news_article_sentence)"
   ]
  },
  {
   "cell_type": "code",
   "execution_count": 225,
   "id": "65f20ffe-4cb4-45de-b183-8ab278c132ed",
   "metadata": {},
   "outputs": [
    {
     "data": {
      "text/plain": [
       "['세계 우크라이나 침공 러시아 각종 제재',\n",
       " '이 러시아 고양이 국제 대회 출전 소식',\n",
       " '일 현지 시각 영국 일간 데일리 메일 년 역 국제 고양이 연맹 최근 성명 월드 캣 쇼 러시아 소속 고양이 참가 금지',\n",
       " '고양이 연맹 고양이 대회 개 고양이 관련 대회 주최',\n",
       " '연맹 측 월 말 러시아 고양이 수입 금지 러시아 고양이 혈통서 등록 허용 우크라이나 러시아 잔혹 행위 이상 침묵 수',\n",
       " '우크라 난민 피란 중 반려 동물 기금 마련 것',\n",
       " '러시아 고양이 국제 대회 출전 금지령 생각']"
      ]
     },
     "execution_count": 225,
     "metadata": {},
     "output_type": "execute_result"
    }
   ],
   "source": [
    "total_group_news_article[0]"
   ]
  },
  {
   "cell_type": "markdown",
   "id": "c0e962f1-abf1-44aa-84f8-2a279a9b7ce5",
   "metadata": {},
   "source": [
    "- news_title"
   ]
  },
  {
   "cell_type": "code",
   "execution_count": 226,
   "id": "6658e96e-5062-4088-94a4-cfe8c7ccabc2",
   "metadata": {
    "tags": []
   },
   "outputs": [
    {
     "name": "stdout",
     "output_type": "stream",
     "text": [
      "CPU times: user 3.61 s, sys: 36.3 ms, total: 3.64 s\n",
      "Wall time: 1.6 s\n"
     ]
    }
   ],
   "source": [
    "%%time\n",
    "# total_news_title\n",
    "# total_news_article\n",
    "total_group_news_title = []\n",
    "for group_news_title in total_news_title :\n",
    "    \n",
    "    news_title_sentence = []\n",
    "    for sentence in group_news_title:\n",
    "        news_noun = ' '.join(mecab.nouns(sentence))\n",
    "        news_title_sentence.append(news_noun)\n",
    "    total_group_news_title.append(news_title_sentence)"
   ]
  },
  {
   "cell_type": "code",
   "execution_count": 227,
   "id": "26d2f649-f6ad-4be7-b8ae-a455838d0a1c",
   "metadata": {},
   "outputs": [
    {
     "data": {
      "text/plain": [
       "['러시아 고양이', '러시아 고양이', '러시아 고양이', '러시아 고양이', '러시아 고양이', '러시아 고양이', '러시아 고양이']"
      ]
     },
     "execution_count": 227,
     "metadata": {},
     "output_type": "execute_result"
    }
   ],
   "source": [
    "total_group_news_title[0]"
   ]
  },
  {
   "cell_type": "markdown",
   "id": "c9f4438c-8f20-412f-9f6b-ac56070381cb",
   "metadata": {},
   "source": [
    "---"
   ]
  }
 ],
 "metadata": {
  "kernelspec": {
   "display_name": "imok",
   "language": "python",
   "name": "imok"
  },
  "language_info": {
   "codemirror_mode": {
    "name": "ipython",
    "version": 3
   },
   "file_extension": ".py",
   "mimetype": "text/x-python",
   "name": "python",
   "nbconvert_exporter": "python",
   "pygments_lexer": "ipython3",
   "version": "3.9.10"
  }
 },
 "nbformat": 4,
 "nbformat_minor": 5
}
