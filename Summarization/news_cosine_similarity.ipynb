{
 "cells": [
  {
   "cell_type": "markdown",
   "id": "62a24104-4511-4b31-be74-e57ffffc6d28",
   "metadata": {},
   "source": [
    "## 다음 뉴스 유사도 (코사인 유사도)\n",
    "- https://wikidocs.net/159030"
   ]
  },
  {
   "cell_type": "code",
   "execution_count": 16,
   "id": "3ca6c33e-3b8a-4750-a2f8-17ad1fcb8b49",
   "metadata": {},
   "outputs": [],
   "source": [
    "import requests\n",
    "from bs4 import BeautifulSoup\n",
    "import konlpy\n",
    "from sklearn.feature_extraction.text import TfidfVectorizer\n",
    "from sklearn.metrics.pairwise import cosine_similarity\n",
    "import matplotlib.pyplot as plt\n",
    "#Window 의 한글 폰트 설정\n",
    "#plt.rc('font', family='Malgun Gothic')\n",
    "#Mac 의 한글 폰트 설정\n",
    "plt.rc('font', family='AppleGothic')\n",
    "import seaborn as sns"
   ]
  },
  {
   "cell_type": "code",
   "execution_count": 17,
   "id": "adf9ecda-0e20-4a6a-8bf5-f18258125d07",
   "metadata": {},
   "outputs": [],
   "source": [
    "def detail_info(url):\n",
    "    res = requests.get(url)\n",
    "\n",
    "    #\n",
    "\n",
    "    text = res.text\n",
    "    #print(text)\n",
    "\n",
    "    soup = BeautifulSoup(text,'html.parser')\n",
    "\n",
    "    title = soup.select_one('#cSub > div > h3').text.strip()\n",
    "\n",
    "    if soup.select('#cSub > div > span > span') and len(soup.select('#cSub > div > span > span')) > 1:\n",
    "        date = soup.select('#cSub > div > span > span')[1].text.replace('입력 ', '')\n",
    "    else:\n",
    "        date = ''\n",
    "\n",
    "    contents = soup.select_one('#harmonyContainer > section').text.strip()\n",
    "\n",
    "    return title, date, contents"
   ]
  },
  {
   "cell_type": "code",
   "execution_count": 18,
   "id": "ffae1bc2-6389-4297-b589-80c758469139",
   "metadata": {},
   "outputs": [
    {
     "name": "stdout",
     "output_type": "stream",
     "text": [
      "여러 약 복용하면 우울감 높일 수 있다\n",
      "2018. 06. 13. 16:05\n",
      "여러 약물을 복용하는 사람은 우울증이나 자살 충동 등 부작용 위험이 높다는 연구 결과가 나와 의약품 복용에 주의가 필요해 보인다.\n",
      "일리노이 약학대학 디마 마젠 카토 교수팀이 여러 약을 복용하는 미국인 세 명 중 한 명은 약의 부작용으로 우울증을 앓을 수 있다고 경고했다.\n",
      "카토 교수팀은 미국 국립건강영양조사(2005~2014년)의 자료를 수집해, 약물 복용 현황과 우울증ㆍ자살 충동 등의 위험을 조사했다. 그 결과, 우울증 관련 처방 약품 중 3종류 이상을 복용하는 사람이 2005년 7%에서 2014년 10%로 늘었다고 확인됐다. 또한, 자살 충동의 부작용을 일으킬 수 있는 약품의 사용도 10년 만에 17%에서 24%로 늘었다.\n",
      "이번 조사를 통해 카토 교수는 여러 약품을 복용하는 성인 중 우울증으로 발전할 가능성이 높은 사람이 눈에 띄게 늘었다고 지적했다. 예를 들어, 3종류 이상의 약을 복용하는 사람의 15%가 우울증으로 나타났지만 한 종류만 복용하는 사람은 7%에 불과했다.\n",
      "카토 교수는 \"다중약물요법은 잠재적으로 우울증이나 자살 충동을 높일 수 있으며 우울증 환자의 꾸준한 증가에 기여했을 수 있다\"고 말했다.\n",
      "이번 연구에서 경고하는 의약품은 베타 차단제와 같은 혈압약, 피임약, 두통약 등을 포함한다. 조사 대상자 2만 6000명 중 37%는 이 약을 먹고 있다는 점에서 우려가 된다. 또한 간질환자가 사용하는 가가벤틴, 대상포진 치료제, 위장약 등도 우울증 유발과 관련이 있다고 설명했다. 이중 처방전 없이도 약국에서 구매할 수 있는 약도 있어 약물 남용 문제와도 연관된다. 연구팀에 따르면 미국 성인 15%는 5종류 이상의 처방 약을 복용 중이다.\n",
      "카토 교수는 \"이번 연구가 의약품의 부작용이 우울증이라는 것을 증명한 것은 아니지만, 다중약물요법이 우울증과 연관이 있을 수 있다는 점을 지적한 것\"이라고 설명했다.\n",
      "이 연구는 '미국의사협회지(JAMA, Journal of the American Medical Association)'에 게재됐다.\n",
      "[사진=Lunatta/shutterstock]\n"
     ]
    }
   ],
   "source": [
    "title, date, contents = detail_info('http://v.media.daum.net/v/20180613160505065')\n",
    "print(title) # 제목\n",
    "print(date) # 날짜\n",
    "print(contents) # 내용"
   ]
  },
  {
   "cell_type": "markdown",
   "id": "4e895da0-9224-43da-bdfb-94cfa774e769",
   "metadata": {},
   "source": [
    "---"
   ]
  },
  {
   "cell_type": "code",
   "execution_count": 13,
   "id": "463a174e-1e0e-4510-83fa-dd28eb33847e",
   "metadata": {},
   "outputs": [],
   "source": [
    "url_list = ['http://v.media.daum.net/v/20171215130602344',\n",
    "            'http://v.media.daum.net/v/20171215130312300',\n",
    "            'http://v.media.daum.net/v/20171215111203921',\n",
    "            'http://v.media.daum.net/v/20171216002700566',\n",
    "            'http://v.media.daum.net/v/20171215214505350']"
   ]
  },
  {
   "cell_type": "code",
   "execution_count": 27,
   "id": "0ca8832d-7ef9-4533-8b9b-3abd5f610284",
   "metadata": {},
   "outputs": [],
   "source": [
    "titles = []\n",
    "mydoclist_twitter = []\n",
    "\n",
    "for url in url_list:\n",
    "    title, date, contents = detail_info(url)\n",
    "\n",
    "    JVM_PATH = '/Library/Java/JavaVirtualMachines/zulu-15.jdk/Contents/Home/bin/java'\n",
    "    titles.append(title)\n",
    "    okt = konlpy.tag.Okt(jvmpath=JVM_PATH)\n",
    "    twitter_nouns = ' '.join(okt.nouns(contents)) #텍스트에서 명사 반환\n",
    "    mydoclist_twitter.append(twitter_nouns)"
   ]
  },
  {
   "cell_type": "code",
   "execution_count": 28,
   "id": "034a8523-9a09-494d-8168-c2387482783f",
   "metadata": {},
   "outputs": [
    {
     "data": {
      "text/plain": [
       "['캐나다 중앙은행 총재 \"비트코인 구매는 투자 아닌 도박\"',\n",
       " '캐나다 중앙은행 총재 \"비트코인 구매는 투자 아닌 도박\"',\n",
       " '캐나다 중앙은행 총재 \"비트코인 구매는 투자 아닌 도박\"',\n",
       " '[날씨] 주말에도 한파, 서해안 최고 15cm 많은 눈',\n",
       " '[날씨] 전국 한파, 주말에도 계속..호남 서해안 15cm 폭설']"
      ]
     },
     "execution_count": 28,
     "metadata": {},
     "output_type": "execute_result"
    }
   ],
   "source": [
    "titles"
   ]
  },
  {
   "cell_type": "code",
   "execution_count": 22,
   "id": "f5201a70-4af6-46a1-8333-89c576010ac2",
   "metadata": {},
   "outputs": [
    {
     "data": {
      "text/plain": [
       "['캐나다 중앙은행 캐나다 은행 스티븐 폴로 총재 현지 시간 이상 폭등 세 가상 화폐 비트코인 거래 대해 도박 규정 강력 경고 폴로 총재 토론토 경제 단체 주최 행사 참석 연설 통해 비트코인 거래 대해 투자 도박 고 지적 캐나다 통신 등 전 폴로 총재 가상 화폐 것 위험 구매 것 의미 며 비트코인 자 세부 조건 것 권고 그 비트코인 신뢰 만 가치 저장 수단 화폐 고 강조 폴로 총재 통화 간주 위 신뢰 만 가치 저장 기능 며 가상 화폐 요소 전혀 못 만큼 화폐 성립 고 말 또 현 상황 혼란 초래 수 요소 며 이 시점 제도 시스템 주의 가기 희망 고 밝혔스니 폴로 총재 비트코인 거래 차트 에펠 탑 왼쪽 편 모양 우리 볼 수 것 라며 여 년 전 정보기술 붐 현상 언급 당시 다행 것 방위 파급 효과 해당 분야 주식 거래 국한 점 지적 그 디지털 거래 전자 화폐 수요 추세 거론 중앙은행 소매 거래 활용 디지털 화폐 발행 문제 대해 상황 연구 검토 고 말 유영 규 기자',\n",
       " '캐나다 중앙은행 캐나다 은행 스티븐 폴로 총재 현지 시간 이상 폭등 세 가상 화폐 비트코인 거래 대해 도박 규정 강력 경고 폴로 총재 날 토론토 경제 단체 주최 행사 참석 연설 통해 비트코인 거래 대해 투자 도박 고 지적 캐나다 통신 등 전 폴로 총재 가상 화폐 것 위험 구매 것 의미 며 비트코인 자 세부 조건 것 권고 그 비트코인 신뢰 만 가치 저장 수단 화폐 고 강조 폴로 총재 통화 간주 위 신뢰 만 가치 저장 기능 며 가상 화폐 요소 전혀 못 만큼 화폐 성립 고 말 또 현 상황 혼란 초래 수 요소 며 이 시점 제도 시스템 주의 가기 희망 고 폴로 총재 비트코인 거래 차트 에펠 탑 왼쪽 편 모양 우리 볼 수 것 라며 여 년 전 정보기술 붐 현상 언급 당시 다행 것 방위 파급 효과 해당 분야 주식 거래 국한 점 지적 그 디지털 거래 전자 화폐 수요 추세 거론 중앙은행 소매 거래 활용 디지털 화폐 발행 문제 대해 상황 연구 검토 고 말 사진 출처 연합뉴스 최동 혁 기자',\n",
       " '밴쿠버 연합뉴스 조재용 통신원 캐나다 중앙은행 캐나다 은행 스티븐 폴로 총재 현지 시간 이상 폭등 세 가상 화폐 비트코인 거래 대해 도박 규정 강력 경고 폴로 총재 날 토론토 경제 단체 주최 행사 참석 연설 통해 비트코인 거래 대해 투자 도박 고 지적 캐나다 통신 등 전 폴로 총재 가상 화폐 것 위험 구매 것 의미 며 비트코인 자 세부 조건 것 권고 그 비트코인 신뢰 만 가치 저장 수단 화폐 고 강조 폴로 총재 통화 간주 위 신뢰 만 가치 저장 기능 며 가상 화폐 요소 전혀 못 만큼 화폐 성립 고 말 또 현 상황 혼란 초래 수 요소 며 이 시점 제도 시스템 주의 가기 희망 고 폴로 총재 비트코인 거래 차트 에펠 탑 왼쪽 편 모양 우리 볼 수 것 라며 여 년 전 정보기술 붐 현상 언급 당시 다행 것 방위 파급 효과 해당 분야 주식 거래 국한 점 지적 그 디지털 거래 전자 화폐 수요 추세 거론 중앙은행 소매 거래 활용 디지털 화폐 발행 문제 대해 상황 연구 검토 고 말 비트코인 메달 연합뉴스 자료 사진',\n",
       " '주말 휴일 영하 도 안팎 한파 속 서해안 중심 최고 의 눈 기상청 밤사이 중 부와 호남 지방 의 눈 온 뒤 오늘 오후 충남 호남 지방 눈 내일 아침 호남 서해안 제주 산간 최고 의 폭설 충남 호남 지방 의 눈 충북 제주도 전남 남해안 영남 서부 지역 눈 예상 기상청 서울 아침 기온 오늘 도 내일 도 등 주말 내내 강력 한파 것',\n",
       " '오늘 겨울 처음 한강 물이 작년 관측 가장 첫 결빙 밤사이 곳곳 눈 양은 안팎 빙판 길 주의 이번 주말 서해안 폭설 전국 한파 오후 충청 남서쪽 지방 다시 눈 시작 모레 오전 호남 서해안 최고 의 눈 기온 갈수록 내일 서울 아침 기온 영하 도 모레 영하 기록 경기 북부 초미세먼지 주의보 공기 곳 중부지방 내일 오전 미세먼지 주의 동해안 지방 내일 메 날씨 한파 주말 누 날씨 이여진 기상캐스터']"
      ]
     },
     "execution_count": 22,
     "metadata": {},
     "output_type": "execute_result"
    }
   ],
   "source": [
    "mydoclist_twitter"
   ]
  },
  {
   "cell_type": "markdown",
   "id": "bfbcd912-0174-4183-adea-4e16c954dd72",
   "metadata": {},
   "source": [
    "- 사이킷런은 데이터를 변환하는 대부분의 로직에서 fit()과 transform()을 쌍으로 사용\n",
    "- 즉 학습 데이터 세트로 fit() 된 Scaler를 이용하여 테스트 데이터를 변환할 경우에는  테스트 데이터에서 다시 fit()하지 않고 반드시 그대로 이 Scaler를 이용하여 transform()을 수행해야 합니다.\n",
    "- fit_transform을 사용하여 한번에 변환!\n",
    "- 참고 : https://subinium.github.io/MLwithPython-3-3/"
   ]
  },
  {
   "cell_type": "code",
   "execution_count": 25,
   "id": "e23e93ef-b0f5-46d5-9b83-ab5e51b54271",
   "metadata": {},
   "outputs": [
    {
     "data": {
      "text/plain": [
       "array([[1.        , 0.98022944, 0.9597407 , 0.00350846, 0.00658875],\n",
       "       [0.98022944, 1.        , 0.96911874, 0.00349146, 0.00655682],\n",
       "       [0.9597407 , 0.96911874, 1.        , 0.00337755, 0.00634291],\n",
       "       [0.00350846, 0.00349146, 0.00337755, 1.        , 0.42823012],\n",
       "       [0.00658875, 0.00655682, 0.00634291, 0.42823012, 1.        ]])"
      ]
     },
     "execution_count": 25,
     "metadata": {},
     "output_type": "execute_result"
    }
   ],
   "source": [
    "tfidf_vectorizer = TfidfVectorizer(min_df=1)\n",
    "tfidf_matrix_twitter = tfidf_vectorizer.fit_transform(mydoclist_twitter)\n",
    "\n",
    "similarity = cosine_similarity(tfidf_matrix_twitter, tfidf_matrix_twitter)\n",
    "similarity"
   ]
  },
  {
   "cell_type": "code",
   "execution_count": 32,
   "id": "bcc72a03-3491-4ada-b0f3-4266e76a1f55",
   "metadata": {},
   "outputs": [
    {
     "data": {
      "text/plain": [
       "(5, 162)"
      ]
     },
     "execution_count": 32,
     "metadata": {},
     "output_type": "execute_result"
    }
   ],
   "source": [
    "tfidf_matrix_twitter.shape \n",
    "# 5가지 기사, 162개의 단어\n",
    "# 162개 차원의 문서 벡터가 5개 존재"
   ]
  },
  {
   "cell_type": "code",
   "execution_count": 26,
   "id": "d693c480-2564-4228-b4d6-f4ae80e91e0c",
   "metadata": {},
   "outputs": [
    {
     "name": "stdout",
     "output_type": "stream",
     "text": [
      "(5, 5)\n"
     ]
    },
    {
     "data": {
      "image/png": "[encoded data removed]",
      "text/plain": [
       "<Figure size 432x288 with 2 Axes>"
      ]
     },
     "metadata": {
      "needs_background": "light"
     },
     "output_type": "display_data"
    }
   ],
   "source": [
    "print(similarity.shape) #(5, 5)\n",
    "\n",
    "sns.heatmap(similarity, xticklabels=titles, yticklabels=titles, cmap='viridis')\n",
    "plt.show()"
   ]
  }
 ],
 "metadata": {
  "kernelspec": {
   "display_name": "imok",
   "language": "python",
   "name": "imok"
  },
  "language_info": {
   "codemirror_mode": {
    "name": "ipython",
    "version": 3
   },
   "file_extension": ".py",
   "mimetype": "text/x-python",
   "name": "python",
   "nbconvert_exporter": "python",
   "pygments_lexer": "ipython3",
   "version": "3.9.10"
  }
 },
 "nbformat": 4,
 "nbformat_minor": 5
}
