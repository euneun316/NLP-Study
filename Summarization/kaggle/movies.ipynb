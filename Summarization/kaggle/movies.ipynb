{
 "cells": [
  {
   "cell_type": "markdown",
   "id": "000801bd-7f26-4519-b034-89f1ff1fba88",
   "metadata": {},
   "source": [
    "# 유사도를 이용한 추천 시스템 구현하기\n",
    "\n",
    "- kaggle data : https://www.kaggle.com/rounakbanik/the-movies-dataset?select=movies_metadata.csv\n",
    "- TF-IDF와 코사인 유사도"
   ]
  },
  {
   "cell_type": "code",
   "execution_count": 113,
   "id": "0c2d30c9-72eb-4a68-8890-4dc60a39c5b0",
   "metadata": {},
   "outputs": [
    {
     "data": {
      "text/html": [
       "<div>\n",
       "<style scoped>\n",
       "    .dataframe tbody tr th:only-of-type {\n",
       "        vertical-align: middle;\n",
       "    }\n",
       "\n",
       "    .dataframe tbody tr th {\n",
       "        vertical-align: top;\n",
       "    }\n",
       "\n",
       "    .dataframe thead th {\n",
       "        text-align: right;\n",
       "    }\n",
       "</style>\n",
       "<table border=\"1\" class=\"dataframe\">\n",
       "  <thead>\n",
       "    <tr style=\"text-align: right;\">\n",
       "      <th></th>\n",
       "      <th>adult</th>\n",
       "      <th>belongs_to_collection</th>\n",
       "      <th>budget</th>\n",
       "      <th>genres</th>\n",
       "      <th>homepage</th>\n",
       "      <th>id</th>\n",
       "      <th>imdb_id</th>\n",
       "      <th>original_language</th>\n",
       "      <th>original_title</th>\n",
       "      <th>overview</th>\n",
       "      <th>...</th>\n",
       "      <th>release_date</th>\n",
       "      <th>revenue</th>\n",
       "      <th>runtime</th>\n",
       "      <th>spoken_languages</th>\n",
       "      <th>status</th>\n",
       "      <th>tagline</th>\n",
       "      <th>title</th>\n",
       "      <th>video</th>\n",
       "      <th>vote_average</th>\n",
       "      <th>vote_count</th>\n",
       "    </tr>\n",
       "  </thead>\n",
       "  <tbody>\n",
       "    <tr>\n",
       "      <th>0</th>\n",
       "      <td>False</td>\n",
       "      <td>{'id': 10194, 'name': 'Toy Story Collection', ...</td>\n",
       "      <td>30000000</td>\n",
       "      <td>[{'id': 16, 'name': 'Animation'}, {'id': 35, '...</td>\n",
       "      <td>http://toystory.disney.com/toy-story</td>\n",
       "      <td>862</td>\n",
       "      <td>tt0114709</td>\n",
       "      <td>en</td>\n",
       "      <td>Toy Story</td>\n",
       "      <td>Led by Woody, Andy's toys live happily in his ...</td>\n",
       "      <td>...</td>\n",
       "      <td>1995-10-30</td>\n",
       "      <td>373554033.0</td>\n",
       "      <td>81.0</td>\n",
       "      <td>[{'iso_639_1': 'en', 'name': 'English'}]</td>\n",
       "      <td>Released</td>\n",
       "      <td>NaN</td>\n",
       "      <td>Toy Story</td>\n",
       "      <td>False</td>\n",
       "      <td>7.7</td>\n",
       "      <td>5415.0</td>\n",
       "    </tr>\n",
       "    <tr>\n",
       "      <th>1</th>\n",
       "      <td>False</td>\n",
       "      <td>NaN</td>\n",
       "      <td>65000000</td>\n",
       "      <td>[{'id': 12, 'name': 'Adventure'}, {'id': 14, '...</td>\n",
       "      <td>NaN</td>\n",
       "      <td>8844</td>\n",
       "      <td>tt0113497</td>\n",
       "      <td>en</td>\n",
       "      <td>Jumanji</td>\n",
       "      <td>When siblings Judy and Peter discover an encha...</td>\n",
       "      <td>...</td>\n",
       "      <td>1995-12-15</td>\n",
       "      <td>262797249.0</td>\n",
       "      <td>104.0</td>\n",
       "      <td>[{'iso_639_1': 'en', 'name': 'English'}, {'iso...</td>\n",
       "      <td>Released</td>\n",
       "      <td>Roll the dice and unleash the excitement!</td>\n",
       "      <td>Jumanji</td>\n",
       "      <td>False</td>\n",
       "      <td>6.9</td>\n",
       "      <td>2413.0</td>\n",
       "    </tr>\n",
       "  </tbody>\n",
       "</table>\n",
       "<p>2 rows × 24 columns</p>\n",
       "</div>"
      ],
      "text/plain": [
       "   adult                              belongs_to_collection    budget  \\\n",
       "0  False  {'id': 10194, 'name': 'Toy Story Collection', ...  30000000   \n",
       "1  False                                                NaN  65000000   \n",
       "\n",
       "                                              genres  \\\n",
       "0  [{'id': 16, 'name': 'Animation'}, {'id': 35, '...   \n",
       "1  [{'id': 12, 'name': 'Adventure'}, {'id': 14, '...   \n",
       "\n",
       "                               homepage    id    imdb_id original_language  \\\n",
       "0  http://toystory.disney.com/toy-story   862  tt0114709                en   \n",
       "1                                   NaN  8844  tt0113497                en   \n",
       "\n",
       "  original_title                                           overview  ...  \\\n",
       "0      Toy Story  Led by Woody, Andy's toys live happily in his ...  ...   \n",
       "1        Jumanji  When siblings Judy and Peter discover an encha...  ...   \n",
       "\n",
       "  release_date      revenue runtime  \\\n",
       "0   1995-10-30  373554033.0    81.0   \n",
       "1   1995-12-15  262797249.0   104.0   \n",
       "\n",
       "                                    spoken_languages    status  \\\n",
       "0           [{'iso_639_1': 'en', 'name': 'English'}]  Released   \n",
       "1  [{'iso_639_1': 'en', 'name': 'English'}, {'iso...  Released   \n",
       "\n",
       "                                     tagline      title  video vote_average  \\\n",
       "0                                        NaN  Toy Story  False          7.7   \n",
       "1  Roll the dice and unleash the excitement!    Jumanji  False          6.9   \n",
       "\n",
       "  vote_count  \n",
       "0     5415.0  \n",
       "1     2413.0  \n",
       "\n",
       "[2 rows x 24 columns]"
      ]
     },
     "execution_count": 113,
     "metadata": {},
     "output_type": "execute_result"
    }
   ],
   "source": [
    "import pandas as pd\n",
    "from sklearn.feature_extraction.text import TfidfVectorizer\n",
    "from sklearn.metrics.pairwise import cosine_similarity\n",
    "from sklearn.feature_extraction.text import CountVectorizer\n",
    "\n",
    "data = pd.read_csv('movies_metadata.csv', low_memory=False)\n",
    "data.head(2)"
   ]
  },
  {
   "cell_type": "code",
   "execution_count": 114,
   "id": "59d6dc0d-6716-41d2-8757-31e2eaa05dcf",
   "metadata": {},
   "outputs": [
    {
     "data": {
      "text/html": [
       "<div>\n",
       "<style scoped>\n",
       "    .dataframe tbody tr th:only-of-type {\n",
       "        vertical-align: middle;\n",
       "    }\n",
       "\n",
       "    .dataframe tbody tr th {\n",
       "        vertical-align: top;\n",
       "    }\n",
       "\n",
       "    .dataframe thead th {\n",
       "        text-align: right;\n",
       "    }\n",
       "</style>\n",
       "<table border=\"1\" class=\"dataframe\">\n",
       "  <thead>\n",
       "    <tr style=\"text-align: right;\">\n",
       "      <th></th>\n",
       "      <th>original_title</th>\n",
       "      <th>overview</th>\n",
       "    </tr>\n",
       "  </thead>\n",
       "  <tbody>\n",
       "    <tr>\n",
       "      <th>0</th>\n",
       "      <td>Toy Story</td>\n",
       "      <td>Led by Woody, Andy's toys live happily in his ...</td>\n",
       "    </tr>\n",
       "    <tr>\n",
       "      <th>1</th>\n",
       "      <td>Jumanji</td>\n",
       "      <td>When siblings Judy and Peter discover an encha...</td>\n",
       "    </tr>\n",
       "  </tbody>\n",
       "</table>\n",
       "</div>"
      ],
      "text/plain": [
       "  original_title                                           overview\n",
       "0      Toy Story  Led by Woody, Andy's toys live happily in his ...\n",
       "1        Jumanji  When siblings Judy and Peter discover an encha..."
      ]
     },
     "execution_count": 114,
     "metadata": {},
     "output_type": "execute_result"
    }
   ],
   "source": [
    "data[['original_title','overview']][:2]"
   ]
  },
  {
   "cell_type": "code",
   "execution_count": 115,
   "id": "7e94ee68-8c3c-4ed6-9924-54377e0cb147",
   "metadata": {},
   "outputs": [
    {
     "data": {
      "text/html": [
       "<div>\n",
       "<style scoped>\n",
       "    .dataframe tbody tr th:only-of-type {\n",
       "        vertical-align: middle;\n",
       "    }\n",
       "\n",
       "    .dataframe tbody tr th {\n",
       "        vertical-align: top;\n",
       "    }\n",
       "\n",
       "    .dataframe thead th {\n",
       "        text-align: right;\n",
       "    }\n",
       "</style>\n",
       "<table border=\"1\" class=\"dataframe\">\n",
       "  <thead>\n",
       "    <tr style=\"text-align: right;\">\n",
       "      <th></th>\n",
       "      <th>original_title</th>\n",
       "      <th>overview</th>\n",
       "    </tr>\n",
       "  </thead>\n",
       "  <tbody>\n",
       "    <tr>\n",
       "      <th>0</th>\n",
       "      <td>Toy Story</td>\n",
       "      <td>Led by Woody, Andy's toys live happily in his ...</td>\n",
       "    </tr>\n",
       "    <tr>\n",
       "      <th>1</th>\n",
       "      <td>Jumanji</td>\n",
       "      <td>When siblings Judy and Peter discover an encha...</td>\n",
       "    </tr>\n",
       "  </tbody>\n",
       "</table>\n",
       "</div>"
      ],
      "text/plain": [
       "  original_title                                           overview\n",
       "0      Toy Story  Led by Woody, Andy's toys live happily in his ...\n",
       "1        Jumanji  When siblings Judy and Peter discover an encha..."
      ]
     },
     "execution_count": 115,
     "metadata": {},
     "output_type": "execute_result"
    }
   ],
   "source": [
    "data.iloc[:2,[8,9]]"
   ]
  },
  {
   "cell_type": "code",
   "execution_count": 116,
   "id": "becf20c5-d5c1-4e4e-8a43-44c7ad5e7c71",
   "metadata": {},
   "outputs": [
    {
     "data": {
      "text/plain": [
       "(45466, 24)"
      ]
     },
     "execution_count": 116,
     "metadata": {},
     "output_type": "execute_result"
    }
   ],
   "source": [
    "data.shape"
   ]
  },
  {
   "cell_type": "code",
   "execution_count": 117,
   "id": "f7b244f2-39df-4a04-9801-a9f3e06855da",
   "metadata": {},
   "outputs": [],
   "source": [
    "# data = data.head(20000)"
   ]
  },
  {
   "cell_type": "code",
   "execution_count": 118,
   "id": "b082ef7e-8312-4bd9-a75e-491e86f08f86",
   "metadata": {},
   "outputs": [
    {
     "data": {
      "text/plain": [
       "\"Led by Woody, Andy's toys live happily in his room until Andy's birthday brings Buzz Lightyear onto the scene. Afraid of losing his place in Andy's heart, Woody plots against Buzz. But when circumstances separate Buzz and Woody from their owner, the duo eventually learns to put aside their differences.\""
      ]
     },
     "execution_count": 118,
     "metadata": {},
     "output_type": "execute_result"
    }
   ],
   "source": [
    "data.overview[0]"
   ]
  },
  {
   "cell_type": "markdown",
   "id": "591e5f7c-bb73-4fe5-a193-4402072038da",
   "metadata": {},
   "source": [
    "- TF-IDF를 연산할 때 데이터에 Null 값이 들어있으면 에러가 발생"
   ]
  },
  {
   "cell_type": "code",
   "execution_count": 119,
   "id": "35e58da4-a88e-49c7-b78c-c08434a8f93e",
   "metadata": {},
   "outputs": [
    {
     "data": {
      "text/plain": [
       "adult                        0\n",
       "belongs_to_collection    40972\n",
       "budget                       0\n",
       "genres                       0\n",
       "homepage                 37684\n",
       "id                           0\n",
       "imdb_id                     17\n",
       "original_language           11\n",
       "original_title               0\n",
       "overview                   954\n",
       "popularity                   5\n",
       "poster_path                386\n",
       "production_companies         3\n",
       "production_countries         3\n",
       "release_date                87\n",
       "revenue                      6\n",
       "runtime                    263\n",
       "spoken_languages             6\n",
       "status                      87\n",
       "tagline                  25054\n",
       "title                        6\n",
       "video                        6\n",
       "vote_average                 6\n",
       "vote_count                   6\n",
       "dtype: int64"
      ]
     },
     "execution_count": 119,
     "metadata": {},
     "output_type": "execute_result"
    }
   ],
   "source": [
    "data.isna().sum()"
   ]
  },
  {
   "cell_type": "code",
   "execution_count": 120,
   "id": "da132a90-05da-422f-8f2e-c3ce1d639516",
   "metadata": {},
   "outputs": [
    {
     "name": "stdout",
     "output_type": "stream",
     "text": [
      "overview 열의 결측값의 수: 954\n"
     ]
    }
   ],
   "source": [
    "# overview 열에 존재하는 모든 결측값을 전부 카운트하여 출력\n",
    "print('overview 열의 결측값의 수:',data['overview'].isnull().sum())"
   ]
  },
  {
   "cell_type": "code",
   "execution_count": 121,
   "id": "72c176cb-fd82-4d98-baca-1ba96b6785b1",
   "metadata": {},
   "outputs": [
    {
     "data": {
      "text/plain": [
       "44512"
      ]
     },
     "execution_count": 121,
     "metadata": {},
     "output_type": "execute_result"
    }
   ],
   "source": [
    "#NaN 값 안셈\n",
    "data.overview.count()"
   ]
  },
  {
   "cell_type": "code",
   "execution_count": 122,
   "id": "d1faa45e-2fda-466b-acef-84d5d716290e",
   "metadata": {},
   "outputs": [
    {
     "data": {
      "text/plain": [
       "45466"
      ]
     },
     "execution_count": 122,
     "metadata": {},
     "output_type": "execute_result"
    }
   ],
   "source": [
    "data.overview.size"
   ]
  },
  {
   "cell_type": "code",
   "execution_count": 123,
   "id": "73c759fa-cb5d-44a2-b47e-2ba959a74237",
   "metadata": {},
   "outputs": [
    {
     "data": {
      "text/plain": [
       "44512"
      ]
     },
     "execution_count": 123,
     "metadata": {},
     "output_type": "execute_result"
    }
   ],
   "source": [
    "data['overview'].notnull().sum()"
   ]
  },
  {
   "cell_type": "code",
   "execution_count": 124,
   "id": "cf9c1b72-f2bd-4454-ba70-1dacfecce9a9",
   "metadata": {},
   "outputs": [
    {
     "data": {
      "text/plain": [
       "(44512, 24)"
      ]
     },
     "execution_count": 124,
     "metadata": {},
     "output_type": "execute_result"
    }
   ],
   "source": [
    "# 전처리 \n",
    "# overview의 결측치가 있는 항목은 모두 제거 \n",
    "data = data[data['overview'].notnull()].reset_index(drop=True)\n",
    "data.shape"
   ]
  },
  {
   "cell_type": "code",
   "execution_count": 125,
   "id": "16b2cc11-b29b-469a-be4e-9c14718fe0f3",
   "metadata": {},
   "outputs": [],
   "source": [
    "# overview 복사해서 사용\n",
    "data_overview = data['overview'].copy()"
   ]
  },
  {
   "cell_type": "code",
   "execution_count": 126,
   "id": "21546cd9-bb90-4eb1-bc2e-e7d7ef26d309",
   "metadata": {},
   "outputs": [],
   "source": [
    "# 결측값을 빈 값으로 대체\n",
    "data['overview'] = data_overview.fillna('')"
   ]
  },
  {
   "cell_type": "code",
   "execution_count": 127,
   "id": "daf3c11d-4c37-42d9-9f12-dfb5ad4a06fa",
   "metadata": {},
   "outputs": [
    {
     "data": {
      "text/plain": [
       "(44512, 24)"
      ]
     },
     "execution_count": 127,
     "metadata": {},
     "output_type": "execute_result"
    }
   ],
   "source": [
    "data.shape"
   ]
  },
  {
   "cell_type": "markdown",
   "id": "872a9850-5236-4f16-ba17-96e55d44a6c8",
   "metadata": {},
   "source": [
    "## TF-IDF(Term Frequency-Inverse Document Frequency)"
   ]
  },
  {
   "cell_type": "markdown",
   "id": "e5d48492-6c1c-463d-9b20-80497fe95ad4",
   "metadata": {},
   "source": [
    "TF-IDF(Term Frequency-Inverse Document Frequency)는 단어의 빈도와 역 문서 빈도(문서의 빈도에 특정 식을 취함)를 사용하여 DTM 내의 각 단어들마다 중요한 정도를 가중치로 주는 방법vector = CountVectorizer()"
   ]
  },
  {
   "cell_type": "code",
   "execution_count": 128,
   "id": "ea4b5299-eb5b-40bb-9cdd-9f014cf5b534",
   "metadata": {},
   "outputs": [
    {
     "name": "stdout",
     "output_type": "stream",
     "text": [
      "[[0. 0. 0. ... 0. 0. 0.]\n",
      " [0. 0. 0. ... 0. 0. 0.]\n",
      " [0. 0. 0. ... 0. 0. 0.]\n",
      " ...\n",
      " [0. 0. 0. ... 0. 0. 0.]\n",
      " [0. 0. 0. ... 0. 0. 0.]\n",
      " [0. 0. 0. ... 0. 0. 0.]]\n"
     ]
    }
   ],
   "source": [
    "tfidfv = TfidfVectorizer().fit(data['overview'])\n",
    "print(tfidfv.transform(data['overview']).toarray())"
   ]
  },
  {
   "cell_type": "code",
   "execution_count": 129,
   "id": "160e7a7e-6662-4048-847e-bedd88707cbc",
   "metadata": {},
   "outputs": [
    {
     "name": "stdout",
     "output_type": "stream",
     "text": [
      "값 : 73767\n"
     ]
    }
   ],
   "source": [
    "tfidfv_dic = tfidfv.vocabulary_\n",
    "# for k, v in tfidfv_dic.items():\n",
    "#     print(\"key: {}, value: {}\".format(k, v))\n",
    "print('값 : {}'.format(tfidfv_dic.get('woody')))"
   ]
  },
  {
   "cell_type": "code",
   "execution_count": 130,
   "id": "3fdd1851-c68a-45ec-98a3-d41b1800530a",
   "metadata": {},
   "outputs": [
    {
     "name": "stdout",
     "output_type": "stream",
     "text": [
      "TF-IDF 행렬의 크기(shape) : (44512, 75827)\n"
     ]
    }
   ],
   "source": [
    "# overview열에 대해서 TF-IDF 행렬을 구한 후 행렬의 크기를 출력\n",
    "tfidf = TfidfVectorizer(stop_words='english')\n",
    "tfidf_matrix = tfidf.fit_transform(data['overview'])\n",
    "print('TF-IDF 행렬의 크기(shape) :',tfidf_matrix.shape)"
   ]
  },
  {
   "cell_type": "code",
   "execution_count": 131,
   "id": "42547019-a3b4-4bae-879c-800bf2d4dc83",
   "metadata": {},
   "outputs": [
    {
     "data": {
      "text/plain": [
       "array([[0., 0., 0., ..., 0., 0., 0.],\n",
       "       [0., 0., 0., ..., 0., 0., 0.],\n",
       "       [0., 0., 0., ..., 0., 0., 0.],\n",
       "       ...,\n",
       "       [0., 0., 0., ..., 0., 0., 0.],\n",
       "       [0., 0., 0., ..., 0., 0., 0.],\n",
       "       [0., 0., 0., ..., 0., 0., 0.]])"
      ]
     },
     "execution_count": 131,
     "metadata": {},
     "output_type": "execute_result"
    }
   ],
   "source": [
    "tfidf_matrix.toarray()"
   ]
  },
  {
   "cell_type": "markdown",
   "id": "86440903-efec-460b-aabd-61f9f2589c91",
   "metadata": {},
   "source": [
    "## 코사인 유사도(Cosine Similarity)"
   ]
  },
  {
   "cell_type": "code",
   "execution_count": 132,
   "id": "ddb3baba-35fd-455f-b9cf-d00daa8f41db",
   "metadata": {},
   "outputs": [
    {
     "name": "stdout",
     "output_type": "stream",
     "text": [
      "코사인 유사도 연산 결과 : (44512, 44512)\n"
     ]
    }
   ],
   "source": [
    "cosine_sim = cosine_similarity(tfidf_matrix, tfidf_matrix)\n",
    "print('코사인 유사도 연산 결과 :',cosine_sim.shape)"
   ]
  },
  {
   "cell_type": "code",
   "execution_count": 133,
   "id": "cf121224-8da3-4aa4-baee-b6810b69007f",
   "metadata": {},
   "outputs": [
    {
     "data": {
      "text/plain": [
       "array([[1.     , 0.01502, 0.     , ..., 0.     , 0.00593, 0.     ],\n",
       "       [0.01502, 1.     , 0.0468 , ..., 0.     , 0.02196, 0.00924],\n",
       "       [0.     , 0.0468 , 1.     , ..., 0.     , 0.01401, 0.     ],\n",
       "       ...,\n",
       "       [0.     , 0.     , 0.     , ..., 1.     , 0.     , 0.     ],\n",
       "       [0.00593, 0.02196, 0.01401, ..., 0.     , 1.     , 0.     ],\n",
       "       [0.     , 0.00924, 0.     , ..., 0.     , 0.     , 1.     ]])"
      ]
     },
     "execution_count": 133,
     "metadata": {},
     "output_type": "execute_result"
    }
   ],
   "source": [
    "import numpy as np\n",
    "np.round(cosine_sim,5)"
   ]
  },
  {
   "cell_type": "code",
   "execution_count": 134,
   "id": "3a4919d6-be04-4ea6-9cf6-a9c639f3c836",
   "metadata": {},
   "outputs": [],
   "source": [
    "# movie title와 id를 매핑할 dictionary를 생성\n",
    "movie2id = {}\n",
    "for i, c in enumerate(data['title']): movie2id[i] = c"
   ]
  },
  {
   "cell_type": "code",
   "execution_count": 135,
   "id": "82fe4c7e-a277-4eaf-b1c3-0e2c7a62902a",
   "metadata": {},
   "outputs": [],
   "source": [
    "# id와 movie title를 매핑할 dictionary를 생성 \n",
    "id2movie = {}\n",
    "for i, c in movie2id.items(): id2movie[c] = i"
   ]
  },
  {
   "cell_type": "code",
   "execution_count": null,
   "id": "951a6298-428d-4758-8d70-2c13f452de87",
   "metadata": {
    "tags": []
   },
   "outputs": [],
   "source": [
    "movie2id.items()"
   ]
  },
  {
   "cell_type": "code",
   "execution_count": null,
   "id": "edb79907-ce56-4e77-838b-14f82bb40e7a",
   "metadata": {
    "tags": []
   },
   "outputs": [],
   "source": [
    "movie2id.values()"
   ]
  },
  {
   "cell_type": "code",
   "execution_count": 138,
   "id": "1ff7180b-9782-4614-9b2f-2a09cd1c5c3e",
   "metadata": {},
   "outputs": [],
   "source": [
    "# Toy Story의 id 추출 \n",
    "idx = id2movie['Toy Story'] # Toy Story : 0번 인덱스 "
   ]
  },
  {
   "cell_type": "code",
   "execution_count": 139,
   "id": "61c78e4d-ac94-4c16-9623-7112265033d7",
   "metadata": {},
   "outputs": [],
   "source": [
    "# 자기 자신을 제외한 영화들의 유사도 및 인덱스를 추출 \n",
    "sim_scores = [(i, c) for i, c in enumerate(cosine_sim[idx]) if i != idx]"
   ]
  },
  {
   "cell_type": "code",
   "execution_count": 140,
   "id": "cd222613-142f-4d30-a16b-c5e91bead20c",
   "metadata": {},
   "outputs": [],
   "source": [
    "# 유사도가 높은 순서대로 정렬 \n",
    "sim_scores = sorted(sim_scores, key = lambda x: x[1], reverse=True)"
   ]
  },
  {
   "cell_type": "code",
   "execution_count": 141,
   "id": "662f249f-0fc8-4b18-9f32-e69bfbfaabb7",
   "metadata": {},
   "outputs": [
    {
     "data": {
      "text/plain": [
       "[(15282, 0.5321733978946077),\n",
       " (2979, 0.47214559370670484),\n",
       " (10271, 0.274962516260823),\n",
       " (24316, 0.27322653023092314),\n",
       " (23646, 0.23543946958082806),\n",
       " (28893, 0.22397858775140161),\n",
       " (42572, 0.21761842522811847),\n",
       " (37778, 0.2159367770908928),\n",
       " (41893, 0.20190977282766223),\n",
       " (8303, 0.19868494439439036)]"
      ]
     },
     "execution_count": 141,
     "metadata": {},
     "output_type": "execute_result"
    }
   ],
   "source": [
    "# 상위 10개의 인덱스와 유사도를 추출 \n",
    "sim_scores[0:10]"
   ]
  },
  {
   "cell_type": "code",
   "execution_count": 142,
   "id": "8d575e67-0d63-42f6-8321-690e7de00e02",
   "metadata": {},
   "outputs": [
    {
     "data": {
      "text/plain": [
       "[('Toy Story 3', 0.5321733978946077),\n",
       " ('Toy Story 2', 0.47214559370670484),\n",
       " ('The 40 Year Old Virgin', 0.274962516260823),\n",
       " ('Small Fry', 0.27322653023092314),\n",
       " (\"Andy Hardy's Blonde Trouble\", 0.23543946958082806),\n",
       " ('Hot Splash', 0.22397858775140161),\n",
       " ('Andy Kaufman Plays Carnegie Hall', 0.21761842522811847),\n",
       " ('Superstar: The Life and Times of Andy Warhol', 0.2159367770908928),\n",
       " ('Andy Peters: Exclamation Mark Question Point', 0.20190977282766223),\n",
       " ('The Champ', 0.19868494439439036)]"
      ]
     },
     "execution_count": 142,
     "metadata": {},
     "output_type": "execute_result"
    }
   ],
   "source": [
    "# 인덱스를 Movie Title로 변환 \n",
    "sim_scores = [(movie2id[i], score) for i, score in sim_scores[0:10]]\n",
    "sim_scores"
   ]
  },
  {
   "cell_type": "code",
   "execution_count": 143,
   "id": "64976a5c-254f-421e-bf7d-e68662165ed6",
   "metadata": {},
   "outputs": [
    {
     "name": "stdout",
     "output_type": "stream",
     "text": [
      "4\n"
     ]
    }
   ],
   "source": [
    "title_to_index = dict(zip(data['title'], data.index))\n",
    "\n",
    "# 영화 제목 Father of the Bride Part II의 인덱스를 리턴\n",
    "idx = title_to_index['Father of the Bride Part II']\n",
    "print(idx)"
   ]
  },
  {
   "cell_type": "code",
   "execution_count": 144,
   "id": "8c90e5a1-0c1d-4d78-b990-813d5755e60b",
   "metadata": {},
   "outputs": [
    {
     "data": {
      "text/plain": [
       "4"
      ]
     },
     "execution_count": 144,
     "metadata": {},
     "output_type": "execute_result"
    }
   ],
   "source": [
    "# title_to_index\n",
    "title_to_index.get('Father of the Bride Part II')"
   ]
  },
  {
   "cell_type": "code",
   "execution_count": 145,
   "id": "b9012d21-4540-40c2-9938-ad9476040acc",
   "metadata": {},
   "outputs": [],
   "source": [
    "def get_recommendations(title, cosine_sim=cosine_sim):\n",
    "    # 선택한 영화의 타이틀로부터 해당 영화의 인덱스를 받아온다.\n",
    "    idx = title_to_index[title]\n",
    "\n",
    "    # 해당 영화와 모든 영화와의 유사도를 가져온다.\n",
    "    sim_scores = list(enumerate(cosine_sim[idx]))\n",
    "\n",
    "    # 유사도에 따라 영화들을 정렬한다.\n",
    "    sim_scores = sorted(sim_scores, key=lambda x: x[1], reverse=True)\n",
    "\n",
    "    # 가장 유사한 10개의 영화를 받아온다.\n",
    "    sim_scores = sim_scores[1:11]\n",
    "\n",
    "    # 가장 유사한 10개의 영화의 인덱스를 얻는다.\n",
    "    movie_indices = [idx[0] for idx in sim_scores]\n",
    "\n",
    "    # 가장 유사한 10개의 영화의 제목을 리턴한다.\n",
    "    return data['title'].iloc[movie_indices]"
   ]
  },
  {
   "cell_type": "code",
   "execution_count": 146,
   "id": "f5bc0b8d-b688-48c2-b93d-a2fea9a742a1",
   "metadata": {},
   "outputs": [
    {
     "data": {
      "text/plain": [
       "15282                                     Toy Story 3\n",
       "2979                                      Toy Story 2\n",
       "10271                          The 40 Year Old Virgin\n",
       "24316                                       Small Fry\n",
       "23646                     Andy Hardy's Blonde Trouble\n",
       "28893                                      Hot Splash\n",
       "42572                Andy Kaufman Plays Carnegie Hall\n",
       "37778    Superstar: The Life and Times of Andy Warhol\n",
       "41893    Andy Peters: Exclamation Mark Question Point\n",
       "8303                                        The Champ\n",
       "Name: title, dtype: object"
      ]
     },
     "execution_count": 146,
     "metadata": {},
     "output_type": "execute_result"
    }
   ],
   "source": [
    "get_recommendations('Toy Story')"
   ]
  },
  {
   "cell_type": "code",
   "execution_count": null,
   "id": "5dddeb50-7231-43ae-81e8-35860d33cca6",
   "metadata": {},
   "outputs": [],
   "source": []
  }
 ],
 "metadata": {
  "kernelspec": {
   "display_name": "imok",
   "language": "python",
   "name": "imok"
  },
  "language_info": {
   "codemirror_mode": {
    "name": "ipython",
    "version": 3
   },
   "file_extension": ".py",
   "mimetype": "text/x-python",
   "name": "python",
   "nbconvert_exporter": "python",
   "pygments_lexer": "ipython3",
   "version": "3.9.10"
  }
 },
 "nbformat": 4,
 "nbformat_minor": 5
}
